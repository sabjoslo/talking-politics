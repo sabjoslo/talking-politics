{
 "cells": [
  {
   "cell_type": "markdown",
   "metadata": {},
   "source": [
    "Code to replicate the results reported for Study 1'."
   ]
  },
  {
   "cell_type": "code",
   "execution_count": 1,
   "metadata": {},
   "outputs": [],
   "source": [
    "import warnings\n",
    "warnings.filterwarnings('ignore')"
   ]
  },
  {
   "cell_type": "code",
   "execution_count": 2,
   "metadata": {},
   "outputs": [],
   "source": [
    "%matplotlib inline\n",
    "%load_ext rpy2.ipython"
   ]
  },
  {
   "cell_type": "code",
   "execution_count": 3,
   "metadata": {},
   "outputs": [],
   "source": [
    "from __future__ import division\n",
    "import numpy as np\n",
    "import random\n",
    "import statsmodels.stats.api as sms\n",
    "from pyspan.ratings_task.analysis import *"
   ]
  },
  {
   "cell_type": "code",
   "execution_count": 4,
   "metadata": {},
   "outputs": [],
   "source": [
    "pos_ixs = filter(lambda ix: antonyms.loc[(ix+79,\"valence\")] == \"POS\", \n",
    "                 np.arange(20))\n",
    "neg_ixs = filter(lambda ix: antonyms.loc[(ix+79,\"valence\")] == \"NEG\", \n",
    "                 np.arange(20))\n",
    "# Reorder neg_ixs so each column matches its partner antonyms\n",
    "neg_ixs = [90, 91, 92, 94, 95, 98, 79, 83, 86, 87]\n",
    "neg_ixs = [ix-79 for ix in neg_ixs]"
   ]
  },
  {
   "cell_type": "markdown",
   "metadata": {},
   "source": [
    "# Participants"
   ]
  },
  {
   "cell_type": "code",
   "execution_count": 5,
   "metadata": {},
   "outputs": [],
   "source": [
    "dat = deepcopy(minidf[map(str, range(79,99))].values)\n",
    "# ddat__ contains data from Democrats\n",
    "ddat__ = dat[minidf.party == \"Democrat\",:]\n",
    "# rdat__ contains data from Republicans\n",
    "rdat__ = dat[minidf.party == \"Republican\",:]"
   ]
  },
  {
   "cell_type": "code",
   "execution_count": 6,
   "metadata": {},
   "outputs": [
    {
     "data": {
      "text/plain": [
       "((147, 20), (61, 20), (38, 20))"
      ]
     },
     "execution_count": 6,
     "metadata": {},
     "output_type": "execute_result"
    }
   ],
   "source": [
    "dat.shape, ddat__.shape, rdat__.shape"
   ]
  },
  {
   "cell_type": "code",
   "execution_count": 7,
   "metadata": {},
   "outputs": [
    {
     "data": {
      "text/plain": [
       "(35.9344262295082, 1.3906142945108189)"
      ]
     },
     "execution_count": 7,
     "metadata": {},
     "output_type": "execute_result"
    }
   ],
   "source": [
    "np.mean(minidf.loc[(minidf.party == \"Democrat\",\"age\")]), \\\n",
    "stats.sem(minidf.loc[(minidf.party == \"Democrat\",\"age\")])"
   ]
  },
  {
   "cell_type": "code",
   "execution_count": 8,
   "metadata": {},
   "outputs": [
    {
     "data": {
      "text/plain": [
       "F    35\n",
       "M    26\n",
       "Name: gender, dtype: int64"
      ]
     },
     "execution_count": 8,
     "metadata": {},
     "output_type": "execute_result"
    }
   ],
   "source": [
    "minidf.loc[(minidf.party == \"Democrat\",\"gender\")].value_counts()"
   ]
  },
  {
   "cell_type": "code",
   "execution_count": 9,
   "metadata": {},
   "outputs": [
    {
     "data": {
      "text/plain": [
       "(40.10526315789474, 1.5736040455896694)"
      ]
     },
     "execution_count": 9,
     "metadata": {},
     "output_type": "execute_result"
    }
   ],
   "source": [
    "np.mean(minidf.loc[(minidf.party == \"Republican\",\"age\")]), \\\n",
    "stats.sem(minidf.loc[(minidf.party == \"Republican\",\"age\")])"
   ]
  },
  {
   "cell_type": "code",
   "execution_count": 10,
   "metadata": {},
   "outputs": [
    {
     "data": {
      "text/plain": [
       "M    21\n",
       "F    17\n",
       "Name: gender, dtype: int64"
      ]
     },
     "execution_count": 10,
     "metadata": {},
     "output_type": "execute_result"
    }
   ],
   "source": [
    "minidf.loc[(minidf.party == \"Republican\",\"gender\")].value_counts()"
   ]
  },
  {
   "cell_type": "markdown",
   "metadata": {},
   "source": [
    "# Results"
   ]
  },
  {
   "cell_type": "code",
   "execution_count": 11,
   "metadata": {},
   "outputs": [],
   "source": [
    "# Dem responses on the positive stimuli\n",
    "ddat_pos = ddat__[:,pos_ixs]\n",
    "# Repub responses on the positive stimuli\n",
    "rdat_pos = rdat__[:,pos_ixs]\n",
    "# Dem responses on the negative stimuli\n",
    "ddat_neg = ddat__[:,neg_ixs]\n",
    "# Repub responses on the negative stimuli\n",
    "rdat_neg = rdat__[:,neg_ixs]"
   ]
  },
  {
   "cell_type": "markdown",
   "metadata": {},
   "source": [
    "Calculate means and standard errors, using the method provided by Arai (2011)."
   ]
  },
  {
   "cell_type": "code",
   "execution_count": 12,
   "metadata": {},
   "outputs": [],
   "source": [
    "%%R\n",
    "source(\"../../conditional-variation/clmclx.R\")"
   ]
  },
  {
   "cell_type": "code",
   "execution_count": 13,
   "metadata": {},
   "outputs": [],
   "source": [
    "%%R\n",
    "descr.stats <- function(x) {\n",
    "    y <- c(t(x))\n",
    "    n <- dim(x)[1]\n",
    "    k <- dim(x)[2]\n",
    "    idxn <- rep(1:n, each=k)\n",
    "    idxn <- idxn[which(!is.na(y))]\n",
    "    idxk <- rep(1:k, n)\n",
    "    idxk <- idxk[which(!is.na(y))]\n",
    "    fit <- lm(y ~ 1)\n",
    "    res <- mclx(fit, 1, idxn, idxk)\n",
    "    # Add 1 because the data are coded on a 0--5 scale, but described in the paper on \n",
    "    # a 1--6 scale.\n",
    "    res[1] <- res[1] + 1\n",
    "    return (res[1:2])\n",
    "}"
   ]
  },
  {
   "cell_type": "code",
   "execution_count": 14,
   "metadata": {},
   "outputs": [],
   "source": [
    "%%R -i ddat_pos -o d_pos_mu,se_dp\n",
    "ds <- descr.stats(ddat_pos)\n",
    "d_pos_mu <- ds[1]\n",
    "se_dp <- ds[2]"
   ]
  },
  {
   "cell_type": "code",
   "execution_count": 15,
   "metadata": {},
   "outputs": [
    {
     "name": "stdout",
     "output_type": "stream",
     "text": [
      "(array([3.24590164]), array([0.1696003]))\n"
     ]
    }
   ],
   "source": [
    "print(d_pos_mu, se_dp)"
   ]
  },
  {
   "cell_type": "code",
   "execution_count": 16,
   "metadata": {},
   "outputs": [],
   "source": [
    "%%R -i ddat_neg -o d_neg_mu,se_dn\n",
    "ds <- descr.stats(ddat_neg)\n",
    "d_neg_mu <- ds[1]\n",
    "se_dn <- ds[2]"
   ]
  },
  {
   "cell_type": "code",
   "execution_count": 17,
   "metadata": {},
   "outputs": [
    {
     "name": "stdout",
     "output_type": "stream",
     "text": [
      "(array([3.77011494]), array([0.20958466]))\n"
     ]
    }
   ],
   "source": [
    "print(d_neg_mu, se_dn)"
   ]
  },
  {
   "cell_type": "code",
   "execution_count": 18,
   "metadata": {},
   "outputs": [],
   "source": [
    "%%R -i rdat_pos -o r_pos_mu,se_rp\n",
    "ds <- descr.stats(rdat_pos)\n",
    "r_pos_mu <- ds[1]\n",
    "se_rp <- ds[2]"
   ]
  },
  {
   "cell_type": "code",
   "execution_count": 19,
   "metadata": {},
   "outputs": [
    {
     "name": "stdout",
     "output_type": "stream",
     "text": [
      "(array([3.81530343]), array([0.17491346]))\n"
     ]
    }
   ],
   "source": [
    "print(r_pos_mu, se_rp)"
   ]
  },
  {
   "cell_type": "code",
   "execution_count": 20,
   "metadata": {},
   "outputs": [],
   "source": [
    "%%R -i rdat_neg -o r_neg_mu,se_rn\n",
    "ds <- descr.stats(rdat_neg)\n",
    "r_neg_mu <- ds[1]\n",
    "se_rn <- ds[2]"
   ]
  },
  {
   "cell_type": "code",
   "execution_count": 21,
   "metadata": {},
   "outputs": [
    {
     "name": "stdout",
     "output_type": "stream",
     "text": [
      "(array([2.87631579]), array([0.11242717]))\n"
     ]
    }
   ],
   "source": [
    "print(r_neg_mu, se_rn)"
   ]
  },
  {
   "cell_type": "markdown",
   "metadata": {},
   "source": [
    "A series of $t$-tests (with errors clustered at the participant level)."
   ]
  },
  {
   "cell_type": "code",
   "execution_count": 22,
   "metadata": {},
   "outputs": [],
   "source": [
    "%%R\n",
    "options(scipen=999)\n",
    "\n",
    "clustered.t.test <- function (a, b, matched.participants=FALSE, matched.items=FALSE) {\n",
    "    y <- c(t(a), t(b))\n",
    "    n.a <- dim(a)[1]\n",
    "    n.b <- dim(b)[1]\n",
    "    k.a <- dim(a)[2]\n",
    "    k.b <- dim(b)[2]\n",
    "    stopifnot(k.a == k.b)\n",
    "    if (matched.participants) {\n",
    "        stopifnot(n.a == n.b)\n",
    "        idxn <- c(rep(1:n.a, each=k.a), rep(1:n.b, each=k.b))\n",
    "    } else {\n",
    "        idxn <- c(rep(1:n.a, each=k.a), rep((n.a+1):(n.a+n.b), each=k.b))\n",
    "    }\n",
    "    idxn <- idxn[which(!is.na(y))]\n",
    "    if (matched.items) {\n",
    "        idxk <- rep(1:k.a, n.a+n.b)\n",
    "    } else {\n",
    "        idxk <- c(rep(1:k.a, n.a), rep((k.a+1):(k.a+k.b), n.b))\n",
    "    }\n",
    "    idxk <- idxk[which(!is.na(y))]\n",
    "    groups <- c(rep(0, n.a*k.a), rep(1, n.b*k.b))\n",
    "    fit <- lm(y ~ groups)\n",
    "    df <- df.residual(fit)\n",
    "    res <- mclx(fit, 1, idxn, idxk)\n",
    "    t <- res[2,3]\n",
    "    p <- res[2,4]\n",
    "    # Divide p by two for a one-sided test\n",
    "    return (c(t, df, p/2))\n",
    "}"
   ]
  },
  {
   "cell_type": "markdown",
   "metadata": {},
   "source": [
    "Hypothesis: Republicans' judgments on the positive words are higher than Democrats' judgments on the positive words."
   ]
  },
  {
   "cell_type": "code",
   "execution_count": 23,
   "metadata": {},
   "outputs": [
    {
     "data": {
      "text/plain": [
       "[1]   1.96647385 987.00000000   0.02476189\n"
      ]
     },
     "metadata": {},
     "output_type": "display_data"
    }
   ],
   "source": [
    "%%R\n",
    "clustered.t.test(ddat_pos, rdat_pos, matched.items=TRUE)"
   ]
  },
  {
   "cell_type": "markdown",
   "metadata": {},
   "source": [
    "Hypothesis: Republicans' judgments on the negative words are lower than Democrats' judgments on the negative words."
   ]
  },
  {
   "cell_type": "code",
   "execution_count": 24,
   "metadata": {},
   "outputs": [
    {
     "data": {
      "text/plain": [
       "[1]  -3.5838832047 987.0000000000   0.0001775382\n"
      ]
     },
     "metadata": {},
     "output_type": "display_data"
    }
   ],
   "source": [
    "%%R -i ddat_neg,rdat_neg\n",
    "clustered.t.test(ddat_neg, rdat_neg, matched.items=TRUE)"
   ]
  },
  {
   "cell_type": "markdown",
   "metadata": {},
   "source": [
    "Hypothesis: Republicans' judgments on the positive words are higher than Republicans' judgments on the negative words."
   ]
  },
  {
   "cell_type": "code",
   "execution_count": 25,
   "metadata": {},
   "outputs": [
    {
     "data": {
      "text/plain": [
       "[1]   4.312877856039 757.000000000000   0.000009123888\n"
      ]
     },
     "metadata": {},
     "output_type": "display_data"
    }
   ],
   "source": [
    "%%R -i rdat_pos,rdat_neg\n",
    "clustered.t.test(rdat_neg, rdat_pos, matched.participants=TRUE)"
   ]
  },
  {
   "cell_type": "markdown",
   "metadata": {},
   "source": [
    "Hypothesis: Democrats' judgments on the negative words are higher than Democrats' judgments on the positive words."
   ]
  },
  {
   "cell_type": "code",
   "execution_count": 26,
   "metadata": {},
   "outputs": [
    {
     "data": {
      "text/plain": [
       "[1]    2.0329980 1217.0000000    0.0211347\n"
      ]
     },
     "metadata": {},
     "output_type": "display_data"
    }
   ],
   "source": [
    "%%R -i ddat_pos,ddat_neg\n",
    "clustered.t.test(ddat_pos, ddat_neg, matched.participants=TRUE)"
   ]
  },
  {
   "cell_type": "markdown",
   "metadata": {},
   "source": [
    "## Mixed effects model"
   ]
  },
  {
   "cell_type": "code",
   "execution_count": 27,
   "metadata": {},
   "outputs": [],
   "source": [
    "minidf.gender = minidf.gender.replace({ \"M\": 1, \"F\": -1 })"
   ]
  },
  {
   "cell_type": "code",
   "execution_count": 28,
   "metadata": {},
   "outputs": [
    {
     "data": {
      "text/plain": [
       "Note: Using an external vector in selections is ambiguous.\n",
       "\u001b[34mℹ\u001b[39m Use `all_of(idx)` instead of `idx` to silence this message.\n",
       "\u001b[34mℹ\u001b[39m See <https://tidyselect.r-lib.org/reference/faq-external-vector.html>.\n",
       "\u001b[90mThis message is displayed once per session.\u001b[39m\n",
       "Linear mixed model fit by REML. t-tests use Satterthwaite's method [\n",
       "lmerModLmerTest]\n",
       "Formula: rating ~ condition * party + (1 | ID) + (1 | item)\n",
       "   Data: df\n",
       "\n",
       "REML criterion at convergence: 6663.1\n",
       "\n",
       "Scaled residuals: \n",
       "     Min       1Q   Median       3Q      Max \n",
       "-2.82978 -0.70284 -0.01842  0.68744  2.90831 \n",
       "\n",
       "Random effects:\n",
       " Groups   Name        Variance Std.Dev.\n",
       " ID       (Intercept) 0.09968  0.3157  \n",
       " item     (Intercept) 0.10051  0.3170  \n",
       " Residual             1.59320  1.2622  \n",
       "Number of obs: 1978, groups:  ID, 99; item, 20\n",
       "\n",
       "Fixed effects:\n",
       "                  Estimate Std. Error         df t value            Pr(>|t|)\n",
       "(Intercept)        2.42660    0.08332   25.00413  29.126 <0.0000000000000002\n",
       "condition          0.14638    0.10842   18.28670   1.350              0.1934\n",
       "party             -0.11496    0.06190   97.07689  -1.857              0.0663\n",
       "condition:party    0.73099    0.05836 1859.17069  12.525 <0.0000000000000002\n",
       "                   \n",
       "(Intercept)     ***\n",
       "condition          \n",
       "party           .  \n",
       "condition:party ***\n",
       "---\n",
       "Signif. codes:  0 ‘***’ 0.001 ‘**’ 0.01 ‘*’ 0.05 ‘.’ 0.1 ‘ ’ 1\n",
       "\n",
       "Correlation of Fixed Effects:\n",
       "            (Intr) condtn party\n",
       "condition   0.000              \n",
       "party       0.122  0.000       \n",
       "condtn:prty 0.000  0.089  0.000\n"
      ]
     },
     "metadata": {},
     "output_type": "display_data"
    }
   ],
   "source": [
    "%%R -i minidf,pos_ixs,neg_ixs\n",
    "# https://www.r-bloggers.com/how-to-do-repeated-measures-anovas-in-r/\n",
    "library(lmerTest)\n",
    "library(tidyverse)\n",
    "\n",
    "options(contrasts=c(\"contr.sum\",\"contr.poly\"))\n",
    "\n",
    "pos.idx = colnames(minidf)[pos_ixs+79]\n",
    "neg.idx = colnames(minidf)[neg_ixs+79]\n",
    "idx = c(pos.idx, neg.idx)\n",
    "\n",
    "df <- minidf %>%\n",
    "    as_tibble() %>%\n",
    "    filter(party %in% c(\"Democrat\",\"Republican\")) %>%\n",
    "    select(all_of(idx), \"age\", \"gender\", \"party\", \"party_identity\", \"political_engagement\") %>%\n",
    "    mutate(ID=1:nrow(.)) %>%\n",
    "    pivot_longer(idx, names_to=\"item\", values_to=\"rating\") %>%\n",
    "    mutate(condition=item %in% pos.idx) %>%\n",
    "    mutate(party=ifelse(party==\"Republican\", sqrt(.5), -sqrt(.5)),\n",
    "           condition=ifelse(condition, sqrt(.5), -sqrt(.5)),\n",
    "           age=age-18,\n",
    "           party_identity=party_identity+3,\n",
    "           political_engagement=political_engagement+3\n",
    "          )\n",
    "\n",
    "fit <- lmer(rating ~ condition * party + (1|ID) + (1|item), data = df)\n",
    "summary(fit)"
   ]
  },
  {
   "cell_type": "code",
   "execution_count": 29,
   "metadata": {},
   "outputs": [
    {
     "data": {
      "text/plain": [
       "[1] 0.6142657 0.8477162\n"
      ]
     },
     "metadata": {},
     "output_type": "display_data"
    }
   ],
   "source": [
    "%%R\n",
    "# +- 2 SE\n",
    "coef.interact <- summary(fit)$coefficients[4,1]\n",
    "se.interact <- summary(fit)$coefficients[4,2]\n",
    "print(c(coef.interact - 2*se.interact, coef.interact + 2*se.interact))"
   ]
  },
  {
   "cell_type": "code",
   "execution_count": 30,
   "metadata": {},
   "outputs": [
    {
     "data": {
      "text/plain": [
       "Data: df\n",
       "Models:\n",
       "null.fit: rating ~ condition + party + (1 | ID) + (1 | item)\n",
       "fit: rating ~ condition * party + (1 | ID) + (1 | item)\n",
       "         npar    AIC    BIC  logLik deviance  Chisq Df            Pr(>Chisq)\n",
       "null.fit    6 6812.4 6845.9 -3400.2   6800.4                                \n",
       "fit         7 6663.7 6702.8 -3324.8   6649.7 150.69  1 < 0.00000000000000022\n",
       "            \n",
       "null.fit    \n",
       "fit      ***\n",
       "---\n",
       "Signif. codes:  0 ‘***’ 0.001 ‘**’ 0.01 ‘*’ 0.05 ‘.’ 0.1 ‘ ’ 1\n"
      ]
     },
     "metadata": {},
     "output_type": "display_data"
    }
   ],
   "source": [
    "%%R\n",
    "null.fit <- lmer(rating ~ condition + party + (1|ID) + (1|item), data = df)\n",
    "anova(null.fit, fit, test=\"LRT\")"
   ]
  },
  {
   "cell_type": "code",
   "execution_count": 31,
   "metadata": {},
   "outputs": [
    {
     "data": {
      "text/plain": [
       "Linear mixed model fit by REML. t-tests use Satterthwaite's method [\n",
       "lmerModLmerTest]\n",
       "Formula: rating ~ condition * party + condition * age + condition * gender +  \n",
       "    condition * party * party_identity + condition * party *  \n",
       "    political_engagement + (1 | ID) + (1 | item)\n",
       "   Data: df\n",
       "\n",
       "REML criterion at convergence: 6706.7\n",
       "\n",
       "Scaled residuals: \n",
       "     Min       1Q   Median       3Q      Max \n",
       "-2.78563 -0.72061 -0.00114  0.68640  3.06830 \n",
       "\n",
       "Random effects:\n",
       " Groups   Name        Variance Std.Dev.\n",
       " ID       (Intercept) 0.09209  0.3035  \n",
       " item     (Intercept) 0.10053  0.3171  \n",
       " Residual             1.58701  1.2598  \n",
       "Number of obs: 1978, groups:  ID, 99; item, 20\n",
       "\n",
       "Fixed effects:\n",
       "                                         Estimate   Std. Error           df\n",
       "(Intercept)                             2.6864690    0.1573231   99.5348576\n",
       "condition                              -0.0686692    0.1683306  104.2694736\n",
       "party                                  -0.2159460    0.1768180   91.0387607\n",
       "age                                     0.0036717    0.0041687   91.2393766\n",
       "gender                                  0.0084378    0.0438542   91.0338826\n",
       "party_identity                         -0.0186814    0.0314721   91.0420254\n",
       "political_engagement                   -0.0731291    0.0310388   90.9778737\n",
       "condition:party                         0.4172937    0.1701575 1853.1321430\n",
       "condition:age                           0.0014203    0.0040143 1853.3371809\n",
       "condition:gender                       -0.0153130    0.0422016 1853.1302387\n",
       "condition:party_identity               -0.0123442    0.0302869 1853.1345776\n",
       "party:party_identity                   -0.0006854    0.0443724   91.0482925\n",
       "condition:political_engagement          0.0705971    0.0298637 1853.0704458\n",
       "party:political_engagement              0.0191179    0.0439859   90.9801447\n",
       "condition:party:party_identity         -0.0095793    0.0427023 1853.1421785\n",
       "condition:party:political_engagement    0.1048166    0.0423209 1853.0727803\n",
       "                                     t value            Pr(>|t|)    \n",
       "(Intercept)                           17.076 <0.0000000000000002 ***\n",
       "condition                             -0.408              0.6842    \n",
       "party                                 -1.221              0.2251    \n",
       "age                                    0.881              0.3808    \n",
       "gender                                 0.192              0.8479    \n",
       "party_identity                        -0.594              0.5543    \n",
       "political_engagement                  -2.356              0.0206 *  \n",
       "condition:party                        2.452              0.0143 *  \n",
       "condition:age                          0.354              0.7235    \n",
       "condition:gender                      -0.363              0.7168    \n",
       "condition:party_identity              -0.408              0.6836    \n",
       "party:party_identity                  -0.015              0.9877    \n",
       "condition:political_engagement         2.364              0.0182 *  \n",
       "party:political_engagement             0.435              0.6649    \n",
       "condition:party:party_identity        -0.224              0.8225    \n",
       "condition:party:political_engagement   2.477              0.0133 *  \n",
       "---\n",
       "Signif. codes:  0 ‘***’ 0.001 ‘**’ 0.01 ‘*’ 0.05 ‘.’ 0.1 ‘ ’ 1\n"
      ]
     },
     "metadata": {},
     "output_type": "display_data"
    }
   ],
   "source": [
    "%%R\n",
    "fit <- lmer(rating ~ condition * party + condition * age + condition * gender + condition * party * party_identity + condition * party * political_engagement + (1|ID) + (1|item), data = df)\n",
    "summary(fit)"
   ]
  }
 ],
 "metadata": {
  "kernelspec": {
   "display_name": "lop_env",
   "language": "python",
   "name": "lop_env"
  },
  "language_info": {
   "codemirror_mode": {
    "name": "ipython",
    "version": 2
   },
   "file_extension": ".py",
   "mimetype": "text/x-python",
   "name": "python",
   "nbconvert_exporter": "python",
   "pygments_lexer": "ipython2",
   "version": "2.7.17"
  }
 },
 "nbformat": 4,
 "nbformat_minor": 4
}
