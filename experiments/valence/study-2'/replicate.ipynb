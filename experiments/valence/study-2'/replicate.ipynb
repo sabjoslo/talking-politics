{
 "cells": [
  {
   "cell_type": "markdown",
   "metadata": {},
   "source": [
    "Code to replicate the results reported for Study 2'."
   ]
  },
  {
   "cell_type": "code",
   "execution_count": 1,
   "metadata": {},
   "outputs": [],
   "source": [
    "import warnings\n",
    "warnings.filterwarnings('ignore')"
   ]
  },
  {
   "cell_type": "code",
   "execution_count": 2,
   "metadata": {},
   "outputs": [],
   "source": [
    "%matplotlib inline\n",
    "%load_ext rpy2.ipython\n",
    "from matplotlib.patches import Patch\n",
    "import matplotlib.pyplot as plt\n",
    "from scipy import stats\n",
    "import statsmodels.stats.api as sms\n",
    "from pyspan.AFC.analysis import *\n",
    "from pyspan.utils import *\n",
    "from pyspan.valence import *"
   ]
  },
  {
   "cell_type": "markdown",
   "metadata": {},
   "source": [
    "# Participants"
   ]
  },
  {
   "cell_type": "code",
   "execution_count": 3,
   "metadata": {},
   "outputs": [],
   "source": [
    "# ddf contains data from Democrats\n",
    "ddf = minidf.loc[minidf.party == \"Democrat\"]\n",
    "# rdf contains data from Republicans\n",
    "rdf = minidf.loc[minidf.party == \"Republican\"]"
   ]
  },
  {
   "cell_type": "code",
   "execution_count": 4,
   "metadata": {},
   "outputs": [
    {
     "data": {
      "text/plain": [
       "(50, 19)"
      ]
     },
     "execution_count": 4,
     "metadata": {},
     "output_type": "execute_result"
    }
   ],
   "source": [
    "len(ddf), len(rdf)"
   ]
  },
  {
   "cell_type": "code",
   "execution_count": 5,
   "metadata": {},
   "outputs": [
    {
     "data": {
      "text/plain": [
       "(40.66, 1.6229501985393067)"
      ]
     },
     "execution_count": 5,
     "metadata": {},
     "output_type": "execute_result"
    }
   ],
   "source": [
    "np.mean(ddf.age), stats.sem(ddf.age)"
   ]
  },
  {
   "cell_type": "code",
   "execution_count": 6,
   "metadata": {},
   "outputs": [
    {
     "data": {
      "text/plain": [
       "1    30\n",
       "0    20\n",
       "Name: gender, dtype: int64"
      ]
     },
     "execution_count": 6,
     "metadata": {},
     "output_type": "execute_result"
    }
   ],
   "source": [
    "ddf.gender.value_counts()"
   ]
  },
  {
   "cell_type": "code",
   "execution_count": 7,
   "metadata": {},
   "outputs": [
    {
     "data": {
      "text/plain": [
       "(43.8421052631579, 2.8789040697215458)"
      ]
     },
     "execution_count": 7,
     "metadata": {},
     "output_type": "execute_result"
    }
   ],
   "source": [
    "np.mean(rdf.age), stats.sem(rdf.age)"
   ]
  },
  {
   "cell_type": "code",
   "execution_count": 8,
   "metadata": {},
   "outputs": [
    {
     "data": {
      "text/plain": [
       "1    10\n",
       "0     9\n",
       "Name: gender, dtype: int64"
      ]
     },
     "execution_count": 8,
     "metadata": {},
     "output_type": "execute_result"
    }
   ],
   "source": [
    "rdf.gender.value_counts()"
   ]
  },
  {
   "cell_type": "markdown",
   "metadata": {},
   "source": [
    "# Results"
   ]
  },
  {
   "cell_type": "code",
   "execution_count": 9,
   "metadata": {},
   "outputs": [],
   "source": [
    "pos_words = [ \"superior\", \"joy\", \"plentiful\", \"qualified\", \"laugh\",  \"clever\",\n",
    "              \"rapid\", \"famous\", \"useful\", \"loyal\"\n",
    "            ]\n",
    "neg_words = [ \"inferior\", \"sorrow\", \"scarce\", \"unqualified\", \"cry\", \"stupid\", \"slow\", \n",
    "              \"unknown\", \"useless\", \"disloyal\" \n",
    "            ]"
   ]
  },
  {
   "cell_type": "code",
   "execution_count": 10,
   "metadata": {},
   "outputs": [],
   "source": [
    "antonyms = {\n",
    "    \"POSITIVE\": pos_words,\n",
    "    \"NEGATIVE\": neg_words\n",
    "}"
   ]
  },
  {
   "cell_type": "code",
   "execution_count": 11,
   "metadata": {},
   "outputs": [],
   "source": [
    "def get_valence_bias(i):\n",
    "    party = minidf.loc[i][\"party\"].lower()\n",
    "    condition = minidf.loc[i][\"Condition\"].lower()\n",
    "    if party not in (\"democrat\", \"republican\"):\n",
    "        return (np.nan, np.nan, np.nan)\n",
    "    party = 1 if party == \"republican\" else 0\n",
    "    condition = 1 if condition == \"republican\" else 0\n",
    "    k = \"POSITIVE\" if party == condition else \"NEGATIVE\"\n",
    "    valence_match = map(lambda w: w in antonyms[k], filter(lambda w: isinstance(w, str), \n",
    "                                                           minidf.loc[i][map(str, range(89, 99))]))\n",
    "    \n",
    "    return (np.mean(valence_match), party, condition)"
   ]
  },
  {
   "cell_type": "code",
   "execution_count": 12,
   "metadata": {},
   "outputs": [],
   "source": [
    "arr = np.array(map(get_valence_bias, minidf.index))\n",
    "valence_match = arr[:,0]\n",
    "parties = arr[:,1]\n",
    "conditions = arr[:,2]\n",
    "ixs_not_nan = np.arange(len(valence_match))[~np.isnan(valence_match)]\n",
    "valence_match = valence_match[ixs_not_nan]\n",
    "parties = parties[ixs_not_nan]\n",
    "conditions = conditions[ixs_not_nan]"
   ]
  },
  {
   "cell_type": "code",
   "execution_count": 13,
   "metadata": {},
   "outputs": [],
   "source": [
    "x_dd = valence_match[(parties == 0) & (conditions == 0)]\n",
    "x_dr = 1 - valence_match[(parties == 0) & (conditions == 1)]\n",
    "x_rd = 1 - valence_match[(parties == 1) & (conditions == 0)]\n",
    "x_rr = valence_match[(parties == 1) & (conditions == 1)]"
   ]
  },
  {
   "cell_type": "code",
   "execution_count": 14,
   "metadata": {},
   "outputs": [
    {
     "data": {
      "text/plain": [
       "(24, 26, 12, 7)"
      ]
     },
     "execution_count": 14,
     "metadata": {},
     "output_type": "execute_result"
    }
   ],
   "source": [
    "len(x_dd), len(x_dr), len(x_rd), len(x_rr)"
   ]
  },
  {
   "cell_type": "markdown",
   "metadata": {},
   "source": [
    "Each observation in `x_dd` corresponds to a Democratic participant asked to choose the word most likely to have been spoken by a Democrat, and each observation in `x_rr` corresponds to a Republican participant asked to choose the word most likely to have been spoken by a Republican. Observations are the proportion of positive words the participant selected. "
   ]
  },
  {
   "cell_type": "code",
   "execution_count": 15,
   "metadata": {},
   "outputs": [
    {
     "data": {
      "text/plain": [
       "(0.8096774193548386, 0.02678261300448299)"
      ]
     },
     "execution_count": 15,
     "metadata": {},
     "output_type": "execute_result"
    }
   ],
   "source": [
    "np.mean(np.append(x_dd, x_rr)), stats.sem(np.append(x_dd, x_rr))"
   ]
  },
  {
   "cell_type": "markdown",
   "metadata": {},
   "source": [
    "Each observation in `x_dr` corresponds to a Democratic participant asked to choose the word most likely to have been spoken by a Republican, and each observation in `x_rd` corresponds to a Republican participant asked to choose the word most likely to have been spoken by a Democrat. Observations are the proportion of positive words the participant selected. "
   ]
  },
  {
   "cell_type": "code",
   "execution_count": 16,
   "metadata": {},
   "outputs": [
    {
     "data": {
      "text/plain": [
       "(0.3736842105263158, 0.032811416525782455)"
      ]
     },
     "execution_count": 16,
     "metadata": {},
     "output_type": "execute_result"
    }
   ],
   "source": [
    "np.mean(np.append(x_dr, x_rd)), stats.sem(np.append(x_dr, x_rd))"
   ]
  },
  {
   "cell_type": "code",
   "execution_count": 17,
   "metadata": {},
   "outputs": [],
   "source": [
    "prop_match = np.append(x_dd, x_rr)\n",
    "prop_doesnt_match = np.append(x_dr, x_rd)"
   ]
  },
  {
   "cell_type": "code",
   "execution_count": 18,
   "metadata": {},
   "outputs": [
    {
     "data": {
      "text/plain": [
       "(10.293923175156955, 1.0890127910206365e-15, 66.38400483833256)"
      ]
     },
     "execution_count": 18,
     "metadata": {},
     "output_type": "execute_result"
    }
   ],
   "source": [
    "dsw_pm = sms.DescrStatsW(prop_match)\n",
    "dsw_pdm = sms.DescrStatsW(prop_doesnt_match)\n",
    "cm = sms.CompareMeans(dsw_pm, dsw_pdm)\n",
    "cm.ttest_ind(usevar=\"unequal\", alternative = \"larger\")"
   ]
  },
  {
   "cell_type": "code",
   "execution_count": 19,
   "metadata": {},
   "outputs": [
    {
     "name": "stdout",
     "output_type": "stream",
     "text": [
      "(0.4359932088285227, 0.3512843565455106, 0.5207020611115348)\n"
     ]
    }
   ],
   "source": [
    "delta = dsw_pm.mean - dsw_pdm.mean\n",
    "se_delta = cm.std_meandiff_separatevar\n",
    "print(delta, delta - 2*se_delta, delta + 2*se_delta)"
   ]
  },
  {
   "cell_type": "markdown",
   "metadata": {},
   "source": [
    "## Mixed effects model"
   ]
  },
  {
   "cell_type": "code",
   "execution_count": 25,
   "metadata": {},
   "outputs": [
    {
     "data": {
      "text/plain": [
       "Generalized linear mixed model fit by maximum likelihood (Laplace\n",
       "  Approximation) [glmerMod]\n",
       " Family: binomial  ( logit )\n",
       "Formula: pos ~ Condition * party + (1 | ID)\n",
       "   Data: df\n",
       "Control: glmerControl(optimizer = \"bobyqa\", optCtrl = list(maxfun = 1e+05))\n",
       "\n",
       "     AIC      BIC   logLik deviance df.resid \n",
       "   802.1    824.7   -396.0    792.1      685 \n",
       "\n",
       "Scaled residuals: \n",
       "    Min      1Q  Median      3Q     Max \n",
       "-2.9425 -0.7043  0.3806  0.5504  1.7052 \n",
       "\n",
       "Random effects:\n",
       " Groups Name        Variance Std.Dev.\n",
       " ID     (Intercept) 0.2943   0.5425  \n",
       "Number of obs: 690, groups:  ID, 69\n",
       "\n",
       "Fixed effects:\n",
       "                Estimate Std. Error z value Pr(>|z|)    \n",
       "(Intercept)       0.6253     0.1414   4.423 9.71e-06 ***\n",
       "Condition         0.2044     0.1990   1.027   0.3043    \n",
       "party             0.3298     0.1990   1.657   0.0975 .  \n",
       "Condition:party   2.2901     0.2862   8.001 1.24e-15 ***\n",
       "---\n",
       "Signif. codes:  0 ‘***’ 0.001 ‘**’ 0.01 ‘*’ 0.05 ‘.’ 0.1 ‘ ’ 1\n",
       "\n",
       "Correlation of Fixed Effects:\n",
       "            (Intr) Condtn party\n",
       "Condition   0.365              \n",
       "party       0.572  0.426       \n",
       "Condtn:prty 0.435  0.563  0.365\n"
      ]
     },
     "metadata": {},
     "output_type": "display_data"
    }
   ],
   "source": [
    "%%R -i minidf,pos_words,neg_words\n",
    "library(lmerTest)\n",
    "library(tidyverse)\n",
    "\n",
    "options(contrasts=c(\"contr.sum\",\"contr.poly\"))\n",
    "\n",
    "df <- minidf %>%\n",
    "    as_tibble() %>%\n",
    "    filter(party %in% c(\"Democrat\",\"Republican\")) %>%\n",
    "    select(X89:X98, age, gender, party, party_identity, political_engagement, Condition) %>%\n",
    "    mutate(ID=1:nrow(.)) %>%\n",
    "    pivot_longer(X89:X98, names_to=\"item\", values_to=\"pos\") %>%\n",
    "    filter(pos %in% c(pos_words, neg_words)) %>%\n",
    "    mutate(pos=pos %in% pos_words) %>%\n",
    "    mutate(party=ifelse(party==\"Republican\", sqrt(.5), -sqrt(.5)),\n",
    "           Condition=ifelse(Condition==\"REPUBLICAN\", sqrt(.5), -sqrt(.5)),\n",
    "           age=age-18,\n",
    "           gender=ifelse(gender==1, -1, 1),\n",
    "           party_identity=party_identity+3,\n",
    "           political_engagement=political_engagement+3\n",
    "          )\n",
    "    \n",
    "fit <- glmer(pos ~ Condition * party + (1|ID), data=df, family=\"binomial\",\n",
    "             glmerControl(optimizer=\"bobyqa\", optCtrl = list(maxfun = 100000)\n",
    "                         ))\n",
    "summary(fit)"
   ]
  },
  {
   "cell_type": "code",
   "execution_count": 26,
   "metadata": {},
   "outputs": [
    {
     "data": {
      "text/plain": [
       "[1] 1.717605 2.862535\n"
      ]
     },
     "metadata": {},
     "output_type": "display_data"
    }
   ],
   "source": [
    "%%R\n",
    "# +- 2 SE\n",
    "coef.interact <- summary(fit)$coefficients[4,1]\n",
    "se.interact <- summary(fit)$coefficients[4,2]\n",
    "print(c(coef.interact - 2*se.interact, coef.interact + 2*se.interact))"
   ]
  },
  {
   "cell_type": "code",
   "execution_count": 27,
   "metadata": {},
   "outputs": [
    {
     "data": {
      "text/plain": [
       "[1] 9.87563\n"
      ]
     },
     "metadata": {},
     "output_type": "display_data"
    }
   ],
   "source": [
    "%%R\n",
    "exp(summary(fit)$coefficients[4,1])"
   ]
  },
  {
   "cell_type": "code",
   "execution_count": 32,
   "metadata": {},
   "outputs": [
    {
     "data": {
      "text/plain": [
       "Data: df\n",
       "Models:\n",
       "null.fit: pos ~ Condition + party + (1 | ID)\n",
       "fit: pos ~ Condition * party + Condition * age + Condition * gender + \n",
       "fit:     Condition * party * party_identity + Condition * party * \n",
       "fit:     political_engagement + (1 | ID) + (1 | item)\n",
       "         npar    AIC    BIC  logLik deviance  Chisq Df Pr(>Chisq)    \n",
       "null.fit    4 855.13 873.27 -423.56   847.13                         \n",
       "fit        18 819.25 900.91 -391.62   783.25 63.877 14  2.424e-08 ***\n",
       "---\n",
       "Signif. codes:  0 ‘***’ 0.001 ‘**’ 0.01 ‘*’ 0.05 ‘.’ 0.1 ‘ ’ 1\n"
      ]
     },
     "metadata": {},
     "output_type": "display_data"
    }
   ],
   "source": [
    "%%R\n",
    "null.fit <- glmer(pos ~ Condition + party + (1|ID), data=df, family=\"binomial\")\n",
    "anova(null.fit, fit, test=\"LRT\")"
   ]
  },
  {
   "cell_type": "code",
   "execution_count": 35,
   "metadata": {},
   "outputs": [
    {
     "data": {
      "text/plain": [
       "Generalized linear mixed model fit by maximum likelihood (Laplace\n",
       "  Approximation) [glmerMod]\n",
       " Family: binomial  ( logit )\n",
       "Formula: pos ~ Condition * party + Condition * age + Condition * gender +  \n",
       "    Condition * party * party_identity + Condition * party *  \n",
       "    political_engagement + (1 | ID)\n",
       "   Data: df\n",
       "\n",
       "     AIC      BIC   logLik deviance df.resid \n",
       "   817.2    894.4   -391.6    783.2      673 \n",
       "\n",
       "Scaled residuals: \n",
       "    Min      1Q  Median      3Q     Max \n",
       "-3.7075 -0.7450  0.3742  0.5852  1.9732 \n",
       "\n",
       "Random effects:\n",
       " Groups Name        Variance Std.Dev.\n",
       " ID     (Intercept) 0.1909   0.4369  \n",
       "Number of obs: 690, groups:  ID, 69\n",
       "\n",
       "Fixed effects:\n",
       "                                      Estimate Std. Error z value Pr(>|z|)   \n",
       "(Intercept)                           1.237585   0.381084   3.248  0.00116 **\n",
       "Condition                             0.616052   0.538044   1.145  0.25222   \n",
       "party                                -0.047210   0.512291  -0.092  0.92657   \n",
       "age                                  -0.003975   0.011609  -0.342  0.73202   \n",
       "gender                               -0.041926   0.126939  -0.330  0.74118   \n",
       "party_identity                       -0.058824   0.106180  -0.554  0.57957   \n",
       "political_engagement                 -0.087075   0.106307  -0.819  0.41273   \n",
       "Condition:party                       2.312732   0.725643   3.187  0.00144 **\n",
       "Condition:age                        -0.011847   0.016417  -0.722  0.47050   \n",
       "Condition:gender                     -0.030816   0.179542  -0.172  0.86372   \n",
       "Condition:party_identity             -0.015966   0.150197  -0.106  0.91534   \n",
       "party:party_identity                  0.029420   0.146376   0.201  0.84071   \n",
       "Condition:political_engagement       -0.022048   0.150355  -0.147  0.88342   \n",
       "party:political_engagement            0.068343   0.145190   0.471  0.63784   \n",
       "Condition:party:party_identity        0.009474   0.206955   0.046  0.96349   \n",
       "Condition:party:political_engagement -0.009480   0.205328  -0.046  0.96317   \n",
       "---\n",
       "Signif. codes:  0 ‘***’ 0.001 ‘**’ 0.01 ‘*’ 0.05 ‘.’ 0.1 ‘ ’ 1\n",
       "convergence code: 0\n",
       "Model failed to converge with max|grad| = 0.0098655 (tol = 0.002, component 1)\n",
       "\n"
      ]
     },
     "metadata": {},
     "output_type": "display_data"
    }
   ],
   "source": [
    "%%R\n",
    "fit <- glmer(pos ~ Condition * party + Condition * age + Condition * gender + Condition * party * party_identity + Condition * party * political_engagement + (1|ID),\n",
    "             data = df, family=\"binomial\"\n",
    "            )\n",
    "summary(fit)"
   ]
  }
 ],
 "metadata": {
  "kernelspec": {
   "display_name": "lop_env",
   "language": "python",
   "name": "lop_env"
  },
  "language_info": {
   "codemirror_mode": {
    "name": "ipython",
    "version": 2
   },
   "file_extension": ".py",
   "mimetype": "text/x-python",
   "name": "python",
   "nbconvert_exporter": "python",
   "pygments_lexer": "ipython2",
   "version": "2.7.17"
  }
 },
 "nbformat": 4,
 "nbformat_minor": 2
}
