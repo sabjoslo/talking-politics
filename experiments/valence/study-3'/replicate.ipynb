{
 "cells": [
  {
   "cell_type": "markdown",
   "metadata": {},
   "source": [
    "Analyses pre-registered for in-lab version of Study 3'.\n",
    "\n",
    "Pre-registration: https://osf.io/de935"
   ]
  },
  {
   "cell_type": "code",
   "execution_count": 1,
   "metadata": {},
   "outputs": [],
   "source": [
    "import warnings\n",
    "warnings.filterwarnings('ignore')"
   ]
  },
  {
   "cell_type": "code",
   "execution_count": 2,
   "metadata": {},
   "outputs": [],
   "source": [
    "from __future__ import division\n",
    "%matplotlib inline\n",
    "import matplotlib.pyplot as plt\n",
    "import numpy as np\n",
    "import pandas as pd\n",
    "import pickle\n",
    "import re\n",
    "from scipy import stats\n",
    "import statsmodels.stats.api as sms\n",
    "from pyspan.utils import *\n",
    "from pyspan.plurals.analysis import *\n",
    "assert not mturk\n",
    "from pyspan.plurals.utils import *"
   ]
  },
  {
   "cell_type": "markdown",
   "metadata": {},
   "source": [
    "# Testing the PM hypothesis"
   ]
  },
  {
   "cell_type": "markdown",
   "metadata": {},
   "source": [
    "## Participants"
   ]
  },
  {
   "cell_type": "code",
   "execution_count": 3,
   "metadata": {},
   "outputs": [
    {
     "data": {
      "text/plain": [
       "172"
      ]
     },
     "execution_count": 3,
     "metadata": {},
     "output_type": "execute_result"
    }
   ],
   "source": [
    "len(valence)"
   ]
  },
  {
   "cell_type": "code",
   "execution_count": 4,
   "metadata": {},
   "outputs": [
    {
     "data": {
      "text/plain": [
       "155"
      ]
     },
     "execution_count": 4,
     "metadata": {},
     "output_type": "execute_result"
    }
   ],
   "source": [
    "# Comment to include participants who failed the attention check\n",
    "valence = valence.loc[valence.atc_passed]\n",
    "len(valence)"
   ]
  },
  {
   "cell_type": "code",
   "execution_count": 5,
   "metadata": {},
   "outputs": [
    {
     "name": "stdout",
     "output_type": "stream",
     "text": [
      "Age: 24.3096774194 (SE = 0.715181459241)\n",
      "Gender: [('Both', 1), ('Female', 105), ('Male', 49)]\n"
     ]
    }
   ],
   "source": [
    "demographic_info(valence)"
   ]
  },
  {
   "cell_type": "code",
   "execution_count": 6,
   "metadata": {},
   "outputs": [
    {
     "data": {
      "text/plain": [
       "(82, 73)"
      ]
     },
     "execution_count": 6,
     "metadata": {},
     "output_type": "execute_result"
    }
   ],
   "source": [
    "len(valence.loc[valence.Condition == \"POSITIVE\"]), len(valence.loc[valence.Condition == \"NEGATIVE\"])"
   ]
  },
  {
   "cell_type": "markdown",
   "metadata": {},
   "source": [
    "## Results"
   ]
  },
  {
   "cell_type": "markdown",
   "metadata": {},
   "source": [
    "### Logistic regression"
   ]
  },
  {
   "cell_type": "markdown",
   "metadata": {},
   "source": [
    "Selection of plural ~ Valence of item + Condition + Valence of item * Condition + Dummy indicating whether or not this was the first survey the participant took (including participant-level effects)"
   ]
  },
  {
   "cell_type": "markdown",
   "metadata": {},
   "source": [
    "We hypothesize that the coefficient on Valence of item * Condition will be positive. We will commit to throwing out all data from the valence survey by participants who did not take the survey first if the order dummy has a non-zero coefficient."
   ]
  },
  {
   "cell_type": "code",
   "execution_count": 7,
   "metadata": {},
   "outputs": [],
   "source": [
    "vdummied, Y = dummy(valence, classes = [ \"POSITIVE\", \"NEGATIVE\" ],\n",
    "                    sets = np.stack((words[\"large\"], words[\"small\"])))"
   ]
  },
  {
   "cell_type": "code",
   "execution_count": 8,
   "metadata": {},
   "outputs": [],
   "source": [
    "def valence_condition_interaction(v, c):\n",
    "    c = c if c == 1 else -1\n",
    "    return v*c\n",
    "valence_condition_interaction = np.vectorize(valence_condition_interaction)\n",
    "X, Y = df_to_matrix(vdummied, Y,\n",
    "                    columns = { 0: \"valence\", 1: \"condition\", \n",
    "                                2: (0,1,valence_condition_interaction), \n",
    "                                3: \"order\" })"
   ]
  },
  {
   "cell_type": "code",
   "execution_count": 9,
   "metadata": {},
   "outputs": [
    {
     "name": "stdout",
     "output_type": "stream",
     "text": [
      "[0.06618132 0.         0.41462573 0.        ]\n",
      "0.721042266440916\n"
     ]
    }
   ],
   "source": [
    "logit = SparseLR(Y, X); print logit.coef[:4]; print logit.auc"
   ]
  },
  {
   "cell_type": "markdown",
   "metadata": {},
   "source": [
    "### t-tests"
   ]
  },
  {
   "cell_type": "markdown",
   "metadata": {},
   "source": [
    "For each participant, compute the proportion of positive items for which the participant chose the pluralized form of the word, the proportion of neutral items for which the participant chose the pluralized form of the word, and the proportion of negative items for which the participant chose the pluralized form of the word."
   ]
  },
  {
   "cell_type": "code",
   "execution_count": 10,
   "metadata": {},
   "outputs": [],
   "source": [
    "vsummary = valence[[\"Condition\"]]\n",
    "dat = valence[ixs].values\n",
    "vsummary[\"pos_lg\"] = np.apply_along_axis(get_prop, 1, dat, pos_lg, pos_sm)\n",
    "vsummary[\"neu_lg\"] = np.apply_along_axis(get_prop, 1, dat, neu_lg, neu_sm)\n",
    "vsummary[\"neg_lg\"] = np.apply_along_axis(get_prop, 1, dat, neg_lg, neg_sm)\n",
    "assert vsummary.values.shape == (len(valence), 4)"
   ]
  },
  {
   "cell_type": "markdown",
   "metadata": {},
   "source": [
    "### Positive condition"
   ]
  },
  {
   "cell_type": "markdown",
   "metadata": {},
   "source": [
    "Hypothesis: mean(% pluralized positive items chosen) - mean(% pluralized neutral items chosen) > 0"
   ]
  },
  {
   "cell_type": "code",
   "execution_count": 11,
   "metadata": {},
   "outputs": [
    {
     "data": {
      "text/plain": [
       "(7.096091377075791, 2.198359595619331e-10)"
      ]
     },
     "execution_count": 11,
     "metadata": {},
     "output_type": "execute_result"
    }
   ],
   "source": [
    "a = vsummary.loc[vsummary[\"Condition\"] == \"POSITIVE\"][\"pos_lg\"].values\n",
    "b = vsummary.loc[vsummary[\"Condition\"] == \"POSITIVE\"][\"neu_lg\"].values\n",
    "t, p = stats.ttest_rel(a, b)\n",
    "# Divide by 2 for one-sided p-value\n",
    "t, p/2"
   ]
  },
  {
   "cell_type": "markdown",
   "metadata": {},
   "source": [
    "Hypothesis: mean(% pluralized negative items chosen) - mean(% pluralized neutral items chosen) < 0"
   ]
  },
  {
   "cell_type": "code",
   "execution_count": 12,
   "metadata": {},
   "outputs": [
    {
     "data": {
      "text/plain": [
       "(-13.12335225566968, 4.76886084819926e-22)"
      ]
     },
     "execution_count": 12,
     "metadata": {},
     "output_type": "execute_result"
    }
   ],
   "source": [
    "a = vsummary.loc[vsummary[\"Condition\"] == \"POSITIVE\"][\"neg_lg\"].values\n",
    "b = vsummary.loc[vsummary[\"Condition\"] == \"POSITIVE\"][\"neu_lg\"].values\n",
    "t, p = stats.ttest_rel(a, b)\n",
    "# Divide by 2 for one-sided p-value\n",
    "t, p/2"
   ]
  },
  {
   "cell_type": "markdown",
   "metadata": {},
   "source": [
    "### Negative condition"
   ]
  },
  {
   "cell_type": "markdown",
   "metadata": {},
   "source": [
    "Hypothesis: mean(% pluralized negative items chosen) - mean(% pluralized neutral items chosen) > 0"
   ]
  },
  {
   "cell_type": "code",
   "execution_count": 13,
   "metadata": {},
   "outputs": [
    {
     "data": {
      "text/plain": [
       "(9.189678704932744, 4.636418107307109e-14)"
      ]
     },
     "execution_count": 13,
     "metadata": {},
     "output_type": "execute_result"
    }
   ],
   "source": [
    "a = vsummary.loc[vsummary[\"Condition\"] == \"NEGATIVE\"][\"neg_lg\"].values\n",
    "b = vsummary.loc[vsummary[\"Condition\"] == \"NEGATIVE\"][\"neu_lg\"].values\n",
    "idx = np.where(~(np.isnan(a) | np.isnan(b)))[0]\n",
    "a = a[idx]\n",
    "b = b[idx]\n",
    "t, p = stats.ttest_rel(a, b)\n",
    "# Divide by 2 for one-sided p-value\n",
    "t, p/2"
   ]
  },
  {
   "cell_type": "markdown",
   "metadata": {},
   "source": [
    "Hypothesis: mean(% pluralized positive items chosen) - mean(% pluralized neutral items chosen) < 0"
   ]
  },
  {
   "cell_type": "code",
   "execution_count": 14,
   "metadata": {},
   "outputs": [
    {
     "data": {
      "text/plain": [
       "(-6.319004005662674, 1.0140719475598405e-08)"
      ]
     },
     "execution_count": 14,
     "metadata": {},
     "output_type": "execute_result"
    }
   ],
   "source": [
    "a = vsummary.loc[(vsummary[\"Condition\"] == \"NEGATIVE\") & \n",
    "                 (~np.isnan(vsummary[\"pos_lg\"]))][\"pos_lg\"].values\n",
    "b = vsummary.loc[(vsummary[\"Condition\"] == \"NEGATIVE\") & \n",
    "                 (~np.isnan(vsummary[\"pos_lg\"]))][\"neu_lg\"].values\n",
    "delta = np.mean(a) - np.mean(b)\n",
    "t, p = stats.ttest_rel(a, b)\n",
    "# Divide by 2 for one-sided p-value\n",
    "t, p/2"
   ]
  },
  {
   "cell_type": "markdown",
   "metadata": {},
   "source": [
    "### Combining conditions"
   ]
  },
  {
   "cell_type": "markdown",
   "metadata": {},
   "source": [
    "Recode observations in the negative condition to be the opposite of what participants chose."
   ]
  },
  {
   "cell_type": "code",
   "execution_count": 15,
   "metadata": {},
   "outputs": [],
   "source": [
    "vpos = vsummary.loc[vsummary[\"Condition\"] == \"POSITIVE\"]\n",
    "vneg = vsummary.loc[vsummary[\"Condition\"] == \"NEGATIVE\"]\n",
    "vneg[\"pos_lg\"] = 1 - vneg[\"pos_lg\"]\n",
    "vneg[\"neu_lg\"] = 1 - vneg[\"neu_lg\"]\n",
    "vneg[\"neg_lg\"] = 1 - vneg[\"neg_lg\"]\n",
    "vrecoded = pd.concat([ vpos, vneg ])\n",
    "assert len(vrecoded) == len(vpos) + len(vneg)"
   ]
  },
  {
   "cell_type": "markdown",
   "metadata": {},
   "source": [
    "Hypothesis: mean(% pluralized positive items chosen) - mean(% pluralized neutral items chosen) > 0"
   ]
  },
  {
   "cell_type": "code",
   "execution_count": 16,
   "metadata": {},
   "outputs": [
    {
     "data": {
      "text/plain": [
       "(9.514100524414973, 1.8940458669883742e-17)"
      ]
     },
     "execution_count": 16,
     "metadata": {},
     "output_type": "execute_result"
    }
   ],
   "source": [
    "a = vrecoded.loc[~np.isnan(vrecoded[\"pos_lg\"])][\"pos_lg\"].values\n",
    "b = vrecoded.loc[~np.isnan(vrecoded[\"pos_lg\"])][\"neu_lg\"].values\n",
    "delta = np.mean(a) - np.mean(b)\n",
    "t, p = stats.ttest_rel(a, b)\n",
    "# Divide by 2 for one-sided p-value\n",
    "t, p/2"
   ]
  },
  {
   "cell_type": "markdown",
   "metadata": {},
   "source": [
    "Compute degrees of freedom."
   ]
  },
  {
   "cell_type": "code",
   "execution_count": 17,
   "metadata": {},
   "outputs": [
    {
     "data": {
      "text/plain": [
       "153"
      ]
     },
     "execution_count": 17,
     "metadata": {},
     "output_type": "execute_result"
    }
   ],
   "source": [
    "len(a) - 1"
   ]
  },
  {
   "cell_type": "code",
   "execution_count": 18,
   "metadata": {},
   "outputs": [
    {
     "name": "stdout",
     "output_type": "stream",
     "text": [
      "(0.1362258953168044, 0.10758926383131123, 0.16486252680229757)\n"
     ]
    }
   ],
   "source": [
    "se_delta = np.sqrt(np.var(a - b, ddof = 1) / len(a))\n",
    "print(delta, delta - 2*se_delta, delta + 2*se_delta)"
   ]
  },
  {
   "cell_type": "code",
   "execution_count": 19,
   "metadata": {},
   "outputs": [
    {
     "data": {
      "text/plain": [
       "(0.6553384494293585,\n",
       " 0.01982430182991738,\n",
       " 0.5191125541125541,\n",
       " 0.01838467428028642)"
      ]
     },
     "execution_count": 19,
     "metadata": {},
     "output_type": "execute_result"
    }
   ],
   "source": [
    "np.mean(a), stats.sem(a), np.mean(b), stats.sem(b)"
   ]
  },
  {
   "cell_type": "markdown",
   "metadata": {},
   "source": [
    "Hypothesis: mean(% pluralized negative items chosen) - mean(% pluralized neutral items chosen) < 0"
   ]
  },
  {
   "cell_type": "code",
   "execution_count": 20,
   "metadata": {},
   "outputs": [
    {
     "data": {
      "text/plain": [
       "(-15.532868816081432, 1.2306885474711773e-33)"
      ]
     },
     "execution_count": 20,
     "metadata": {},
     "output_type": "execute_result"
    }
   ],
   "source": [
    "a = vrecoded[\"neg_lg\"].values\n",
    "b = vrecoded[\"neu_lg\"].values\n",
    "idx = np.where(~(np.isnan(a) | np.isnan(b)))[0]\n",
    "a = a[idx]\n",
    "b = b[idx]\n",
    "delta = np.mean(a) - np.mean(b)\n",
    "t, p = stats.ttest_rel(a, b)\n",
    "# Divide by 2 for one-sided p-value\n",
    "t, p/2"
   ]
  },
  {
   "cell_type": "markdown",
   "metadata": {},
   "source": [
    "Compute degrees of freedom."
   ]
  },
  {
   "cell_type": "code",
   "execution_count": 21,
   "metadata": {},
   "outputs": [
    {
     "data": {
      "text/plain": [
       "154"
      ]
     },
     "execution_count": 21,
     "metadata": {},
     "output_type": "execute_result"
    }
   ],
   "source": [
    "len(a) - 1"
   ]
  },
  {
   "cell_type": "code",
   "execution_count": 22,
   "metadata": {},
   "outputs": [
    {
     "name": "stdout",
     "output_type": "stream",
     "text": [
      "(-0.365505376344086, -0.41256756178734066, -0.3184431909008313)\n"
     ]
    }
   ],
   "source": [
    "se_delta = np.sqrt(np.var(a - b, ddof = 1) / len(a))\n",
    "print(delta, delta - 2*se_delta, delta + 2*se_delta)"
   ]
  },
  {
   "cell_type": "code",
   "execution_count": 23,
   "metadata": {},
   "outputs": [
    {
     "data": {
      "text/plain": [
       "(0.15025806451612903,\n",
       " 0.015071739122996372,\n",
       " 0.515763440860215,\n",
       " 0.018570179483636654)"
      ]
     },
     "execution_count": 23,
     "metadata": {},
     "output_type": "execute_result"
    }
   ],
   "source": [
    "np.mean(a), stats.sem(a), np.mean(b), stats.sem(b)"
   ]
  },
  {
   "cell_type": "markdown",
   "metadata": {},
   "source": [
    "# Testing the generalizability of the AVB to gender identity"
   ]
  },
  {
   "cell_type": "markdown",
   "metadata": {},
   "source": [
    "## Participants"
   ]
  },
  {
   "cell_type": "code",
   "execution_count": 24,
   "metadata": {},
   "outputs": [
    {
     "data": {
      "text/plain": [
       "172"
      ]
     },
     "execution_count": 24,
     "metadata": {},
     "output_type": "execute_result"
    }
   ],
   "source": [
    "len(gender)"
   ]
  },
  {
   "cell_type": "code",
   "execution_count": 25,
   "metadata": {},
   "outputs": [
    {
     "data": {
      "text/plain": [
       "156"
      ]
     },
     "execution_count": 25,
     "metadata": {},
     "output_type": "execute_result"
    }
   ],
   "source": [
    "# Comment to include participants who failed the attention check\n",
    "gender = gender.loc[gender.atc_passed]\n",
    "len(gender)"
   ]
  },
  {
   "cell_type": "code",
   "execution_count": 26,
   "metadata": {},
   "outputs": [
    {
     "data": {
      "text/plain": [
       "155"
      ]
     },
     "execution_count": 26,
     "metadata": {},
     "output_type": "execute_result"
    }
   ],
   "source": [
    "gender = gender.loc[gender[\"ident\"].isin((\"Male\", \"Female\"))]\n",
    "gender.replace({ \"Male\": \"MALE\", \"Female\": \"FEMALE\" }, inplace = True)\n",
    "len(gender)"
   ]
  },
  {
   "cell_type": "markdown",
   "metadata": {},
   "source": [
    "As for Study 3, we pre-registered three different criteria for operationalizing which word in a given pair is considered the more positively-valenced choice. The submitted manuscript reports results for the within-subjects analysis."
   ]
  },
  {
   "cell_type": "markdown",
   "metadata": {},
   "source": [
    "## Results"
   ]
  },
  {
   "cell_type": "markdown",
   "metadata": {},
   "source": [
    "### 1. Between subjects analysis: 60% item selection threshold\n",
    "\n",
    "Considers a word to be positive when at least 60% of participants judged it to be more positively-valenced than its accompanying word."
   ]
  },
  {
   "cell_type": "code",
   "execution_count": 27,
   "metadata": {},
   "outputs": [],
   "source": [
    "positive60, negative60 = agreement_items(valence, [ \"POSITIVE\", \"NEGATIVE\" ], .6)"
   ]
  },
  {
   "cell_type": "markdown",
   "metadata": {},
   "source": [
    "#### Logistic regression\n",
    "\n",
    "Selection of positive word ~ Participant's gender identity + Condition + Participant's gender identity * Condition + Dummy indicating whether or not this was the first survey the participant took (including participant-level effects)\n",
    "\n",
    "Selection of positive word ~ Participant's gender identity + Condition + Participant's gender identity * Condition + Dummy indicating whether or not this was the first survey the participant took (including participant-level effects)"
   ]
  },
  {
   "cell_type": "code",
   "execution_count": 28,
   "metadata": {},
   "outputs": [],
   "source": [
    "gdummied, Y = dummy(gender, [ \"MALE\", \"FEMALE\" ],\n",
    "                    sets = np.stack((positive60, \n",
    "                                     negative60)))\n",
    "X, Y = df_to_matrix(gdummied, Y, columns = { 0: \"id\",\n",
    "                                             1: \"condition\",\n",
    "                                             2: (0,1), \n",
    "                                             3: \"order\" })"
   ]
  },
  {
   "cell_type": "code",
   "execution_count": 29,
   "metadata": {},
   "outputs": [
    {
     "name": "stdout",
     "output_type": "stream",
     "text": [
      "[0. 0. 0. 0.]\n"
     ]
    },
    {
     "data": {
      "text/plain": [
       "0.5"
      ]
     },
     "execution_count": 29,
     "metadata": {},
     "output_type": "execute_result"
    }
   ],
   "source": [
    "logit = SparseLR(Y, X); print logit.coef[:4]; logit.auc"
   ]
  },
  {
   "cell_type": "markdown",
   "metadata": {},
   "source": [
    "#### t-tests"
   ]
  },
  {
   "cell_type": "code",
   "execution_count": 30,
   "metadata": {},
   "outputs": [],
   "source": [
    "gsummary = gender[[\"Condition\", \"ident\"]]\n",
    "dat = gender[ixs].values\n",
    "props = np.apply_along_axis(get_prop, 1, dat, positive60,\n",
    "                            negative60)\n",
    "gsummary[\"ppos\"] = props\n",
    "assert gsummary.values.shape == (len(gender), 3)"
   ]
  },
  {
   "cell_type": "code",
   "execution_count": 31,
   "metadata": {},
   "outputs": [],
   "source": [
    "def one_sided_ttest(a, b):\n",
    "    dsw_a = sms.DescrStatsW(a)\n",
    "    dsw_b = sms.DescrStatsW(b)\n",
    "    cm = sms.CompareMeans(dsw_a, dsw_b)\n",
    "    return cm.ttest_ind(usevar=\"unequal\", alternative = \"larger\")"
   ]
  },
  {
   "cell_type": "markdown",
   "metadata": {},
   "source": [
    "For participants in the male condition, the difference in means mean(% positive words chosen amongst males) - mean(% positive words chosen amongst females) > 0."
   ]
  },
  {
   "cell_type": "code",
   "execution_count": 32,
   "metadata": {},
   "outputs": [
    {
     "data": {
      "text/plain": [
       "(0.7988883330067161, 0.2139218038024439, 54.177569989625546)"
      ]
     },
     "execution_count": 32,
     "metadata": {},
     "output_type": "execute_result"
    }
   ],
   "source": [
    "a = gsummary.loc[(gsummary[\"Condition\"] == \"MALE\") & (gsummary[\"ident\"] == \"MALE\")][\"ppos\"].values\n",
    "b = gsummary.loc[(gsummary[\"Condition\"] == \"MALE\") & (gsummary[\"ident\"] == \"FEMALE\")][\"ppos\"].values\n",
    "one_sided_ttest(a, b)"
   ]
  },
  {
   "cell_type": "markdown",
   "metadata": {},
   "source": [
    "For participants in the female condition, the difference in means mean(% positive words chosen amongst females) - mean(% positive words chosen amongst males) > 0."
   ]
  },
  {
   "cell_type": "code",
   "execution_count": 33,
   "metadata": {},
   "outputs": [
    {
     "data": {
      "text/plain": [
       "(0.9717382056565919, 0.16791583362166612, 50.289463635242306)"
      ]
     },
     "execution_count": 33,
     "metadata": {},
     "output_type": "execute_result"
    }
   ],
   "source": [
    "a = gsummary.loc[(gsummary[\"Condition\"] == \"FEMALE\") & (gsummary[\"ident\"] == \"FEMALE\")][\"ppos\"].values\n",
    "b = gsummary.loc[(gsummary[\"Condition\"] == \"FEMALE\") & (gsummary[\"ident\"] == \"MALE\")][\"ppos\"].values\n",
    "one_sided_ttest(a, b)"
   ]
  },
  {
   "cell_type": "markdown",
   "metadata": {},
   "source": [
    "The difference in means mean(% positive words chosen amongst those whose condition matched their gender identity) - mean(% positive words chosen amongst those whose condition didn't match their gender identity) > 0"
   ]
  },
  {
   "cell_type": "code",
   "execution_count": 34,
   "metadata": {},
   "outputs": [
    {
     "data": {
      "text/plain": [
       "(1.0433841682429088, 0.1492089860460073, 152.8333811065961)"
      ]
     },
     "execution_count": 34,
     "metadata": {},
     "output_type": "execute_result"
    }
   ],
   "source": [
    "a = gsummary.loc[gsummary[\"Condition\"] == gsummary[\"ident\"]][\"ppos\"].values\n",
    "b = gsummary.loc[gsummary[\"Condition\"] != gsummary[\"ident\"]][\"ppos\"].values\n",
    "one_sided_ttest(a, b)"
   ]
  },
  {
   "cell_type": "markdown",
   "metadata": {},
   "source": [
    "### 2. Between subjects analysis: 80% item selection threshold\n",
    "\n",
    "Considers a word to be positive when at least 80% of participants judged it to be more positively-valenced than its accompanying word."
   ]
  },
  {
   "cell_type": "code",
   "execution_count": 35,
   "metadata": {},
   "outputs": [],
   "source": [
    "positive80, negative80 = agreement_items(valence, [ \"POSITIVE\", \"NEGATIVE\" ], .8)"
   ]
  },
  {
   "cell_type": "markdown",
   "metadata": {},
   "source": [
    "#### Logistic regression"
   ]
  },
  {
   "cell_type": "code",
   "execution_count": 36,
   "metadata": {},
   "outputs": [],
   "source": [
    "gdummied, Y = dummy(gender, sets = np.stack((positive80, negative80)),\n",
    "                    classes = [ \"MALE\", \"FEMALE\" ])"
   ]
  },
  {
   "cell_type": "code",
   "execution_count": 37,
   "metadata": {},
   "outputs": [],
   "source": [
    "X, Y = df_to_matrix(gdummied, Y, columns = { 0: \"id\",\n",
    "                                             1: \"condition\",\n",
    "                                             2: (0,1), \n",
    "                                             3: \"order\" })"
   ]
  },
  {
   "cell_type": "code",
   "execution_count": 38,
   "metadata": {},
   "outputs": [
    {
     "name": "stdout",
     "output_type": "stream",
     "text": [
      "[0. 0. 0. 0.]\n"
     ]
    },
    {
     "data": {
      "text/plain": [
       "0.5"
      ]
     },
     "execution_count": 38,
     "metadata": {},
     "output_type": "execute_result"
    }
   ],
   "source": [
    "logit = SparseLR(Y, X); print logit.coef[:4]; logit.auc"
   ]
  },
  {
   "cell_type": "markdown",
   "metadata": {},
   "source": [
    "#### t-tests"
   ]
  },
  {
   "cell_type": "code",
   "execution_count": 39,
   "metadata": {},
   "outputs": [],
   "source": [
    "gsummary = gender[[\"Condition\", \"ident\"]]\n",
    "dat = gender[ixs].values\n",
    "props = np.apply_along_axis(get_prop, 1, dat, positive80,\n",
    "                            negative80)\n",
    "gsummary[\"ppos\"] = props\n",
    "assert gsummary.values.shape == (len(gender), 3)"
   ]
  },
  {
   "cell_type": "markdown",
   "metadata": {},
   "source": [
    "For participants in the male condition, the difference in means mean(% positive words chosen amongst males) - mean(% positive words chosen amongst females) > 0."
   ]
  },
  {
   "cell_type": "code",
   "execution_count": 40,
   "metadata": {},
   "outputs": [
    {
     "data": {
      "text/plain": [
       "(0.9204290847258171, 0.18168055035012598, 36.68991183224334)"
      ]
     },
     "execution_count": 40,
     "metadata": {},
     "output_type": "execute_result"
    }
   ],
   "source": [
    "a = gsummary.loc[(gsummary[\"Condition\"] == \"MALE\") & (gsummary[\"ident\"] == \"MALE\")][\"ppos\"].values\n",
    "b = gsummary.loc[(gsummary[\"Condition\"] == \"MALE\") & (gsummary[\"ident\"] == \"FEMALE\")][\"ppos\"].values\n",
    "one_sided_ttest(a, b)"
   ]
  },
  {
   "cell_type": "markdown",
   "metadata": {},
   "source": [
    "For participants in the female condition, the difference in means mean(% positive words chosen amongst females) - mean(% positive words chosen amongst males) > 0."
   ]
  },
  {
   "cell_type": "code",
   "execution_count": 41,
   "metadata": {},
   "outputs": [
    {
     "data": {
      "text/plain": [
       "(1.3148706515920061, 0.09749007297910296, 46.65425970753836)"
      ]
     },
     "execution_count": 41,
     "metadata": {},
     "output_type": "execute_result"
    }
   ],
   "source": [
    "a = gsummary.loc[(gsummary[\"Condition\"] == \"FEMALE\") & (gsummary[\"ident\"] == \"FEMALE\")][\"ppos\"].values\n",
    "b = gsummary.loc[(gsummary[\"Condition\"] == \"FEMALE\") & (gsummary[\"ident\"] == \"MALE\")][\"ppos\"].values\n",
    "one_sided_ttest(a, b)"
   ]
  },
  {
   "cell_type": "markdown",
   "metadata": {},
   "source": [
    "The difference in means mean(% positive words chosen amongst those whose condition matched their gender identity) - mean(% positive words chosen amongst those whose condition didn't match their gender identity) > 0"
   ]
  },
  {
   "cell_type": "code",
   "execution_count": 42,
   "metadata": {},
   "outputs": [
    {
     "data": {
      "text/plain": [
       "(2.376005410057496, 0.009395561857951163, 146.88517373416838)"
      ]
     },
     "execution_count": 42,
     "metadata": {},
     "output_type": "execute_result"
    }
   ],
   "source": [
    "a = gsummary.loc[gsummary[\"Condition\"] == gsummary[\"ident\"]][\"ppos\"]\n",
    "b = gsummary.loc[gsummary[\"Condition\"] != gsummary[\"ident\"]][\"ppos\"]\n",
    "one_sided_ttest(a, b)"
   ]
  },
  {
   "cell_type": "markdown",
   "metadata": {},
   "source": [
    "### 3. Within-subjects analysis\n",
    "\n",
    "Considers a word to be more positive when the participants had themselves selected that word as more positively-valenced in Survey 1"
   ]
  },
  {
   "cell_type": "markdown",
   "metadata": {},
   "source": [
    "#### Participant info"
   ]
  },
  {
   "cell_type": "code",
   "execution_count": 43,
   "metadata": {},
   "outputs": [
    {
     "data": {
      "text/plain": [
       "135"
      ]
     },
     "execution_count": 43,
     "metadata": {},
     "output_type": "execute_result"
    }
   ],
   "source": [
    "genderInnerJoinValence = gender.loc[gender.index.isin(valence.index)]\n",
    "len(genderInnerJoinValence)"
   ]
  },
  {
   "cell_type": "code",
   "execution_count": 44,
   "metadata": {},
   "outputs": [
    {
     "name": "stdout",
     "output_type": "stream",
     "text": [
      "Age: 23.5714285714 (SE = 0.869527941928)\n",
      "Gender: [('Female', 91)]\n"
     ]
    }
   ],
   "source": [
    "demographic_info(genderInnerJoinValence.loc[genderInnerJoinValence.ident == \"FEMALE\"])"
   ]
  },
  {
   "cell_type": "code",
   "execution_count": 45,
   "metadata": {},
   "outputs": [
    {
     "name": "stdout",
     "output_type": "stream",
     "text": [
      "Age: 25.1818181818 (SE = 1.58223245529)\n",
      "Gender: [('Male', 44)]\n"
     ]
    }
   ],
   "source": [
    "demographic_info(genderInnerJoinValence.loc[genderInnerJoinValence.ident == \"MALE\"])"
   ]
  },
  {
   "cell_type": "code",
   "execution_count": 46,
   "metadata": {},
   "outputs": [
    {
     "data": {
      "text/plain": [
       "(21, 54, 23, 37)"
      ]
     },
     "execution_count": 46,
     "metadata": {},
     "output_type": "execute_result"
    }
   ],
   "source": [
    "len(genderInnerJoinValence.loc[(genderInnerJoinValence.Condition == \"MALE\") & (genderInnerJoinValence.ident == \"MALE\")]), \\\n",
    "len(genderInnerJoinValence.loc[(genderInnerJoinValence.Condition == \"MALE\") & (genderInnerJoinValence.ident == \"FEMALE\")]), \\\n",
    "len(genderInnerJoinValence.loc[(genderInnerJoinValence.Condition == \"FEMALE\") & (genderInnerJoinValence.ident == \"MALE\")]), \\\n",
    "len(genderInnerJoinValence.loc[(genderInnerJoinValence.Condition == \"FEMALE\") & (genderInnerJoinValence.ident == \"FEMALE\")])"
   ]
  },
  {
   "cell_type": "markdown",
   "metadata": {},
   "source": [
    "#### Logistic regression"
   ]
  },
  {
   "cell_type": "code",
   "execution_count": 47,
   "metadata": {},
   "outputs": [],
   "source": [
    "# Pre-registered: \"The within-subject analyses would be run\n",
    "# both for items within each pre-specified valence category\n",
    "# (25 positive items, 25 negative items and 25 neutral\n",
    "# items), and using all 75 non-distractor items.\"\n",
    "#\n",
    "# Change the ixs_ variable below to restrict the subset of\n",
    "# stims used for analysis\n",
    "ixs_ = np.arange(100, 125) # Positive items\n",
    "ixs_ = np.arange(125, 150) # Negative items\n",
    "ixs_ = np.arange(150, 175) # Neutral items\n",
    "ixs_ = np.arange(100, 175) # Positive, negative and neutral\n",
    "# items"
   ]
  },
  {
   "cell_type": "code",
   "execution_count": 48,
   "metadata": {},
   "outputs": [],
   "source": [
    "gdummied_ws, Y = dummy(gender, \n",
    "                       classes = [ \"MALE\", \"FEMALE\" ], \n",
    "                       within = True, \n",
    "                       ixs = ixs_)\n",
    "X, Y = df_to_matrix(gdummied_ws, Y, \n",
    "                    columns = { 0: \"id\", 1: \"condition\", \n",
    "                                2: (0,1), 3: \"order\" }, \n",
    "                    ixs = ixs_)"
   ]
  },
  {
   "cell_type": "code",
   "execution_count": 49,
   "metadata": {},
   "outputs": [
    {
     "name": "stdout",
     "output_type": "stream",
     "text": [
      "[0.         0.         0.02428076 0.        ]\n"
     ]
    },
    {
     "data": {
      "text/plain": [
       "0.5236100053163959"
      ]
     },
     "execution_count": 49,
     "metadata": {},
     "output_type": "execute_result"
    }
   ],
   "source": [
    "logit = SparseLR(Y, X); print logit.coef[:4]; logit.auc"
   ]
  },
  {
   "cell_type": "markdown",
   "metadata": {},
   "source": [
    "#### t-tests"
   ]
  },
  {
   "cell_type": "code",
   "execution_count": 50,
   "metadata": {},
   "outputs": [],
   "source": [
    "gsummary_ws = summarize(gdummied_ws, ixs_)"
   ]
  },
  {
   "cell_type": "markdown",
   "metadata": {},
   "source": [
    "For participants in the male condition, the difference in means mean(% positive words chosen amongst males) - mean(% positive words chosen amongst females) > 0."
   ]
  },
  {
   "cell_type": "code",
   "execution_count": 51,
   "metadata": {},
   "outputs": [
    {
     "data": {
      "text/plain": [
       "(0.2423521225440973, 0.40507171508210915, 30.241311563158497)"
      ]
     },
     "execution_count": 51,
     "metadata": {},
     "output_type": "execute_result"
    }
   ],
   "source": [
    "a = gsummary_ws.loc[(gsummary_ws[\"Condition\"] == 1) & (gsummary_ws[\"ident\"] == 1)][\"p\"]\n",
    "b = gsummary_ws.loc[(gsummary_ws[\"Condition\"] == 1) & (gsummary_ws[\"ident\"] == 0)][\"p\"]\n",
    "one_sided_ttest(a, b)"
   ]
  },
  {
   "cell_type": "markdown",
   "metadata": {},
   "source": [
    "For participants in the female condition, the difference in means mean(% positive words chosen amongst females) - mean(% positive words chosen amongst males) > 0."
   ]
  },
  {
   "cell_type": "code",
   "execution_count": 52,
   "metadata": {},
   "outputs": [
    {
     "data": {
      "text/plain": [
       "(2.304410814138132, 0.013409988019385932, 37.598218286572525)"
      ]
     },
     "execution_count": 52,
     "metadata": {},
     "output_type": "execute_result"
    }
   ],
   "source": [
    "a = gsummary_ws.loc[(gsummary_ws[\"Condition\"] == 0) & (gsummary_ws[\"ident\"] == 0)][\"p\"]\n",
    "b = gsummary_ws.loc[(gsummary_ws[\"Condition\"] == 0) & (gsummary_ws[\"ident\"] == 1)][\"p\"]\n",
    "one_sided_ttest(a, b)"
   ]
  },
  {
   "cell_type": "markdown",
   "metadata": {},
   "source": [
    "The difference in means mean(% positive words chosen amongst those whose condition matched their gender identity) - mean(% positive words chosen amongst those whose condition didn't match their gender identity) > 0"
   ]
  },
  {
   "cell_type": "code",
   "execution_count": 53,
   "metadata": {},
   "outputs": [],
   "source": [
    "a = gsummary_ws.loc[gsummary_ws[\"Condition\"] == gsummary_ws[\"ident\"]][\"p\"]\n",
    "b = gsummary_ws.loc[gsummary_ws[\"Condition\"] != gsummary_ws[\"ident\"]][\"p\"][~np.isnan(gsummary_ws.loc[gsummary_ws[\"Condition\"] != gsummary_ws[\"ident\"]][\"p\"])]"
   ]
  },
  {
   "cell_type": "code",
   "execution_count": 54,
   "metadata": {},
   "outputs": [
    {
     "data": {
      "text/plain": [
       "(0.5731461876009749, 0.018095610520860856)"
      ]
     },
     "execution_count": 54,
     "metadata": {},
     "output_type": "execute_result"
    }
   ],
   "source": [
    "np.mean(a), stats.sem(a)"
   ]
  },
  {
   "cell_type": "code",
   "execution_count": 55,
   "metadata": {},
   "outputs": [
    {
     "data": {
      "text/plain": [
       "(0.5205808485248917, 0.014891747193851126)"
      ]
     },
     "execution_count": 55,
     "metadata": {},
     "output_type": "execute_result"
    }
   ],
   "source": [
    "np.mean(b), stats.sem(b)"
   ]
  },
  {
   "cell_type": "code",
   "execution_count": 56,
   "metadata": {},
   "outputs": [
    {
     "data": {
      "text/plain": [
       "(2.2429943236336713, 0.013288259844192529, 131.0486954062288)"
      ]
     },
     "execution_count": 56,
     "metadata": {},
     "output_type": "execute_result"
    }
   ],
   "source": [
    "dsw_a = sms.DescrStatsW(a)\n",
    "dsw_b = sms.DescrStatsW(b)\n",
    "cm = sms.CompareMeans(dsw_a, dsw_b)\n",
    "cm.ttest_ind(usevar=\"unequal\", alternative = \"larger\")"
   ]
  },
  {
   "cell_type": "code",
   "execution_count": 57,
   "metadata": {},
   "outputs": [
    {
     "name": "stdout",
     "output_type": "stream",
     "text": [
      "(0.052565339076083184, 0.005694655078161283, 0.09943602307400509)\n"
     ]
    }
   ],
   "source": [
    "delta = dsw_a.mean - dsw_b.mean\n",
    "se_delta = cm.std_meandiff_separatevar\n",
    "print(delta, delta - 2*se_delta, delta + 2*se_delta)"
   ]
  }
 ],
 "metadata": {
  "kernelspec": {
   "display_name": "lop_env",
   "language": "python",
   "name": "lop_env"
  },
  "language_info": {
   "codemirror_mode": {
    "name": "ipython",
    "version": 2
   },
   "file_extension": ".py",
   "mimetype": "text/x-python",
   "name": "python",
   "nbconvert_exporter": "python",
   "pygments_lexer": "ipython2",
   "version": "2.7.17"
  }
 },
 "nbformat": 4,
 "nbformat_minor": 4
}
