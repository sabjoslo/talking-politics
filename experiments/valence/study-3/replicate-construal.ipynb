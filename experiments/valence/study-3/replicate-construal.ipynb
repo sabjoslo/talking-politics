{
 "cells": [
  {
   "cell_type": "markdown",
   "metadata": {},
   "source": [
    "Analysis of data from Construal Survey (testing whether plural words are perceived as more abstract than their singular counterparts)."
   ]
  },
  {
   "cell_type": "code",
   "execution_count": 1,
   "metadata": {},
   "outputs": [],
   "source": [
    "import warnings\n",
    "warnings.filterwarnings('ignore')"
   ]
  },
  {
   "cell_type": "code",
   "execution_count": 2,
   "metadata": {},
   "outputs": [],
   "source": [
    "from __future__ import division\n",
    "%matplotlib inline\n",
    "import matplotlib.pyplot as plt\n",
    "import numpy as np\n",
    "import pandas as pd\n",
    "import statsmodels.stats.api as sms\n",
    "from pyspan.config import *\n",
    "from pyspan.plurals.analysis import *\n",
    "assert mturk"
   ]
  },
  {
   "cell_type": "code",
   "execution_count": 3,
   "metadata": {},
   "outputs": [],
   "source": [
    "# Comment to include participants who failed the attention check\n",
    "cl = cl.loc[cl.atc_passed]"
   ]
  },
  {
   "cell_type": "code",
   "execution_count": 4,
   "metadata": {},
   "outputs": [
    {
     "data": {
      "text/plain": [
       "CONCRETE    149\n",
       "ABSTRACT    131\n",
       "Name: Condition, dtype: int64"
      ]
     },
     "execution_count": 4,
     "metadata": {},
     "output_type": "execute_result"
    }
   ],
   "source": [
    "cl.Condition.value_counts()"
   ]
  },
  {
   "cell_type": "markdown",
   "metadata": {},
   "source": [
    "## Logistic regression"
   ]
  },
  {
   "cell_type": "markdown",
   "metadata": {},
   "source": [
    "Selection of plural ~ Condition + Dummy indicating whether or not this was the first survey the participant took (including participant-level effects)"
   ]
  },
  {
   "cell_type": "markdown",
   "metadata": {},
   "source": [
    "We will commit to throwing out all data from the construal level survey by participants who did not take the survey first if the order dummy has a non-zero coefficient."
   ]
  },
  {
   "cell_type": "code",
   "execution_count": 5,
   "metadata": {},
   "outputs": [],
   "source": [
    "cdummied, Y = dummy(cl, sets = np.stack((words[\"large\"].values,\n",
    "                                         words[\"small\"].values)),\n",
    "                    classes = [ \"ABSTRACT\", \"CONCRETE\" ])\n",
    "X, Y = df_to_matrix(cdummied, Y, \n",
    "                    columns = { 0: \"condition\", \n",
    "                                1: \"order\" })"
   ]
  },
  {
   "cell_type": "code",
   "execution_count": 6,
   "metadata": {},
   "outputs": [
    {
     "name": "stdout",
     "output_type": "stream",
     "text": [
      "[0.55565445 0.        ]\n"
     ]
    },
    {
     "data": {
      "text/plain": [
       "0.6123788019308914"
      ]
     },
     "execution_count": 6,
     "metadata": {},
     "output_type": "execute_result"
    }
   ],
   "source": [
    "logit = SparseLR(Y, X); print logit.coef[:2]; logit.auc"
   ]
  },
  {
   "cell_type": "markdown",
   "metadata": {},
   "source": [
    "## t-tests"
   ]
  },
  {
   "cell_type": "markdown",
   "metadata": {},
   "source": [
    "We predict that participants in the ABSTRACT condition are more likely to select the pluralized form of the item than participants in the CONCRETE condition."
   ]
  },
  {
   "cell_type": "code",
   "execution_count": 7,
   "metadata": {},
   "outputs": [],
   "source": [
    "csummary = cl[[\"Condition\"]]\n",
    "ixs = (words.index[:30] + 100).values\n",
    "dat = cl[ixs].values\n",
    "props = np.apply_along_axis(get_prop, 1, dat, \n",
    "                            words[\"large\"], \n",
    "                            words[\"small\"])\n",
    "csummary[\"ppl\"] = props\n",
    "assert csummary.values.shape == (len(cl), 2)"
   ]
  },
  {
   "cell_type": "code",
   "execution_count": 8,
   "metadata": {},
   "outputs": [],
   "source": [
    "a = csummary.loc[csummary[\"Condition\"] == \"ABSTRACT\"][\"ppl\"].values\n",
    "b = csummary.loc[csummary[\"Condition\"] == \"CONCRETE\"][\"ppl\"].values"
   ]
  },
  {
   "cell_type": "code",
   "execution_count": 9,
   "metadata": {},
   "outputs": [
    {
     "data": {
      "text/plain": [
       "(0.6653812406773713, 0.030338676631516532)"
      ]
     },
     "execution_count": 9,
     "metadata": {},
     "output_type": "execute_result"
    }
   ],
   "source": [
    "np.mean(a), stats.sem(a)"
   ]
  },
  {
   "cell_type": "code",
   "execution_count": 10,
   "metadata": {},
   "outputs": [
    {
     "data": {
      "text/plain": [
       "(0.40941942206695736, 0.03027613208203545)"
      ]
     },
     "execution_count": 10,
     "metadata": {},
     "output_type": "execute_result"
    }
   ],
   "source": [
    "np.mean(b), stats.sem(b)"
   ]
  },
  {
   "cell_type": "code",
   "execution_count": 11,
   "metadata": {},
   "outputs": [
    {
     "data": {
      "text/plain": [
       "(5.971881959396195, 3.5894357607054466e-09, 276.75939314447265)"
      ]
     },
     "execution_count": 11,
     "metadata": {},
     "output_type": "execute_result"
    }
   ],
   "source": [
    "dsw_a = sms.DescrStatsW(a)\n",
    "dsw_b = sms.DescrStatsW(b)\n",
    "cm = sms.CompareMeans(dsw_a, dsw_b)\n",
    "cm.ttest_ind(usevar=\"unequal\", alternative=\"larger\")"
   ]
  },
  {
   "cell_type": "code",
   "execution_count": 12,
   "metadata": {},
   "outputs": [
    {
     "name": "stdout",
     "output_type": "stream",
     "text": [
      "(0.2559618186104137, 0.17023948841342051, 0.34168414880740694)\n"
     ]
    }
   ],
   "source": [
    "delta = dsw_a.mean - dsw_b.mean\n",
    "se_delta = cm.std_meandiff_separatevar\n",
    "print(delta, delta - 2*se_delta, delta + 2*se_delta)"
   ]
  }
 ],
 "metadata": {
  "kernelspec": {
   "display_name": "lop_env",
   "language": "python",
   "name": "lop_env"
  },
  "language_info": {
   "codemirror_mode": {
    "name": "ipython",
    "version": 2
   },
   "file_extension": ".py",
   "mimetype": "text/x-python",
   "name": "python",
   "nbconvert_exporter": "python",
   "pygments_lexer": "ipython2",
   "version": "2.7.17"
  }
 },
 "nbformat": 4,
 "nbformat_minor": 4
}
