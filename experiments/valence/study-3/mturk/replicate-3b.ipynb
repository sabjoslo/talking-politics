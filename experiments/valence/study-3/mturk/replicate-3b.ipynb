{
 "cells": [
  {
   "cell_type": "markdown",
   "metadata": {},
   "source": [
    "Analyses pre-registered for MTurk version of study 3b (reported in the submitted manuscript as study 3b).\n",
    "\n",
    "Pre-registration: https://osf.io/de935"
   ]
  },
  {
   "cell_type": "code",
   "execution_count": 26,
   "metadata": {},
   "outputs": [],
   "source": [
    "from __future__ import division\n",
    "%matplotlib inline\n",
    "import matplotlib.pyplot as plt\n",
    "import numpy as np\n",
    "import pandas as pd\n",
    "import statsmodels.stats.api as sms\n",
    "from pyspan.config import *\n",
    "from pyspan.plurals.analysis import *\n",
    "assert mturk"
   ]
  },
  {
   "cell_type": "markdown",
   "metadata": {},
   "source": [
    "# Demographics"
   ]
  },
  {
   "cell_type": "code",
   "execution_count": 2,
   "metadata": {},
   "outputs": [
    {
     "name": "stdout",
     "output_type": "stream",
     "text": [
      "145 135\n"
     ]
    }
   ],
   "source": [
    "print len(politics.loc[politics.ident == \"REPUBLICAN\"]), \\\n",
    "      len(politics.loc[politics.ident == \"DEMOCRAT\"])"
   ]
  },
  {
   "cell_type": "code",
   "execution_count": 3,
   "metadata": {},
   "outputs": [
    {
     "name": "stdout",
     "output_type": "stream",
     "text": [
      "Age: 41.8206896552 (SE = 0.988907296148)\n",
      "Gender: [('Female', 86), ('Male', 59)]\n"
     ]
    }
   ],
   "source": [
    "demographic_info(politics.loc[politics.ident == \"REPUBLICAN\"])"
   ]
  },
  {
   "cell_type": "code",
   "execution_count": 4,
   "metadata": {},
   "outputs": [
    {
     "name": "stdout",
     "output_type": "stream",
     "text": [
      "Age: 36.5481481481 (SE = 0.943027042055)\n",
      "Gender: [('Female', 73), ('Male', 61), ('Other (please specify)', 1)]\n"
     ]
    }
   ],
   "source": [
    "demographic_info(politics.loc[politics.ident == \"DEMOCRAT\"])"
   ]
  },
  {
   "cell_type": "markdown",
   "metadata": {},
   "source": [
    "# Main result"
   ]
  },
  {
   "cell_type": "markdown",
   "metadata": {},
   "source": [
    "### Between subjects"
   ]
  },
  {
   "cell_type": "markdown",
   "metadata": {},
   "source": [
    "#### 60% item selection threshold"
   ]
  },
  {
   "cell_type": "markdown",
   "metadata": {},
   "source": [
    "##### Logistic regression"
   ]
  },
  {
   "cell_type": "markdown",
   "metadata": {},
   "source": [
    "Selection of positive word ~ Participant's political affiliation + Condition + Participant's political affiliation * Condition + Dummy indicating whether or not this was the first survey the participant took (including participant-level effects)"
   ]
  },
  {
   "cell_type": "code",
   "execution_count": 5,
   "metadata": {},
   "outputs": [],
   "source": [
    "pdummied, Y = dummy(politics, [ \"REPUBLICAN\", \"DEMOCRAT\" ],\n",
    "                    np.stack((positive60, negative60)), \n",
    "                    ixs = (words.index + 100).values)\n",
    "X, Y = df_to_matrix(pdummied, Y, ixs = (words.index + 100).values,\n",
    "                    columns = { 0: \"id\", 1: \"condition\", 2: (0,1), \n",
    "                                3: \"order\" })"
   ]
  },
  {
   "cell_type": "code",
   "execution_count": 6,
   "metadata": {},
   "outputs": [
    {
     "name": "stderr",
     "output_type": "stream",
     "text": [
      "/Users/sabinasloman/.pyenv/versions/2.7.17/envs/lop_env/lib/python2.7/site-packages/sklearn/model_selection/_split.py:2052: FutureWarning: You should specify a value for 'cv' instead of relying on the default value. The default value will change from 3 to 5 in version 0.22.\n",
      "  warnings.warn(CV_WARNING, FutureWarning)\n"
     ]
    },
    {
     "name": "stdout",
     "output_type": "stream",
     "text": [
      "[0.         0.         0.38625545 0.        ]\n"
     ]
    },
    {
     "data": {
      "text/plain": [
       "0.6131082248262879"
      ]
     },
     "execution_count": 6,
     "metadata": {},
     "output_type": "execute_result"
    }
   ],
   "source": [
    "logit = SparseLR(Y, X); print logit.coef[:4]; logit.auc"
   ]
  },
  {
   "cell_type": "markdown",
   "metadata": {},
   "source": [
    "##### t-tests"
   ]
  },
  {
   "cell_type": "code",
   "execution_count": 7,
   "metadata": {},
   "outputs": [
    {
     "name": "stderr",
     "output_type": "stream",
     "text": [
      "/Users/sabinasloman/.pyenv/versions/2.7.17/envs/lop_env/lib/python2.7/site-packages/ipykernel_launcher.py:5: SettingWithCopyWarning: \n",
      "A value is trying to be set on a copy of a slice from a DataFrame.\n",
      "Try using .loc[row_indexer,col_indexer] = value instead\n",
      "\n",
      "See the caveats in the documentation: http://pandas.pydata.org/pandas-docs/stable/indexing.html#indexing-view-versus-copy\n",
      "  \"\"\"\n"
     ]
    }
   ],
   "source": [
    "psummary = politics[[\"Condition\", \"ident\"]]\n",
    "dat = politics[(words.index+100).values].values\n",
    "props = np.apply_along_axis(get_prop, 1, dat, positive60, \n",
    "                            negative60)\n",
    "psummary[\"ppos\"] = props\n",
    "assert psummary.values.shape == (len(politics), 3)"
   ]
  },
  {
   "cell_type": "markdown",
   "metadata": {},
   "source": [
    "For participants in the Democrat condition, the difference in means mean(% positive words chosen amongst Democrats) - mean(% positive words chosen amongst Republicans) > 0."
   ]
  },
  {
   "cell_type": "code",
   "execution_count": 8,
   "metadata": {},
   "outputs": [
    {
     "data": {
      "text/plain": [
       "Ttest_indResult(statistic=7.085419454446693, pvalue=6.227495928028679e-11)"
      ]
     },
     "execution_count": 8,
     "metadata": {},
     "output_type": "execute_result"
    }
   ],
   "source": [
    "a = psummary.loc[(psummary[\"Condition\"] == \"DEMOCRAT\") & (psummary[\"ident\"] == \"DEMOCRAT\")][\"ppos\"]\n",
    "b = psummary.loc[(psummary[\"Condition\"] == \"DEMOCRAT\") & (psummary[\"ident\"] == \"REPUBLICAN\")][\"ppos\"]\n",
    "stats.ttest_ind(a, b, equal_var = False)"
   ]
  },
  {
   "cell_type": "markdown",
   "metadata": {},
   "source": [
    "For participants in the Republican condition, the difference in means mean(% positive words chosen amongst Republicans) - mean(% positive words chosen amongst Democrats) > 0."
   ]
  },
  {
   "cell_type": "code",
   "execution_count": 9,
   "metadata": {},
   "outputs": [
    {
     "data": {
      "text/plain": [
       "Ttest_indResult(statistic=7.363518171515539, pvalue=1.7718925447246454e-11)"
      ]
     },
     "execution_count": 9,
     "metadata": {},
     "output_type": "execute_result"
    }
   ],
   "source": [
    "a = psummary.loc[(psummary[\"Condition\"] == \"REPUBLICAN\") & (psummary[\"ident\"] == \"REPUBLICAN\")][\"ppos\"].values\n",
    "b = psummary.loc[(psummary[\"Condition\"] == \"REPUBLICAN\") & (psummary[\"ident\"] == \"DEMOCRAT\")][\"ppos\"].values\n",
    "stats.ttest_ind(a, b, equal_var = False)"
   ]
  },
  {
   "cell_type": "markdown",
   "metadata": {},
   "source": [
    "The difference in means mean(% positive words chosen amongst those whose condition matched their political identity) - mean(% positive words chosen amongst those whose condition didn't match their political identity) > 0"
   ]
  },
  {
   "cell_type": "code",
   "execution_count": 10,
   "metadata": {},
   "outputs": [
    {
     "data": {
      "text/plain": [
       "Ttest_indResult(statistic=10.193431737375185, pvalue=6.873022204737116e-21)"
      ]
     },
     "execution_count": 10,
     "metadata": {},
     "output_type": "execute_result"
    }
   ],
   "source": [
    "a = psummary.loc[psummary[\"Condition\"] == psummary[\"ident\"]][\"ppos\"].values\n",
    "b = psummary.loc[psummary[\"Condition\"] != psummary[\"ident\"]][\"ppos\"].values\n",
    "stats.ttest_ind(a, b, equal_var = False)"
   ]
  },
  {
   "cell_type": "markdown",
   "metadata": {},
   "source": [
    "#### 80% item selection threshold"
   ]
  },
  {
   "cell_type": "markdown",
   "metadata": {},
   "source": [
    "##### Logistic regression"
   ]
  },
  {
   "cell_type": "code",
   "execution_count": 11,
   "metadata": {},
   "outputs": [],
   "source": [
    "pdummied, Y = dummy(politics, [ \"REPUBLICAN\", \"DEMOCRAT\" ],\n",
    "                    np.stack((positive80, negative80)), \n",
    "                    ixs = (words.index + 100).values)\n",
    "X, Y = df_to_matrix(pdummied, Y, ixs = (words.index + 100).values,\n",
    "                    columns = { 0: \"id\", 1: \"condition\", 2: (0,1), \n",
    "                                3: \"order\" })"
   ]
  },
  {
   "cell_type": "code",
   "execution_count": 12,
   "metadata": {},
   "outputs": [
    {
     "name": "stdout",
     "output_type": "stream",
     "text": [
      "[0.         0.         0.42830992 0.        ]\n"
     ]
    },
    {
     "data": {
      "text/plain": [
       "0.643413392144372"
      ]
     },
     "execution_count": 12,
     "metadata": {},
     "output_type": "execute_result"
    }
   ],
   "source": [
    "logit = SparseLR(Y, X); print logit.coef[:4]; logit.auc"
   ]
  },
  {
   "cell_type": "markdown",
   "metadata": {},
   "source": [
    "##### t-tests"
   ]
  },
  {
   "cell_type": "code",
   "execution_count": 13,
   "metadata": {},
   "outputs": [
    {
     "name": "stderr",
     "output_type": "stream",
     "text": [
      "/Users/sabinasloman/.pyenv/versions/2.7.17/envs/lop_env/lib/python2.7/site-packages/ipykernel_launcher.py:5: SettingWithCopyWarning: \n",
      "A value is trying to be set on a copy of a slice from a DataFrame.\n",
      "Try using .loc[row_indexer,col_indexer] = value instead\n",
      "\n",
      "See the caveats in the documentation: http://pandas.pydata.org/pandas-docs/stable/indexing.html#indexing-view-versus-copy\n",
      "  \"\"\"\n"
     ]
    }
   ],
   "source": [
    "psummary = politics[[\"Condition\", \"ident\"]]\n",
    "dat = politics[(words.index+100).values].values\n",
    "props = np.apply_along_axis(get_prop, 1, dat, positive80, \n",
    "                            negative80)\n",
    "psummary[\"ppos\"] = props\n",
    "assert psummary.values.shape == (len(politics), 3)"
   ]
  },
  {
   "cell_type": "markdown",
   "metadata": {},
   "source": [
    "For participants in the Democrat condition, the difference in means mean(% positive words chosen amongst Democrats) - mean(% positive words chosen amongst Republicans) > 0."
   ]
  },
  {
   "cell_type": "code",
   "execution_count": 14,
   "metadata": {},
   "outputs": [
    {
     "data": {
      "text/plain": [
       "Ttest_indResult(statistic=9.12168735747319, pvalue=8.120358139256662e-16)"
      ]
     },
     "execution_count": 14,
     "metadata": {},
     "output_type": "execute_result"
    }
   ],
   "source": [
    "a = psummary.loc[(psummary[\"Condition\"] == \"DEMOCRAT\") & (psummary[\"ident\"] == \"DEMOCRAT\")][\"ppos\"].values\n",
    "b = psummary.loc[(psummary[\"Condition\"] == \"DEMOCRAT\") & (psummary[\"ident\"] == \"REPUBLICAN\")][\"ppos\"].values\n",
    "stats.ttest_ind(a, b, equal_var = False)"
   ]
  },
  {
   "cell_type": "markdown",
   "metadata": {},
   "source": [
    "For participants in the Republican condition, the difference in means mean(% positive words chosen amongst Republicans) - mean(% positive words chosen amongst Democrats) > 0."
   ]
  },
  {
   "cell_type": "code",
   "execution_count": 15,
   "metadata": {},
   "outputs": [
    {
     "data": {
      "text/plain": [
       "Ttest_indResult(statistic=7.722958007346269, pvalue=2.4314774116835523e-12)"
      ]
     },
     "execution_count": 15,
     "metadata": {},
     "output_type": "execute_result"
    }
   ],
   "source": [
    "a = psummary.loc[(psummary[\"Condition\"] == \"REPUBLICAN\") & (psummary[\"ident\"] == \"REPUBLICAN\")][\"ppos\"].values\n",
    "b = psummary.loc[(psummary[\"Condition\"] == \"REPUBLICAN\") & (psummary[\"ident\"] == \"DEMOCRAT\")][\"ppos\"].values\n",
    "stats.ttest_ind(a, b, equal_var = False)"
   ]
  },
  {
   "cell_type": "markdown",
   "metadata": {},
   "source": [
    "The difference in means mean(% positive words chosen amongst those whose condition matched their political identity) - mean(% positive words chosen amongst those whose condition didn't match their political identity) > 0"
   ]
  },
  {
   "cell_type": "code",
   "execution_count": 16,
   "metadata": {},
   "outputs": [
    {
     "data": {
      "text/plain": [
       "Ttest_indResult(statistic=11.838367295561595, pvalue=2.372498696147569e-26)"
      ]
     },
     "execution_count": 16,
     "metadata": {},
     "output_type": "execute_result"
    }
   ],
   "source": [
    "a = psummary.loc[psummary[\"Condition\"] == psummary[\"ident\"]][\"ppos\"].values\n",
    "b = psummary.loc[psummary[\"Condition\"] != psummary[\"ident\"]][\"ppos\"].values\n",
    "stats.ttest_ind(a, b, equal_var = False)"
   ]
  },
  {
   "cell_type": "markdown",
   "metadata": {},
   "source": [
    "### Within-subjects"
   ]
  },
  {
   "cell_type": "markdown",
   "metadata": {},
   "source": [
    "#### Logistic regression"
   ]
  },
  {
   "cell_type": "code",
   "execution_count": 17,
   "metadata": {},
   "outputs": [],
   "source": [
    "# Positive\n",
    "ixs = (words.index[:10] + 100).values\n",
    "# Negative\n",
    "ixs = (words.index[10:20] + 100).values\n",
    "# Neutral\n",
    "ixs = (words.index[20:30] + 100).values\n",
    "# All non-distractor items\n",
    "ixs = (words.index[:30] + 100).values"
   ]
  },
  {
   "cell_type": "code",
   "execution_count": 18,
   "metadata": {},
   "outputs": [],
   "source": [
    "pdummied, Y = dummy(politics, [ \"REPUBLICAN\", \"DEMOCRAT\" ],\n",
    "                    within = True, \n",
    "                    ixs = ixs)\n",
    "X, Y = df_to_matrix(pdummied, Y, ixs = ixs,\n",
    "                    columns = { 0: \"id\", 1: \"condition\", 2: (0,1), \n",
    "                                3: \"order\"\n",
    "                              })"
   ]
  },
  {
   "cell_type": "code",
   "execution_count": 19,
   "metadata": {},
   "outputs": [
    {
     "name": "stdout",
     "output_type": "stream",
     "text": [
      "[0.        0.        0.3268107 0.       ]\n"
     ]
    },
    {
     "data": {
      "text/plain": [
       "0.60170067183874"
      ]
     },
     "execution_count": 19,
     "metadata": {},
     "output_type": "execute_result"
    }
   ],
   "source": [
    "logit = SparseLR(Y, X); print logit.coef[:4]; logit.auc"
   ]
  },
  {
   "cell_type": "markdown",
   "metadata": {},
   "source": [
    "#### t-tests"
   ]
  },
  {
   "cell_type": "code",
   "execution_count": 20,
   "metadata": {},
   "outputs": [
    {
     "name": "stderr",
     "output_type": "stream",
     "text": [
      "/Users/sabinasloman/Box/LoP/pyspan/pyspan/plurals/analysis.py:29: SettingWithCopyWarning: \n",
      "A value is trying to be set on a copy of a slice from a DataFrame.\n",
      "Try using .loc[row_indexer,col_indexer] = value instead\n",
      "\n",
      "See the caveats in the documentation: http://pandas.pydata.org/pandas-docs/stable/indexing.html#indexing-view-versus-copy\n",
      "  summary[\"p\"] = props\n"
     ]
    }
   ],
   "source": [
    "psummary_ws = summarize(pdummied, ixs)"
   ]
  },
  {
   "cell_type": "markdown",
   "metadata": {},
   "source": [
    "For participants in the Republican condition, the difference in means mean(% positive words chosen amongst Republicans) - mean(% positive words chosen amongst Democrats) > 0."
   ]
  },
  {
   "cell_type": "code",
   "execution_count": 21,
   "metadata": {},
   "outputs": [
    {
     "data": {
      "text/plain": [
       "Ttest_indResult(statistic=6.918258148863724, pvalue=1.8129327803258856e-10)"
      ]
     },
     "execution_count": 21,
     "metadata": {},
     "output_type": "execute_result"
    }
   ],
   "source": [
    "a = psummary_ws.loc[(psummary_ws[\"Condition\"] == 1) & (psummary_ws[\"ident\"] == 1)][\"p\"].values\n",
    "b = psummary_ws.loc[(psummary_ws[\"Condition\"] == 1) & (psummary_ws[\"ident\"] == 0)][\"p\"].values\n",
    "stats.ttest_ind(a, b, equal_var = False)"
   ]
  },
  {
   "cell_type": "markdown",
   "metadata": {},
   "source": [
    "For participants in the Democrat condition, the difference in means mean(% positive words chosen amongst Democrats) - mean(% positive words chosen amongst Republicans) > 0."
   ]
  },
  {
   "cell_type": "code",
   "execution_count": 22,
   "metadata": {},
   "outputs": [
    {
     "data": {
      "text/plain": [
       "Ttest_indResult(statistic=5.211362095319887, pvalue=6.59335529783023e-07)"
      ]
     },
     "execution_count": 22,
     "metadata": {},
     "output_type": "execute_result"
    }
   ],
   "source": [
    "a = psummary_ws.loc[(psummary_ws[\"Condition\"] == 0) & (psummary_ws[\"ident\"] == 0)][\"p\"].values\n",
    "b = psummary_ws.loc[(psummary_ws[\"Condition\"] == 0) & (psummary_ws[\"ident\"] == 1)][\"p\"].values\n",
    "stats.ttest_ind(a, b, equal_var = False)"
   ]
  },
  {
   "cell_type": "markdown",
   "metadata": {},
   "source": [
    "The difference in means mean(% positive words chosen amongst those whose condition matched their political identity) - mean(% positive words chosen amongst those whose condition didn't match their political identity) > 0"
   ]
  },
  {
   "cell_type": "code",
   "execution_count": 23,
   "metadata": {},
   "outputs": [],
   "source": [
    "a = psummary_ws.loc[psummary_ws[\"Condition\"] == psummary_ws[\"ident\"]][\"p\"].values\n",
    "b = psummary_ws.loc[psummary_ws[\"Condition\"] != psummary_ws[\"ident\"]][\"p\"].values"
   ]
  },
  {
   "cell_type": "code",
   "execution_count": 24,
   "metadata": {},
   "outputs": [
    {
     "data": {
      "text/plain": [
       "(0.6331229272153547,\n",
       " 0.0169888389862318,\n",
       " 0.4305007953210964,\n",
       " 0.01664723471595297)"
      ]
     },
     "execution_count": 24,
     "metadata": {},
     "output_type": "execute_result"
    }
   ],
   "source": [
    "np.mean(a), stats.sem(a), np.mean(b), stats.sem(b)"
   ]
  },
  {
   "cell_type": "code",
   "execution_count": 27,
   "metadata": {},
   "outputs": [
    {
     "data": {
      "text/plain": [
       "(8.518716925967274, 5.192912115605651e-16, 277.66563153721523)"
      ]
     },
     "execution_count": 27,
     "metadata": {},
     "output_type": "execute_result"
    }
   ],
   "source": [
    "dsw_a = sms.DescrStatsW(a)\n",
    "dsw_b = sms.DescrStatsW(b)\n",
    "cm = sms.CompareMeans(dsw_a, dsw_b)\n",
    "cm.ttest_ind(usevar=\"unequal\", alternative = \"larger\")"
   ]
  },
  {
   "cell_type": "markdown",
   "metadata": {},
   "source": [
    "Calculate difference in means and a confidence region of +- 2 SEs."
   ]
  },
  {
   "cell_type": "code",
   "execution_count": 28,
   "metadata": {},
   "outputs": [
    {
     "name": "stdout",
     "output_type": "stream",
     "text": [
      "(0.20262213189425826, 0.15505108718056126, 0.25019317660795526)\n"
     ]
    }
   ],
   "source": [
    "delta = dsw_a.mean - dsw_b.mean\n",
    "se_delta = cm.std_meandiff_separatevar\n",
    "print(delta, delta - 2*se_delta, delta + 2*se_delta)"
   ]
  },
  {
   "cell_type": "markdown",
   "metadata": {},
   "source": [
    "## Figure 2b"
   ]
  },
  {
   "cell_type": "code",
   "execution_count": 29,
   "metadata": {},
   "outputs": [
    {
     "data": {
      "image/png": "[encoded data removed]",
      "text/plain": [
       "<Figure size 432x288 with 1 Axes>"
      ]
     },
     "metadata": {
      "needs_background": "light"
     },
     "output_type": "display_data"
    }
   ],
   "source": [
    "fig, ax = plt.subplots(1)\n",
    "x_dd = psummary_ws.loc[(psummary_ws[\"Condition\"] == 0) & (psummary_ws[\"ident\"] == 0)][\"p\"]\n",
    "x_dr = psummary_ws.loc[(psummary_ws[\"Condition\"] == 1) & (psummary_ws[\"ident\"] == 0)][\"p\"]\n",
    "x_rd = psummary_ws.loc[(psummary_ws[\"Condition\"] == 0) & (psummary_ws[\"ident\"] == 1)][\"p\"]\n",
    "x_rr = psummary_ws.loc[(psummary_ws[\"Condition\"] == 1) & (psummary_ws[\"ident\"] == 1)][\"p\"]\n",
    "ax.boxplot([ x_dd, x_dr, x_rd, x_rr ], whis = [5,95], sym = \"\")\n",
    "xlim = ax.get_xlim()\n",
    "ylim = ax.get_ylim()\n",
    "ax.set_xlim(*xlim)\n",
    "ax.set_ylim(0,1)\n",
    "ax.plot(xlim, [.5,.5], color = \"k\", linestyle = \"--\", linewidth = .5)\n",
    "ax.set_ylabel(\"Proportion positive words chosen\")\n",
    "ax.set_xticklabels([ \"Democrats (Democrat)\", \"Democrats (Republican)\",\n",
    "                     \"Republicans (Democrat)\", \n",
    "                     \"Republicans (Republican)\" ], rotation = 45)\n",
    "plt.tight_layout()"
   ]
  },
  {
   "cell_type": "markdown",
   "metadata": {},
   "source": [
    "# Study 3b revisited: Controlling for construal level"
   ]
  },
  {
   "cell_type": "markdown",
   "metadata": {},
   "source": [
    "##### t-tests"
   ]
  },
  {
   "cell_type": "markdown",
   "metadata": {},
   "source": [
    "Hypothesis: mean(% abstract words chosen amongst those whose condition matched their political identity) - mean(% concrete words chosen amongst those whose condition didn't match their political identity) < 0"
   ]
  },
  {
   "cell_type": "markdown",
   "metadata": {},
   "source": [
    "60\\% consensus threshold"
   ]
  },
  {
   "cell_type": "code",
   "execution_count": 30,
   "metadata": {},
   "outputs": [
    {
     "name": "stderr",
     "output_type": "stream",
     "text": [
      "/Users/sabinasloman/.pyenv/versions/2.7.17/envs/lop_env/lib/python2.7/site-packages/ipykernel_launcher.py:5: SettingWithCopyWarning: \n",
      "A value is trying to be set on a copy of a slice from a DataFrame.\n",
      "Try using .loc[row_indexer,col_indexer] = value instead\n",
      "\n",
      "See the caveats in the documentation: http://pandas.pydata.org/pandas-docs/stable/indexing.html#indexing-view-versus-copy\n",
      "  \"\"\"\n"
     ]
    }
   ],
   "source": [
    "psummary = politics[[\"Condition\", \"ident\"]]\n",
    "dat = politics[(words.index+100).values].values\n",
    "props = np.apply_along_axis(get_prop, 1, dat, abstract60, \n",
    "                            concrete60)\n",
    "psummary[\"ppos\"] = props\n",
    "assert psummary.values.shape == (len(politics), 3)"
   ]
  },
  {
   "cell_type": "code",
   "execution_count": 31,
   "metadata": {},
   "outputs": [
    {
     "data": {
      "text/plain": [
       "Ttest_indResult(statistic=-0.0895512052554193, pvalue=0.9287093387653393)"
      ]
     },
     "execution_count": 31,
     "metadata": {},
     "output_type": "execute_result"
    }
   ],
   "source": [
    "stats.ttest_ind(psummary.loc[psummary[\"Condition\"] == psummary[\"ident\"]][\"ppos\"],\n",
    "                psummary.loc[psummary[\"Condition\"] != psummary[\"ident\"]][\"ppos\"],\n",
    "                equal_var = False)"
   ]
  },
  {
   "cell_type": "markdown",
   "metadata": {},
   "source": [
    "Skip the 80\\% consensus threshold, because no words meet this threshold on judgments of construal level."
   ]
  },
  {
   "cell_type": "markdown",
   "metadata": {},
   "source": [
    "Within-subjects"
   ]
  },
  {
   "cell_type": "code",
   "execution_count": 32,
   "metadata": {},
   "outputs": [],
   "source": [
    "pdummied, Y = dummy(politics, [ \"REPUBLICAN\", \"DEMOCRAT\" ],\n",
    "                    within = True, \n",
    "                    ixs = (words.index + 100).values, df2 = cl,\n",
    "                    conditions = [ \"ABSTRACT\", \"CONCRETE\" ])\n",
    "psummary_ws = summarize(pdummied, (words.index+100).values)"
   ]
  },
  {
   "cell_type": "code",
   "execution_count": 33,
   "metadata": {},
   "outputs": [],
   "source": [
    "a = psummary_ws.loc[psummary_ws[\"Condition\"] != psummary_ws[\"ident\"]][\"p\"]\n",
    "b = psummary_ws.loc[psummary_ws[\"Condition\"] == psummary_ws[\"ident\"]][\"p\"]"
   ]
  },
  {
   "cell_type": "code",
   "execution_count": 34,
   "metadata": {},
   "outputs": [
    {
     "data": {
      "text/plain": [
       "(0.050565822192256464, 0.47985398660489686, 276.7544615708162)"
      ]
     },
     "execution_count": 34,
     "metadata": {},
     "output_type": "execute_result"
    }
   ],
   "source": [
    "dsw_a = sms.DescrStatsW(a)\n",
    "dsw_b = sms.DescrStatsW(b)\n",
    "cm = sms.CompareMeans(dsw_a, dsw_b)\n",
    "cm.ttest_ind(usevar=\"unequal\", alternative = \"larger\")"
   ]
  },
  {
   "cell_type": "markdown",
   "metadata": {},
   "source": [
    "Calculate the difference in means and a confidence region of +- 2 SEs."
   ]
  },
  {
   "cell_type": "code",
   "execution_count": 35,
   "metadata": {},
   "outputs": [
    {
     "name": "stdout",
     "output_type": "stream",
     "text": [
      "(0.001367304695454541, -0.05271288766277144, 0.055447497053680524)\n"
     ]
    }
   ],
   "source": [
    "delta = dsw_a.mean - dsw_b.mean\n",
    "se_delta = cm.std_meandiff_separatevar\n",
    "print(delta, delta - 2*se_delta, delta + 2*se_delta)"
   ]
  },
  {
   "cell_type": "markdown",
   "metadata": {},
   "source": [
    "##### Logistic regression"
   ]
  },
  {
   "cell_type": "markdown",
   "metadata": {},
   "source": [
    "Selection of positive word ~ Participant's political identity + Condition + Participant's political identity * Condition + Selection of abstract word + Participant's political identity * Condition * Selection of abstract word + Dummy indicating whether or not the participant took the politics survey before the valence survey (including participant-level effects)"
   ]
  },
  {
   "cell_type": "code",
   "execution_count": 34,
   "metadata": {},
   "outputs": [],
   "source": [
    "ixs = (words.index + 100).values\n",
    "assert np.array_equal(politics.index, valence.index)\n",
    "assert np.array_equal(valence.index, cl.index)\n",
    "pdummied, Y = dummy(politics, [ \"REPUBLICAN\", \"DEMOCRAT\" ],\n",
    "                    within = True, ixs = ixs)\n",
    "pdummied_cl, Y_cl = dummy(politics, [ \"REPUBLICAN\", \"DEMOCRAT\" ],\n",
    "                          within = True, ixs = ixs, df2 = cl, \n",
    "                          conditions = [\"ABSTRACT\", \"CONCRETE\"])\n",
    "vdummied, Y_v = dummy(valence, [\"POSITIVE\", \"NEGATIVE\"], within = True,\n",
    "                      ixs = ixs, df2 = cl,\n",
    "                      conditions = [\"ABSTRACT\", \"CONCRETE\"])"
   ]
  },
  {
   "cell_type": "code",
   "execution_count": 35,
   "metadata": {},
   "outputs": [],
   "source": [
    "X, Y = df_to_matrix(pdummied, Y, ixs = ixs,\n",
    "                    columns = { 0: \"id\", 1: \"condition\", 2: (0,1), \n",
    "                                3: (0, 0, lambda y, x: Y_cl), 4: (0, 0, lambda y, x: -1000),\n",
    "                                5: \"order\", \n",
    "                                6: (0, 0, lambda y, x: np.repeat(pdummied_cl[\"order\"], len(ixs))),\n",
    "                                7: (0, 0, lambda y, x: np.repeat(vdummied[\"order\"], len(ixs)))\n",
    "                              })"
   ]
  },
  {
   "cell_type": "code",
   "execution_count": 36,
   "metadata": {},
   "outputs": [],
   "source": [
    "X[X[:,0] == 0,0] = -1\n",
    "X[X[:,1] == 0,1] = -1\n",
    "X[X[:,3] == 0,3] = -1\n",
    "X[:,4] = X[:,0] * X[:,1] * X[:,3]"
   ]
  },
  {
   "cell_type": "code",
   "execution_count": 37,
   "metadata": {},
   "outputs": [
    {
     "name": "stdout",
     "output_type": "stream",
     "text": [
      "[0.         0.         0.33819066 0.01078587 0.         0.\n",
      " 0.03895514 0.        ] 0.5987671108693682 11031\n"
     ]
    }
   ],
   "source": [
    "logit = SparseLR(Y, X)\n",
    "print logit.coef[:8], logit.score, len(Y)"
   ]
  }
 ],
 "metadata": {
  "kernelspec": {
   "display_name": "Python 2",
   "language": "python",
   "name": "python2"
  },
  "language_info": {
   "codemirror_mode": {
    "name": "ipython",
    "version": 2
   },
   "file_extension": ".py",
   "mimetype": "text/x-python",
   "name": "python",
   "nbconvert_exporter": "python",
   "pygments_lexer": "ipython2",
   "version": "2.7.17"
  }
 },
 "nbformat": 4,
 "nbformat_minor": 2
}
