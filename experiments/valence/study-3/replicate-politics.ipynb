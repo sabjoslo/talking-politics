{
 "cells": [
  {
   "cell_type": "markdown",
   "metadata": {},
   "source": [
    "Analyses pre-registered for Politics Survey (testing the social valence bias).\n",
    "\n",
    "Pre-registration: https://osf.io/de935"
   ]
  },
  {
   "cell_type": "code",
   "execution_count": 1,
   "metadata": {},
   "outputs": [],
   "source": [
    "import warnings\n",
    "warnings.filterwarnings(\"ignore\")"
   ]
  },
  {
   "cell_type": "code",
   "execution_count": 2,
   "metadata": {},
   "outputs": [],
   "source": [
    "from __future__ import division\n",
    "%matplotlib inline\n",
    "%load_ext rpy2.ipython\n",
    "from matplotlib.patches import Patch\n",
    "import matplotlib.pyplot as plt\n",
    "import numpy as np\n",
    "import pandas as pd\n",
    "import statsmodels.stats.api as sms\n",
    "from pyspan.config import *\n",
    "from pyspan.plurals.analysis import *\n",
    "assert mturk"
   ]
  },
  {
   "cell_type": "code",
   "execution_count": 3,
   "metadata": {},
   "outputs": [],
   "source": [
    "# Comment to include participants who failed the attention check\n",
    "politics = politics.loc[politics.atc_passed]\n",
    "valence = valence.loc[valence.atc_passed]\n",
    "cl = cl.loc[cl.atc_passed]"
   ]
  },
  {
   "cell_type": "markdown",
   "metadata": {},
   "source": [
    "# Demographics"
   ]
  },
  {
   "cell_type": "code",
   "execution_count": 4,
   "metadata": {},
   "outputs": [
    {
     "name": "stdout",
     "output_type": "stream",
     "text": [
      "145 135\n"
     ]
    }
   ],
   "source": [
    "print len(politics.loc[politics.ident == \"REPUBLICAN\"]), \\\n",
    "      len(politics.loc[politics.ident == \"DEMOCRAT\"])"
   ]
  },
  {
   "cell_type": "code",
   "execution_count": 5,
   "metadata": {},
   "outputs": [
    {
     "name": "stdout",
     "output_type": "stream",
     "text": [
      "Age: 41.8206896552 (SE = 0.988907296148)\n",
      "Gender: [('Female', 86), ('Male', 59)]\n"
     ]
    }
   ],
   "source": [
    "demographic_info(politics.loc[politics.ident == \"REPUBLICAN\"])"
   ]
  },
  {
   "cell_type": "code",
   "execution_count": 6,
   "metadata": {},
   "outputs": [
    {
     "name": "stdout",
     "output_type": "stream",
     "text": [
      "Age: 36.5481481481 (SE = 0.943027042055)\n",
      "Gender: [('Female', 73), ('Male', 61), ('Other (please specify)', 1)]\n"
     ]
    }
   ],
   "source": [
    "demographic_info(politics.loc[politics.ident == \"DEMOCRAT\"])"
   ]
  },
  {
   "cell_type": "code",
   "execution_count": 7,
   "metadata": {},
   "outputs": [
    {
     "data": {
      "text/plain": [
       "(68, 75, 67, 70)"
      ]
     },
     "execution_count": 7,
     "metadata": {},
     "output_type": "execute_result"
    }
   ],
   "source": [
    "len(politics.loc[(politics.Condition == \"DEMOCRAT\") & (politics.ident == \"DEMOCRAT\")]), \\\n",
    "len(politics.loc[(politics.Condition == \"DEMOCRAT\") & (politics.ident == \"REPUBLICAN\")]), \\\n",
    "len(politics.loc[(politics.Condition == \"REPUBLICAN\") & (politics.ident == \"DEMOCRAT\")]), \\\n",
    "len(politics.loc[(politics.Condition == \"REPUBLICAN\") & (politics.ident == \"REPUBLICAN\")])"
   ]
  },
  {
   "cell_type": "markdown",
   "metadata": {},
   "source": [
    "# Results"
   ]
  },
  {
   "cell_type": "markdown",
   "metadata": {},
   "source": [
    "## Evidence for the AVB"
   ]
  },
  {
   "cell_type": "markdown",
   "metadata": {},
   "source": [
    "We pre-registered three different criteria for operationalizing which word in a given pair is considered the more positively-valenced choice. The submitted manuscript reports results for the within-subjects analysis."
   ]
  },
  {
   "cell_type": "markdown",
   "metadata": {},
   "source": [
    "### 1. Between subjects analysis: 60% item selection threshold\n",
    "\n",
    "Considers a word to be positive when at least 60% of participants judged it to be more positively-valenced than its accompanying word."
   ]
  },
  {
   "cell_type": "code",
   "execution_count": 8,
   "metadata": {},
   "outputs": [],
   "source": [
    "positive60, negative60 = agreement_items(valence, [ \"POSITIVE\", \"NEGATIVE\" ], .6)"
   ]
  },
  {
   "cell_type": "markdown",
   "metadata": {},
   "source": [
    "#### Logistic regression"
   ]
  },
  {
   "cell_type": "markdown",
   "metadata": {},
   "source": [
    "Selection of positive word ~ Participant's political affiliation + Condition + Participant's political affiliation * Condition + Dummy indicating whether or not this was the first survey the participant took (including participant-level effects)"
   ]
  },
  {
   "cell_type": "code",
   "execution_count": 9,
   "metadata": {},
   "outputs": [],
   "source": [
    "pdummied, Y = dummy(politics, [ \"REPUBLICAN\", \"DEMOCRAT\" ],\n",
    "                    np.stack((positive60, negative60)), \n",
    "                    ixs = (words.index + 100).values)\n",
    "X, Y = df_to_matrix(pdummied, Y, ixs = (words.index + 100).values,\n",
    "                    columns = { 0: \"id\", 1: \"condition\", 2: (0,1), \n",
    "                                3: \"order\" })"
   ]
  },
  {
   "cell_type": "code",
   "execution_count": 10,
   "metadata": {},
   "outputs": [
    {
     "name": "stdout",
     "output_type": "stream",
     "text": [
      "[0.         0.         0.38626369 0.        ]\n"
     ]
    },
    {
     "data": {
      "text/plain": [
       "0.6131082248262879"
      ]
     },
     "execution_count": 10,
     "metadata": {},
     "output_type": "execute_result"
    }
   ],
   "source": [
    "logit = SparseLR(Y, X); print logit.coef[:4]; logit.auc"
   ]
  },
  {
   "cell_type": "markdown",
   "metadata": {},
   "source": [
    "#### t-tests"
   ]
  },
  {
   "cell_type": "code",
   "execution_count": 11,
   "metadata": {},
   "outputs": [],
   "source": [
    "psummary = politics[[\"Condition\", \"ident\"]]\n",
    "dat = politics[(words.index+100).values].values\n",
    "props = np.apply_along_axis(get_prop, 1, dat, positive60, \n",
    "                            negative60)\n",
    "psummary[\"ppos\"] = props\n",
    "assert psummary.values.shape == (len(politics), 3)"
   ]
  },
  {
   "cell_type": "markdown",
   "metadata": {},
   "source": [
    "For participants in the Democrat condition, the difference in means mean(% positive words chosen amongst Democrats) - mean(% positive words chosen amongst Republicans) > 0."
   ]
  },
  {
   "cell_type": "code",
   "execution_count": 12,
   "metadata": {},
   "outputs": [
    {
     "data": {
      "text/plain": [
       "(7.085419454446693, 3.113747964014339e-11)"
      ]
     },
     "execution_count": 12,
     "metadata": {},
     "output_type": "execute_result"
    }
   ],
   "source": [
    "a = psummary.loc[(psummary[\"Condition\"] == \"DEMOCRAT\") & (psummary[\"ident\"] == \"DEMOCRAT\")][\"ppos\"]\n",
    "b = psummary.loc[(psummary[\"Condition\"] == \"DEMOCRAT\") & (psummary[\"ident\"] == \"REPUBLICAN\")][\"ppos\"]\n",
    "t, p = stats.ttest_ind(a, b, equal_var=False)\n",
    "# Divide two-sided p-value by two for a one-sided test\n",
    "t, p/2"
   ]
  },
  {
   "cell_type": "markdown",
   "metadata": {},
   "source": [
    "For participants in the Republican condition, the difference in means mean(% positive words chosen amongst Republicans) - mean(% positive words chosen amongst Democrats) > 0."
   ]
  },
  {
   "cell_type": "code",
   "execution_count": 13,
   "metadata": {},
   "outputs": [
    {
     "data": {
      "text/plain": [
       "(7.363518171515539, 8.859462723623227e-12)"
      ]
     },
     "execution_count": 13,
     "metadata": {},
     "output_type": "execute_result"
    }
   ],
   "source": [
    "a = psummary.loc[(psummary[\"Condition\"] == \"REPUBLICAN\") & (psummary[\"ident\"] == \"REPUBLICAN\")][\"ppos\"].values\n",
    "b = psummary.loc[(psummary[\"Condition\"] == \"REPUBLICAN\") & (psummary[\"ident\"] == \"DEMOCRAT\")][\"ppos\"].values\n",
    "t, p = stats.ttest_ind(a, b, equal_var=False)\n",
    "# Divide two-sided p-value by two for a one-sided test\n",
    "t, p/2"
   ]
  },
  {
   "cell_type": "markdown",
   "metadata": {},
   "source": [
    "The difference in means mean(% positive words chosen amongst those whose condition matched their political identity) - mean(% positive words chosen amongst those whose condition didn't match their political identity) > 0"
   ]
  },
  {
   "cell_type": "code",
   "execution_count": 14,
   "metadata": {},
   "outputs": [
    {
     "data": {
      "text/plain": [
       "(10.193431737375185, 3.436511102368558e-21)"
      ]
     },
     "execution_count": 14,
     "metadata": {},
     "output_type": "execute_result"
    }
   ],
   "source": [
    "a = psummary.loc[psummary[\"Condition\"] == psummary[\"ident\"]][\"ppos\"].values\n",
    "b = psummary.loc[psummary[\"Condition\"] != psummary[\"ident\"]][\"ppos\"].values\n",
    "t, p = stats.ttest_ind(a, b, equal_var=False)\n",
    "# Divide two-sided p-value by two for a one-sided test\n",
    "t, p/2"
   ]
  },
  {
   "cell_type": "markdown",
   "metadata": {},
   "source": [
    "### 2. Between subjects analysis: 80% item selection threshold\n",
    "\n",
    "Considers a word to be positive when at least 80% of participants judged it to be more positively-valenced than its accompanying word."
   ]
  },
  {
   "cell_type": "code",
   "execution_count": 15,
   "metadata": {},
   "outputs": [],
   "source": [
    "positive80, negative80 = agreement_items(valence, [ \"POSITIVE\", \"NEGATIVE\" ], .8)"
   ]
  },
  {
   "cell_type": "markdown",
   "metadata": {},
   "source": [
    "#### Logistic regression"
   ]
  },
  {
   "cell_type": "code",
   "execution_count": 16,
   "metadata": {},
   "outputs": [],
   "source": [
    "pdummied, Y = dummy(politics, [ \"REPUBLICAN\", \"DEMOCRAT\" ],\n",
    "                    np.stack((positive80, negative80)), \n",
    "                    ixs = (words.index + 100).values)\n",
    "X, Y = df_to_matrix(pdummied, Y, ixs = (words.index + 100).values,\n",
    "                    columns = { 0: \"id\", 1: \"condition\", 2: (0,1), \n",
    "                                3: \"order\" })"
   ]
  },
  {
   "cell_type": "code",
   "execution_count": 17,
   "metadata": {},
   "outputs": [
    {
     "name": "stdout",
     "output_type": "stream",
     "text": [
      "[0.         0.         0.42830992 0.        ]\n"
     ]
    },
    {
     "data": {
      "text/plain": [
       "0.643413392144372"
      ]
     },
     "execution_count": 17,
     "metadata": {},
     "output_type": "execute_result"
    }
   ],
   "source": [
    "logit = SparseLR(Y, X); print logit.coef[:4]; logit.auc"
   ]
  },
  {
   "cell_type": "markdown",
   "metadata": {},
   "source": [
    "#### t-tests"
   ]
  },
  {
   "cell_type": "code",
   "execution_count": 18,
   "metadata": {},
   "outputs": [],
   "source": [
    "psummary = politics[[\"Condition\", \"ident\"]]\n",
    "dat = politics[(words.index+100).values].values\n",
    "props = np.apply_along_axis(get_prop, 1, dat, positive80, \n",
    "                            negative80)\n",
    "psummary[\"ppos\"] = props\n",
    "assert psummary.values.shape == (len(politics), 3)"
   ]
  },
  {
   "cell_type": "markdown",
   "metadata": {},
   "source": [
    "For participants in the Democrat condition, the difference in means mean(% positive words chosen amongst Democrats) - mean(% positive words chosen amongst Republicans) > 0."
   ]
  },
  {
   "cell_type": "code",
   "execution_count": 19,
   "metadata": {},
   "outputs": [
    {
     "data": {
      "text/plain": [
       "(9.12168735747319, 4.060179069628331e-16)"
      ]
     },
     "execution_count": 19,
     "metadata": {},
     "output_type": "execute_result"
    }
   ],
   "source": [
    "a = psummary.loc[(psummary[\"Condition\"] == \"DEMOCRAT\") & (psummary[\"ident\"] == \"DEMOCRAT\")][\"ppos\"].values\n",
    "b = psummary.loc[(psummary[\"Condition\"] == \"DEMOCRAT\") & (psummary[\"ident\"] == \"REPUBLICAN\")][\"ppos\"].values\n",
    "t, p = stats.ttest_ind(a, b, equal_var=False)\n",
    "# Divide two-sided p-value by two for a one-sided test\n",
    "t, p/2"
   ]
  },
  {
   "cell_type": "markdown",
   "metadata": {},
   "source": [
    "For participants in the Republican condition, the difference in means mean(% positive words chosen amongst Republicans) - mean(% positive words chosen amongst Democrats) > 0."
   ]
  },
  {
   "cell_type": "code",
   "execution_count": 20,
   "metadata": {},
   "outputs": [
    {
     "data": {
      "text/plain": [
       "(7.722958007346269, 1.2157387058417762e-12)"
      ]
     },
     "execution_count": 20,
     "metadata": {},
     "output_type": "execute_result"
    }
   ],
   "source": [
    "a = psummary.loc[(psummary[\"Condition\"] == \"REPUBLICAN\") & (psummary[\"ident\"] == \"REPUBLICAN\")][\"ppos\"].values\n",
    "b = psummary.loc[(psummary[\"Condition\"] == \"REPUBLICAN\") & (psummary[\"ident\"] == \"DEMOCRAT\")][\"ppos\"].values\n",
    "t, p = stats.ttest_ind(a, b, equal_var=False)\n",
    "# Divide two-sided p-value by two for a one-sided test\n",
    "t, p/2"
   ]
  },
  {
   "cell_type": "markdown",
   "metadata": {},
   "source": [
    "The difference in means mean(% positive words chosen amongst those whose condition matched their political identity) - mean(% positive words chosen amongst those whose condition didn't match their political identity) > 0"
   ]
  },
  {
   "cell_type": "code",
   "execution_count": 21,
   "metadata": {},
   "outputs": [
    {
     "data": {
      "text/plain": [
       "(11.838367295561595, 1.1862493480737845e-26)"
      ]
     },
     "execution_count": 21,
     "metadata": {},
     "output_type": "execute_result"
    }
   ],
   "source": [
    "a = psummary.loc[psummary[\"Condition\"] == psummary[\"ident\"]][\"ppos\"].values\n",
    "b = psummary.loc[psummary[\"Condition\"] != psummary[\"ident\"]][\"ppos\"].values\n",
    "t, p = stats.ttest_ind(a, b, equal_var=False)\n",
    "# Divide two-sided p-value by two for a one-sided test\n",
    "t, p/2"
   ]
  },
  {
   "cell_type": "markdown",
   "metadata": {},
   "source": [
    "### 3. Within-subjects analysis\n",
    "\n",
    "Considers a word to be more positive when the participants had themselves selected that word as more positively-valenced in Survey 1"
   ]
  },
  {
   "cell_type": "markdown",
   "metadata": {},
   "source": [
    "#### Logistic regression"
   ]
  },
  {
   "cell_type": "code",
   "execution_count": 22,
   "metadata": {},
   "outputs": [],
   "source": [
    "# Positive\n",
    "ixs = (words.index[:10] + 100).values\n",
    "# Negative\n",
    "ixs = (words.index[10:20] + 100).values\n",
    "# Neutral\n",
    "ixs = (words.index[20:30] + 100).values\n",
    "# All non-distractor items\n",
    "ixs = (words.index[:30] + 100).values"
   ]
  },
  {
   "cell_type": "code",
   "execution_count": 23,
   "metadata": {},
   "outputs": [],
   "source": [
    "pdummied, Y = dummy(politics, [ \"REPUBLICAN\", \"DEMOCRAT\" ],\n",
    "                    within = True, \n",
    "                    ixs = ixs)\n",
    "X, Y = df_to_matrix(pdummied, Y, ixs = ixs,\n",
    "                    columns = { 0: \"id\", 1: \"condition\", 2: (0,1), \n",
    "                                3: \"order\"\n",
    "                              })"
   ]
  },
  {
   "cell_type": "code",
   "execution_count": 24,
   "metadata": {},
   "outputs": [
    {
     "name": "stdout",
     "output_type": "stream",
     "text": [
      "[0.         0.         0.32681072 0.        ]\n"
     ]
    },
    {
     "data": {
      "text/plain": [
       "0.60170067183874"
      ]
     },
     "execution_count": 24,
     "metadata": {},
     "output_type": "execute_result"
    }
   ],
   "source": [
    "logit = SparseLR(Y, X); print logit.coef[:4]; logit.auc"
   ]
  },
  {
   "cell_type": "markdown",
   "metadata": {},
   "source": [
    "#### t-tests"
   ]
  },
  {
   "cell_type": "code",
   "execution_count": 25,
   "metadata": {},
   "outputs": [],
   "source": [
    "psummary_ws = summarize(pdummied, ixs)"
   ]
  },
  {
   "cell_type": "markdown",
   "metadata": {},
   "source": [
    "For participants in the Republican condition, the difference in means mean(% positive words chosen amongst Republicans) - mean(% positive words chosen amongst Democrats) > 0."
   ]
  },
  {
   "cell_type": "code",
   "execution_count": 26,
   "metadata": {},
   "outputs": [
    {
     "data": {
      "text/plain": [
       "(6.918258148863724, 9.064663901629428e-11)"
      ]
     },
     "execution_count": 26,
     "metadata": {},
     "output_type": "execute_result"
    }
   ],
   "source": [
    "a = psummary_ws.loc[(psummary_ws[\"Condition\"] == 1) & (psummary_ws[\"ident\"] == 1)][\"p\"].values\n",
    "b = psummary_ws.loc[(psummary_ws[\"Condition\"] == 1) & (psummary_ws[\"ident\"] == 0)][\"p\"].values\n",
    "t, p = stats.ttest_ind(a, b, equal_var=False)\n",
    "# Divide two-sided p-value by two for a one-sided test\n",
    "t, p/2"
   ]
  },
  {
   "cell_type": "markdown",
   "metadata": {},
   "source": [
    "For participants in the Democrat condition, the difference in means mean(% positive words chosen amongst Democrats) - mean(% positive words chosen amongst Republicans) > 0."
   ]
  },
  {
   "cell_type": "code",
   "execution_count": 27,
   "metadata": {},
   "outputs": [
    {
     "data": {
      "text/plain": [
       "(5.211362095319887, 3.296677648915115e-07)"
      ]
     },
     "execution_count": 27,
     "metadata": {},
     "output_type": "execute_result"
    }
   ],
   "source": [
    "a = psummary_ws.loc[(psummary_ws[\"Condition\"] == 0) & (psummary_ws[\"ident\"] == 0)][\"p\"].values\n",
    "b = psummary_ws.loc[(psummary_ws[\"Condition\"] == 0) & (psummary_ws[\"ident\"] == 1)][\"p\"].values\n",
    "t, p = stats.ttest_ind(a, b, equal_var=False)\n",
    "# Divide two-sided p-value by two for a one-sided test\n",
    "t, p/2"
   ]
  },
  {
   "cell_type": "markdown",
   "metadata": {},
   "source": [
    "The difference in means mean(% positive words chosen amongst those whose condition matched their political identity) - mean(% positive words chosen amongst those whose condition didn't match their political identity) > 0"
   ]
  },
  {
   "cell_type": "code",
   "execution_count": 28,
   "metadata": {},
   "outputs": [],
   "source": [
    "a = psummary_ws.loc[psummary_ws[\"Condition\"] == psummary_ws[\"ident\"]][\"p\"].values\n",
    "b = psummary_ws.loc[psummary_ws[\"Condition\"] != psummary_ws[\"ident\"]][\"p\"].values"
   ]
  },
  {
   "cell_type": "code",
   "execution_count": 29,
   "metadata": {},
   "outputs": [
    {
     "data": {
      "text/plain": [
       "(0.6331229272153547,\n",
       " 0.0169888389862318,\n",
       " 0.4305007953210964,\n",
       " 0.01664723471595297)"
      ]
     },
     "execution_count": 29,
     "metadata": {},
     "output_type": "execute_result"
    }
   ],
   "source": [
    "np.mean(a), stats.sem(a), np.mean(b), stats.sem(b)"
   ]
  },
  {
   "cell_type": "code",
   "execution_count": 30,
   "metadata": {},
   "outputs": [
    {
     "data": {
      "text/plain": [
       "(8.518716925967274, 5.192912115605651e-16, 277.66563153721523)"
      ]
     },
     "execution_count": 30,
     "metadata": {},
     "output_type": "execute_result"
    }
   ],
   "source": [
    "dsw_a = sms.DescrStatsW(a)\n",
    "dsw_b = sms.DescrStatsW(b)\n",
    "cm = sms.CompareMeans(dsw_a, dsw_b)\n",
    "cm.ttest_ind(usevar=\"unequal\", alternative = \"larger\")"
   ]
  },
  {
   "cell_type": "code",
   "execution_count": 31,
   "metadata": {},
   "outputs": [
    {
     "name": "stdout",
     "output_type": "stream",
     "text": [
      "(0.20262213189425826, 0.15505108718056126, 0.25019317660795526)\n"
     ]
    }
   ],
   "source": [
    "delta = dsw_a.mean - dsw_b.mean\n",
    "se_delta = cm.std_meandiff_separatevar\n",
    "print(delta, delta - 2*se_delta, delta + 2*se_delta)"
   ]
  },
  {
   "cell_type": "markdown",
   "metadata": {},
   "source": [
    "##### Figure 4a"
   ]
  },
  {
   "cell_type": "code",
   "execution_count": 32,
   "metadata": {},
   "outputs": [
    {
     "data": {
      "image/png": "[encoded data removed]",
      "text/plain": [
       "<Figure size 432x288 with 1 Axes>"
      ]
     },
     "metadata": {
      "needs_background": "light"
     },
     "output_type": "display_data"
    }
   ],
   "source": [
    "fig, ax = plt.subplots(1)\n",
    "x_dd = psummary_ws.loc[(psummary_ws[\"Condition\"] == 0) & (psummary_ws[\"ident\"] == 0)][\"p\"]\n",
    "x_dr = psummary_ws.loc[(psummary_ws[\"Condition\"] == 1) & (psummary_ws[\"ident\"] == 0)][\"p\"]\n",
    "x_rd = psummary_ws.loc[(psummary_ws[\"Condition\"] == 0) & (psummary_ws[\"ident\"] == 1)][\"p\"]\n",
    "x_rr = psummary_ws.loc[(psummary_ws[\"Condition\"] == 1) & (psummary_ws[\"ident\"] == 1)][\"p\"]\n",
    "bplots = ax.boxplot([ x_dd, x_dr, np.full(2, fill_value=np.nan), x_rd, x_rr ],\n",
    "                    notch=True, patch_artist=True, sym=\"\", whis=[5,95]\n",
    "                   )\n",
    "bplots[\"boxes\"][0].set_facecolor(\"blue\")\n",
    "bplots[\"boxes\"][1].set_facecolor(\"red\")\n",
    "bplots[\"boxes\"][3].set_facecolor(\"blue\")\n",
    "bplots[\"boxes\"][4].set_facecolor(\"red\")\n",
    "for med in bplots[\"medians\"]:\n",
    "    med.set(linewidth=4)\n",
    "xlim = ax.get_xlim()\n",
    "ylim = ax.get_ylim()\n",
    "ax.set_xlim(*xlim)\n",
    "ax.set_ylim(0,1)\n",
    "ax.plot(xlim, [.5,.5], color = \"k\", linestyle = \"--\", linewidth = .5)\n",
    "legend_elements = [Patch(facecolor=\"blue\", label=\"Democratic condition\"),\n",
    "                   Patch(facecolor=\"red\", label=\"Republican condition\")\n",
    "                  ]\n",
    "ax.legend(handles=legend_elements, loc=(1.01,.7))\n",
    "ax.set_ylabel(\"Proportion positive words chosen\")\n",
    "ax.set_xticklabels([ \"            Democrats\", \"\", \"\", \"            Republicans\", \"\" ])\n",
    "ax.tick_params(axis=\"both\", which=\"both\",length=0)\n",
    "plt.tight_layout()\n",
    "plt.savefig(\"figure4a\")"
   ]
  },
  {
   "cell_type": "markdown",
   "metadata": {},
   "source": [
    "#### Mixed effects model"
   ]
  },
  {
   "cell_type": "code",
   "execution_count": 33,
   "metadata": {},
   "outputs": [],
   "source": [
    "# `recode_within_subjects` modifies the dataframe in place, so create a copy\n",
    "politics1 = politics.copy()"
   ]
  },
  {
   "cell_type": "code",
   "execution_count": 34,
   "metadata": {},
   "outputs": [],
   "source": [
    "df_ = recode_within_subjects(politics1, ixs=ixs)\n",
    "df_ = df_.join(demographics, on=\"ID\", how=\"left\", rsuffix=\"_r\")\n",
    "df_ = df_[list(ixs)+[\"age\",\"gender\",\"ident\",\"party_strength\",\"Condition\"]]\n",
    "df_[ixs] = df_[ixs].replace({ np.nan: -2 })\n",
    "df_[\"party_strength\"] = df_[\"party_strength\"].replace({ \"1 (very little)\": 0, \"2\": 1, \n",
    "                                                        \"3\": 2, \"4\": 3, \"5\": 4, \"6\": 5, \n",
    "                                                        \"7 (very much)\": 6\n",
    "                                                      })"
   ]
  },
  {
   "cell_type": "code",
   "execution_count": 35,
   "metadata": {},
   "outputs": [
    {
     "data": {
      "text/plain": [
       "Generalized linear mixed model fit by maximum likelihood (Laplace\n",
       "  Approximation) [glmerMod]\n",
       " Family: binomial  ( logit )\n",
       "Formula: pos ~ Condition * ident + (1 | ID) + (1 | item)\n",
       "   Data: df\n",
       "\n",
       "     AIC      BIC   logLik deviance df.resid \n",
       " 10360.5  10402.6  -5174.2  10348.5     8299 \n",
       "\n",
       "Scaled residuals: \n",
       "    Min      1Q  Median      3Q     Max \n",
       "-3.1957 -0.8763  0.3698  0.8137  3.2856 \n",
       "\n",
       "Random effects:\n",
       " Groups Name        Variance Std.Dev.\n",
       " ID     (Intercept) 0.86896  0.9322  \n",
       " item   (Intercept) 0.06278  0.2506  \n",
       "Number of obs: 8305, groups:  ID, 280; item, 30\n",
       "\n",
       "Fixed effects:\n",
       "                Estimate Std. Error z value Pr(>|z|)    \n",
       "(Intercept)      0.14601    0.07638   1.912   0.0559 .  \n",
       "Condition        0.01677    0.08650   0.194   0.8462    \n",
       "ident            0.11180    0.08650   1.292   0.1962    \n",
       "Condition:ident  0.99295    0.12255   8.103 5.38e-16 ***\n",
       "---\n",
       "Signif. codes:  0 '***' 0.001 '**' 0.01 '*' 0.05 '.' 0.1 ' ' 1\n",
       "\n",
       "Correlation of Fixed Effects:\n",
       "            (Intr) Condtn ident \n",
       "Condition    0.019              \n",
       "ident       -0.022  0.019       \n",
       "Conditn:dnt  0.016 -0.028  0.025\n"
      ]
     },
     "metadata": {},
     "output_type": "display_data"
    }
   ],
   "source": [
    "%%R -i df_,ixs\n",
    "library(lmerTest)\n",
    "library(tidyverse)\n",
    "\n",
    "options(contrasts=c(\"contr.sum\",\"contr.poly\"))\n",
    "\n",
    "df <- df_ %>%\n",
    "    as_tibble %>%\n",
    "    mutate_at(paste0(\"X\", ixs), function (x) replace(x, x==-2, NA)) %>%\n",
    "    mutate(ID=1:nrow(.)) %>%\n",
    "    pivot_longer(paste0(\"X\", ixs), names_to=\"item\", values_to=\"pos\") %>%\n",
    "    mutate(gender=replace(gender, !(gender %in% c(\"Male\",\"Female\")), NA),\n",
    "           gender=ifelse(gender==\"Male\", 1, -1),\n",
    "           ident=ifelse(ident==\"REPUBLICAN\", sqrt(.5), -sqrt(.5)),\n",
    "           Condition=ifelse(Condition==\"REPUBLICAN\", sqrt(.5), -sqrt(.5)),\n",
    "           age=age-18\n",
    "          )\n",
    "    \n",
    "fit <- glmer(pos ~ Condition * ident + (1|ID) + (1|item), data=df, family=\"binomial\")\n",
    "summary(fit)"
   ]
  },
  {
   "cell_type": "code",
   "execution_count": 36,
   "metadata": {},
   "outputs": [
    {
     "data": {
      "text/plain": [
       "[1] 0.7478578 1.2380482\n"
      ]
     },
     "metadata": {},
     "output_type": "display_data"
    }
   ],
   "source": [
    "%%R\n",
    "# +- 2 SE\n",
    "coef.interact <- summary(fit)$coefficients[4,1]\n",
    "se.interact <- summary(fit)$coefficients[4,2]\n",
    "print(c(coef.interact - 2*se.interact, coef.interact + 2*se.interact))"
   ]
  },
  {
   "cell_type": "code",
   "execution_count": 37,
   "metadata": {},
   "outputs": [
    {
     "data": {
      "text/plain": [
       "[1] 2.699193\n"
      ]
     },
     "metadata": {},
     "output_type": "display_data"
    }
   ],
   "source": [
    "%%R\n",
    "exp(summary(fit)$coefficients[4,1])"
   ]
  },
  {
   "cell_type": "code",
   "execution_count": 38,
   "metadata": {},
   "outputs": [
    {
     "data": {
      "text/plain": [
       "Data: df\n",
       "Models:\n",
       "null.fit: pos ~ Condition + ident + (1 | ID) + (1 | item)\n",
       "fit: pos ~ Condition * ident + (1 | ID) + (1 | item)\n",
       "         npar   AIC   BIC  logLik deviance  Chisq Df Pr(>Chisq)    \n",
       "null.fit    5 10418 10453 -5203.9    10408                         \n",
       "fit         6 10360 10403 -5174.2    10348 59.315  1  1.344e-14 ***\n",
       "---\n",
       "Signif. codes:  0 '***' 0.001 '**' 0.01 '*' 0.05 '.' 0.1 ' ' 1\n"
      ]
     },
     "metadata": {},
     "output_type": "display_data"
    }
   ],
   "source": [
    "%%R\n",
    "null.fit <- glmer(pos ~ Condition + ident + (1|ID) + (1|item), data=df, family=\"binomial\")\n",
    "anova_res <- anova(null.fit, fit, test=\"LRT\")\n",
    "anova_res"
   ]
  },
  {
   "cell_type": "code",
   "execution_count": 39,
   "metadata": {},
   "outputs": [
    {
     "data": {
      "text/plain": [
       "Generalized linear mixed model fit by maximum likelihood (Laplace\n",
       "  Approximation) [glmerMod]\n",
       " Family: binomial  ( logit )\n",
       "Formula: pos ~ Condition * ident + Condition * age + Condition * gender +  \n",
       "    Condition * ident * party_strength + (1 | ID) + (1 | item)\n",
       "   Data: df\n",
       "Control: glmerControl(optimizer = \"bobyqa\", optCtrl = list(maxfun = 1e+05))\n",
       "\n",
       "     AIC      BIC   logLik deviance df.resid \n",
       " 10308.5  10406.8  -5140.3  10280.5     8261 \n",
       "\n",
       "Scaled residuals: \n",
       "    Min      1Q  Median      3Q     Max \n",
       "-3.3516 -0.8740  0.3602  0.8169  3.0484 \n",
       "\n",
       "Random effects:\n",
       " Groups Name        Variance Std.Dev.\n",
       " ID     (Intercept) 0.76857  0.8767  \n",
       " item   (Intercept) 0.06469  0.2544  \n",
       "Number of obs: 8275, groups:  ID, 279; item, 30\n",
       "\n",
       "Fixed effects:\n",
       "                                Estimate Std. Error z value Pr(>|z|)    \n",
       "(Intercept)                    -0.118783   0.192758  -0.616   0.5377    \n",
       "Condition                      -0.489882   0.264577  -1.852   0.0641 .  \n",
       "ident                           0.008767   0.241102   0.036   0.9710    \n",
       "age                             0.001397   0.005352   0.261   0.7941    \n",
       "gender                         -0.123471   0.060147  -2.053   0.0401 *  \n",
       "party_strength                  0.052334   0.039536   1.324   0.1856    \n",
       "Condition:ident                -0.285054   0.340956  -0.836   0.4031    \n",
       "Condition:age                   0.007733   0.007571   1.021   0.3071    \n",
       "Condition:gender                0.057057   0.085043   0.671   0.5023    \n",
       "Condition:party_strength        0.086156   0.055907   1.541   0.1233    \n",
       "ident:party_strength            0.016770   0.056291   0.298   0.7658    \n",
       "Condition:ident:party_strength  0.309860   0.079629   3.891 9.97e-05 ***\n",
       "---\n",
       "Signif. codes:  0 '***' 0.001 '**' 0.01 '*' 0.05 '.' 0.1 ' ' 1\n",
       "\n",
       "Correlation of Fixed Effects:\n",
       "            (Intr) Condtn ident  age    gender prty_s Cndtn:d Condtn:g Cndtn:gn\n",
       "Condition    0.068                                                             \n",
       "ident        0.044  0.045                                                      \n",
       "age         -0.441  0.044 -0.003                                               \n",
       "gender      -0.098 -0.054  0.102  0.090                                        \n",
       "prty_strngt -0.722 -0.107 -0.029 -0.168  0.107                                 \n",
       "Conditn:dnt  0.044  0.045  0.093  0.191 -0.053 -0.179                          \n",
       "Condition:g  0.043 -0.455  0.191 -0.097  0.061  0.030 -0.004                   \n",
       "Condtn:gndr -0.053 -0.102 -0.053  0.062  0.016  0.003  0.102   0.091           \n",
       "Cndtn:prty_ -0.104 -0.744 -0.179  0.029  0.003  0.091 -0.029  -0.168    0.107  \n",
       "idnt:prty_s  0.000 -0.039 -0.936 -0.077 -0.102  0.029 -0.104  -0.194    0.031  \n",
       "Cndtn:dnt:_ -0.039 -0.001 -0.104 -0.194  0.030  0.174 -0.936  -0.076   -0.102  \n",
       "            Cndt:_ idnt:_\n",
       "Condition                \n",
       "ident                    \n",
       "age                      \n",
       "gender                   \n",
       "prty_strngt              \n",
       "Conditn:dnt              \n",
       "Condition:g              \n",
       "Condtn:gndr              \n",
       "Cndtn:prty_              \n",
       "idnt:prty_s  0.174       \n",
       "Cndtn:dnt:_  0.029  0.119\n"
      ]
     },
     "metadata": {},
     "output_type": "display_data"
    }
   ],
   "source": [
    "%%R\n",
    "fit <- glmer(pos ~ Condition * ident + Condition * age + Condition * gender + Condition * ident * party_strength + (1|ID) + (1|item),\n",
    "             data=df, family=\"binomial\", glmerControl(optimizer=\"bobyqa\", optCtrl = list(maxfun = 100000))\n",
    "            )\n",
    "summary(fit)"
   ]
  },
  {
   "cell_type": "markdown",
   "metadata": {},
   "source": [
    "##### Figure 4B"
   ]
  },
  {
   "cell_type": "code",
   "execution_count": 40,
   "metadata": {},
   "outputs": [],
   "source": [
    "%%R\n",
    "df.avb <- df %>%\n",
    "    filter(!is.na(party_strength)) %>%\n",
    "    mutate(avb=pos, avb=ifelse(.$ident==.$Condition, avb, 1-avb)) %>%\n",
    "    group_by(ID) %>%\n",
    "    summarise(avb=mean(avb, na.rm=TRUE), SPI=mean(party_strength))\n",
    "    \n",
    "df.4b <- df.avb %>%\n",
    "    group_by(SPI) %>%\n",
    "    summarise(avb=mean(avb, na.rm=TRUE), ct=n()) %>%\n",
    "    mutate(se=sqrt(avb*(1-avb)/ct))\n",
    "    \n",
    "df.4b %>%\n",
    "    ggplot(mapping=aes(x=SPI+1, y=avb, ymin=avb-se, ymax=avb+se, size=ct)) +\n",
    "    geom_point(show.legend=FALSE) +\n",
    "    geom_errorbar(size=.2, width=.2) +\n",
    "    geom_hline(yintercept=.5, linetype=3) +\n",
    "    xlab(\"Strength of party identity (SPI)\") +\n",
    "    ylab(\"Magnitude of AVB\") +\n",
    "    ylim(0,1) +\n",
    "    scale_x_continuous(breaks=1:7) +\n",
    "    theme_bw() +\n",
    "    theme(axis.title=element_text(size=25))\n",
    "ggsave(\"figure4b.jpg\")"
   ]
  },
  {
   "cell_type": "code",
   "execution_count": 41,
   "metadata": {},
   "outputs": [
    {
     "data": {
      "text/plain": [
       "\n",
       "\tPearson's product-moment correlation\n",
       "\n",
       "data:  df.avb$avb and df.avb$SPI\n",
       "t = 4.2491, df = 278, p-value = 2.932e-05\n",
       "alternative hypothesis: true correlation is not equal to 0\n",
       "95 percent confidence interval:\n",
       " 0.1335959 0.3539261\n",
       "sample estimates:\n",
       "    cor \n",
       "0.24695 \n",
       "\n"
      ]
     },
     "metadata": {},
     "output_type": "display_data"
    }
   ],
   "source": [
    "%%R\n",
    "cor.test(df.avb$avb, df.avb$SPI)"
   ]
  },
  {
   "cell_type": "code",
   "execution_count": 42,
   "metadata": {},
   "outputs": [
    {
     "data": {
      "text/plain": [
       "\u001b[90m# A tibble: 1 x 6\u001b[39m\n",
       "  `sum(exhibits.svb)`     p     n     se    lb    ub\n",
       "                \u001b[3m\u001b[90m<int>\u001b[39m\u001b[23m \u001b[3m\u001b[90m<dbl>\u001b[39m\u001b[23m \u001b[3m\u001b[90m<int>\u001b[39m\u001b[23m  \u001b[3m\u001b[90m<dbl>\u001b[39m\u001b[23m \u001b[3m\u001b[90m<dbl>\u001b[39m\u001b[23m \u001b[3m\u001b[90m<dbl>\u001b[39m\u001b[23m\n",
       "\u001b[90m1\u001b[39m                 186 0.664   280 0.028\u001b[4m2\u001b[24m 0.608 0.721\n"
      ]
     },
     "metadata": {},
     "output_type": "display_data"
    }
   ],
   "source": [
    "%%R\n",
    "options(scipen=999)\n",
    "df %>%\n",
    "    mutate(svb=pos, svb=ifelse(.$ident==.$Condition, svb, 1-svb)) %>%\n",
    "    group_by(ID) %>%\n",
    "    summarise(svb=mean(svb, na.rm=TRUE)) %>%\n",
    "    mutate(exhibits.svb=svb>.5) %>%\n",
    "    summarise(sum(exhibits.svb), p=mean(exhibits.svb), n=n()) %>%\n",
    "    mutate(se=sqrt(p*(1-p)/n), lb=p-2*se, ub=p+2*se)"
   ]
  },
  {
   "cell_type": "markdown",
   "metadata": {},
   "source": [
    "## Controlling for perceived construal level"
   ]
  },
  {
   "cell_type": "markdown",
   "metadata": {},
   "source": [
    "Hypothesis: mean(% abstract words chosen amongst those whose condition matched their political identity) - mean(% concrete words chosen amongst those whose condition didn't match their political identity) < 0\n",
    "\n",
    "Which word in a pair is considered more abstract is operationalized at the within-subjects level."
   ]
  },
  {
   "cell_type": "code",
   "execution_count": 43,
   "metadata": {},
   "outputs": [],
   "source": [
    "pdummied, Y = dummy(politics, [ \"REPUBLICAN\", \"DEMOCRAT\" ],\n",
    "                    within = True, ixs = ixs, df2 = cl,\n",
    "                    conditions = [ \"ABSTRACT\", \"CONCRETE\" ])\n",
    "psummary_ws = summarize(pdummied, ixs)"
   ]
  },
  {
   "cell_type": "code",
   "execution_count": 44,
   "metadata": {},
   "outputs": [],
   "source": [
    "a = psummary_ws.loc[psummary_ws[\"Condition\"] != psummary_ws[\"ident\"]][\"p\"]\n",
    "b = psummary_ws.loc[psummary_ws[\"Condition\"] == psummary_ws[\"ident\"]][\"p\"]"
   ]
  },
  {
   "cell_type": "code",
   "execution_count": 45,
   "metadata": {},
   "outputs": [
    {
     "data": {
      "text/plain": [
       "(0.4006151499261234, 0.34450570445808715, 277.80432612877297)"
      ]
     },
     "execution_count": 45,
     "metadata": {},
     "output_type": "execute_result"
    }
   ],
   "source": [
    "dsw_a = sms.DescrStatsW(a)\n",
    "dsw_b = sms.DescrStatsW(b)\n",
    "cm = sms.CompareMeans(dsw_a, dsw_b)\n",
    "cm.ttest_ind(usevar=\"unequal\", alternative = \"larger\")"
   ]
  },
  {
   "cell_type": "code",
   "execution_count": 46,
   "metadata": {},
   "outputs": [
    {
     "name": "stdout",
     "output_type": "stream",
     "text": [
      "(0.011704797855254578, -0.0467293270519689, 0.07013892276247806)\n"
     ]
    }
   ],
   "source": [
    "delta = dsw_a.mean - dsw_b.mean\n",
    "se_delta = cm.std_meandiff_separatevar\n",
    "print(delta, delta - 2*se_delta, delta + 2*se_delta)"
   ]
  },
  {
   "cell_type": "markdown",
   "metadata": {},
   "source": [
    "### Mixed effects model"
   ]
  },
  {
   "cell_type": "code",
   "execution_count": 47,
   "metadata": {},
   "outputs": [],
   "source": [
    "politics2 = politics.copy()\n",
    "df_cl = recode_within_subjects(politics2, df2=cl, conditions=[\"ABSTRACT\",\"CONCRETE\"], \n",
    "                               ixs=ixs\n",
    "                              )\n",
    "df_cl = df_cl[list(ixs)+[\"ident\",\"Condition\"]]\n",
    "df_cl[ixs] = df_cl[ixs].replace({ np.nan: -2 })\n",
    "df_cl = df_cl.loc[df_.index]"
   ]
  },
  {
   "cell_type": "code",
   "execution_count": 48,
   "metadata": {},
   "outputs": [
    {
     "data": {
      "text/plain": [
       "Generalized linear mixed model fit by maximum likelihood (Laplace\n",
       "  Approximation) [glmerMod]\n",
       " Family: binomial  ( logit )\n",
       "Formula: pos ~ Condition * ident * abstract + (1 | ID) + (1 | item)\n",
       "   Data: df.cl\n",
       "\n",
       "     AIC      BIC   logLik deviance df.resid \n",
       " 10322.3  10392.5  -5151.2  10302.3     8261 \n",
       "\n",
       "Scaled residuals: \n",
       "    Min      1Q  Median      3Q     Max \n",
       "-3.2551 -0.8723  0.3659  0.8109  3.3117 \n",
       "\n",
       "Random effects:\n",
       " Groups Name        Variance Std.Dev.\n",
       " ID     (Intercept) 0.86348  0.9292  \n",
       " item   (Intercept) 0.06111  0.2472  \n",
       "Number of obs: 8271, groups:  ID, 280; item, 30\n",
       "\n",
       "Fixed effects:\n",
       "                          Estimate Std. Error z value           Pr(>|z|)    \n",
       "(Intercept)               0.080832   0.080772   1.001             0.3170    \n",
       "Condition                -0.004014   0.094721  -0.042             0.9662    \n",
       "ident                     0.045282   0.094721   0.478             0.6326    \n",
       "abstract                  0.128536   0.053771   2.390             0.0168 *  \n",
       "Condition:ident           1.004885   0.134172   7.490 0.0000000000000691 ***\n",
       "Condition:abstract        0.061296   0.076027   0.806             0.4201    \n",
       "ident:abstract            0.127548   0.076047   1.677             0.0935 .  \n",
       "Condition:ident:abstract -0.010323   0.107637  -0.096             0.9236    \n",
       "---\n",
       "Signif. codes:  0 '***' 0.001 '**' 0.01 '*' 0.05 '.' 0.1 ' ' 1\n",
       "\n",
       "Correlation of Fixed Effects:\n",
       "            (Intr) Condtn ident  abstrc Cndtn:d Cndtn:b idnt:b\n",
       "Condition    0.002                                            \n",
       "ident       -0.015  0.016                                     \n",
       "abstract    -0.341  0.018 -0.013                              \n",
       "Conditn:dnt  0.014 -0.018  0.003 -0.009                       \n",
       "Cndtn:bstrc  0.015 -0.411 -0.009  0.017 -0.013                \n",
       "idnt:bstrct -0.011 -0.009 -0.411  0.035  0.018   0.041        \n",
       "Cndtn:dnt:b -0.008 -0.013  0.017  0.042 -0.411   0.035   0.019\n"
      ]
     },
     "metadata": {},
     "output_type": "display_data"
    }
   ],
   "source": [
    "%%R -i df_cl\n",
    "df.cl <- df_cl %>%\n",
    "    as_tibble %>%\n",
    "    mutate_at(paste0(\"X\", ixs), function (x) replace(x, x==-2, NA)) %>%\n",
    "    mutate(ID=1:nrow(.)) %>%\n",
    "    pivot_longer(paste0(\"X\", ixs), names_to=\"item\", values_to=\"abstract\") %>%\n",
    "    mutate(ident=ifelse(ident==\"REPUBLICAN\", sqrt(.5), -sqrt(.5)),\n",
    "           Condition=ifelse(Condition==\"REPUBLICAN\", sqrt(.5), -sqrt(.5)),\n",
    "           pos=df$pos\n",
    "          )\n",
    "    \n",
    "fit <- glmer(pos ~ Condition * ident * abstract + (1|ID) + (1|item), data=df.cl, family=\"binomial\")\n",
    "summary(fit)"
   ]
  }
 ],
 "metadata": {
  "kernelspec": {
   "display_name": "lop_env",
   "language": "python",
   "name": "lop_env"
  },
  "language_info": {
   "codemirror_mode": {
    "name": "ipython",
    "version": 2
   },
   "file_extension": ".py",
   "mimetype": "text/x-python",
   "name": "python",
   "nbconvert_exporter": "python",
   "pygments_lexer": "ipython2",
   "version": "2.7.17"
  }
 },
 "nbformat": 4,
 "nbformat_minor": 4
}
