{
 "cells": [
  {
   "cell_type": "markdown",
   "metadata": {},
   "source": [
    "Analyses pre-registered for in-lab version of study 3d (reported in the appendix accompanying the submitted manuscript as study 3d).\n",
    "\n",
    "Pre-registration: https://osf.io/de935"
   ]
  },
  {
   "cell_type": "code",
   "execution_count": 2,
   "metadata": {},
   "outputs": [],
   "source": [
    "from __future__ import division\n",
    "%matplotlib inline\n",
    "import matplotlib.pyplot as plt\n",
    "import numpy as np\n",
    "import pandas as pd\n",
    "import pickle\n",
    "import re\n",
    "from scipy import stats\n",
    "from pyspan.utils import *\n",
    "from pyspan.plurals.analysis import *\n",
    "assert not mturk\n",
    "from pyspan.plurals.preprocess import *\n",
    "from pyspan.plurals.utils import *"
   ]
  },
  {
   "cell_type": "markdown",
   "metadata": {},
   "source": [
    "## Demographics"
   ]
  },
  {
   "cell_type": "code",
   "execution_count": 3,
   "metadata": {},
   "outputs": [
    {
     "data": {
      "text/plain": [
       "(189, 53, 104)"
      ]
     },
     "execution_count": 3,
     "metadata": {},
     "output_type": "execute_result"
    }
   ],
   "source": [
    "gender_raw = pd.read_csv(\"{}in-lab/Gender.csv\".format(BASE_DIR))\n",
    "len(gender_raw), len(gender.loc[gender.ident == \"MALE\"]), len(gender.loc[gender.ident == \"FEMALE\"])"
   ]
  },
  {
   "cell_type": "code",
   "execution_count": 4,
   "metadata": {},
   "outputs": [
    {
     "name": "stdout",
     "output_type": "stream",
     "text": [
      "Age: 24.0 (SE = 0.87577981894)\n",
      "Gender: [('Female', 104)]\n"
     ]
    }
   ],
   "source": [
    "demographic_info(gender.loc[gender.ident == \"FEMALE\"])"
   ]
  },
  {
   "cell_type": "code",
   "execution_count": 5,
   "metadata": {},
   "outputs": [
    {
     "name": "stdout",
     "output_type": "stream",
     "text": [
      "Age: 24.4716981132 (SE = 1.33410215988)\n",
      "Gender: [('Male', 53)]\n"
     ]
    }
   ],
   "source": [
    "demographic_info(gender.loc[gender.ident == \"MALE\"])"
   ]
  },
  {
   "cell_type": "markdown",
   "metadata": {},
   "source": [
    "### Between subjects"
   ]
  },
  {
   "cell_type": "markdown",
   "metadata": {},
   "source": [
    "#### 60% item selection threshold"
   ]
  },
  {
   "cell_type": "markdown",
   "metadata": {},
   "source": [
    "##### Logistic regression"
   ]
  },
  {
   "cell_type": "markdown",
   "metadata": {},
   "source": [
    "Selection of positive word ~ Participant's gender identity + Condition + Participant's gender identity * Condition + Dummy indicating whether or not this was the first survey the participant took (including participant-level effects)"
   ]
  },
  {
   "cell_type": "markdown",
   "metadata": {},
   "source": [
    "We hypothesize that the coefficient on Participant's gender identity * Condition will be positive. We will commit to throwing out all data from the gender survey by participants who did not take the survey first if the order dummy has a non-zero coefficient."
   ]
  },
  {
   "cell_type": "code",
   "execution_count": 6,
   "metadata": {},
   "outputs": [],
   "source": [
    "gdummied, Y = dummy(gender, [ \"MALE\", \"FEMALE\" ],\n",
    "                    sets = np.stack((positive60, \n",
    "                                     negative60)))"
   ]
  },
  {
   "cell_type": "code",
   "execution_count": 7,
   "metadata": {},
   "outputs": [],
   "source": [
    "X, Y = df_to_matrix(gdummied, Y, columns = { 0: \"id\",\n",
    "                                             1: \"condition\",\n",
    "                                             2: (0,1), \n",
    "                                             3: \"order\" })"
   ]
  },
  {
   "cell_type": "code",
   "execution_count": 8,
   "metadata": {},
   "outputs": [
    {
     "name": "stderr",
     "output_type": "stream",
     "text": [
      "/Users/sabinasloman/.pyenv/versions/2.7.17/envs/lop_env/lib/python2.7/site-packages/sklearn/model_selection/_split.py:2052: FutureWarning: You should specify a value for 'cv' instead of relying on the default value. The default value will change from 3 to 5 in version 0.22.\n",
      "  warnings.warn(CV_WARNING, FutureWarning)\n"
     ]
    },
    {
     "name": "stdout",
     "output_type": "stream",
     "text": [
      "[0. 0. 0. 0.]\n"
     ]
    },
    {
     "data": {
      "text/plain": [
       "0.5"
      ]
     },
     "execution_count": 8,
     "metadata": {},
     "output_type": "execute_result"
    }
   ],
   "source": [
    "logit = SparseLR(Y, X); print logit.coef[:4]; logit.auc "
   ]
  },
  {
   "cell_type": "markdown",
   "metadata": {},
   "source": [
    "##### t-tests"
   ]
  },
  {
   "cell_type": "code",
   "execution_count": 9,
   "metadata": {},
   "outputs": [
    {
     "name": "stderr",
     "output_type": "stream",
     "text": [
      "/Users/sabinasloman/.pyenv/versions/2.7.17/envs/lop_env/lib/python2.7/site-packages/ipykernel_launcher.py:5: SettingWithCopyWarning: \n",
      "A value is trying to be set on a copy of a slice from a DataFrame.\n",
      "Try using .loc[row_indexer,col_indexer] = value instead\n",
      "\n",
      "See the caveats in the documentation: http://pandas.pydata.org/pandas-docs/stable/indexing.html#indexing-view-versus-copy\n",
      "  \"\"\"\n"
     ]
    }
   ],
   "source": [
    "gsummary = gender[[\"Condition\", \"ident\"]]\n",
    "dat = gender[ixs].values\n",
    "props = np.apply_along_axis(get_prop, 1, dat, positive60,\n",
    "                            negative60)\n",
    "gsummary[\"ppos\"] = props\n",
    "assert gsummary.values.shape == (len(gender), 3)"
   ]
  },
  {
   "cell_type": "markdown",
   "metadata": {},
   "source": [
    "For participants in the male condition, the difference in means mean(% positive words chosen amongst males) - mean(% positive words chosen amongst females) > 0."
   ]
  },
  {
   "cell_type": "code",
   "execution_count": 10,
   "metadata": {},
   "outputs": [
    {
     "data": {
      "text/plain": [
       "Ttest_indResult(statistic=0.5734117289405796, pvalue=0.5686661620858503)"
      ]
     },
     "execution_count": 10,
     "metadata": {},
     "output_type": "execute_result"
    }
   ],
   "source": [
    "a = gsummary.loc[(gsummary[\"Condition\"] == \"MALE\") & (gsummary[\"ident\"] == \"MALE\")][\"ppos\"].values\n",
    "b = gsummary.loc[(gsummary[\"Condition\"] == \"MALE\") & (gsummary[\"ident\"] == \"FEMALE\")][\"ppos\"].values\n",
    "stats.ttest_ind(a, b, equal_var = False)"
   ]
  },
  {
   "cell_type": "markdown",
   "metadata": {},
   "source": [
    "For participants in the female condition, the difference in means mean(% positive words chosen amongst females) - mean(% positive words chosen amongst males) > 0."
   ]
  },
  {
   "cell_type": "code",
   "execution_count": 11,
   "metadata": {},
   "outputs": [
    {
     "data": {
      "text/plain": [
       "Ttest_indResult(statistic=1.161959145849565, pvalue=0.25027571718281966)"
      ]
     },
     "execution_count": 11,
     "metadata": {},
     "output_type": "execute_result"
    }
   ],
   "source": [
    "a = gsummary.loc[(gsummary[\"Condition\"] == \"FEMALE\") & (gsummary[\"ident\"] == \"FEMALE\")][\"ppos\"].values\n",
    "b = gsummary.loc[(gsummary[\"Condition\"] == \"FEMALE\") & (gsummary[\"ident\"] == \"MALE\")][\"ppos\"].values\n",
    "stats.ttest_ind(a, b, equal_var = False)"
   ]
  },
  {
   "cell_type": "markdown",
   "metadata": {},
   "source": [
    "The difference in means mean(% positive words chosen amongst those whose condition matched their gender identity) - mean(% positive words chosen amongst those whose condition didn't match their gender identity) > 0"
   ]
  },
  {
   "cell_type": "code",
   "execution_count": 12,
   "metadata": {},
   "outputs": [
    {
     "data": {
      "text/plain": [
       "Ttest_indResult(statistic=0.9056742597351738, pvalue=0.3665166357032258)"
      ]
     },
     "execution_count": 12,
     "metadata": {},
     "output_type": "execute_result"
    }
   ],
   "source": [
    "a = gsummary.loc[gsummary[\"Condition\"] == gsummary[\"ident\"]][\"ppos\"].values\n",
    "b = gsummary.loc[gsummary[\"Condition\"] != gsummary[\"ident\"]][\"ppos\"].values\n",
    "stats.ttest_ind(a, b, equal_var = False)"
   ]
  },
  {
   "cell_type": "markdown",
   "metadata": {},
   "source": [
    "Calculate the degrees of freedom."
   ]
  },
  {
   "cell_type": "code",
   "execution_count": 13,
   "metadata": {},
   "outputs": [
    {
     "data": {
      "text/plain": [
       "154.70515733051286"
      ]
     },
     "execution_count": 13,
     "metadata": {},
     "output_type": "execute_result"
    }
   ],
   "source": [
    "var_a = np.var(a, ddof = 1) / len(a)\n",
    "var_b = np.var(b, ddof = 1) / len(b)\n",
    "num = (var_a + var_b)**2\n",
    "denom = (var_a**2 / (len(a) - 1)) + (var_b**2 / (len(b) - 1))\n",
    "num / denom"
   ]
  },
  {
   "cell_type": "code",
   "execution_count": 14,
   "metadata": {},
   "outputs": [
    {
     "data": {
      "text/plain": [
       "0.1426954484574329"
      ]
     },
     "execution_count": 14,
     "metadata": {},
     "output_type": "execute_result"
    }
   ],
   "source": [
    "cohensd(a, b)"
   ]
  },
  {
   "cell_type": "markdown",
   "metadata": {},
   "source": [
    "#### 80% item selection threshold"
   ]
  },
  {
   "cell_type": "markdown",
   "metadata": {},
   "source": [
    "##### Logistic regression"
   ]
  },
  {
   "cell_type": "markdown",
   "metadata": {},
   "source": [
    "Selection of positive word ~ Participant's gender identity + Condition + Participant's gender identity * Condition + Dummy indicating whether or not this was the first survey the participant took (including participant-level effects)"
   ]
  },
  {
   "cell_type": "code",
   "execution_count": 15,
   "metadata": {},
   "outputs": [],
   "source": [
    "gdummied, Y = dummy(gender, sets = np.stack((positive80, \n",
    "                                              negative80)),\n",
    "                    classes = [ \"MALE\", \"FEMALE\" ])"
   ]
  },
  {
   "cell_type": "code",
   "execution_count": 16,
   "metadata": {},
   "outputs": [],
   "source": [
    "X, Y = df_to_matrix(gdummied, Y, columns = { 0: \"id\",\n",
    "                                             1: \"condition\",\n",
    "                                             2: (0,1), \n",
    "                                             3: \"order\" })"
   ]
  },
  {
   "cell_type": "code",
   "execution_count": 17,
   "metadata": {},
   "outputs": [
    {
     "name": "stdout",
     "output_type": "stream",
     "text": [
      "[0. 0. 0. 0.]\n"
     ]
    },
    {
     "data": {
      "text/plain": [
       "0.5"
      ]
     },
     "execution_count": 17,
     "metadata": {},
     "output_type": "execute_result"
    }
   ],
   "source": [
    "logit = SparseLR(Y, X); print logit.coef[:4]; logit.auc"
   ]
  },
  {
   "cell_type": "markdown",
   "metadata": {},
   "source": [
    "##### t-tests"
   ]
  },
  {
   "cell_type": "code",
   "execution_count": 18,
   "metadata": {},
   "outputs": [
    {
     "name": "stderr",
     "output_type": "stream",
     "text": [
      "/Users/sabinasloman/.pyenv/versions/2.7.17/envs/lop_env/lib/python2.7/site-packages/ipykernel_launcher.py:5: SettingWithCopyWarning: \n",
      "A value is trying to be set on a copy of a slice from a DataFrame.\n",
      "Try using .loc[row_indexer,col_indexer] = value instead\n",
      "\n",
      "See the caveats in the documentation: http://pandas.pydata.org/pandas-docs/stable/indexing.html#indexing-view-versus-copy\n",
      "  \"\"\"\n"
     ]
    }
   ],
   "source": [
    "gsummary = gender[[\"Condition\", \"ident\"]]\n",
    "dat = gender[ixs].values\n",
    "props = np.apply_along_axis(get_prop, 1, dat, positive80,\n",
    "                            negative80)\n",
    "gsummary[\"ppos\"] = props\n",
    "assert gsummary.values.shape == (len(gender), 3)"
   ]
  },
  {
   "cell_type": "markdown",
   "metadata": {},
   "source": [
    "For participants in the male condition, the difference in means mean(% positive words chosen amongst males) - mean(% positive words chosen amongst females) > 0."
   ]
  },
  {
   "cell_type": "code",
   "execution_count": 19,
   "metadata": {},
   "outputs": [
    {
     "data": {
      "text/plain": [
       "Ttest_indResult(statistic=1.013491294307676, pvalue=0.3174742983108879)"
      ]
     },
     "execution_count": 19,
     "metadata": {},
     "output_type": "execute_result"
    }
   ],
   "source": [
    "a = gsummary.loc[(gsummary[\"Condition\"] == \"MALE\") & (gsummary[\"ident\"] == \"MALE\")][\"ppos\"].values\n",
    "b = gsummary.loc[(gsummary[\"Condition\"] == \"MALE\") & (gsummary[\"ident\"] == \"FEMALE\")][\"ppos\"].values\n",
    "stats.ttest_ind(a, b, equal_var = False)"
   ]
  },
  {
   "cell_type": "markdown",
   "metadata": {},
   "source": [
    "For participants in the female condition, the difference in means mean(% positive words chosen amongst females) - mean(% positive words chosen amongst males) > 0."
   ]
  },
  {
   "cell_type": "code",
   "execution_count": 20,
   "metadata": {},
   "outputs": [
    {
     "data": {
      "text/plain": [
       "Ttest_indResult(statistic=1.3695766379680065, pvalue=0.17679572821015874)"
      ]
     },
     "execution_count": 20,
     "metadata": {},
     "output_type": "execute_result"
    }
   ],
   "source": [
    "a = gsummary.loc[(gsummary[\"Condition\"] == \"FEMALE\") & (gsummary[\"ident\"] == \"FEMALE\")][\"ppos\"].values\n",
    "b = gsummary.loc[(gsummary[\"Condition\"] == \"FEMALE\") & (gsummary[\"ident\"] == \"MALE\")][\"ppos\"].values\n",
    "stats.ttest_ind(a, b, equal_var = False)"
   ]
  },
  {
   "cell_type": "markdown",
   "metadata": {},
   "source": [
    "The difference in means mean(% positive words chosen amongst those whose condition matched their gender identity) - mean(% positive words chosen amongst those whose condition didn't match their gender identity) > 0"
   ]
  },
  {
   "cell_type": "code",
   "execution_count": 21,
   "metadata": {},
   "outputs": [
    {
     "data": {
      "text/plain": [
       "Ttest_indResult(statistic=2.440305987849316, pvalue=0.015856380643959132)"
      ]
     },
     "execution_count": 21,
     "metadata": {},
     "output_type": "execute_result"
    }
   ],
   "source": [
    "a = gsummary.loc[gsummary[\"Condition\"] == gsummary[\"ident\"]][\"ppos\"]\n",
    "b = gsummary.loc[gsummary[\"Condition\"] != gsummary[\"ident\"]][\"ppos\"]\n",
    "stats.ttest_ind(a, b, equal_var = False)"
   ]
  },
  {
   "cell_type": "markdown",
   "metadata": {},
   "source": [
    "Calculate the degrees of freedom."
   ]
  },
  {
   "cell_type": "code",
   "execution_count": 22,
   "metadata": {},
   "outputs": [
    {
     "data": {
      "text/plain": [
       "147.9463462869692"
      ]
     },
     "execution_count": 22,
     "metadata": {},
     "output_type": "execute_result"
    }
   ],
   "source": [
    "var_a = np.var(a, ddof = 1) / len(a)\n",
    "var_b = np.var(b, ddof = 1) / len(b)\n",
    "num = (var_a + var_b)**2\n",
    "denom = (var_a**2 / (len(a) - 1)) + (var_b**2 / (len(b) - 1))\n",
    "num / denom"
   ]
  },
  {
   "cell_type": "code",
   "execution_count": 23,
   "metadata": {},
   "outputs": [
    {
     "data": {
      "text/plain": [
       "0.3917790570486218"
      ]
     },
     "execution_count": 23,
     "metadata": {},
     "output_type": "execute_result"
    }
   ],
   "source": [
    "cohensd(a, b)"
   ]
  },
  {
   "cell_type": "markdown",
   "metadata": {},
   "source": [
    "### Within-subjects"
   ]
  },
  {
   "cell_type": "markdown",
   "metadata": {},
   "source": [
    "#### Logistic regression"
   ]
  },
  {
   "cell_type": "markdown",
   "metadata": {},
   "source": [
    "Selection of positive word ~ Participant's gender identity + Condition + Participant's gender identity * Condition + Dummy indicating whether or not the participant took the gender survey before the valence survey (including participant-level effects)"
   ]
  },
  {
   "cell_type": "markdown",
   "metadata": {},
   "source": [
    "We hypothesize that the coefficient on Participant's gender identity * Condition will be positive. "
   ]
  },
  {
   "cell_type": "code",
   "execution_count": 24,
   "metadata": {},
   "outputs": [],
   "source": [
    "# Pre-registered: \"The within-subject analyses would be run\n",
    "# both for items within each pre-specified valence category\n",
    "# (25 positive items, 25 negative items and 25 neutral\n",
    "# items), and using all 75 non-distractor items.\"\n",
    "#\n",
    "# Change the ixs_ variable below to restrict the subset of\n",
    "# stims used for analysis\n",
    "ixs_ = np.arange(100, 125) # Positive items\n",
    "ixs_ = np.arange(125, 150) # Negative items\n",
    "ixs_ = np.arange(150, 175) # Neutral items\n",
    "ixs_ = np.arange(100, 175) # Positive, negative and neutral\n",
    "# items"
   ]
  },
  {
   "cell_type": "code",
   "execution_count": 25,
   "metadata": {},
   "outputs": [],
   "source": [
    "gdummied_ws, Y = dummy(gender, \n",
    "                       classes = [ \"MALE\", \"FEMALE\" ], \n",
    "                       within = True, \n",
    "                       ixs = ixs_)\n",
    "X, Y = df_to_matrix(gdummied_ws, Y, \n",
    "                    columns = { 0: \"id\", 1: \"condition\", \n",
    "                                2: (0,1), 3: \"order\" }, \n",
    "                    ixs = ixs_)"
   ]
  },
  {
   "cell_type": "code",
   "execution_count": 26,
   "metadata": {},
   "outputs": [
    {
     "name": "stdout",
     "output_type": "stream",
     "text": [
      "[0.         0.         0.04628255 0.        ]\n"
     ]
    },
    {
     "data": {
      "text/plain": [
       "0.5306000945410451"
      ]
     },
     "execution_count": 26,
     "metadata": {},
     "output_type": "execute_result"
    }
   ],
   "source": [
    "logit = SparseLR(Y, X); print logit.coef[:4]; logit.auc"
   ]
  },
  {
   "cell_type": "markdown",
   "metadata": {},
   "source": [
    "#### t-tests"
   ]
  },
  {
   "cell_type": "code",
   "execution_count": 27,
   "metadata": {},
   "outputs": [
    {
     "name": "stderr",
     "output_type": "stream",
     "text": [
      "/Users/sabinasloman/Box/LoP/pyspan/pyspan/plurals/analysis.py:29: SettingWithCopyWarning: \n",
      "A value is trying to be set on a copy of a slice from a DataFrame.\n",
      "Try using .loc[row_indexer,col_indexer] = value instead\n",
      "\n",
      "See the caveats in the documentation: http://pandas.pydata.org/pandas-docs/stable/indexing.html#indexing-view-versus-copy\n",
      "  summary[\"p\"] = props\n"
     ]
    }
   ],
   "source": [
    "gsummary_ws = summarize(gdummied_ws, ixs_)"
   ]
  },
  {
   "cell_type": "markdown",
   "metadata": {},
   "source": [
    "For participants in the male condition, the difference in means mean(% positive words chosen amongst males) - mean(% positive words chosen amongst females) > 0."
   ]
  },
  {
   "cell_type": "code",
   "execution_count": 28,
   "metadata": {},
   "outputs": [
    {
     "data": {
      "text/plain": [
       "Ttest_indResult(statistic=0.3405812551557937, pvalue=0.7362407325351605)"
      ]
     },
     "execution_count": 28,
     "metadata": {},
     "output_type": "execute_result"
    }
   ],
   "source": [
    "stats.ttest_ind(gsummary_ws.loc[(gsummary_ws[\"Condition\"] == 1) & (gsummary_ws[\"ident\"] == 1)][\"p\"],\n",
    "                gsummary_ws.loc[(gsummary_ws[\"Condition\"] == 1) & (gsummary_ws[\"ident\"] == 0)][\"p\"][~np.isnan(gsummary_ws.loc[(gsummary_ws[\"Condition\"] == 1) & (gsummary_ws[\"ident\"] == 0)][\"p\"])],\n",
    "                equal_var = False)"
   ]
  },
  {
   "cell_type": "markdown",
   "metadata": {},
   "source": [
    "For participants in the female condition, the difference in means mean(% positive words chosen amongst females) - mean(% positive words chosen amongst males) > 0."
   ]
  },
  {
   "cell_type": "code",
   "execution_count": 29,
   "metadata": {},
   "outputs": [
    {
     "data": {
      "text/plain": [
       "Ttest_indResult(statistic=3.0081943370891953, pvalue=0.004581025358360105)"
      ]
     },
     "execution_count": 29,
     "metadata": {},
     "output_type": "execute_result"
    }
   ],
   "source": [
    "stats.ttest_ind(gsummary_ws.loc[(gsummary_ws[\"Condition\"] == 0) & (gsummary_ws[\"ident\"] == 0)][\"p\"],\n",
    "                gsummary_ws.loc[(gsummary_ws[\"Condition\"] == 0) & (gsummary_ws[\"ident\"] == 1)][\"p\"],\n",
    "                equal_var = False)"
   ]
  },
  {
   "cell_type": "markdown",
   "metadata": {},
   "source": [
    "The difference in means mean(% positive words chosen amongst those whose condition matched their gender identity) - mean(% positive words chosen amongst those whose condition didn't match their gender identity) > 0"
   ]
  },
  {
   "cell_type": "code",
   "execution_count": 30,
   "metadata": {},
   "outputs": [
    {
     "data": {
      "text/plain": [
       "Ttest_indResult(statistic=2.5626945178296414, pvalue=0.011747757560593628)"
      ]
     },
     "execution_count": 30,
     "metadata": {},
     "output_type": "execute_result"
    }
   ],
   "source": [
    "a = gsummary_ws.loc[gsummary_ws[\"Condition\"] == gsummary_ws[\"ident\"]][\"p\"]\n",
    "b = gsummary_ws.loc[gsummary_ws[\"Condition\"] != gsummary_ws[\"ident\"]][\"p\"][~np.isnan(gsummary_ws.loc[gsummary_ws[\"Condition\"] != gsummary_ws[\"ident\"]][\"p\"])]\n",
    "stats.ttest_ind(a, b, equal_var = False)"
   ]
  },
  {
   "cell_type": "markdown",
   "metadata": {},
   "source": [
    "Calculate the degrees of freedom."
   ]
  },
  {
   "cell_type": "code",
   "execution_count": 31,
   "metadata": {},
   "outputs": [
    {
     "data": {
      "text/plain": [
       "109.22185444746182"
      ]
     },
     "execution_count": 31,
     "metadata": {},
     "output_type": "execute_result"
    }
   ],
   "source": [
    "var_a = np.var(a, ddof = 1) / len(a)\n",
    "var_b = np.var(b, ddof = 1) / len(b)\n",
    "num = (var_a + var_b)**2\n",
    "denom = (var_a**2 / (len(a) - 1)) + (var_b**2 / (len(b) - 1))\n",
    "num / denom"
   ]
  },
  {
   "cell_type": "code",
   "execution_count": 32,
   "metadata": {},
   "outputs": [
    {
     "data": {
      "text/plain": [
       "0.4556248175088296"
      ]
     },
     "execution_count": 32,
     "metadata": {},
     "output_type": "execute_result"
    }
   ],
   "source": [
    "cohensd(a, b)"
   ]
  }
 ],
 "metadata": {
  "kernelspec": {
   "display_name": "Python 2",
   "language": "python",
   "name": "python2"
  },
  "language_info": {
   "codemirror_mode": {
    "name": "ipython",
    "version": 2
   },
   "file_extension": ".py",
   "mimetype": "text/x-python",
   "name": "python",
   "nbconvert_exporter": "python",
   "pygments_lexer": "ipython2",
   "version": "2.7.17"
  }
 },
 "nbformat": 4,
 "nbformat_minor": 2
}
