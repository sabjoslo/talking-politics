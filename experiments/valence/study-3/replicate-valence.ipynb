{
 "cells": [
  {
   "cell_type": "markdown",
   "metadata": {},
   "source": [
    "Analyses pre-registered for Valence Survey (testing the pluralization magnitude hypothesis).\n",
    "\n",
    "Pre-registration: https://osf.io/de935"
   ]
  },
  {
   "cell_type": "code",
   "execution_count": 1,
   "metadata": {},
   "outputs": [],
   "source": [
    "import warnings\n",
    "warnings.filterwarnings('ignore')"
   ]
  },
  {
   "cell_type": "code",
   "execution_count": 2,
   "metadata": {},
   "outputs": [],
   "source": [
    "from __future__ import division\n",
    "%matplotlib inline\n",
    "from matplotlib.patches import Patch\n",
    "import matplotlib.pyplot as plt\n",
    "import numpy as np\n",
    "import pandas as pd\n",
    "from pyspan.config import *\n",
    "from pyspan.plurals.analysis import *\n",
    "assert mturk"
   ]
  },
  {
   "cell_type": "code",
   "execution_count": 3,
   "metadata": {},
   "outputs": [],
   "source": [
    "# Comment to include participants who failed the attention check\n",
    "valence = valence.loc[valence.atc_passed]"
   ]
  },
  {
   "cell_type": "code",
   "execution_count": 4,
   "metadata": {},
   "outputs": [
    {
     "data": {
      "text/plain": [
       "NEGATIVE    163\n",
       "POSITIVE    117\n",
       "Name: Condition, dtype: int64"
      ]
     },
     "execution_count": 4,
     "metadata": {},
     "output_type": "execute_result"
    }
   ],
   "source": [
    "valence.Condition.value_counts()"
   ]
  },
  {
   "cell_type": "markdown",
   "metadata": {},
   "source": [
    "## Logistic regression"
   ]
  },
  {
   "cell_type": "markdown",
   "metadata": {},
   "source": [
    "Selection of plural ~ Valence of item + Condition + Valence of item * Condition + Dummy indicating whether or not this was the first survey the participant took + participant-level fixed effects"
   ]
  },
  {
   "cell_type": "markdown",
   "metadata": {},
   "source": [
    "We hypothesize that the coefficient on Valence of item * Condition will be positive."
   ]
  },
  {
   "cell_type": "code",
   "execution_count": 5,
   "metadata": {},
   "outputs": [],
   "source": [
    "vdummied, Y = dummy(valence, classes = [ \"POSITIVE\", \"NEGATIVE\" ],\n",
    "                    sets = np.stack((words[\"large\"], words[\"small\"])),\n",
    "                    ixs = ixs)"
   ]
  },
  {
   "cell_type": "code",
   "execution_count": 6,
   "metadata": {},
   "outputs": [],
   "source": [
    "def valence_condition_interaction(v, c):\n",
    "    c = c if c == 1 else -1\n",
    "    return v*c\n",
    "valence_condition_interaction = np.vectorize(valence_condition_interaction)\n",
    "X, Y = df_to_matrix(vdummied, Y, ixs = ixs,\n",
    "                    columns = { 0: \"valence\", 1: \"condition\", \n",
    "                                2: (0,1,valence_condition_interaction), \n",
    "                                3: \"order\" })"
   ]
  },
  {
   "cell_type": "code",
   "execution_count": 7,
   "metadata": {},
   "outputs": [
    {
     "name": "stdout",
     "output_type": "stream",
     "text": [
      "[0.08512167 0.44791085 0.53328082 0.        ]\n"
     ]
    },
    {
     "data": {
      "text/plain": [
       "0.7768210089717392"
      ]
     },
     "execution_count": 7,
     "metadata": {},
     "output_type": "execute_result"
    }
   ],
   "source": [
    "logit = SparseLR(Y, X); print logit.coef[:4]; logit.auc"
   ]
  },
  {
   "cell_type": "markdown",
   "metadata": {},
   "source": [
    "## t-tests"
   ]
  },
  {
   "cell_type": "markdown",
   "metadata": {},
   "source": [
    "For each participant, compute the proportion of positive items for which the participant chose the pluralized form of the word, the proportion of neutral items for which the participant chose the pluralized form of the word, and the proportion of negative items for which the participant chose the pluralized form of the word."
   ]
  },
  {
   "cell_type": "code",
   "execution_count": 8,
   "metadata": {},
   "outputs": [],
   "source": [
    "vsummary = valence[[\"Condition\"]]\n",
    "dat = valence[ixs].values\n",
    "vsummary[\"pos_lg\"] = np.apply_along_axis(get_prop, 1, dat,\n",
    "                                         pos_lg, pos_sm)\n",
    "vsummary[\"neu_lg\"] = np.apply_along_axis(get_prop, 1, dat,\n",
    "                                         neu_lg, neu_sm)\n",
    "vsummary[\"neg_lg\"] = np.apply_along_axis(get_prop, 1, dat,\n",
    "                                         neg_lg, neg_sm)\n",
    "assert vsummary.values.shape == (len(valence), 4)"
   ]
  },
  {
   "cell_type": "markdown",
   "metadata": {},
   "source": [
    "### Positive condition"
   ]
  },
  {
   "cell_type": "markdown",
   "metadata": {},
   "source": [
    "Hypothesis: mean(% pluralized positive items chosen) - mean(% pluralized neutral items chosen) > 0"
   ]
  },
  {
   "cell_type": "code",
   "execution_count": 9,
   "metadata": {},
   "outputs": [
    {
     "data": {
      "text/plain": [
       "(8.896458848254882, 4.5294639563930685e-15)"
      ]
     },
     "execution_count": 9,
     "metadata": {},
     "output_type": "execute_result"
    }
   ],
   "source": [
    "a = vsummary.loc[vsummary[\"Condition\"] == \"POSITIVE\"][\"pos_lg\"].values\n",
    "b = vsummary.loc[vsummary[\"Condition\"] == \"POSITIVE\"][\"neu_lg\"].values\n",
    "t, p = stats.ttest_rel(a, b)\n",
    "# Divide two-sided p-value by two for a one-sided test\n",
    "t, p/2"
   ]
  },
  {
   "cell_type": "markdown",
   "metadata": {},
   "source": [
    "Hypothesis: mean(% pluralized negative items chosen) - mean(% pluralized neutral items chosen) < 0"
   ]
  },
  {
   "cell_type": "code",
   "execution_count": 10,
   "metadata": {},
   "outputs": [
    {
     "data": {
      "text/plain": [
       "(-16.887547973142635, 2.4247759983469588e-33)"
      ]
     },
     "execution_count": 10,
     "metadata": {},
     "output_type": "execute_result"
    }
   ],
   "source": [
    "a = vsummary.loc[vsummary[\"Condition\"] == \"POSITIVE\"][\"neg_lg\"].values\n",
    "b = vsummary.loc[vsummary[\"Condition\"] == \"POSITIVE\"][\"neu_lg\"].values\n",
    "t, p = stats.ttest_rel(a, b)\n",
    "# Divide two-sided p-value by two for a one-sided test\n",
    "t, p/2"
   ]
  },
  {
   "cell_type": "markdown",
   "metadata": {},
   "source": [
    "### Negative condition"
   ]
  },
  {
   "cell_type": "markdown",
   "metadata": {},
   "source": [
    "Hypothesis: mean(% pluralized negative items chosen) - mean(% pluralized neutral items chosen) > 0"
   ]
  },
  {
   "cell_type": "code",
   "execution_count": 11,
   "metadata": {},
   "outputs": [
    {
     "data": {
      "text/plain": [
       "(16.484022497063364, 8.95299089554991e-37)"
      ]
     },
     "execution_count": 11,
     "metadata": {},
     "output_type": "execute_result"
    }
   ],
   "source": [
    "a = vsummary.loc[vsummary[\"Condition\"] == \"NEGATIVE\"][\"neg_lg\"].values\n",
    "b = vsummary.loc[vsummary[\"Condition\"] == \"NEGATIVE\"][\"neu_lg\"].values\n",
    "t, p = stats.ttest_rel(a, b)\n",
    "# Divide two-sided p-value by two for a one-sided test\n",
    "t, p/2"
   ]
  },
  {
   "cell_type": "markdown",
   "metadata": {},
   "source": [
    "Hypothesis: mean(% pluralized positive items chosen) - mean(% pluralized neutral items chosen) < 0"
   ]
  },
  {
   "cell_type": "code",
   "execution_count": 12,
   "metadata": {},
   "outputs": [
    {
     "data": {
      "text/plain": [
       "(-6.89699300433243, 5.651916326725962e-11)"
      ]
     },
     "execution_count": 12,
     "metadata": {},
     "output_type": "execute_result"
    }
   ],
   "source": [
    "a = vsummary.loc[vsummary[\"Condition\"] == \"NEGATIVE\"][\"pos_lg\"].values\n",
    "b = vsummary.loc[vsummary[\"Condition\"] == \"NEGATIVE\"][\"neu_lg\"].values\n",
    "t, p = stats.ttest_rel(a, b)\n",
    "# Divide two-sided p-value by two for a one-sided test\n",
    "t, p/2"
   ]
  },
  {
   "cell_type": "markdown",
   "metadata": {},
   "source": [
    "### Combining conditions"
   ]
  },
  {
   "cell_type": "markdown",
   "metadata": {},
   "source": [
    "Recode observations in the negative condition to be the opposite of what participants chose."
   ]
  },
  {
   "cell_type": "code",
   "execution_count": 13,
   "metadata": {},
   "outputs": [],
   "source": [
    "vpos = vsummary.loc[vsummary[\"Condition\"] == \"POSITIVE\"]\n",
    "vneg = vsummary.loc[vsummary[\"Condition\"] == \"NEGATIVE\"]\n",
    "vneg[\"pos_lg\"] = 1 - vneg[\"pos_lg\"]\n",
    "vneg[\"neu_lg\"] = 1 - vneg[\"neu_lg\"]\n",
    "vneg[\"neg_lg\"] = 1 - vneg[\"neg_lg\"]\n",
    "vrecoded = pd.concat([ vpos, vneg ])\n",
    "assert len(vrecoded) == len(vpos) + len(vneg)"
   ]
  },
  {
   "cell_type": "markdown",
   "metadata": {},
   "source": [
    "Hypothesis: mean(% pluralized positive items chosen) - mean(% pluralized neutral items chosen) > 0"
   ]
  },
  {
   "cell_type": "code",
   "execution_count": 14,
   "metadata": {},
   "outputs": [
    {
     "data": {
      "text/plain": [
       "(0.772420634920635,\n",
       " 0.01656308058935954,\n",
       " 0.633531746031746,\n",
       " 0.01692723204061013)"
      ]
     },
     "execution_count": 14,
     "metadata": {},
     "output_type": "execute_result"
    }
   ],
   "source": [
    "# Descriptive statistics\n",
    "a = vrecoded[\"pos_lg\"].values\n",
    "b = vrecoded[\"neu_lg\"].values\n",
    "np.mean(a), stats.sem(a), np.mean(b), stats.sem(b)"
   ]
  },
  {
   "cell_type": "code",
   "execution_count": 15,
   "metadata": {},
   "outputs": [
    {
     "data": {
      "text/plain": [
       "(0.13888888888888895, 0.1134726918619609, 0.164305085915817)"
      ]
     },
     "execution_count": 15,
     "metadata": {},
     "output_type": "execute_result"
    }
   ],
   "source": [
    "# Difference in means\n",
    "delta = np.mean(a) - np.mean(b)\n",
    "se_delta = np.sqrt(np.var(a - b, ddof = 1) / len(a))\n",
    "delta, delta - 2*se_delta, delta + 2*se_delta"
   ]
  },
  {
   "cell_type": "code",
   "execution_count": 16,
   "metadata": {},
   "outputs": [
    {
     "data": {
      "text/plain": [
       "(10.929163693666554, 1.1115512005415715e-23, 279)"
      ]
     },
     "execution_count": 16,
     "metadata": {},
     "output_type": "execute_result"
    }
   ],
   "source": [
    "t, p = stats.ttest_rel(a, b)\n",
    "# Divide two-sided p-value by two for a one-sided test\n",
    "t, p/2, len(a)-1"
   ]
  },
  {
   "cell_type": "markdown",
   "metadata": {},
   "source": [
    "Hypothesis: mean(% pluralized negative items chosen) - mean(% pluralized neutral items chosen) < 0"
   ]
  },
  {
   "cell_type": "code",
   "execution_count": 17,
   "metadata": {},
   "outputs": [
    {
     "data": {
      "text/plain": [
       "(0.16579365079365077,\n",
       " 0.016498759352768226,\n",
       " 0.633531746031746,\n",
       " 0.01692723204061013)"
      ]
     },
     "execution_count": 17,
     "metadata": {},
     "output_type": "execute_result"
    }
   ],
   "source": [
    "# Descriptive statistics\n",
    "a = vrecoded[\"neg_lg\"].values\n",
    "b = vrecoded[\"neu_lg\"].values\n",
    "np.mean(a), stats.sem(a), np.mean(b), stats.sem(b)"
   ]
  },
  {
   "cell_type": "code",
   "execution_count": 18,
   "metadata": {},
   "outputs": [
    {
     "data": {
      "text/plain": [
       "(-0.46773809523809523, -0.5078072228609226, -0.42766896761526785)"
      ]
     },
     "execution_count": 18,
     "metadata": {},
     "output_type": "execute_result"
    }
   ],
   "source": [
    "# Difference in means\n",
    "delta = np.mean(a) - np.mean(b)\n",
    "se_delta = np.sqrt(np.var(a - b, ddof = 1) / len(a))\n",
    "delta, delta - 2*se_delta, delta + 2*se_delta"
   ]
  },
  {
   "cell_type": "code",
   "execution_count": 19,
   "metadata": {},
   "outputs": [
    {
     "data": {
      "text/plain": [
       "(-23.346557461441947, 7.113592452730828e-68, 279)"
      ]
     },
     "execution_count": 19,
     "metadata": {},
     "output_type": "execute_result"
    }
   ],
   "source": [
    "t, p = stats.ttest_rel(a, b)\n",
    "# Divide two-sided p-value by two for a one-sided test\n",
    "t, p/2, len(a)-1"
   ]
  },
  {
   "cell_type": "markdown",
   "metadata": {},
   "source": [
    "**Figure 3**"
   ]
  },
  {
   "cell_type": "code",
   "execution_count": 20,
   "metadata": {},
   "outputs": [
    {
     "data": {
      "image/png": "[encoded data removed]",
      "text/plain": [
       "<Figure size 432x288 with 1 Axes>"
      ]
     },
     "metadata": {
      "needs_background": "light"
     },
     "output_type": "display_data"
    }
   ],
   "source": [
    "fig, ax = plt.subplots(1)\n",
    "x_pp = vsummary.loc[vsummary[\"Condition\"] == \"POSITIVE\"][\"pos_lg\"].values\n",
    "x_pne = vsummary.loc[vsummary[\"Condition\"] == \"POSITIVE\"][\"neu_lg\"].values\n",
    "x_pn = vsummary.loc[vsummary[\"Condition\"] == \"POSITIVE\"][\"neg_lg\"].values\n",
    "x_np = vsummary.loc[vsummary[\"Condition\"] == \"NEGATIVE\"][\"pos_lg\"].values\n",
    "x_nne = vsummary.loc[vsummary[\"Condition\"] == \"NEGATIVE\"][\"neu_lg\"].values\n",
    "x_nn = vsummary.loc[vsummary[\"Condition\"] == \"NEGATIVE\"][\"neg_lg\"].values\n",
    "bplots = ax.boxplot([ x_pp, x_pne, x_pn, np.full(2, fill_value=np.nan), x_np, x_nne,\n",
    "                      x_nn \n",
    "                    ], notch=True, patch_artist=True, sym=\"\", whis=[5,95]\n",
    "                   )\n",
    "bplots[\"boxes\"][0].set_facecolor(\"pink\")\n",
    "bplots[\"boxes\"][1].set_facecolor(\"lightgreen\")\n",
    "bplots[\"boxes\"][2].set_facecolor(\"lightblue\")\n",
    "bplots[\"boxes\"][4].set_facecolor(\"pink\")\n",
    "bplots[\"boxes\"][5].set_facecolor(\"lightgreen\")\n",
    "bplots[\"boxes\"][6].set_facecolor(\"lightblue\")\n",
    "for med in bplots[\"medians\"]:\n",
    "    med.set(linewidth=4)\n",
    "xlim = ax.get_xlim()\n",
    "ylim = ax.get_ylim()\n",
    "ax.set_xlim(*xlim)\n",
    "ax.set_ylim(*ylim)\n",
    "ax.plot(xlim, [.5,.5], color = \"k\", linestyle = \"--\", linewidth = .5)\n",
    "legend_elements = [Patch(facecolor=\"pink\", label=\"Positive words\"),\n",
    "                   Patch(facecolor=\"lightgreen\", label=\"Neutral words\"),\n",
    "                   Patch(facecolor=\"lightblue\", label=\"Negative words\")\n",
    "                  ]\n",
    "ax.legend(handles=legend_elements, loc=(1.01,.7))\n",
    "ax.set_ylabel(\"Proportion plural forms chosen\")\n",
    "ax.set_xticklabels([ \"\", \"Positive condition\", \"\", \"\", \"\", \"Negative condition\", \"\" ])\n",
    "ax.tick_params(axis=\"both\", which=\"both\",length=0)\n",
    "plt.tight_layout()\n",
    "plt.savefig(\"figure3\")"
   ]
  }
 ],
 "metadata": {
  "kernelspec": {
   "display_name": "lop_env",
   "language": "python",
   "name": "lop_env"
  },
  "language_info": {
   "codemirror_mode": {
    "name": "ipython",
    "version": 2
   },
   "file_extension": ".py",
   "mimetype": "text/x-python",
   "name": "python",
   "nbconvert_exporter": "python",
   "pygments_lexer": "ipython2",
   "version": "2.7.17"
  }
 },
 "nbformat": 4,
 "nbformat_minor": 4
}
