{
 "cells": [
  {
   "cell_type": "markdown",
   "metadata": {},
   "source": [
    "Code to replicate the results reported for Study 2."
   ]
  },
  {
   "cell_type": "code",
   "execution_count": 1,
   "metadata": {},
   "outputs": [],
   "source": [
    "import warnings\n",
    "warnings.filterwarnings(\"ignore\")"
   ]
  },
  {
   "cell_type": "code",
   "execution_count": 2,
   "metadata": {},
   "outputs": [],
   "source": [
    "%matplotlib inline\n",
    "%load_ext rpy2.ipython"
   ]
  },
  {
   "cell_type": "code",
   "execution_count": 3,
   "metadata": {},
   "outputs": [],
   "source": [
    "from __future__ import division\n",
    "from matplotlib.patches import Patch\n",
    "import matplotlib.pyplot as plt\n",
    "import numpy as np\n",
    "import pandas as pd\n",
    "from scipy import stats\n",
    "import statsmodels.stats.api as sms"
   ]
  },
  {
   "cell_type": "code",
   "execution_count": 4,
   "metadata": {},
   "outputs": [],
   "source": [
    "dat = pd.read_csv(\"responses.csv\")\n",
    "dat.drop(columns=[\"Unnamed: 0\"], inplace=True)"
   ]
  },
  {
   "cell_type": "code",
   "execution_count": 5,
   "metadata": {},
   "outputs": [],
   "source": [
    "pos_words = [ \"superior\", \"joy\", \"plentiful\", \"qualified\", \"laugh\", \"clever\", \"rapid\",\n",
    "              \"famous\", \"useful\", \"loyal\"\n",
    "            ]\n",
    "neg_words = [ \"inferior\", \"sorrow\", \"scarce\", \"unqualified\", \"cry\", \"stupid\", \"slow\",\n",
    "              \"unknown\", \"useless\", \"disloyal\"\n",
    "            ]"
   ]
  },
  {
   "cell_type": "code",
   "execution_count": 6,
   "metadata": {},
   "outputs": [],
   "source": [
    "response_cols = map(str, range(1,11))"
   ]
  },
  {
   "cell_type": "markdown",
   "metadata": {},
   "source": [
    "# Participants"
   ]
  },
  {
   "cell_type": "code",
   "execution_count": 7,
   "metadata": {},
   "outputs": [],
   "source": [
    "# Comment to include participants who failed the instructional manipulation check\n",
    "dat = dat.loc[dat.imc_passed]"
   ]
  },
  {
   "cell_type": "code",
   "execution_count": 8,
   "metadata": {},
   "outputs": [],
   "source": [
    "ddat = dat.loc[dat.party_affil == \"Democrat\"]\n",
    "rdat = dat.loc[dat.party_affil == \"Republican\"]"
   ]
  },
  {
   "cell_type": "code",
   "execution_count": 9,
   "metadata": {},
   "outputs": [
    {
     "data": {
      "text/plain": [
       "(90, 84)"
      ]
     },
     "execution_count": 9,
     "metadata": {},
     "output_type": "execute_result"
    }
   ],
   "source": [
    "len(ddat), len(rdat)"
   ]
  },
  {
   "cell_type": "code",
   "execution_count": 10,
   "metadata": {},
   "outputs": [
    {
     "data": {
      "text/plain": [
       "(41.43333333333333, 1.464609554988733, 45.23809523809524, 1.4802795327282174)"
      ]
     },
     "execution_count": 10,
     "metadata": {},
     "output_type": "execute_result"
    }
   ],
   "source": [
    "np.mean(ddat.age), stats.sem(ddat.age), \\\n",
    "np.mean(rdat.age), stats.sem(rdat.age)"
   ]
  },
  {
   "cell_type": "code",
   "execution_count": 11,
   "metadata": {},
   "outputs": [
    {
     "data": {
      "text/plain": [
       "(Female    61\n",
       " Male      29\n",
       " Name: gender, dtype: int64, Female    59\n",
       " Male      25\n",
       " Name: gender, dtype: int64)"
      ]
     },
     "execution_count": 11,
     "metadata": {},
     "output_type": "execute_result"
    }
   ],
   "source": [
    "ddat.gender.value_counts(), rdat.gender.value_counts()"
   ]
  },
  {
   "cell_type": "markdown",
   "metadata": {},
   "source": [
    "# Methods and Procedure"
   ]
  },
  {
   "cell_type": "code",
   "execution_count": 12,
   "metadata": {},
   "outputs": [],
   "source": [
    "dd = ddat.loc[(ddat.Condition == \"DEMOCRAT\",response_cols)].values\n",
    "dr = ddat.loc[(ddat.Condition == \"REPUBLICAN\",response_cols)].values\n",
    "rd = rdat.loc[(rdat.Condition == \"DEMOCRAT\",response_cols)].values\n",
    "rr = rdat.loc[(rdat.Condition == \"REPUBLICAN\",response_cols)].values"
   ]
  },
  {
   "cell_type": "code",
   "execution_count": 13,
   "metadata": {},
   "outputs": [
    {
     "data": {
      "text/plain": [
       "(44, 39)"
      ]
     },
     "execution_count": 13,
     "metadata": {},
     "output_type": "execute_result"
    }
   ],
   "source": [
    "# n in Democratic condition\n",
    "dd.shape[0], rd.shape[0]"
   ]
  },
  {
   "cell_type": "code",
   "execution_count": 14,
   "metadata": {},
   "outputs": [
    {
     "data": {
      "text/plain": [
       "(46, 45)"
      ]
     },
     "execution_count": 14,
     "metadata": {},
     "output_type": "execute_result"
    }
   ],
   "source": [
    "# n in Republican condition\n",
    "dr.shape[0], rr.shape[0]"
   ]
  },
  {
   "cell_type": "markdown",
   "metadata": {},
   "source": [
    "# Results"
   ]
  },
  {
   "cell_type": "code",
   "execution_count": 15,
   "metadata": {},
   "outputs": [],
   "source": [
    "for arr in [dd, dr, rd, rr]:\n",
    "    arr[np.isin(arr, pos_words)] = 1.\n",
    "    arr[np.isin(arr, neg_words)] = 0.\n",
    "    arr[~np.isin(arr, (1.,0.))] = np.nan"
   ]
  },
  {
   "cell_type": "code",
   "execution_count": 16,
   "metadata": {},
   "outputs": [],
   "source": [
    "ppos_dd = np.nanmean(dd, axis=1)\n",
    "ppos_dr = np.nanmean(dr, axis=1)\n",
    "ppos_rd = np.nanmean(rd, axis=1)\n",
    "ppos_rr = np.nanmean(rr, axis=1)\n",
    "ppos_congruent = np.append(ppos_dd, ppos_rr)\n",
    "ppos_incongruent = np.append(ppos_dr, ppos_rd)"
   ]
  },
  {
   "cell_type": "markdown",
   "metadata": {},
   "source": [
    "Calculate difference in the proportion of positive words chosen among participants in a congruent condition (`ppos_congruent`) and participants in an incongruent condition (`ppos_incongruent`)."
   ]
  },
  {
   "cell_type": "code",
   "execution_count": 17,
   "metadata": {},
   "outputs": [
    {
     "data": {
      "text/plain": [
       "(0.7064918851435704, 0.027053786596735057)"
      ]
     },
     "execution_count": 17,
     "metadata": {},
     "output_type": "execute_result"
    }
   ],
   "source": [
    "np.mean(ppos_congruent), stats.sem(ppos_congruent)"
   ]
  },
  {
   "cell_type": "code",
   "execution_count": 18,
   "metadata": {},
   "outputs": [
    {
     "data": {
      "text/plain": [
       "(0.4423529411764708, 0.03259876054887346)"
      ]
     },
     "execution_count": 18,
     "metadata": {},
     "output_type": "execute_result"
    }
   ],
   "source": [
    "np.mean(ppos_incongruent), stats.sem(ppos_incongruent)"
   ]
  },
  {
   "cell_type": "code",
   "execution_count": 19,
   "metadata": {},
   "outputs": [
    {
     "name": "stdout",
     "output_type": "stream",
     "text": [
      "(0.26413894396709964, 0.1794138223432396, 0.34886406559095967)\n"
     ]
    }
   ],
   "source": [
    "dsw_pc = sms.DescrStatsW(ppos_congruent)\n",
    "dsw_pic = sms.DescrStatsW(ppos_incongruent)\n",
    "cm = sms.CompareMeans(dsw_pc, dsw_pic)\n",
    "delta = dsw_pc.mean - dsw_pic.mean\n",
    "se_delta = cm.std_meandiff_separatevar\n",
    "print(delta, delta - 2*se_delta, delta + 2*se_delta)"
   ]
  },
  {
   "cell_type": "code",
   "execution_count": 20,
   "metadata": {},
   "outputs": [
    {
     "data": {
      "text/plain": [
       "(6.235197752556866, 1.8233500130148425e-09, 164.8915960130812)"
      ]
     },
     "execution_count": 20,
     "metadata": {},
     "output_type": "execute_result"
    }
   ],
   "source": [
    "cm.ttest_ind(usevar=\"unequal\", alternative = \"larger\")"
   ]
  },
  {
   "cell_type": "markdown",
   "metadata": {},
   "source": [
    "Figure 2a"
   ]
  },
  {
   "cell_type": "code",
   "execution_count": 21,
   "metadata": {},
   "outputs": [
    {
     "data": {
      "image/png": "[encoded data removed]",
      "text/plain": [
       "<Figure size 432x288 with 1 Axes>"
      ]
     },
     "metadata": {
      "needs_background": "light"
     },
     "output_type": "display_data"
    }
   ],
   "source": [
    "fig, ax = plt.subplots(1)\n",
    "bplots = ax.boxplot([ ppos_dd, ppos_dr, np.full(2, fill_value=np.nan), ppos_rd,\n",
    "                      ppos_rr\n",
    "                    ], notch=True, patch_artist=True, sym=\"\", whis=[5,95]\n",
    "                   )\n",
    "bplots[\"boxes\"][0].set_facecolor(\"blue\")\n",
    "bplots[\"boxes\"][1].set_facecolor(\"red\")\n",
    "bplots[\"boxes\"][3].set_facecolor(\"blue\")\n",
    "bplots[\"boxes\"][4].set_facecolor(\"red\")\n",
    "for med in bplots[\"medians\"]:\n",
    "    med.set(linewidth=4)\n",
    "xlim = ax.get_xlim()\n",
    "ylim = ax.get_ylim()\n",
    "ax.set_xlim(*xlim)\n",
    "ax.set_ylim((0,ylim[1]))\n",
    "ax.plot(xlim, [.5,.5], color = \"k\", linestyle = \"--\", linewidth = .5)\n",
    "legend_elements = [Patch(facecolor=\"blue\", label=\"Democratic condition\"),\n",
    "                   Patch(facecolor=\"red\", label=\"Republican condition\")\n",
    "                  ]\n",
    "ax.legend(handles=legend_elements, loc=(1.01,.7))\n",
    "ax.set_ylabel(\"Proportion positive words chosen\")\n",
    "ax.set_xticklabels([ \"            Democrats\", \"\", \"\", \"            Republicans\", \"\" ])\n",
    "ax.tick_params(axis=\"both\", which=\"both\",length=0)\n",
    "plt.tight_layout()\n",
    "plt.savefig(\"figure2a\")"
   ]
  },
  {
   "cell_type": "markdown",
   "metadata": {},
   "source": [
    "Regression model"
   ]
  },
  {
   "cell_type": "code",
   "execution_count": 22,
   "metadata": {},
   "outputs": [],
   "source": [
    "dat.gender = dat.gender.replace({ \"Male\": 1, \"Female\": -1 })"
   ]
  },
  {
   "cell_type": "code",
   "execution_count": 23,
   "metadata": {},
   "outputs": [
    {
     "data": {
      "text/plain": [
       "Generalized linear mixed model fit by maximum likelihood (Laplace\n",
       "  Approximation) [glmerMod]\n",
       " Family: binomial  ( logit )\n",
       "Formula: pos ~ Condition * party_affil + (1 | ID) + (1 | item)\n",
       "   Data: df\n",
       "\n",
       "     AIC      BIC   logLik deviance df.resid \n",
       "  2006.0   2038.7   -997.0   1994.0     1733 \n",
       "\n",
       "Scaled residuals: \n",
       "    Min      1Q  Median      3Q     Max \n",
       "-2.9150 -0.6320  0.3143  0.5977  2.6088 \n",
       "\n",
       "Random effects:\n",
       " Groups Name        Variance Std.Dev.\n",
       " ID     (Intercept) 1.80877  1.3449  \n",
       " item   (Intercept) 0.04399  0.2097  \n",
       "Number of obs: 1739, groups:  ID, 174; item, 10\n",
       "\n",
       "Fixed effects:\n",
       "                      Estimate Std. Error z value Pr(>|z|)    \n",
       "(Intercept)             0.4454     0.1366   3.262  0.00111 ** \n",
       "Condition              -0.3021     0.1684  -1.794  0.07277 .  \n",
       "party_affil             0.1137     0.1683   0.676  0.49928    \n",
       "Condition:party_affil   1.4539     0.2396   6.067  1.3e-09 ***\n",
       "---\n",
       "Signif. codes:  0 '***' 0.001 '**' 0.01 '*' 0.05 '.' 0.1 ' ' 1\n",
       "\n",
       "Correlation of Fixed Effects:\n",
       "            (Intr) Condtn prty_f\n",
       "Condition   -0.045              \n",
       "party_affil  0.027 -0.005       \n",
       "Cndtn:prty_  0.004  0.027 -0.048\n"
      ]
     },
     "metadata": {},
     "output_type": "display_data"
    }
   ],
   "source": [
    "%%R -i dat,pos_words,neg_words\n",
    "library(lmerTest)\n",
    "library(tidyverse)\n",
    "\n",
    "options(contrasts=c(\"contr.sum\",\"contr.poly\"))\n",
    "\n",
    "df <- dat %>%\n",
    "    as_tibble() %>%\n",
    "    select(X1:X10, age, gender, party_affil, party_strength, political_engagement,\n",
    "           Condition\n",
    "          ) %>%\n",
    "    mutate(ID=1:nrow(.)) %>%\n",
    "    pivot_longer(X1:X10, names_to=\"item\", values_to=\"pos\") %>%\n",
    "    filter(pos %in% c(pos_words, neg_words)) %>%\n",
    "    mutate(pos=pos %in% pos_words) %>%\n",
    "    mutate(party_affil=ifelse(party_affil==\"Republican\", sqrt(.5), -sqrt(.5)),\n",
    "           Condition=ifelse(Condition==\"REPUBLICAN\", sqrt(.5), -sqrt(.5)),\n",
    "           age=age-18,\n",
    "           party_strength=party_strength-1,\n",
    "           political_engagement=political_engagement-1\n",
    "          )\n",
    "    \n",
    "fit <- glmer(pos ~ Condition * party_affil + (1|ID) + (1|item), data=df, family=\"binomial\")\n",
    "summary(fit)"
   ]
  },
  {
   "cell_type": "code",
   "execution_count": 24,
   "metadata": {},
   "outputs": [
    {
     "data": {
      "text/plain": [
       "[1] 0.9745939 1.9331770\n"
      ]
     },
     "metadata": {},
     "output_type": "display_data"
    }
   ],
   "source": [
    "%%R\n",
    "# +- 2 SE\n",
    "coef.interact <- summary(fit)$coefficients[4,1]\n",
    "se.interact <- summary(fit)$coefficients[4,2]\n",
    "print(c(coef.interact - 2*se.interact, coef.interact + 2*se.interact))"
   ]
  },
  {
   "cell_type": "code",
   "execution_count": 25,
   "metadata": {},
   "outputs": [
    {
     "data": {
      "text/plain": [
       "[1] 4.279711\n"
      ]
     },
     "metadata": {},
     "output_type": "display_data"
    }
   ],
   "source": [
    "%%R\n",
    "exp(summary(fit)$coefficients[4,1])"
   ]
  },
  {
   "cell_type": "code",
   "execution_count": 26,
   "metadata": {},
   "outputs": [
    {
     "data": {
      "text/plain": [
       "Data: df\n",
       "Models:\n",
       "null.fit: pos ~ Condition + party_affil + (1 | ID) + (1 | item)\n",
       "fit: pos ~ Condition * party_affil + (1 | ID) + (1 | item)\n",
       "         npar    AIC    BIC   logLik deviance  Chisq Df Pr(>Chisq)    \n",
       "null.fit    5 2038.2 2065.5 -1014.11   2028.2                         \n",
       "fit         6 2006.0 2038.7  -996.98   1994.0 34.269  1    4.8e-09 ***\n",
       "---\n",
       "Signif. codes:  0 '***' 0.001 '**' 0.01 '*' 0.05 '.' 0.1 ' ' 1\n"
      ]
     },
     "metadata": {},
     "output_type": "display_data"
    }
   ],
   "source": [
    "%%R\n",
    "null.fit <- glmer(pos ~ Condition + party_affil + (1|ID) + (1|item), data=df, family=\"binomial\")\n",
    "anova_res <- anova(null.fit, fit, test=\"LRT\")\n",
    "anova_res"
   ]
  },
  {
   "cell_type": "code",
   "execution_count": 27,
   "metadata": {},
   "outputs": [
    {
     "data": {
      "text/plain": [
       "Generalized linear mixed model fit by maximum likelihood (Laplace\n",
       "  Approximation) [glmerMod]\n",
       " Family: binomial  ( logit )\n",
       "Formula: pos ~ Condition * party_affil + Condition * age + Condition *  \n",
       "    gender + Condition * party_affil * party_strength + Condition *  \n",
       "    party_affil * political_engagement + (1 | ID) + (1 | item)\n",
       "   Data: df\n",
       "Control: glmerControl(optimizer = \"bobyqa\", optCtrl = list(maxfun = 1e+05))\n",
       "\n",
       "     AIC      BIC   logLik deviance df.resid \n",
       "  2000.3   2098.6   -982.1   1964.3     1721 \n",
       "\n",
       "Scaled residuals: \n",
       "    Min      1Q  Median      3Q     Max \n",
       "-3.3814 -0.6361  0.3203  0.6004  2.8858 \n",
       "\n",
       "Random effects:\n",
       " Groups Name        Variance Std.Dev.\n",
       " ID     (Intercept) 1.44344  1.2014  \n",
       " item   (Intercept) 0.04377  0.2092  \n",
       "Number of obs: 1739, groups:  ID, 174; item, 10\n",
       "\n",
       "Fixed effects:\n",
       "                                            Estimate Std. Error z value\n",
       "(Intercept)                                 0.363261   0.385278   0.943\n",
       "Condition                                  -0.757989   0.537006  -1.412\n",
       "party_affil                                -0.012868   0.489581  -0.026\n",
       "age                                         0.021163   0.008522   2.483\n",
       "gender                                     -0.283203   0.125386  -2.259\n",
       "party_strength                             -0.141755   0.087570  -1.619\n",
       "political_engagement                        0.022918   0.086231   0.266\n",
       "Condition:party_affil                      -0.640188   0.692434  -0.925\n",
       "Condition:age                              -0.005517   0.012020  -0.459\n",
       "Condition:gender                           -0.065945   0.176913  -0.373\n",
       "Condition:party_strength                    0.274871   0.123860   2.219\n",
       "party_affil:party_strength                 -0.023296   0.120953  -0.193\n",
       "Condition:political_engagement             -0.157964   0.121949  -1.295\n",
       "party_affil:political_engagement            0.066629   0.120928   0.551\n",
       "Condition:party_affil:party_strength        0.629012   0.171391   3.670\n",
       "Condition:party_affil:political_engagement -0.103864   0.171062  -0.607\n",
       "                                           Pr(>|z|)    \n",
       "(Intercept)                                0.345755    \n",
       "Condition                                  0.158095    \n",
       "party_affil                                0.979030    \n",
       "age                                        0.013016 *  \n",
       "gender                                     0.023905 *  \n",
       "party_strength                             0.105500    \n",
       "political_engagement                       0.790412    \n",
       "Condition:party_affil                      0.355201    \n",
       "Condition:age                              0.646237    \n",
       "Condition:gender                           0.709334    \n",
       "Condition:party_strength                   0.026473 *  \n",
       "party_affil:party_strength                 0.847270    \n",
       "Condition:political_engagement             0.195207    \n",
       "party_affil:political_engagement           0.581651    \n",
       "Condition:party_affil:party_strength       0.000243 ***\n",
       "Condition:party_affil:political_engagement 0.543739    \n",
       "---\n",
       "Signif. codes:  0 '***' 0.001 '**' 0.01 '*' 0.05 '.' 0.1 ' ' 1\n"
      ]
     },
     "metadata": {},
     "output_type": "display_data"
    }
   ],
   "source": [
    "%%R\n",
    "fit <- glmer(pos ~ Condition * party_affil + Condition * age + Condition * gender + Condition * party_affil * party_strength + Condition * party_affil * political_engagement + (1|ID) + (1|item),\n",
    "             data = df, family=\"binomial\", glmerControl(optimizer=\"bobyqa\", optCtrl = list(maxfun = 100000))\n",
    "            )\n",
    "summary(fit)"
   ]
  },
  {
   "cell_type": "markdown",
   "metadata": {},
   "source": [
    "Generates the dataframe used to create Figure 2b, which can be recreated by running the script fig2b.py."
   ]
  },
  {
   "cell_type": "code",
   "execution_count": 28,
   "metadata": {},
   "outputs": [],
   "source": [
    "dddat = dat.loc[(dat.party_affil==\"Democrat\") & (dat.Condition==\"DEMOCRAT\")]\n",
    "drdat = dat.loc[(dat.party_affil==\"Democrat\") & (dat.Condition==\"REPUBLICAN\")]\n",
    "rddat = dat.loc[(dat.party_affil==\"Republican\") & (dat.Condition==\"DEMOCRAT\")]\n",
    "rrdat = dat.loc[(dat.party_affil==\"Republican\") & (dat.Condition==\"REPUBLICAN\")]\n",
    "avbCongruent = ppos_congruent\n",
    "avbIncongruent = 1-ppos_incongruent\n",
    "spiCongruent = np.append(dddat.party_strength, rrdat.party_strength)\n",
    "spiIncongruent = np.append(drdat.party_strength, rddat.party_strength)\n",
    "dpeCongruent = np.append(dddat.political_engagement, rrdat.political_engagement)\n",
    "dpeIncongruent = np.append(drdat.political_engagement, rddat.political_engagement)\n",
    "figdatCongruent = pd.DataFrame(np.concatenate((avbCongruent[:,None], \n",
    "                                               spiCongruent[:,None],\n",
    "                                               dpeCongruent[:,None]), axis=1),\n",
    "                               columns=[\"avb\",\"spi\",\"dpe\"]\n",
    "                              )\n",
    "figdatIncongruent = pd.DataFrame(np.concatenate((avbIncongruent[:,None],\n",
    "                                                 spiIncongruent[:,None],\n",
    "                                                 dpeIncongruent[:,None]), axis=1),\n",
    "                                 columns=[\"avb\",\"spi\",\"dpe\"]\n",
    "                                )\n",
    "figdat = pd.concat((figdatCongruent,figdatIncongruent))\n",
    "figdat.to_csv(\"fig2b.csv\")"
   ]
  },
  {
   "cell_type": "code",
   "execution_count": 29,
   "metadata": {},
   "outputs": [
    {
     "name": "stdout",
     "output_type": "stream",
     "text": [
      "(0.6781609195402298, 0.6073270217604239, 0.7489948173200358)\n"
     ]
    }
   ],
   "source": [
    "avb = figdat.avb.values\n",
    "navb = len(avb[avb > .5])\n",
    "n = len(avb)\n",
    "p = navb / n\n",
    "se = np.sqrt(p*(1-p)/n)\n",
    "print(p, p-2*se, p+2*se)"
   ]
  },
  {
   "cell_type": "code",
   "execution_count": 30,
   "metadata": {},
   "outputs": [
    {
     "data": {
      "text/plain": [
       "(118, 174)"
      ]
     },
     "execution_count": 30,
     "metadata": {},
     "output_type": "execute_result"
    }
   ],
   "source": [
    "navb, n"
   ]
  }
 ],
 "metadata": {
  "kernelspec": {
   "display_name": "lop_env",
   "language": "python",
   "name": "lop_env"
  },
  "language_info": {
   "codemirror_mode": {
    "name": "ipython",
    "version": 2
   },
   "file_extension": ".py",
   "mimetype": "text/x-python",
   "name": "python",
   "nbconvert_exporter": "python",
   "pygments_lexer": "ipython2",
   "version": "2.7.17"
  }
 },
 "nbformat": 4,
 "nbformat_minor": 4
}
