{
 "cells": [
  {
   "cell_type": "markdown",
   "metadata": {},
   "source": [
    "Code to replicate the results reported for Study 1."
   ]
  },
  {
   "cell_type": "code",
   "execution_count": 1,
   "metadata": {},
   "outputs": [],
   "source": [
    "import warnings\n",
    "warnings.filterwarnings(\"ignore\")"
   ]
  },
  {
   "cell_type": "code",
   "execution_count": 2,
   "metadata": {},
   "outputs": [],
   "source": [
    "%matplotlib inline\n",
    "%load_ext rpy2.ipython"
   ]
  },
  {
   "cell_type": "code",
   "execution_count": 3,
   "metadata": {},
   "outputs": [],
   "source": [
    "from __future__ import division\n",
    "import matplotlib.pyplot as plt\n",
    "import numpy as np\n",
    "import pandas as pd\n",
    "from scipy import stats"
   ]
  },
  {
   "cell_type": "code",
   "execution_count": 4,
   "metadata": {},
   "outputs": [],
   "source": [
    "dat = pd.read_csv(\"responses.csv\")\n",
    "dat.drop(columns=[\"Unnamed: 0\"], inplace=True)"
   ]
  },
  {
   "cell_type": "code",
   "execution_count": 5,
   "metadata": {},
   "outputs": [],
   "source": [
    "pos_words = [ \"joy\", \"superior\", \"plentiful\", \"qualified\", \"laugh\", \"famous\", \n",
    "              \"clever\", \"praise\", \"sweet\", \"accurate\" \n",
    "            ]\n",
    "neg_words = [ \"sorrow\", \"inferior\", \"scarce\", \"unqualified\", \"cry\", \"unknown\",\n",
    "              \"stupid\", \"blame\", \"bitter\", \"inaccurate\"\n",
    "            ]"
   ]
  },
  {
   "cell_type": "code",
   "execution_count": 6,
   "metadata": {},
   "outputs": [],
   "source": [
    "response_cols = map(str, range(1,11))\n",
    "pair_cols = [\"pair\"+col for col in response_cols]"
   ]
  },
  {
   "cell_type": "markdown",
   "metadata": {},
   "source": [
    "# Participants"
   ]
  },
  {
   "cell_type": "code",
   "execution_count": 7,
   "metadata": {},
   "outputs": [],
   "source": [
    "# Comment to include participants who failed the instructional manipulation check\n",
    "dat = dat.loc[dat.imc_passed]"
   ]
  },
  {
   "cell_type": "code",
   "execution_count": 8,
   "metadata": {},
   "outputs": [],
   "source": [
    "ddat = dat.loc[dat.party_affil==\"Democrat\"]\n",
    "rdat = dat.loc[dat.party_affil==\"Republican\"]"
   ]
  },
  {
   "cell_type": "code",
   "execution_count": 9,
   "metadata": {},
   "outputs": [
    {
     "data": {
      "text/plain": [
       "(97, 104)"
      ]
     },
     "execution_count": 9,
     "metadata": {},
     "output_type": "execute_result"
    }
   ],
   "source": [
    "len(ddat), len(rdat)"
   ]
  },
  {
   "cell_type": "code",
   "execution_count": 10,
   "metadata": {},
   "outputs": [
    {
     "data": {
      "text/plain": [
       "(39.90625, 1.198782105382046, 42.52884615384615, 1.2149458793246952)"
      ]
     },
     "execution_count": 10,
     "metadata": {},
     "output_type": "execute_result"
    }
   ],
   "source": [
    "ddat.age.mean(), stats.sem(ddat.age[~np.isnan(ddat.age)]), \\\n",
    "rdat.age.mean(), stats.sem(rdat.age)"
   ]
  },
  {
   "cell_type": "code",
   "execution_count": 11,
   "metadata": {},
   "outputs": [
    {
     "data": {
      "text/plain": [
       "(Female    51\n",
       " Male      46\n",
       " Name: gender, dtype: int64, Female    62\n",
       " Male      42\n",
       " Name: gender, dtype: int64)"
      ]
     },
     "execution_count": 11,
     "metadata": {},
     "output_type": "execute_result"
    }
   ],
   "source": [
    "ddat.gender.value_counts(), rdat.gender.value_counts()"
   ]
  },
  {
   "cell_type": "markdown",
   "metadata": {},
   "source": [
    "# Results"
   ]
  },
  {
   "cell_type": "code",
   "execution_count": 12,
   "metadata": {},
   "outputs": [],
   "source": [
    "dresponses = ddat[response_cols]\n",
    "dpairs = ddat[pair_cols]\n",
    "dma = np.ma.masked_where(dpairs.isin(pos_words), dresponses)\n",
    "dpos = dma.data.copy().astype(float)\n",
    "dpos[~dma.mask] = np.nan\n",
    "dneg = dma.data.copy().astype(float)\n",
    "dneg[dma.mask] = np.nan"
   ]
  },
  {
   "cell_type": "code",
   "execution_count": 13,
   "metadata": {},
   "outputs": [],
   "source": [
    "rresponses = rdat[response_cols]\n",
    "rpairs = rdat[pair_cols]\n",
    "rma = np.ma.masked_where(rpairs.isin(pos_words), rresponses)\n",
    "rpos = rma.data.copy().astype(float)\n",
    "rpos[~rma.mask] = np.nan\n",
    "rneg = rma.data.copy().astype(float)\n",
    "rneg[rma.mask] = np.nan"
   ]
  },
  {
   "cell_type": "markdown",
   "metadata": {},
   "source": [
    "Calculate means and standard errors, using the method provided by Arai (2011)."
   ]
  },
  {
   "cell_type": "code",
   "execution_count": 15,
   "metadata": {},
   "outputs": [],
   "source": [
    "%%R\n",
    "source(\"../../conditional-variation/clmclx.R\")"
   ]
  },
  {
   "cell_type": "code",
   "execution_count": 16,
   "metadata": {},
   "outputs": [],
   "source": [
    "%%R\n",
    "descr.stats <- function(x) {\n",
    "    y <- c(t(x))\n",
    "    n <- dim(x)[1]\n",
    "    k <- dim(x)[2]\n",
    "    idxn <- rep(1:n, each=k)\n",
    "    idxn <- idxn[which(!is.na(y))]\n",
    "    idxk <- rep(1:k, n)\n",
    "    idxk <- idxk[which(!is.na(y))]\n",
    "    fit <- lm(y ~ 1)\n",
    "    res <- mclx(fit, 1, idxn, idxk)\n",
    "    res[1] <- res[1]\n",
    "    return (res[1:2])\n",
    "}"
   ]
  },
  {
   "cell_type": "code",
   "execution_count": 17,
   "metadata": {},
   "outputs": [],
   "source": [
    "%%R -i dpos -o d_pos_mu,se_dp\n",
    "ds <- descr.stats(dpos)\n",
    "d_pos_mu <- ds[1]\n",
    "se_dp <- ds[2]"
   ]
  },
  {
   "cell_type": "code",
   "execution_count": 18,
   "metadata": {},
   "outputs": [
    {
     "name": "stdout",
     "output_type": "stream",
     "text": [
      "(array([3.1755102]), array([0.18565602]))\n"
     ]
    }
   ],
   "source": [
    "print(d_pos_mu, se_dp)"
   ]
  },
  {
   "cell_type": "code",
   "execution_count": 19,
   "metadata": {},
   "outputs": [],
   "source": [
    "%%R -i dneg -o d_neg_mu,se_dn\n",
    "ds <- descr.stats(dneg)\n",
    "d_neg_mu <- ds[1]\n",
    "se_dn <- ds[2]"
   ]
  },
  {
   "cell_type": "code",
   "execution_count": 20,
   "metadata": {},
   "outputs": [
    {
     "name": "stdout",
     "output_type": "stream",
     "text": [
      "(array([4.]), array([0.22030228]))\n"
     ]
    }
   ],
   "source": [
    "print(d_neg_mu, se_dn)"
   ]
  },
  {
   "cell_type": "code",
   "execution_count": 21,
   "metadata": {},
   "outputs": [],
   "source": [
    "%%R -i rpos -o r_pos_mu,se_rp\n",
    "ds <- descr.stats(rpos)\n",
    "r_pos_mu <- ds[1]\n",
    "se_rp <- ds[2]"
   ]
  },
  {
   "cell_type": "code",
   "execution_count": 22,
   "metadata": {},
   "outputs": [
    {
     "name": "stdout",
     "output_type": "stream",
     "text": [
      "(array([3.72589792]), array([0.13525356]))\n"
     ]
    }
   ],
   "source": [
    "print(r_pos_mu, se_rp)"
   ]
  },
  {
   "cell_type": "code",
   "execution_count": 23,
   "metadata": {},
   "outputs": [],
   "source": [
    "%%R -i rneg -o r_neg_mu,se_rn\n",
    "ds <- descr.stats(rneg)\n",
    "r_neg_mu <- ds[1]\n",
    "se_rn <- ds[2]"
   ]
  },
  {
   "cell_type": "code",
   "execution_count": 24,
   "metadata": {},
   "outputs": [
    {
     "name": "stdout",
     "output_type": "stream",
     "text": [
      "(array([3.02152642]), array([0.12057433]))\n"
     ]
    }
   ],
   "source": [
    "print(r_neg_mu, se_rn)"
   ]
  },
  {
   "cell_type": "markdown",
   "metadata": {},
   "source": [
    "A series of $t$-tests (with errors clustered at the participant level)."
   ]
  },
  {
   "cell_type": "code",
   "execution_count": 25,
   "metadata": {},
   "outputs": [],
   "source": [
    "%%R\n",
    "options(scipen=999)\n",
    "\n",
    "clustered.t.test <- function (a, b, matched.participants=FALSE, matched.items=FALSE) {\n",
    "    y <- c(t(a), t(b))\n",
    "    n.a <- dim(a)[1]\n",
    "    n.b <- dim(b)[1]\n",
    "    k.a <- dim(a)[2]\n",
    "    k.b <- dim(b)[2]\n",
    "    stopifnot(k.a == k.b)\n",
    "    if (matched.participants) {\n",
    "        stopifnot(n.a == n.b)\n",
    "        idxn <- c(rep(1:n.a, each=k.a), rep(1:n.b, each=k.b))\n",
    "    } else {\n",
    "        idxn <- c(rep(1:n.a, each=k.a), rep((n.a+1):(n.a+n.b), each=k.b))\n",
    "    }\n",
    "    idxn <- idxn[which(!is.na(y))]\n",
    "    if (matched.items) {\n",
    "        idxk <- rep(1:k.a, n.a+n.b)\n",
    "    } else {\n",
    "        idxk <- c(rep(1:k.a, n.a), rep((k.a+1):(k.a+k.b), n.b))\n",
    "    }\n",
    "    idxk <- idxk[which(!is.na(y))]\n",
    "    groups <- c(rep(0, n.a*k.a), rep(1, n.b*k.b))\n",
    "    fit <- lm(y ~ groups)\n",
    "    df <- df.residual(fit)\n",
    "    res <- mclx(fit, 1, idxn, idxk)\n",
    "    t <- res[2,3]\n",
    "    p <- res[2,4]\n",
    "    # Divide p by two for a one-sided test\n",
    "    return (c(t, df, p/2))\n",
    "}"
   ]
  },
  {
   "cell_type": "markdown",
   "metadata": {},
   "source": [
    "Hypothesis: Republicans' judgments on the positive words are higher than Democrats' judgments on the positive words."
   ]
  },
  {
   "cell_type": "code",
   "execution_count": 26,
   "metadata": {},
   "outputs": [
    {
     "data": {
      "text/plain": [
       "[1]    2.07216636 1017.00000000    0.01925074\n"
      ]
     },
     "metadata": {},
     "output_type": "display_data"
    }
   ],
   "source": [
    "%%R\n",
    "clustered.t.test(dpos, rpos, matched.items=TRUE)"
   ]
  },
  {
   "cell_type": "markdown",
   "metadata": {},
   "source": [
    "Hypothesis: Republicans' judgments on the negative words are lower than Democrats' judgments on the negative words."
   ]
  },
  {
   "cell_type": "code",
   "execution_count": 27,
   "metadata": {},
   "outputs": [
    {
     "data": {
      "text/plain": [
       "[1]  -3.3099866788 989.0000000000   0.0004833538\n"
      ]
     },
     "metadata": {},
     "output_type": "display_data"
    }
   ],
   "source": [
    "%%R\n",
    "clustered.t.test(dneg, rneg, matched.items=TRUE)"
   ]
  },
  {
   "cell_type": "markdown",
   "metadata": {},
   "source": [
    "Hypothesis: Republicans' judgments on the positive words are higher than Republicans' judgments on the negative words."
   ]
  },
  {
   "cell_type": "code",
   "execution_count": 28,
   "metadata": {},
   "outputs": [
    {
     "data": {
      "text/plain": [
       "[1]    3.80896059978 1038.00000000000    0.00007386998\n"
      ]
     },
     "metadata": {},
     "output_type": "display_data"
    }
   ],
   "source": [
    "%%R\n",
    "clustered.t.test(rneg, rpos, matched.participants=TRUE)"
   ]
  },
  {
   "cell_type": "markdown",
   "metadata": {},
   "source": [
    "Hypothesis: Democrats' judgments on the positive words are lower than Democrats' judgments on the negative words."
   ]
  },
  {
   "cell_type": "code",
   "execution_count": 29,
   "metadata": {},
   "outputs": [
    {
     "data": {
      "text/plain": [
       "[1]  -2.858440775 968.000000000   0.002174304\n"
      ]
     },
     "metadata": {},
     "output_type": "display_data"
    }
   ],
   "source": [
    "%%R\n",
    "clustered.t.test(dneg, dpos, matched.participants=TRUE)"
   ]
  },
  {
   "cell_type": "markdown",
   "metadata": {},
   "source": [
    "Figure 1a"
   ]
  },
  {
   "cell_type": "code",
   "execution_count": 30,
   "metadata": {},
   "outputs": [
    {
     "data": {
      "image/png": "[encoded data removed]",
      "text/plain": [
       "<Figure size 576x720 with 1 Axes>"
      ]
     },
     "metadata": {
      "needs_background": "light"
     },
     "output_type": "display_data"
    }
   ],
   "source": [
    "plt.figure(figsize = (8, 10))\n",
    "mus = np.concatenate([ d_pos_mu, r_pos_mu, d_neg_mu, r_neg_mu ])\n",
    "sigs = np.concatenate([ se_dp, se_rp, se_dn, se_rn ])\n",
    "bax = plt.bar([ 1, 2, 4, 5 ], mus, \n",
    "              color = [ \"blue\", \"red\", \"blue\", \"red\" ], \n",
    "              yerr = sigs, error_kw = {\"linewidth\": 4,\n",
    "              \"capsize\":4})\n",
    "plt.ylim([1,6])\n",
    "xlim = plt.xlim()\n",
    "plt.xlim(*xlim)\n",
    "plt.xticks([])\n",
    "plt.xlabel(\"Positive words     Negative words\", fontsize = 25)\n",
    "plt.plot(xlim, [3.5, 3.5], \"k--\")\n",
    "plt.title(\"Mean rating by party and valence\", fontsize = 25)\n",
    "heights = mus + sigs\n",
    "inc = .1\n",
    "star_height = max(heights) + .2\n",
    "\n",
    "# Difference between Republicans and Democrats' judgments on the positive words\n",
    "plt.plot([ 1,1,2,2 ], [ heights[0] + inc, star_height, \n",
    "                        star_height, heights[1] + inc],\n",
    "         linewidth = 1.5, color = \"k\")\n",
    "plt.text(1.5, star_height + .05, \"**\", ha = \"center\", va = \"bottom\",\n",
    "         color = \"k\")\n",
    "\n",
    "# Difference between Republicans and Democrats' judgments on the negative words\n",
    "plt.plot([ 4,4,5,5 ], [ heights[2] + inc, star_height, \n",
    "                        star_height, heights[3] + inc],\n",
    "         linewidth = 1.5, color = \"k\")\n",
    "plt.text(4.5, star_height + .05, \"***\", ha = \"center\", va = \"bottom\",\n",
    "         color = \"k\")\n",
    "\n",
    "# Difference between Democrats' judgments on the positive and negative words\n",
    "plt.plot([ 1,1,4,4 ], [ star_height + .1, star_height + .32,\n",
    "                        star_height + .32, star_height + .1],\n",
    "         linestyle = \"-.\", linewidth = 1.5, color = \"k\")\n",
    "plt.text(2.5, star_height + .35, \"**\", ha = \"center\", va = \"bottom\",\n",
    "         color = \"k\")\n",
    "\n",
    "# Difference between Republicans' judgments on the positive and negative words\n",
    "plt.plot([ 2,2,5,5 ], [ star_height + .1, star_height + .25,\n",
    "                        star_height + .25, star_height + .1],\n",
    "         linestyle = \"-.\", linewidth = 1.5, color = \"k\")\n",
    "plt.text(3.5, star_height + .35, \"***\", ha = \"center\", va = \"bottom\",\n",
    "         color = \"k\")\n",
    "\n",
    "plt.legend(bax, (\"Democrats\", \"Republicans\"), fontsize=30, loc=\"center\", \n",
    "           bbox_to_anchor=(.5, .8),#bbox_to_anchor=(.75, .75),\n",
    "           bbox_transform=plt.gcf().transFigure, ncol=1)\n",
    "plt.ylabel(\"Perceived likelihood that the speaker \\n is a Republican\", fontsize = 25)\n",
    "plt.savefig(\"figure1a\")"
   ]
  },
  {
   "cell_type": "markdown",
   "metadata": {},
   "source": [
    "Regression model"
   ]
  },
  {
   "cell_type": "code",
   "execution_count": 31,
   "metadata": {},
   "outputs": [],
   "source": [
    "dat.gender = dat.gender.replace({ \"Male\": 1, \"Female\": -1 })"
   ]
  },
  {
   "cell_type": "code",
   "execution_count": 32,
   "metadata": {},
   "outputs": [],
   "source": [
    "ma = np.ma.make_mask(dat[pair_cols].isin(pos_words))\n",
    "pos = dat.copy()\n",
    "pos[response_cols] = pos[response_cols].astype(float)\n",
    "responses = pos[response_cols].values\n",
    "responses[~ma] = np.nan\n",
    "pos[response_cols] = responses\n",
    "neg = dat.copy()\n",
    "neg[response_cols] = neg[response_cols].astype(float)\n",
    "responses = neg[response_cols].values\n",
    "responses[ma] = np.nan\n",
    "neg[response_cols] = responses"
   ]
  },
  {
   "cell_type": "code",
   "execution_count": 33,
   "metadata": {},
   "outputs": [
    {
     "data": {
      "text/plain": [
       "Note: Using an external vector in selections is ambiguous.\n",
       "\u001b[34mi\u001b[39m Use `all_of(response.cols)` instead of `response.cols` to silence this message.\n",
       "\u001b[34mi\u001b[39m See <https://tidyselect.r-lib.org/reference/faq-external-vector.html>.\n",
       "\u001b[90mThis message is displayed once per session.\u001b[39m\n",
       "Note: Using an external vector in selections is ambiguous.\n",
       "\u001b[34mi\u001b[39m Use `all_of(demographic.cols)` instead of `demographic.cols` to silence this message.\n",
       "\u001b[34mi\u001b[39m See <https://tidyselect.r-lib.org/reference/faq-external-vector.html>.\n",
       "\u001b[90mThis message is displayed once per session.\u001b[39m\n",
       "Linear mixed model fit by REML. t-tests use Satterthwaite's method [\n",
       "lmerModLmerTest]\n",
       "Formula: rating ~ condition * party_affil + (1 | ID) + (1 | item)\n",
       "   Data: df\n",
       "\n",
       "REML criterion at convergence: 7047.2\n",
       "\n",
       "Scaled residuals: \n",
       "     Min       1Q   Median       3Q      Max \n",
       "-2.34428 -0.76655 -0.00406  0.77124  2.26608 \n",
       "\n",
       "Random effects:\n",
       " Groups   Name        Variance Std.Dev.\n",
       " ID       (Intercept) 0.009038 0.09507 \n",
       " item     (Intercept) 0.060916 0.24681 \n",
       " Residual             1.903945 1.37984 \n",
       "Number of obs: 2010, groups:  ID, 201; item, 20\n",
       "\n",
       "Fixed effects:\n",
       "                        Estimate Std. Error         df t value\n",
       "(Intercept)              3.48111    0.06356   18.24590  54.767\n",
       "condition               -0.04130    0.08943   17.99627  -0.462\n",
       "party_affil             -0.14880    0.04465  199.01882  -3.332\n",
       "condition:party_affil    0.76503    0.06183 1987.04216  12.373\n",
       "                                  Pr(>|t|)    \n",
       "(Intercept)           < 0.0000000000000002 ***\n",
       "condition                          0.64979    \n",
       "party_affil                        0.00103 ** \n",
       "condition:party_affil < 0.0000000000000002 ***\n",
       "---\n",
       "Signif. codes:  0 '***' 0.001 '**' 0.01 '*' 0.05 '.' 0.1 ' ' 1\n",
       "\n",
       "Correlation of Fixed Effects:\n",
       "            (Intr) condtn prty_f\n",
       "condition   -0.003              \n",
       "party_affil -0.017 -0.001       \n",
       "cndtn:prty_ -0.001 -0.016 -0.013\n"
      ]
     },
     "metadata": {},
     "output_type": "display_data"
    }
   ],
   "source": [
    "%%R -i pos,neg\n",
    "library(lmerTest)\n",
    "library(tidyverse)\n",
    "\n",
    "options(contrasts=c(\"contr.sum\",\"contr.poly\"))\n",
    "\n",
    "response.cols <- c(paste0(\"X\", 1:10, \".pos\"), paste0(\"X\", 1:10, \".neg\"))\n",
    "demographic.cols <- c(\"age\", \"gender\", \"party_affil\", \"party_strength\",\n",
    "                      \"political_engagement\"\n",
    "                     )\n",
    "\n",
    "pos <- pos %>%\n",
    "    as_tibble() %>%\n",
    "    mutate(ID=1:nrow(.))\n",
    "neg <- neg %>%\n",
    "    as_tibble() %>%\n",
    "    mutate(ID=1:nrow(.)) %>%\n",
    "    select(ID, 1:10)\n",
    "\n",
    "df <- pos %>%\n",
    "    full_join(neg, by=c(\"ID\"), suffix=c(\".pos\",\".neg\")) %>%\n",
    "    filter(party_affil %in% c(\"Democrat\",\"Republican\")) %>%\n",
    "    select(ID, response.cols, demographic.cols) %>%\n",
    "    pivot_longer(response.cols, names_to=\"item\", values_to=\"rating\") %>%\n",
    "    mutate(condition=grepl(\".pos\", item)) %>%\n",
    "    mutate(party_affil=ifelse(party_affil==\"Republican\", sqrt(.5), -sqrt(.5)),\n",
    "           condition=ifelse(condition, sqrt(.5), -sqrt(.5)),\n",
    "           age=age-18,\n",
    "           party_strength=party_strength-1,\n",
    "           political_engagement=political_engagement-1\n",
    "          )\n",
    "\n",
    "fit <- lmer(rating ~ condition * party_affil + (1|ID) + (1|item), data = df)\n",
    "summary(fit)"
   ]
  },
  {
   "cell_type": "code",
   "execution_count": 34,
   "metadata": {},
   "outputs": [
    {
     "data": {
      "text/plain": [
       "[1] 0.6413659 0.8886910\n"
      ]
     },
     "metadata": {},
     "output_type": "display_data"
    }
   ],
   "source": [
    "%%R\n",
    "# +- 2 SE\n",
    "coef.interact <- summary(fit)$coefficients[4,1]\n",
    "se.interact <- summary(fit)$coefficients[4,2]\n",
    "print(c(coef.interact - 2*se.interact, coef.interact + 2*se.interact))"
   ]
  },
  {
   "cell_type": "code",
   "execution_count": 35,
   "metadata": {},
   "outputs": [
    {
     "data": {
      "text/plain": [
       "Data: df\n",
       "Models:\n",
       "null.fit: rating ~ condition + party_affil + (1 | ID) + (1 | item)\n",
       "fit: rating ~ condition * party_affil + (1 | ID) + (1 | item)\n",
       "         npar    AIC    BIC  logLik deviance  Chisq Df            Pr(>Chisq)\n",
       "null.fit    6 7191.9 7225.5 -3589.9   7179.9                                \n",
       "fit         7 7046.3 7085.6 -3516.2   7032.3 147.54  1 < 0.00000000000000022\n",
       "            \n",
       "null.fit    \n",
       "fit      ***\n",
       "---\n",
       "Signif. codes:  0 '***' 0.001 '**' 0.01 '*' 0.05 '.' 0.1 ' ' 1\n"
      ]
     },
     "metadata": {},
     "output_type": "display_data"
    }
   ],
   "source": [
    "%%R\n",
    "null.fit <- lmer(rating ~ condition + party_affil + (1|ID) + (1|item), data = df)\n",
    "anova(null.fit, fit, test=\"LRT\")"
   ]
  },
  {
   "cell_type": "code",
   "execution_count": 36,
   "metadata": {},
   "outputs": [
    {
     "data": {
      "text/plain": [
       "Linear mixed model fit by REML. t-tests use Satterthwaite's method [\n",
       "lmerModLmerTest]\n",
       "Formula: rating ~ condition * party_affil + condition * age + condition *  \n",
       "    gender + condition * party_affil * party_strength + condition *  \n",
       "    party_affil * political_engagement + (1 | ID) + (1 | item)\n",
       "   Data: df\n",
       "\n",
       "REML criterion at convergence: 7008.4\n",
       "\n",
       "Scaled residuals: \n",
       "     Min       1Q   Median       3Q      Max \n",
       "-2.48622 -0.76507 -0.00375  0.78720  2.65032 \n",
       "\n",
       "Random effects:\n",
       " Groups   Name        Variance  Std.Dev.\n",
       " ID       (Intercept) 0.0008983 0.02997 \n",
       " item     (Intercept) 0.0643484 0.25367 \n",
       " Residual             1.8846791 1.37284 \n",
       "Number of obs: 1990, groups:  ID, 199; item, 20\n",
       "\n",
       "Fixed effects:\n",
       "                                              Estimate  Std. Error          df\n",
       "(Intercept)                                   3.666965    0.120984  129.075246\n",
       "condition                                     0.017585    0.170815  206.209401\n",
       "party_affil                                   0.088168    0.132879  190.712089\n",
       "age                                          -0.005200    0.002602  190.378960\n",
       "gender                                       -0.012132    0.032035  190.293869\n",
       "party_strength                               -0.010812    0.020301  190.089355\n",
       "political_engagement                         -0.009894    0.024408  189.971319\n",
       "condition:party_affil                        -0.180706    0.187519 1958.265570\n",
       "condition:age                                -0.001461    0.003672 1956.606536\n",
       "condition:gender                              0.074924    0.045206 1959.522687\n",
       "condition:party_strength                     -0.028314    0.028648 1958.840398\n",
       "party_affil:party_strength                   -0.062440    0.028711  189.945284\n",
       "condition:political_engagement                0.036486    0.034444 1958.990210\n",
       "party_affil:political_engagement              0.003445    0.033726  189.904193\n",
       "condition:party_affil:party_strength          0.148396    0.040516 1957.601988\n",
       "condition:party_affil:political_engagement    0.120138    0.047593 1957.896652\n",
       "                                           t value             Pr(>|t|)    \n",
       "(Intercept)                                 30.310 < 0.0000000000000002 ***\n",
       "condition                                    0.103             0.918103    \n",
       "party_affil                                  0.664             0.507797    \n",
       "age                                         -1.998             0.047124 *  \n",
       "gender                                      -0.379             0.705312    \n",
       "party_strength                              -0.533             0.594934    \n",
       "political_engagement                        -0.405             0.685658    \n",
       "condition:party_affil                       -0.964             0.335332    \n",
       "condition:age                               -0.398             0.690814    \n",
       "condition:gender                             1.657             0.097605 .  \n",
       "condition:party_strength                    -0.988             0.323119    \n",
       "party_affil:party_strength                  -2.175             0.030881 *  \n",
       "condition:political_engagement               1.059             0.289610    \n",
       "party_affil:political_engagement             0.102             0.918753    \n",
       "condition:party_affil:party_strength         3.663             0.000256 ***\n",
       "condition:party_affil:political_engagement   2.524             0.011672 *  \n",
       "---\n",
       "Signif. codes:  0 '***' 0.001 '**' 0.01 '*' 0.05 '.' 0.1 ' ' 1\n"
      ]
     },
     "metadata": {},
     "output_type": "display_data"
    }
   ],
   "source": [
    "%%R\n",
    "fit <- lmer(rating ~ condition * party_affil + condition * age + condition * gender + condition * party_affil * party_strength + condition * party_affil * political_engagement + (1|ID) + (1|item), data = df)\n",
    "summary(fit)"
   ]
  },
  {
   "cell_type": "markdown",
   "metadata": {},
   "source": [
    "Generates the dataframe used to create Figure 1b, which can be recreated by running the script fig1b.py."
   ]
  },
  {
   "cell_type": "code",
   "execution_count": 37,
   "metadata": {},
   "outputs": [],
   "source": [
    "davb = np.nanmean(dneg, axis=1) - np.nanmean(dpos, axis=1)\n",
    "ravb = np.nanmean(rpos, axis=1) - np.nanmean(rneg, axis=1)\n",
    "dspi = ddat.party_strength\n",
    "rspi = rdat.party_strength\n",
    "ddpe = ddat.political_engagement\n",
    "rdpe = rdat.political_engagement\n",
    "dfigdat = pd.DataFrame(np.concatenate((davb[:,None], dspi[:,None], ddpe[:,None]), axis=1),\n",
    "                       columns=[\"avb\",\"spi\",\"dpe\"]\n",
    "                      )\n",
    "dfigdat[\"party\"] = \"D\"\n",
    "rfigdat = pd.DataFrame(np.concatenate((ravb[:,None], rspi[:,None], rdpe[:,None]), axis=1),\n",
    "                       columns=[\"avb\",\"spi\",\"dpe\"]\n",
    "                      )\n",
    "rfigdat[\"party\"] = \"R\"\n",
    "figdat = pd.concat((dfigdat,rfigdat))\n",
    "figdat.to_csv(\"fig1b.csv\")"
   ]
  },
  {
   "cell_type": "code",
   "execution_count": 38,
   "metadata": {},
   "outputs": [
    {
     "data": {
      "text/plain": [
       "(0.39955992760108694, 4.595845994591799e-09)"
      ]
     },
     "execution_count": 38,
     "metadata": {},
     "output_type": "execute_result"
    }
   ],
   "source": [
    "spi = figdat.spi.values\n",
    "dpe = figdat.dpe.values\n",
    "idx = np.where(~(np.isnan(spi) | np.isnan(dpe)))[0]\n",
    "stats.pearsonr(spi[idx], dpe[idx])"
   ]
  },
  {
   "cell_type": "code",
   "execution_count": 39,
   "metadata": {},
   "outputs": [
    {
     "name": "stdout",
     "output_type": "stream",
     "text": [
      "(145, 0.7213930348258707, 0.6581498220453847, 0.7846362476063566)\n"
     ]
    }
   ],
   "source": [
    "avb = figdat.avb.values\n",
    "navb = len(avb[avb > 0])\n",
    "n = len(avb)\n",
    "p = navb / n\n",
    "se = np.sqrt(p*(1-p)/n)\n",
    "print(navb, p, p-2*se, p+2*se)"
   ]
  }
 ],
 "metadata": {
  "kernelspec": {
   "display_name": "lop_env",
   "language": "python",
   "name": "lop_env"
  },
  "language_info": {
   "codemirror_mode": {
    "name": "ipython",
    "version": 2
   },
   "file_extension": ".py",
   "mimetype": "text/x-python",
   "name": "python",
   "nbconvert_exporter": "python",
   "pygments_lexer": "ipython2",
   "version": "2.7.17"
  }
 },
 "nbformat": 4,
 "nbformat_minor": 4
}
