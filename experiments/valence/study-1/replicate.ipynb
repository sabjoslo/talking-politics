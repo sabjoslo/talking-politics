{
 "cells": [
  {
   "cell_type": "markdown",
   "metadata": {},
   "source": [
    "Code to replicate the results reported for study 1."
   ]
  },
  {
   "cell_type": "code",
   "execution_count": 1,
   "metadata": {},
   "outputs": [],
   "source": [
    "%matplotlib inline\n",
    "#! switch_R 3.3\n",
    "# Ensure R version plays well with rpy2\n",
    "%load_ext rpy2.ipython"
   ]
  },
  {
   "cell_type": "code",
   "execution_count": 2,
   "metadata": {},
   "outputs": [
    {
     "name": "stderr",
     "output_type": "stream",
     "text": [
      "/Users/sabinasloman/Box/LoP/pyspan/pyspan/config.py:19: UserWarning: \n",
      "This call to matplotlib.use() has no effect because the backend has already\n",
      "been chosen; matplotlib.use() must be called *before* pylab, matplotlib.pyplot,\n",
      "or matplotlib.backends is imported for the first time.\n",
      "\n",
      "The backend was *originally* set to 'module://ipykernel.pylab.backend_inline' by the following code:\n",
      "  File \"/Users/sabinasloman/.pyenv/versions/2.7.17/lib/python2.7/runpy.py\", line 174, in _run_module_as_main\n",
      "    \"__main__\", fname, loader, pkg_name)\n",
      "  File \"/Users/sabinasloman/.pyenv/versions/2.7.17/lib/python2.7/runpy.py\", line 72, in _run_code\n",
      "    exec code in run_globals\n",
      "  File \"/Users/sabinasloman/.pyenv/versions/2.7.17/envs/lop_env/lib/python2.7/site-packages/ipykernel_launcher.py\", line 16, in <module>\n",
      "    app.launch_new_instance()\n",
      "  File \"/Users/sabinasloman/.pyenv/versions/2.7.17/envs/lop_env/lib/python2.7/site-packages/traitlets/config/application.py\", line 664, in launch_instance\n",
      "    app.start()\n",
      "  File \"/Users/sabinasloman/.pyenv/versions/2.7.17/envs/lop_env/lib/python2.7/site-packages/ipykernel/kernelapp.py\", line 499, in start\n",
      "    self.io_loop.start()\n",
      "  File \"/Users/sabinasloman/.pyenv/versions/2.7.17/envs/lop_env/lib/python2.7/site-packages/tornado/ioloop.py\", line 1073, in start\n",
      "    handler_func(fd_obj, events)\n",
      "  File \"/Users/sabinasloman/.pyenv/versions/2.7.17/envs/lop_env/lib/python2.7/site-packages/tornado/stack_context.py\", line 300, in null_wrapper\n",
      "    return fn(*args, **kwargs)\n",
      "  File \"/Users/sabinasloman/.pyenv/versions/2.7.17/envs/lop_env/lib/python2.7/site-packages/zmq/eventloop/zmqstream.py\", line 456, in _handle_events\n",
      "    self._handle_recv()\n",
      "  File \"/Users/sabinasloman/.pyenv/versions/2.7.17/envs/lop_env/lib/python2.7/site-packages/zmq/eventloop/zmqstream.py\", line 486, in _handle_recv\n",
      "    self._run_callback(callback, msg)\n",
      "  File \"/Users/sabinasloman/.pyenv/versions/2.7.17/envs/lop_env/lib/python2.7/site-packages/zmq/eventloop/zmqstream.py\", line 438, in _run_callback\n",
      "    callback(*args, **kwargs)\n",
      "  File \"/Users/sabinasloman/.pyenv/versions/2.7.17/envs/lop_env/lib/python2.7/site-packages/tornado/stack_context.py\", line 300, in null_wrapper\n",
      "    return fn(*args, **kwargs)\n",
      "  File \"/Users/sabinasloman/.pyenv/versions/2.7.17/envs/lop_env/lib/python2.7/site-packages/ipykernel/kernelbase.py\", line 283, in dispatcher\n",
      "    return self.dispatch_shell(stream, msg)\n",
      "  File \"/Users/sabinasloman/.pyenv/versions/2.7.17/envs/lop_env/lib/python2.7/site-packages/ipykernel/kernelbase.py\", line 233, in dispatch_shell\n",
      "    handler(stream, idents, msg)\n",
      "  File \"/Users/sabinasloman/.pyenv/versions/2.7.17/envs/lop_env/lib/python2.7/site-packages/ipykernel/kernelbase.py\", line 399, in execute_request\n",
      "    user_expressions, allow_stdin)\n",
      "  File \"/Users/sabinasloman/.pyenv/versions/2.7.17/envs/lop_env/lib/python2.7/site-packages/ipykernel/ipkernel.py\", line 208, in do_execute\n",
      "    res = shell.run_cell(code, store_history=store_history, silent=silent)\n",
      "  File \"/Users/sabinasloman/.pyenv/versions/2.7.17/envs/lop_env/lib/python2.7/site-packages/ipykernel/zmqshell.py\", line 537, in run_cell\n",
      "    return super(ZMQInteractiveShell, self).run_cell(*args, **kwargs)\n",
      "  File \"/Users/sabinasloman/.pyenv/versions/2.7.17/envs/lop_env/lib/python2.7/site-packages/IPython/core/interactiveshell.py\", line 2724, in run_cell\n",
      "    self.events.trigger('post_run_cell')\n",
      "  File \"/Users/sabinasloman/.pyenv/versions/2.7.17/envs/lop_env/lib/python2.7/site-packages/IPython/core/events.py\", line 74, in trigger\n",
      "    func(*args, **kwargs)\n",
      "  File \"/Users/sabinasloman/.pyenv/versions/2.7.17/envs/lop_env/lib/python2.7/site-packages/ipykernel/pylab/backend_inline.py\", line 164, in configure_once\n",
      "    activate_matplotlib(backend)\n",
      "  File \"/Users/sabinasloman/.pyenv/versions/2.7.17/envs/lop_env/lib/python2.7/site-packages/IPython/core/pylabtools.py\", line 315, in activate_matplotlib\n",
      "    matplotlib.pyplot.switch_backend(backend)\n",
      "  File \"/Users/sabinasloman/.pyenv/versions/2.7.17/envs/lop_env/lib/python2.7/site-packages/matplotlib/pyplot.py\", line 231, in switch_backend\n",
      "    matplotlib.use(newbackend, warn=False, force=True)\n",
      "  File \"/Users/sabinasloman/.pyenv/versions/2.7.17/envs/lop_env/lib/python2.7/site-packages/matplotlib/__init__.py\", line 1425, in use\n",
      "    reload(sys.modules['matplotlib.backends'])\n",
      "  File \"/Users/sabinasloman/.pyenv/versions/2.7.17/envs/lop_env/lib/python2.7/site-packages/matplotlib/backends/__init__.py\", line 17, in <module>\n",
      "    line for line in traceback.format_stack()\n",
      "\n",
      "\n",
      "  mpl.use(settings[\"mpl_backend\"])\n",
      "/Users/sabinasloman/Box/LoP/pyspan/pyspan/ratings_task/data.py:27: FutureWarning: Sorting because non-concatenation axis is not aligned. A future version\n",
      "of pandas will change to not sort by default.\n",
      "\n",
      "To accept the future behavior, pass 'sort=False'.\n",
      "\n",
      "To retain the current behavior and silence the warning, pass 'sort=True'.\n",
      "\n",
      "  all_ = pd.concat((partisan, antonyms))\n"
     ]
    }
   ],
   "source": [
    "from __future__ import division\n",
    "import numpy as np\n",
    "np.random.seed(0)\n",
    "import random\n",
    "import statsmodels.stats.api as sms\n",
    "from pyspan.ratings_task.analysis import *"
   ]
  },
  {
   "cell_type": "code",
   "execution_count": 3,
   "metadata": {},
   "outputs": [],
   "source": [
    "pos_ixs = filter(lambda ix: antonyms.loc[(ix+79,\"valence\")] == \"POS\", \n",
    "                 np.arange(20))\n",
    "neg_ixs = filter(lambda ix: antonyms.loc[(ix+79,\"valence\")] == \"NEG\", \n",
    "                 np.arange(20))\n",
    "# Reorder neg_ixs so each column matches its partner antonyms\n",
    "neg_ixs = [90, 91, 92, 94, 95, 98, 79, 83, 86, 87]\n",
    "neg_ixs = [ix-79 for ix in neg_ixs]"
   ]
  },
  {
   "cell_type": "markdown",
   "metadata": {},
   "source": [
    "# Demographics"
   ]
  },
  {
   "cell_type": "code",
   "execution_count": 4,
   "metadata": {},
   "outputs": [],
   "source": [
    "dat = deepcopy(minidf[map(str, range(79,99))].values)\n",
    "# ddat__ contains data from Democrats\n",
    "ddat__ = dat[minidf.party == \"Democrat\",:]\n",
    "# rdat__ contains data from Republicans\n",
    "rdat__ = dat[minidf.party == \"Republican\",:]"
   ]
  },
  {
   "cell_type": "code",
   "execution_count": 5,
   "metadata": {},
   "outputs": [
    {
     "data": {
      "text/plain": [
       "((147, 20), (61, 20), (38, 20))"
      ]
     },
     "execution_count": 5,
     "metadata": {},
     "output_type": "execute_result"
    }
   ],
   "source": [
    "dat.shape, ddat__.shape, rdat__.shape"
   ]
  },
  {
   "cell_type": "code",
   "execution_count": 6,
   "metadata": {},
   "outputs": [
    {
     "data": {
      "text/plain": [
       "(35.9344262295082, 1.3906142945108189)"
      ]
     },
     "execution_count": 6,
     "metadata": {},
     "output_type": "execute_result"
    }
   ],
   "source": [
    "np.mean(minidf.loc[(minidf.party == \"Democrat\",\"age\")]), \\\n",
    "stats.sem(minidf.loc[(minidf.party == \"Democrat\",\"age\")])"
   ]
  },
  {
   "cell_type": "code",
   "execution_count": 7,
   "metadata": {},
   "outputs": [
    {
     "data": {
      "text/plain": [
       "F    35\n",
       "M    26\n",
       "Name: gender, dtype: int64"
      ]
     },
     "execution_count": 7,
     "metadata": {},
     "output_type": "execute_result"
    }
   ],
   "source": [
    "minidf.loc[(minidf.party == \"Democrat\",\"gender\")].value_counts()"
   ]
  },
  {
   "cell_type": "code",
   "execution_count": 8,
   "metadata": {},
   "outputs": [
    {
     "data": {
      "text/plain": [
       "(40.10526315789474, 1.5736040455896694)"
      ]
     },
     "execution_count": 8,
     "metadata": {},
     "output_type": "execute_result"
    }
   ],
   "source": [
    "np.mean(minidf.loc[(minidf.party == \"Republican\",\"age\")]), \\\n",
    "stats.sem(minidf.loc[(minidf.party == \"Republican\",\"age\")])"
   ]
  },
  {
   "cell_type": "code",
   "execution_count": 9,
   "metadata": {},
   "outputs": [
    {
     "data": {
      "text/plain": [
       "M    21\n",
       "F    17\n",
       "Name: gender, dtype: int64"
      ]
     },
     "execution_count": 9,
     "metadata": {},
     "output_type": "execute_result"
    }
   ],
   "source": [
    "minidf.loc[(minidf.party == \"Republican\",\"gender\")].value_counts()"
   ]
  },
  {
   "cell_type": "markdown",
   "metadata": {},
   "source": [
    "# Hypothesis tests of the valence bias"
   ]
  },
  {
   "cell_type": "code",
   "execution_count": 10,
   "metadata": {},
   "outputs": [],
   "source": [
    "# Dem responses on the positive stimuli\n",
    "ddat_pos = ddat__[:,pos_ixs]\n",
    "# Repub responses on the positive stimuli\n",
    "rdat_pos = rdat__[:,pos_ixs]\n",
    "# Dem responses on the negative stimuli\n",
    "ddat_neg = ddat__[:,neg_ixs]\n",
    "# Repub responses on the negative stimuli\n",
    "rdat_neg = rdat__[:,neg_ixs]"
   ]
  },
  {
   "cell_type": "markdown",
   "metadata": {},
   "source": [
    "Calculate means. Add 1 because the data are coded on a 0--5 scale, but described in the paper on a 1--6 scale."
   ]
  },
  {
   "cell_type": "code",
   "execution_count": 11,
   "metadata": {},
   "outputs": [],
   "source": [
    "d_pos_mu = np.mean(ddat_pos[~np.isnan(ddat_pos)]) + 1\n",
    "r_pos_mu = np.mean(rdat_pos[~np.isnan(rdat_pos)]) + 1\n",
    "d_neg_mu = np.mean(ddat_neg[~np.isnan(ddat_neg)]) + 1\n",
    "r_neg_mu = np.mean(rdat_neg[~np.isnan(rdat_neg)]) + 1"
   ]
  },
  {
   "cell_type": "code",
   "execution_count": 12,
   "metadata": {},
   "outputs": [
    {
     "data": {
      "text/plain": [
       "(3.2459016393442623, 3.8153034300791555, 3.7701149425287355, 2.876315789473684)"
      ]
     },
     "execution_count": 12,
     "metadata": {},
     "output_type": "execute_result"
    }
   ],
   "source": [
    "d_pos_mu, r_pos_mu, d_neg_mu, r_neg_mu"
   ]
  },
  {
   "cell_type": "markdown",
   "metadata": {},
   "source": [
    "Bootstrap standard errors around the means of judgments on the valenced words."
   ]
  },
  {
   "cell_type": "code",
   "execution_count": 13,
   "metadata": {},
   "outputs": [],
   "source": [
    "dmu_pos, rmu_pos, dmu_neg, rmu_neg = [], [], [], []\n",
    "nd = ddat__.shape[0]\n",
    "nr = rdat__.shape[0]\n",
    "for _ in range(100):\n",
    "    ddat___ = ddat__[[random.choice(range(nd)) for _ in range(nd)],:]\n",
    "    rdat___ = rdat__[[random.choice(range(nr)) for _ in range(nr)],:]\n",
    "    dpos = ddat___[:,pos_ixs][~np.isnan(ddat___[:,pos_ixs])]\n",
    "    rpos = rdat___[:,pos_ixs][~np.isnan(rdat___[:,pos_ixs])]\n",
    "    dneg = ddat___[:,neg_ixs][~np.isnan(ddat___[:,neg_ixs])]\n",
    "    rneg = rdat___[:,neg_ixs][~np.isnan(rdat___[:,neg_ixs])]\n",
    "    dmu_pos.append(np.mean(dpos))\n",
    "    rmu_pos.append(np.mean(rpos))\n",
    "    dmu_neg.append(np.mean(dneg))\n",
    "    rmu_neg.append(np.mean(rneg))"
   ]
  },
  {
   "cell_type": "code",
   "execution_count": 14,
   "metadata": {},
   "outputs": [],
   "source": [
    "se_dp = np.std(dmu_pos)\n",
    "se_rp = np.std(rmu_pos)\n",
    "se_dn = np.std(dmu_neg)\n",
    "se_rn = np.std(rmu_neg)"
   ]
  },
  {
   "cell_type": "code",
   "execution_count": 15,
   "metadata": {},
   "outputs": [
    {
     "data": {
      "text/plain": [
       "(0.05973598412162279,\n",
       " 0.09007073277026315,\n",
       " 0.07491435077127369,\n",
       " 0.11437351939613545)"
      ]
     },
     "execution_count": 15,
     "metadata": {},
     "output_type": "execute_result"
    }
   ],
   "source": [
    "se_dp, se_rp, se_dn, se_rn"
   ]
  },
  {
   "cell_type": "markdown",
   "metadata": {},
   "source": [
    "A series of $t$-tests (with errors clustered at the participant level). Referenced by the number of stars in the Figure 1a."
   ]
  },
  {
   "cell_type": "markdown",
   "metadata": {},
   "source": [
    "Hypothesis: Republicans' judgments on the positive words are higher than Democrats' judgments on the positive words."
   ]
  },
  {
   "cell_type": "code",
   "execution_count": 16,
   "metadata": {},
   "outputs": [
    {
     "name": "stderr",
     "output_type": "stream",
     "text": [
      "/Users/sabinasloman/.pyenv/versions/2.7.17/envs/lop_env/lib/python2.7/site-packages/rpy2/rinterface/__init__.py:186: RRuntimeWarning: Loading required package: zoo\n",
      "\n",
      "  warnings.warn(x, RRuntimeWarning)\n",
      "/Users/sabinasloman/.pyenv/versions/2.7.17/envs/lop_env/lib/python2.7/site-packages/rpy2/rinterface/__init__.py:186: RRuntimeWarning: \n",
      "Attaching package: ‘zoo’\n",
      "\n",
      "\n",
      "  warnings.warn(x, RRuntimeWarning)\n",
      "/Users/sabinasloman/.pyenv/versions/2.7.17/envs/lop_env/lib/python2.7/site-packages/rpy2/rinterface/__init__.py:186: RRuntimeWarning: The following objects are masked from ‘package:base’:\n",
      "\n",
      "    as.Date, as.Date.numeric\n",
      "\n",
      "\n",
      "  warnings.warn(x, RRuntimeWarning)\n"
     ]
    },
    {
     "data": {
      "text/plain": [
       "\n",
       "t test of coefficients:\n",
       "\n",
       "            Estimate Std. Error t value  Pr(>|t|)    \n",
       "(Intercept) 2.245902   0.060731 36.9813 < 2.2e-16 ***\n",
       "groups      0.569402   0.114339  4.9799 7.505e-07 ***\n",
       "---\n",
       "Signif. codes:  0 ‘***’ 0.001 ‘**’ 0.01 ‘*’ 0.05 ‘.’ 0.1 ‘ ’ 1\n",
       "\n"
      ]
     },
     "metadata": {},
     "output_type": "display_data"
    }
   ],
   "source": [
    "%%R -i ddat_pos,rdat_pos\n",
    "# https://www.researchgate.net/publication/251965897_Cluster-robust_standard_errors_using_R\n",
    "clx <- function(fm, dfcw, cluster){\n",
    "          library(sandwich)\n",
    "          library(lmtest)\n",
    "          M <- length(unique(cluster))\n",
    "          N <- length(cluster)\n",
    "          dfc <- (M/(M-1))*((N-1)/(N-fm$rank))\n",
    "          u  <- apply(estfun(fm),2,\n",
    "                      function(x) tapply(x, cluster, sum))\n",
    "          vcovCL <- dfc*sandwich(fm, meat=crossprod(u)/N)*dfcw\n",
    "          coeftest(fm, vcovCL) }\n",
    "y <- c(t(ddat_pos), t(rdat_pos))\n",
    "nd <- dim(ddat_pos)[1]\n",
    "nr <- dim(rdat_pos)[1]\n",
    "kd <- dim(ddat_pos)[2]\n",
    "kr <- dim(rdat_pos)[2]\n",
    "stopifnot(kd == kr)\n",
    "clusters <- c(rep(1:nd, each = kd), rep((nd+1):(nd+nr), each = kr))\n",
    "clusters <- clusters[which(!is.na(y))]\n",
    "groups <- c(rep(0, nd*kd), rep(1, nr*kr))\n",
    "fit <- lm(y ~ groups)\n",
    "clx(fit, 1, clusters)"
   ]
  },
  {
   "cell_type": "markdown",
   "metadata": {},
   "source": [
    "Hypothesis: Republicans' judgments on the negative words are lower than Democrats' judgments on the negative words."
   ]
  },
  {
   "cell_type": "code",
   "execution_count": 17,
   "metadata": {},
   "outputs": [
    {
     "data": {
      "text/plain": [
       "\n",
       "t test of coefficients:\n",
       "\n",
       "             Estimate Std. Error t value  Pr(>|t|)    \n",
       "(Intercept)  2.770115   0.072951 37.9724 < 2.2e-16 ***\n",
       "groups      -0.893799   0.141443 -6.3192 3.975e-10 ***\n",
       "---\n",
       "Signif. codes:  0 ‘***’ 0.001 ‘**’ 0.01 ‘*’ 0.05 ‘.’ 0.1 ‘ ’ 1\n",
       "\n"
      ]
     },
     "metadata": {},
     "output_type": "display_data"
    }
   ],
   "source": [
    "%%R -i ddat_neg,rdat_neg\n",
    "y <- c(t(ddat_neg), t(rdat_neg))\n",
    "nd <- dim(ddat_neg)[1]\n",
    "nr <- dim(rdat_neg)[1]\n",
    "kd <- dim(ddat_neg)[2]\n",
    "kr <- dim(rdat_neg)[2]\n",
    "stopifnot(kd == kr)\n",
    "clusters <- c(rep(1:nd, each = kd), rep((nd+1):(nd+nr), each = kr))\n",
    "clusters <- clusters[which(!is.na(y))]\n",
    "groups <- c(rep(0, nd*kd), rep(1, nr*kr))\n",
    "fit <- lm(y ~ groups)\n",
    "clx(fit, 1, clusters)"
   ]
  },
  {
   "cell_type": "markdown",
   "metadata": {},
   "source": [
    "Hypothesis: Republicans' judgments on the positive words are higher than Republicans' judgments on the negative words."
   ]
  },
  {
   "cell_type": "code",
   "execution_count": 18,
   "metadata": {},
   "outputs": [
    {
     "data": {
      "text/plain": [
       "\n",
       "t test of coefficients:\n",
       "\n",
       "             Estimate Std. Error t value  Pr(>|t|)    \n",
       "(Intercept)  2.815303   0.097696 28.8170 < 2.2e-16 ***\n",
       "groups      -0.938988   0.173338 -5.4171 8.144e-08 ***\n",
       "---\n",
       "Signif. codes:  0 ‘***’ 0.001 ‘**’ 0.01 ‘*’ 0.05 ‘.’ 0.1 ‘ ’ 1\n",
       "\n"
      ]
     },
     "metadata": {},
     "output_type": "display_data"
    }
   ],
   "source": [
    "%%R -i rdat_pos,rdat_neg\n",
    "y <- c(t(rdat_pos), t(rdat_neg))\n",
    "nd <- dim(rdat_pos)[1]\n",
    "nr <- dim(rdat_neg)[1]\n",
    "kd <- dim(rdat_pos)[2]\n",
    "kr <- dim(rdat_neg)[2]\n",
    "stopifnot(nd == nr)\n",
    "stopifnot(kd == kr)\n",
    "clusters <- c(rep(1:nd, each = kd), rep(1:nr, each = kr))\n",
    "clusters <- clusters[which(!is.na(y))]\n",
    "groups <- c(rep(0, nd*kd), rep(1, nr*kr))\n",
    "fit <- lm(y ~ groups)\n",
    "clx(fit, 1, clusters)"
   ]
  },
  {
   "cell_type": "markdown",
   "metadata": {},
   "source": [
    "Hypothesis: Democrats' judgments on the positive words are higher than Democrats' judgments on the negative words."
   ]
  },
  {
   "cell_type": "code",
   "execution_count": 19,
   "metadata": {},
   "outputs": [
    {
     "data": {
      "text/plain": [
       "\n",
       "t test of coefficients:\n",
       "\n",
       "            Estimate Std. Error t value  Pr(>|t|)    \n",
       "(Intercept) 2.245902   0.060919 36.8671 < 2.2e-16 ***\n",
       "groups      0.524213   0.079651  6.5813 6.912e-11 ***\n",
       "---\n",
       "Signif. codes:  0 ‘***’ 0.001 ‘**’ 0.01 ‘*’ 0.05 ‘.’ 0.1 ‘ ’ 1\n",
       "\n"
      ]
     },
     "metadata": {},
     "output_type": "display_data"
    }
   ],
   "source": [
    "%%R -i ddat_pos,ddat_neg\n",
    "y <- c(t(ddat_pos), t(ddat_neg))\n",
    "nd <- dim(ddat_pos)[1]\n",
    "nr <- dim(ddat_neg)[1]\n",
    "kd <- dim(ddat_pos)[2]\n",
    "kr <- dim(ddat_neg)[2]\n",
    "stopifnot(nd == nr)\n",
    "stopifnot(kd == kr)\n",
    "clusters <- c(rep(1:nd, each = kd), rep(1:nr, each = kr))\n",
    "clusters <- clusters[which(!is.na(y))]\n",
    "groups <- c(rep(0, nd*kd), rep(1, nr*kr))\n",
    "fit <- lm(y ~ groups)\n",
    "clx(fit, 1, clusters)"
   ]
  },
  {
   "cell_type": "markdown",
   "metadata": {},
   "source": [
    "Analysis of variance"
   ]
  },
  {
   "cell_type": "code",
   "execution_count": 20,
   "metadata": {},
   "outputs": [
    {
     "name": "stderr",
     "output_type": "stream",
     "text": [
      "/Users/sabinasloman/.pyenv/versions/2.7.17/envs/lop_env/lib/python2.7/site-packages/rpy2/rinterface/__init__.py:186: RRuntimeWarning: Loading required package: lme4\n",
      "\n",
      "  warnings.warn(x, RRuntimeWarning)\n",
      "/Users/sabinasloman/.pyenv/versions/2.7.17/envs/lop_env/lib/python2.7/site-packages/rpy2/rinterface/__init__.py:186: RRuntimeWarning: Loading required package: Matrix\n",
      "\n",
      "  warnings.warn(x, RRuntimeWarning)\n",
      "/Users/sabinasloman/.pyenv/versions/2.7.17/envs/lop_env/lib/python2.7/site-packages/rpy2/rinterface/__init__.py:186: RRuntimeWarning: \n",
      "Attaching package: ‘lmerTest’\n",
      "\n",
      "\n",
      "  warnings.warn(x, RRuntimeWarning)\n",
      "/Users/sabinasloman/.pyenv/versions/2.7.17/envs/lop_env/lib/python2.7/site-packages/rpy2/rinterface/__init__.py:186: RRuntimeWarning: The following object is masked from ‘package:lme4’:\n",
      "\n",
      "    lmer\n",
      "\n",
      "\n",
      "  warnings.warn(x, RRuntimeWarning)\n",
      "/Users/sabinasloman/.pyenv/versions/2.7.17/envs/lop_env/lib/python2.7/site-packages/rpy2/rinterface/__init__.py:186: RRuntimeWarning: The following object is masked from ‘package:stats’:\n",
      "\n",
      "    step\n",
      "\n",
      "\n",
      "  warnings.warn(x, RRuntimeWarning)\n",
      "/Users/sabinasloman/.pyenv/versions/2.7.17/envs/lop_env/lib/python2.7/site-packages/rpy2/rinterface/__init__.py:186: RRuntimeWarning: ── \u001b[1mAttaching packages\u001b[22m ─────────────────────────────────────── tidyverse 1.3.0 ──\n",
      "\n",
      "  warnings.warn(x, RRuntimeWarning)\n",
      "/Users/sabinasloman/.pyenv/versions/2.7.17/envs/lop_env/lib/python2.7/site-packages/rpy2/rinterface/__init__.py:186: RRuntimeWarning: \u001b[32m✔\u001b[39m \u001b[34mggplot2\u001b[39m 3.3.0     \u001b[32m✔\u001b[39m \u001b[34mpurrr  \u001b[39m 0.3.3\n",
      "\u001b[32m✔\u001b[39m \u001b[34mtibble \u001b[39m 2.1.3     \u001b[32m✔\u001b[39m \u001b[34mdplyr  \u001b[39m 0.8.5\n",
      "\u001b[32m✔\u001b[39m \u001b[34mtidyr  \u001b[39m 1.0.2     \u001b[32m✔\u001b[39m \u001b[34mstringr\u001b[39m 1.4.0\n",
      "\u001b[32m✔\u001b[39m \u001b[34mreadr  \u001b[39m 1.3.1     \u001b[32m✔\u001b[39m \u001b[34mforcats\u001b[39m 0.5.0\n",
      "\n",
      "  warnings.warn(x, RRuntimeWarning)\n",
      "/Users/sabinasloman/.pyenv/versions/2.7.17/envs/lop_env/lib/python2.7/site-packages/rpy2/rinterface/__init__.py:186: RRuntimeWarning: ── \u001b[1mConflicts\u001b[22m ────────────────────────────────────────── tidyverse_conflicts() ──\n",
      "\u001b[31m✖\u001b[39m \u001b[34mtidyr\u001b[39m::\u001b[32mexpand()\u001b[39m masks \u001b[34mMatrix\u001b[39m::expand()\n",
      "\u001b[31m✖\u001b[39m \u001b[34mdplyr\u001b[39m::\u001b[32mfilter()\u001b[39m masks \u001b[34mstats\u001b[39m::filter()\n",
      "\u001b[31m✖\u001b[39m \u001b[34mdplyr\u001b[39m::\u001b[32mlag()\u001b[39m    masks \u001b[34mstats\u001b[39m::lag()\n",
      "\u001b[31m✖\u001b[39m \u001b[34mtidyr\u001b[39m::\u001b[32mpack()\u001b[39m   masks \u001b[34mMatrix\u001b[39m::pack()\n",
      "\u001b[31m✖\u001b[39m \u001b[34mtidyr\u001b[39m::\u001b[32munpack()\u001b[39m masks \u001b[34mMatrix\u001b[39m::unpack()\n",
      "\n",
      "  warnings.warn(x, RRuntimeWarning)\n"
     ]
    }
   ],
   "source": [
    "%%R -i ddat_pos,ddat_neg,rdat_pos,rdat_neg\n",
    "# https://www.r-bloggers.com/how-to-do-repeated-measures-anovas-in-r/\n",
    "library(lmerTest)\n",
    "library(tidyverse)\n",
    "\n",
    "dp <- ddat_pos %>%\n",
    "    as_tibble() %>%\n",
    "    mutate(ID = 1:nrow(ddat_pos), condition = \"POS\", party = \"D\") %>%\n",
    "    pivot_longer(V1:V10, names_to = \"item\", values_to = \"rating\")\n",
    "\n",
    "new.item.names <- as.list(paste0(\"V\", 1:10))\n",
    "names(new.item.names) <- paste0(\"V\", 11:20)\n",
    "\n",
    "dn <- ddat_neg %>%\n",
    "    as_tibble() %>%\n",
    "    rename(!!! new.item.names) %>%\n",
    "    mutate(ID = 1:nrow(ddat_neg), condition = \"NEG\", party = \"D\") %>%\n",
    "    pivot_longer(V11:V20, names_to = \"item\", values_to = \"rating\")\n",
    "\n",
    "stopifnot(nrow(dp) == nrow(dn))\n",
    "\n",
    "rp <- rdat_pos %>%\n",
    "    as_tibble() %>%\n",
    "    mutate(ID = nrow(ddat_pos):nrow(ddat_pos)+nrow(rdat_pos), condition = \"POS\", party = \"R\") %>%\n",
    "    pivot_longer(V1:V10, names_to = \"item\", values_to = \"rating\")\n",
    "\n",
    "rn <- rdat_neg %>%\n",
    "    as_tibble() %>%\n",
    "    rename(!!! new.item.names) %>%\n",
    "    mutate(ID = nrow(ddat_pos):nrow(ddat_pos)+nrow(rdat_neg), condition = \"NEG\", party = \"R\") %>%\n",
    "    pivot_longer(V11:V20, names_to = \"item\", values_to = \"rating\")\n",
    "\n",
    "stopifnot(nrow(rp) == nrow(rn))\n",
    "\n",
    "# Code to make the coefficient on the interaction term interpretable. If a Republican is asked to\n",
    "# rate a positive word OR a Democrat is asked to rate a negative word (case A), the interaction term\n",
    "# is sqrt(.5) * sqrt(.5) = -sqrt(.5) * -sqrt(.5) = .5. If a Republican is asked to rate a negative\n",
    "# word OR a Democrat is asked to rate a positive word (case B), the interaction term is \n",
    "# sqrt(.5) * -sqrt(.5) = -sqrt(.5) * sqrt(.5) = -.5. The difference between the two cases is then\n",
    "# exactly 1, and I interpret the coefficient as \"the estimated difference on the six-point rating\n",
    "# scale\" between case A and case B.\n",
    "df <- rbind(dp, dn, rp, rn) %>%\n",
    "    mutate(condition = ifelse(condition == \"POS\", sqrt(.5), -sqrt(.5)),\n",
    "           party = ifelse(party == \"R\", sqrt(.5), -sqrt(.5)))\n",
    "\n",
    "# Look at the distribution of ratings to see if normality assumptions\n",
    "# make sense\n",
    "df %>%\n",
    "    ggplot(mapping = aes(x = rating)) +\n",
    "    geom_histogram()\n",
    "\n",
    "fit <- lmer(rating ~ condition * party + (1|ID) + (1|item), data = df)"
   ]
  },
  {
   "cell_type": "code",
   "execution_count": 21,
   "metadata": {},
   "outputs": [
    {
     "data": {
      "text/plain": [
       "Linear mixed model fit by REML. t-tests use Satterthwaite's method [\n",
       "lmerModLmerTest]\n",
       "Formula: rating ~ condition * party + (1 | ID) + (1 | item)\n",
       "   Data: df\n",
       "\n",
       "REML criterion at convergence: 6678.8\n",
       "\n",
       "Scaled residuals: \n",
       "    Min      1Q  Median      3Q     Max \n",
       "-2.5429 -0.6939 -0.0127  0.6971  2.8570 \n",
       "\n",
       "Random effects:\n",
       " Groups   Name        Variance Std.Dev.\n",
       " ID       (Intercept) 0.0977   0.3126  \n",
       " item     (Intercept) 0.1001   0.3164  \n",
       " Residual             1.6321   1.2775  \n",
       "Number of obs: 1978, groups:  ID, 62; item, 20\n",
       "\n",
       "Fixed effects:\n",
       "                  Estimate Std. Error         df t value Pr(>|t|)    \n",
       "(Intercept)        2.42669    0.17522   25.67460  13.849 2.02e-13 ***\n",
       "condition          0.14650    0.10841   18.29362   1.351    0.193    \n",
       "party             -0.11484    0.22671   18.97092  -0.507    0.618    \n",
       "condition:party    0.73116    0.05907 1896.08223  12.378  < 2e-16 ***\n",
       "---\n",
       "Signif. codes:  0 ‘***’ 0.001 ‘**’ 0.01 ‘*’ 0.05 ‘.’ 0.1 ‘ ’ 1\n",
       "\n",
       "Correlation of Fixed Effects:\n",
       "            (Intr) condtn party\n",
       "condition   0.000              \n",
       "party       0.863  0.000       \n",
       "condtn:prty 0.000  0.090  0.000\n"
      ]
     },
     "metadata": {},
     "output_type": "display_data"
    }
   ],
   "source": [
    "%%R\n",
    "summary(fit)"
   ]
  },
  {
   "cell_type": "code",
   "execution_count": 22,
   "metadata": {},
   "outputs": [
    {
     "data": {
      "text/plain": [
       "[1] 0.6130162 0.8492966\n"
      ]
     },
     "metadata": {},
     "output_type": "display_data"
    }
   ],
   "source": [
    "%%R\n",
    "# +- 2 SE\n",
    "coef.interact <- summary(fit)$coefficients[4,1]\n",
    "se.interact <- summary(fit)$coefficients[4,2]\n",
    "print(c(coef.interact - 2*se.interact, coef.interact + 2*se.interact))"
   ]
  },
  {
   "cell_type": "code",
   "execution_count": 23,
   "metadata": {},
   "outputs": [
    {
     "name": "stderr",
     "output_type": "stream",
     "text": [
      "/Users/sabinasloman/.pyenv/versions/2.7.17/envs/lop_env/lib/python2.7/site-packages/rpy2/rinterface/__init__.py:186: RRuntimeWarning: Missing cells for: condition.  \n",
      "Interpret type III hypotheses with care.\n",
      "\n",
      "  warnings.warn(x, RRuntimeWarning)\n"
     ]
    },
    {
     "data": {
      "text/plain": [
       "Type III Analysis of Variance Table with Satterthwaite's method\n",
       "                 Sum Sq Mean Sq NumDF   DenDF  F value Pr(>F)    \n",
       "condition         2.980   2.980     1   18.29   1.8262 0.1931    \n",
       "party             0.419   0.419     1   18.97   0.2566 0.6183    \n",
       "condition:party 250.053 250.053     1 1896.08 153.2093 <2e-16 ***\n",
       "---\n",
       "Signif. codes:  0 ‘***’ 0.001 ‘**’ 0.01 ‘*’ 0.05 ‘.’ 0.1 ‘ ’ 1\n"
      ]
     },
     "metadata": {},
     "output_type": "display_data"
    }
   ],
   "source": [
    "%%R\n",
    "anova_res <- anova(fit)\n",
    "anova_res"
   ]
  },
  {
   "cell_type": "markdown",
   "metadata": {},
   "source": [
    "Compare the coefficient determination to that of a null model which doesn't include the interaction term."
   ]
  },
  {
   "cell_type": "code",
   "execution_count": 24,
   "metadata": {},
   "outputs": [
    {
     "data": {
      "text/plain": [
       "       R2m        R2c \n",
       "0.06780492 0.16856004 \n",
       "        R2m         R2c \n",
       "0.003375933 0.100364655 \n"
      ]
     },
     "metadata": {},
     "output_type": "display_data"
    }
   ],
   "source": [
    "%%R\n",
    "library(MuMIn)\n",
    "\n",
    "null.fit <- lmer(rating ~ condition + party + (1|ID) + (1|item), data = df)\n",
    "print(r.squaredGLMM(fit))\n",
    "print(r.squaredGLMM(null.fit))"
   ]
  },
  {
   "cell_type": "markdown",
   "metadata": {},
   "source": [
    "Figure 1a"
   ]
  },
  {
   "cell_type": "code",
   "execution_count": 25,
   "metadata": {},
   "outputs": [
    {
     "data": {
      "text/plain": [
       "Text(0,0.5,'Perceived likelihood that the speaker \\n is a Republican')"
      ]
     },
     "execution_count": 25,
     "metadata": {},
     "output_type": "execute_result"
    },
    {
     "data": {
      "image/png": "[encoded data removed]",
      "text/plain": [
       "<Figure size 576x720 with 1 Axes>"
      ]
     },
     "metadata": {
      "needs_background": "light"
     },
     "output_type": "display_data"
    }
   ],
   "source": [
    "plt.figure(figsize = (8, 10))\n",
    "mus = np.array([ d_pos_mu, r_pos_mu, d_neg_mu, r_neg_mu ])\n",
    "sigs = np.array([ se_dp, se_rp, se_dn, se_rn ])\n",
    "bax = plt.bar([ 1, 2, 4, 5 ], mus, \n",
    "              color = [ \"blue\", \"red\", \"blue\", \"red\" ], \n",
    "              yerr = sigs, error_kw = {\"linewidth\": 4,\n",
    "              \"capsize\":4})\n",
    "plt.ylim([1,6])\n",
    "xlim = plt.xlim()\n",
    "plt.xlim(*xlim)\n",
    "plt.xticks([])\n",
    "plt.xlabel(\"Positive words     Negative words\", fontsize = 25)\n",
    "plt.plot(xlim, [3.5, 3.5], \"k--\")\n",
    "plt.title(\"Mean rating by party and valence\", fontsize = 25)\n",
    "heights = mus + sigs\n",
    "inc = .1\n",
    "star_height = max(heights) + .2\n",
    "\n",
    "# Difference between Republicans and Democrats' judgments on the positive words\n",
    "plt.plot([ 1,1,2,2 ], [ heights[0] + inc, star_height, \n",
    "                        star_height, heights[1] + inc],\n",
    "         linewidth = 1.5, color = \"k\")\n",
    "plt.text(1.5, star_height + .05, \"***\", ha = \"center\", va = \"bottom\",\n",
    "         color = \"k\")\n",
    "\n",
    "# Difference between Republicans and Democrats' judgments on the negative words\n",
    "plt.plot([ 4,4,5,5 ], [ heights[2] + inc, star_height, \n",
    "                        star_height, heights[3] + inc],\n",
    "         linewidth = 1.5, color = \"k\")\n",
    "plt.text(4.5, star_height + .05, \"***\", ha = \"center\", va = \"bottom\",\n",
    "         color = \"k\")\n",
    "\n",
    "# Difference between Democrats' judgments on the positive and negative words\n",
    "plt.plot([ 1,1,4,4 ], [ star_height + .1, star_height + .32,\n",
    "                        star_height + .32, star_height + .1],\n",
    "         linestyle = \"-.\", linewidth = 1.5, color = \"k\")\n",
    "plt.text(2.5, star_height + .35, \"***\", ha = \"center\", va = \"bottom\",\n",
    "         color = \"k\")\n",
    "\n",
    "# Difference between Republicans' judgments on the positive and negative words\n",
    "plt.plot([ 2,2,5,5 ], [ star_height + .1, star_height + .25,\n",
    "                        star_height + .25, star_height + .1],\n",
    "         linestyle = \"-.\", linewidth = 1.5, color = \"k\")\n",
    "plt.text(3.5, star_height + .35, \"***\", ha = \"center\", va = \"bottom\",\n",
    "         color = \"k\")\n",
    "\n",
    "plt.legend(bax, (\"Democrats\", \"Republicans\"), fontsize=30, loc=\"center\", bbox_to_anchor=(.5, .75),#bbox_to_anchor=(.75, .75),\n",
    "           bbox_transform=plt.gcf().transFigure, ncol=1)\n",
    "plt.ylabel(\"Perceived likelihood that the speaker \\n is a Republican\", fontsize = 25)"
   ]
  }
 ],
 "metadata": {
  "kernelspec": {
   "display_name": "Python 2",
   "language": "python",
   "name": "python2"
  },
  "language_info": {
   "codemirror_mode": {
    "name": "ipython",
    "version": 2
   },
   "file_extension": ".py",
   "mimetype": "text/x-python",
   "name": "python",
   "nbconvert_exporter": "python",
   "pygments_lexer": "ipython2",
   "version": "2.7.17"
  }
 },
 "nbformat": 4,
 "nbformat_minor": 2
}
