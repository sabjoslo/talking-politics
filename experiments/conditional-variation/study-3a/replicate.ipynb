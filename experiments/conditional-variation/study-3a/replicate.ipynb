{
 "cells": [
  {
   "cell_type": "code",
   "execution_count": 1,
   "metadata": {},
   "outputs": [],
   "source": [
    "%matplotlib inline\n",
    "#! switch_R 3.3\n",
    "%load_ext rpy2.ipython"
   ]
  },
  {
   "cell_type": "code",
   "execution_count": 2,
   "metadata": {},
   "outputs": [
    {
     "name": "stderr",
     "output_type": "stream",
     "text": [
      "/Users/sabinasloman/git/talking-politics/pyspan/config.py:19: UserWarning: \n",
      "This call to matplotlib.use() has no effect because the backend has already\n",
      "been chosen; matplotlib.use() must be called *before* pylab, matplotlib.pyplot,\n",
      "or matplotlib.backends is imported for the first time.\n",
      "\n",
      "The backend was *originally* set to 'module://ipykernel.pylab.backend_inline' by the following code:\n",
      "  File \"/Users/sabinasloman/.pyenv/versions/2.7.17/lib/python2.7/runpy.py\", line 174, in _run_module_as_main\n",
      "    \"__main__\", fname, loader, pkg_name)\n",
      "  File \"/Users/sabinasloman/.pyenv/versions/2.7.17/lib/python2.7/runpy.py\", line 72, in _run_code\n",
      "    exec code in run_globals\n",
      "  File \"/Users/sabinasloman/.pyenv/versions/2.7.17/envs/politics-test-bed/lib/python2.7/site-packages/ipykernel_launcher.py\", line 16, in <module>\n",
      "    app.launch_new_instance()\n",
      "  File \"/Users/sabinasloman/.pyenv/versions/2.7.17/envs/politics-test-bed/lib/python2.7/site-packages/traitlets/config/application.py\", line 664, in launch_instance\n",
      "    app.start()\n",
      "  File \"/Users/sabinasloman/.pyenv/versions/2.7.17/envs/politics-test-bed/lib/python2.7/site-packages/ipykernel/kernelapp.py\", line 499, in start\n",
      "    self.io_loop.start()\n",
      "  File \"/Users/sabinasloman/.pyenv/versions/2.7.17/envs/politics-test-bed/lib/python2.7/site-packages/tornado/ioloop.py\", line 1073, in start\n",
      "    handler_func(fd_obj, events)\n",
      "  File \"/Users/sabinasloman/.pyenv/versions/2.7.17/envs/politics-test-bed/lib/python2.7/site-packages/tornado/stack_context.py\", line 300, in null_wrapper\n",
      "    return fn(*args, **kwargs)\n",
      "  File \"/Users/sabinasloman/.pyenv/versions/2.7.17/envs/politics-test-bed/lib/python2.7/site-packages/zmq/eventloop/zmqstream.py\", line 456, in _handle_events\n",
      "    self._handle_recv()\n",
      "  File \"/Users/sabinasloman/.pyenv/versions/2.7.17/envs/politics-test-bed/lib/python2.7/site-packages/zmq/eventloop/zmqstream.py\", line 486, in _handle_recv\n",
      "    self._run_callback(callback, msg)\n",
      "  File \"/Users/sabinasloman/.pyenv/versions/2.7.17/envs/politics-test-bed/lib/python2.7/site-packages/zmq/eventloop/zmqstream.py\", line 438, in _run_callback\n",
      "    callback(*args, **kwargs)\n",
      "  File \"/Users/sabinasloman/.pyenv/versions/2.7.17/envs/politics-test-bed/lib/python2.7/site-packages/tornado/stack_context.py\", line 300, in null_wrapper\n",
      "    return fn(*args, **kwargs)\n",
      "  File \"/Users/sabinasloman/.pyenv/versions/2.7.17/envs/politics-test-bed/lib/python2.7/site-packages/ipykernel/kernelbase.py\", line 283, in dispatcher\n",
      "    return self.dispatch_shell(stream, msg)\n",
      "  File \"/Users/sabinasloman/.pyenv/versions/2.7.17/envs/politics-test-bed/lib/python2.7/site-packages/ipykernel/kernelbase.py\", line 233, in dispatch_shell\n",
      "    handler(stream, idents, msg)\n",
      "  File \"/Users/sabinasloman/.pyenv/versions/2.7.17/envs/politics-test-bed/lib/python2.7/site-packages/ipykernel/kernelbase.py\", line 399, in execute_request\n",
      "    user_expressions, allow_stdin)\n",
      "  File \"/Users/sabinasloman/.pyenv/versions/2.7.17/envs/politics-test-bed/lib/python2.7/site-packages/ipykernel/ipkernel.py\", line 208, in do_execute\n",
      "    res = shell.run_cell(code, store_history=store_history, silent=silent)\n",
      "  File \"/Users/sabinasloman/.pyenv/versions/2.7.17/envs/politics-test-bed/lib/python2.7/site-packages/ipykernel/zmqshell.py\", line 537, in run_cell\n",
      "    return super(ZMQInteractiveShell, self).run_cell(*args, **kwargs)\n",
      "  File \"/Users/sabinasloman/.pyenv/versions/2.7.17/envs/politics-test-bed/lib/python2.7/site-packages/IPython/core/interactiveshell.py\", line 2724, in run_cell\n",
      "    self.events.trigger('post_run_cell')\n",
      "  File \"/Users/sabinasloman/.pyenv/versions/2.7.17/envs/politics-test-bed/lib/python2.7/site-packages/IPython/core/events.py\", line 74, in trigger\n",
      "    func(*args, **kwargs)\n",
      "  File \"/Users/sabinasloman/.pyenv/versions/2.7.17/envs/politics-test-bed/lib/python2.7/site-packages/ipykernel/pylab/backend_inline.py\", line 164, in configure_once\n",
      "    activate_matplotlib(backend)\n",
      "  File \"/Users/sabinasloman/.pyenv/versions/2.7.17/envs/politics-test-bed/lib/python2.7/site-packages/IPython/core/pylabtools.py\", line 315, in activate_matplotlib\n",
      "    matplotlib.pyplot.switch_backend(backend)\n",
      "  File \"/Users/sabinasloman/.pyenv/versions/2.7.17/envs/politics-test-bed/lib/python2.7/site-packages/matplotlib/pyplot.py\", line 231, in switch_backend\n",
      "    matplotlib.use(newbackend, warn=False, force=True)\n",
      "  File \"/Users/sabinasloman/.pyenv/versions/2.7.17/envs/politics-test-bed/lib/python2.7/site-packages/matplotlib/__init__.py\", line 1425, in use\n",
      "    reload(sys.modules['matplotlib.backends'])\n",
      "  File \"/Users/sabinasloman/.pyenv/versions/2.7.17/envs/politics-test-bed/lib/python2.7/site-packages/matplotlib/backends/__init__.py\", line 17, in <module>\n",
      "    line for line in traceback.format_stack()\n",
      "\n",
      "\n",
      "  mpl.use(settings[\"mpl_backend\"])\n",
      "/Users/sabinasloman/git/talking-politics/pyspan/Purger.py:203: UserWarning: No parser was explicitly specified, so I'm using the best available HTML parser for this system (\"lxml\"). This usually isn't a problem, but if you run this code on another system, or in a different virtual environment, it may use a different parser and behave differently.\n",
      "\n",
      "The code that caused this warning is on line 203 of the file /Users/sabinasloman/git/talking-politics/pyspan/Purger.py. To get rid of this warning, pass the additional argument 'features=\"lxml\"' to the BeautifulSoup constructor.\n",
      "\n",
      "  soup=BeautifulSoup(text)\n",
      "/Users/sabinasloman/git/talking-politics/pyspan/Purger.py:215: UserWarning: No parser was explicitly specified, so I'm using the best available HTML parser for this system (\"lxml\"). This usually isn't a problem, but if you run this code on another system, or in a different virtual environment, it may use a different parser and behave differently.\n",
      "\n",
      "The code that caused this warning is on line 215 of the file /Users/sabinasloman/git/talking-politics/pyspan/Purger.py. To get rid of this warning, pass the additional argument 'features=\"lxml\"' to the BeautifulSoup constructor.\n",
      "\n",
      "  soup=BeautifulSoup(text)\n",
      "/Users/sabinasloman/git/talking-politics/pyspan/ratings_task/data.py:27: FutureWarning: Sorting because non-concatenation axis is not aligned. A future version\n",
      "of pandas will change to not sort by default.\n",
      "\n",
      "To accept the future behavior, pass 'sort=False'.\n",
      "\n",
      "To retain the current behavior and silence the warning, pass 'sort=True'.\n",
      "\n",
      "  all_ = pd.concat((partisan, antonyms))\n"
     ]
    }
   ],
   "source": [
    "from __future__ import division\n",
    "from copy import deepcopy\n",
    "import math\n",
    "import numpy as np\n",
    "import pandas as pd\n",
    "import pygam\n",
    "from scipy import stats\n",
    "import statsmodels.api as sm\n",
    "import statsmodels.stats.api as sms\n",
    "from pyspan import cross_validation as cv\n",
    "from pyspan.ratings_task.analysis import freq_df, n_utterances, signal_df, SparseLR\n",
    "from pyspan.synonyms.data import *\n",
    "words_original = deepcopy(words)\n",
    "words = words.loc[words.index != 7]\n",
    "from pyspan.utils import *\n",
    "from pyspan.valence import get_valence\n",
    "signals = pickle.load(open(paths[\"metrics_dir\"] + \"signals-unigrams\", \n",
    "                           \"rb\"))"
   ]
  },
  {
   "cell_type": "code",
   "execution_count": 3,
   "metadata": {},
   "outputs": [],
   "source": [
    "data = pd.read_csv(\"responses.csv\")\n",
    "# After excluding fear vs. terror, these are the indices we're using\n",
    "ixs = range(7) + range(8,26)\n",
    "\n",
    "data.rename(columns = dict(zip(map(str, ixs), ixs)), inplace = True)\n",
    "pair_cols = map(lambda i: \"pair{}\".format(i), ixs)"
   ]
  },
  {
   "cell_type": "markdown",
   "metadata": {},
   "source": [
    "# Participants"
   ]
  },
  {
   "cell_type": "code",
   "execution_count": 4,
   "metadata": {},
   "outputs": [
    {
     "data": {
      "text/plain": [
       "(77, 45, 52)"
      ]
     },
     "execution_count": 4,
     "metadata": {},
     "output_type": "execute_result"
    }
   ],
   "source": [
    "# n Democrats, n Republicans, n Independents\n",
    "len(data.loc[data.party == \"Democrat\"]), len(data.loc[data.party == \"Republican\"]), \\\n",
    "len(data.loc[~(data.party.isin([\"Democrat\",\"Republican\"]))])"
   ]
  },
  {
   "cell_type": "code",
   "execution_count": 5,
   "metadata": {},
   "outputs": [
    {
     "name": "stdout",
     "output_type": "stream",
     "text": [
      "40.35057471264368 0.8672733959927182\n",
      "88 85\n",
      "0.847953216374269\n"
     ]
    }
   ],
   "source": [
    "# Mean age and standard error of the mean\n",
    "print np.mean(data.age[~np.isnan(data.age)]), stats.sem(data.age[~np.isnan(data.age)])\n",
    "# n identifying as male/female\n",
    "print len(data.loc[data.gender == \"Male\"]), len(data.loc[data.gender == \"Female\"])\n",
    "# % voted\n",
    "print np.mean(data.voted)"
   ]
  },
  {
   "cell_type": "markdown",
   "metadata": {},
   "source": [
    "# Results"
   ]
  },
  {
   "cell_type": "code",
   "execution_count": 6,
   "metadata": {},
   "outputs": [],
   "source": [
    "dmask = np.ma.masked_where(data[pair_cols].isin(words[\"D\"].values), data[ixs])\n",
    "ddat = dmask.data[dmask.mask]\n",
    "rmask = np.ma.masked_where(data[pair_cols].isin(words[\"R\"].values), data[ixs])\n",
    "rdat = rmask.data[rmask.mask]"
   ]
  },
  {
   "cell_type": "markdown",
   "metadata": {},
   "source": [
    "Mean participant rating on the Democratic and Republican items (add 1 to obtain the numbers reported in the paper, as those are described on a 1--6 scale, while these are on a 0--5 scale)."
   ]
  },
  {
   "cell_type": "code",
   "execution_count": 7,
   "metadata": {},
   "outputs": [
    {
     "data": {
      "text/plain": [
       "(2.4944802207911683, 2.6966343937298296)"
      ]
     },
     "execution_count": 7,
     "metadata": {},
     "output_type": "execute_result"
    }
   ],
   "source": [
    "dmu = np.mean(ddat[~np.isnan(ddat)])\n",
    "rmu = np.mean(rdat[~np.isnan(rdat)])\n",
    "dmu, rmu"
   ]
  },
  {
   "cell_type": "markdown",
   "metadata": {},
   "source": [
    "Perform one- and two-sample $t$-tests, using the clustered standard errors function provided by Arai (2011)."
   ]
  },
  {
   "cell_type": "code",
   "execution_count": 8,
   "metadata": {},
   "outputs": [],
   "source": [
    "%%R\n",
    "source(\"../clmclx.R\")"
   ]
  },
  {
   "cell_type": "markdown",
   "metadata": {},
   "source": [
    "One-sample test (judgments of the Democratic words)."
   ]
  },
  {
   "cell_type": "code",
   "execution_count": 9,
   "metadata": {},
   "outputs": [],
   "source": [
    "ixnd, ixkd = np.where(dmask.mask)"
   ]
  },
  {
   "cell_type": "code",
   "execution_count": 10,
   "metadata": {},
   "outputs": [
    {
     "name": "stderr",
     "output_type": "stream",
     "text": [
      "/Users/sabinasloman/.pyenv/versions/2.7.17/envs/politics-test-bed/lib/python2.7/site-packages/rpy2/rinterface/__init__.py:186: RRuntimeWarning: Loading required package: zoo\n",
      "\n",
      "  warnings.warn(x, RRuntimeWarning)\n",
      "/Users/sabinasloman/.pyenv/versions/2.7.17/envs/politics-test-bed/lib/python2.7/site-packages/rpy2/rinterface/__init__.py:186: RRuntimeWarning: \n",
      "Attaching package: ‘zoo’\n",
      "\n",
      "\n",
      "  warnings.warn(x, RRuntimeWarning)\n",
      "/Users/sabinasloman/.pyenv/versions/2.7.17/envs/politics-test-bed/lib/python2.7/site-packages/rpy2/rinterface/__init__.py:186: RRuntimeWarning: The following objects are masked from ‘package:base’:\n",
      "\n",
      "    as.Date, as.Date.numeric\n",
      "\n",
      "\n",
      "  warnings.warn(x, RRuntimeWarning)\n"
     ]
    },
    {
     "data": {
      "text/plain": [
       "[1] 2173\n",
       "[1] \"0.101977905103188 -0.0541272072930538 0.478419395664199\"\n"
      ]
     },
     "metadata": {},
     "output_type": "display_data"
    }
   ],
   "source": [
    "%%R -i ddat,ixnd,ixkd\n",
    "yd <- c(t(ddat)) - 2.5\n",
    "ixnd <- ixnd[which(!is.na(yd))]\n",
    "ixkd <- ixkd[which(!is.na(yd))]\n",
    "fit <- lm(yd ~ 1)\n",
    "print(fit$df.residual)\n",
    "res <- mclx(fit, 1, ixnd, ixkd)\n",
    "se <- res[1,2]\n",
    "t <- res[1,3]\n",
    "p <- res[1,4] / 2\n",
    "print(paste(se, t, p))"
   ]
  },
  {
   "cell_type": "markdown",
   "metadata": {},
   "source": [
    "One-sample test (judgments of the Republican words)."
   ]
  },
  {
   "cell_type": "code",
   "execution_count": 11,
   "metadata": {},
   "outputs": [],
   "source": [
    "ixnr, ixkr = np.where(rmask.mask)"
   ]
  },
  {
   "cell_type": "code",
   "execution_count": 12,
   "metadata": {},
   "outputs": [
    {
     "data": {
      "text/plain": [
       "[1] 2168\n",
       "[1] \"0.122431205313992 1.60608068200859 0.054200907431661\"\n"
      ]
     },
     "metadata": {},
     "output_type": "display_data"
    }
   ],
   "source": [
    "%%R -i rdat,ixnr,ixkr\n",
    "yr <- c(t(rdat)) - 2.5\n",
    "ixnr <- ixnr[which(!is.na(yr))]\n",
    "ixkr <- ixkr[which(!is.na(yr))]\n",
    "fit <- lm(yr ~ 1)\n",
    "print(fit$df.residual)\n",
    "res <- mclx(fit, 1, ixnr, ixkr)\n",
    "se <- res[1,2]\n",
    "t <- res[1,3]\n",
    "p <- res[1,4] / 2\n",
    "print(paste(se, t, p))"
   ]
  },
  {
   "cell_type": "markdown",
   "metadata": {},
   "source": [
    "Two-sample test (testing the difference in means)."
   ]
  },
  {
   "cell_type": "code",
   "execution_count": 13,
   "metadata": {},
   "outputs": [],
   "source": [
    "ixn = np.append(ixnd, ixnr)\n",
    "ixk = np.append(ixkd, ixkr+25)"
   ]
  },
  {
   "cell_type": "code",
   "execution_count": 14,
   "metadata": {},
   "outputs": [
    {
     "data": {
      "text/plain": [
       "[1] 4341\n",
       "[1] \"0.156445818036782 1.29216731693739 0.0981839947131734\"\n"
      ]
     },
     "metadata": {},
     "output_type": "display_data"
    }
   ],
   "source": [
    "%%R -i ixn,ixk\n",
    "y <- c(yd, yr)\n",
    "ixn <- ixn[which(!is.na(y))]\n",
    "ixk <- ixk[which(!is.na(y))]\n",
    "groups <- c(rep(0, length(yd)), rep(1, length(yr)))\n",
    "fit <- lm(y ~ groups)\n",
    "print(fit$df.residual)\n",
    "res <- mclx(fit, 1, ixn, ixk)\n",
    "se <- res[2,2]\n",
    "t <- res[2,3]\n",
    "p <- res[2,4] / 2\n",
    "print(paste(se, t, p))"
   ]
  },
  {
   "cell_type": "markdown",
   "metadata": {},
   "source": [
    "## Figure\n",
    "\n",
    "Run `figures/figures_2_4.py` to obtain Figure 4."
   ]
  },
  {
   "cell_type": "code",
   "execution_count": 15,
   "metadata": {},
   "outputs": [],
   "source": [
    "def word_dat(word):\n",
    "    logodds = signals.loc[word].rmetric\n",
    "    mask = np.ma.masked_where(data[pair_cols] == word, data[ixs])\n",
    "    dat = mask.data[mask.mask]\n",
    "    judgments = dat[~np.isnan(dat)]\n",
    "    return logodds, judgments"
   ]
  },
  {
   "cell_type": "code",
   "execution_count": 16,
   "metadata": {},
   "outputs": [],
   "source": [
    "def word_dstats(word):\n",
    "    logodds, judgments = word_dat(word)\n",
    "    return logodds, np.mean(judgments), stats.sem(judgments)"
   ]
  },
  {
   "cell_type": "code",
   "execution_count": 17,
   "metadata": {},
   "outputs": [],
   "source": [
    "items = np.ravel(words[[\"D\",\"R\"]].values)"
   ]
  },
  {
   "cell_type": "code",
   "execution_count": 18,
   "metadata": {},
   "outputs": [],
   "source": [
    "wstats = np.array([ word_dstats(word) for word in items ])\n",
    "wstats = np.concatenate((items[:,None],wstats),axis=1)\n",
    "wstats = pd.DataFrame(wstats, columns=[\"word\",\"logodds\",\"mean\",\"se\"])\n",
    "wstats.to_csv(\"figure.csv\")"
   ]
  },
  {
   "cell_type": "markdown",
   "metadata": {},
   "source": [
    "## Effect size\n",
    "\n",
    "Using the formula from [Rouder et al. (2012)](http://pcl.missouri.edu/sites/default/files/Rouder.JMP_.2012.pdf) and explained in [Jake Westfall's blog post](http://jakewestfall.org/blog/index.php/2016/03/25/five-different-cohens-d-statistics-for-within-subject-designs/)."
   ]
  },
  {
   "cell_type": "code",
   "execution_count": 19,
   "metadata": {},
   "outputs": [
    {
     "name": "stderr",
     "output_type": "stream",
     "text": [
      "/Users/sabinasloman/.pyenv/versions/2.7.17/envs/politics-test-bed/lib/python2.7/site-packages/rpy2/rinterface/__init__.py:186: RRuntimeWarning: Loading required package: Matrix\n",
      "\n",
      "  warnings.warn(x, RRuntimeWarning)\n"
     ]
    },
    {
     "data": {
      "text/plain": [
       "[1] 0.1570943\n"
      ]
     },
     "metadata": {},
     "output_type": "display_data"
    }
   ],
   "source": [
    "%%R -i ixn,ixk\n",
    "library(\"lme4\")\n",
    "mod <- lmer(y ~ groups + (groups|ixn) + (1|ixk))\n",
    "delta <- summary(mod)$coefficients[2,1]\n",
    "sig <- sigma(mod)\n",
    "delta / sig"
   ]
  },
  {
   "cell_type": "markdown",
   "metadata": {},
   "source": [
    "## Item-level analyses"
   ]
  },
  {
   "cell_type": "markdown",
   "metadata": {},
   "source": [
    "Number of words correctly classified."
   ]
  },
  {
   "cell_type": "code",
   "execution_count": 20,
   "metadata": {},
   "outputs": [],
   "source": [
    "def calc_accuracy(word):\n",
    "    logodds, judgments = word_dat(word)\n",
    "    polarity = logodds > 0\n",
    "    return len(judgments[judgments > 2.5 if polarity else judgments < 2.5]), len(judgments)\n",
    "v_calc_accuracy = np.vectorize(calc_accuracy)"
   ]
  },
  {
   "cell_type": "code",
   "execution_count": 21,
   "metadata": {},
   "outputs": [],
   "source": [
    "p, n = v_calc_accuracy(items)\n",
    "p = p / n"
   ]
  },
  {
   "cell_type": "code",
   "execution_count": 22,
   "metadata": {},
   "outputs": [
    {
     "data": {
      "text/plain": [
       "(29, 16, 13)"
      ]
     },
     "execution_count": 22,
     "metadata": {},
     "output_type": "execute_result"
    }
   ],
   "source": [
    "(p > .5).sum(), (p[::2] > .5).sum(), (p[1::2] > .5).sum()"
   ]
  },
  {
   "cell_type": "code",
   "execution_count": 23,
   "metadata": {},
   "outputs": [
    {
     "data": {
      "text/plain": [
       "(0.5329562964338697, 0.027850205632423974)"
      ]
     },
     "execution_count": 23,
     "metadata": {},
     "output_type": "execute_result"
    }
   ],
   "source": [
    "np.mean(p), stats.sem(p)"
   ]
  },
  {
   "cell_type": "code",
   "execution_count": 24,
   "metadata": {},
   "outputs": [
    {
     "data": {
      "text/plain": [
       "(1.1833412244360966, 0.12119169328053442, 49)"
      ]
     },
     "execution_count": 24,
     "metadata": {},
     "output_type": "execute_result"
    }
   ],
   "source": [
    "t, p_ = stats.ttest_1samp(p, .5)\n",
    "t, p_ / 2, len(p)-1"
   ]
  },
  {
   "cell_type": "markdown",
   "metadata": {},
   "source": [
    "Restrict to Democratic words."
   ]
  },
  {
   "cell_type": "code",
   "execution_count": 25,
   "metadata": {},
   "outputs": [
    {
     "data": {
      "text/plain": [
       "(0.5206174752883768, 0.03669962445700353)"
      ]
     },
     "execution_count": 25,
     "metadata": {},
     "output_type": "execute_result"
    }
   ],
   "source": [
    "p, n = v_calc_accuracy(items[::2])\n",
    "p = p / n\n",
    "np.mean(p), stats.sem(p)"
   ]
  },
  {
   "cell_type": "markdown",
   "metadata": {},
   "source": [
    "Restrict to Republican words."
   ]
  },
  {
   "cell_type": "code",
   "execution_count": 26,
   "metadata": {},
   "outputs": [
    {
     "data": {
      "text/plain": [
       "(0.5452951175793627, 0.04251614203645201)"
      ]
     },
     "execution_count": 26,
     "metadata": {},
     "output_type": "execute_result"
    }
   ],
   "source": [
    "p, n = v_calc_accuracy(items[1::2])\n",
    "p = p / n\n",
    "np.mean(p), stats.sem(p)"
   ]
  },
  {
   "cell_type": "markdown",
   "metadata": {},
   "source": [
    "Mann-Whitney U test"
   ]
  },
  {
   "cell_type": "markdown",
   "metadata": {},
   "source": [
    "For each word, compute the mean of the judgments across subjects, and perform a Mann-Whitney U test to determine whether the Republican words are as likely to have a higher rank than Democratic words as to have a lower rank."
   ]
  },
  {
   "cell_type": "code",
   "execution_count": 27,
   "metadata": {},
   "outputs": [
    {
     "data": {
      "text/plain": [
       "MannwhitneyuResult(statistic=256.0, pvalue=0.1386157438086561)"
      ]
     },
     "execution_count": 27,
     "metadata": {},
     "output_type": "execute_result"
    }
   ],
   "source": [
    "def compute_mean_judgment(word):\n",
    "    mask = np.ma.masked_where(data[pair_cols] == word, data[ixs])\n",
    "    dat = mask.data[mask.mask]\n",
    "    return np.mean(dat[~np.isnan(dat)])\n",
    "vf = np.vectorize(compute_mean_judgment)\n",
    "dmeans = vf(words[\"D\"])\n",
    "rmeans = vf(words[\"R\"])\n",
    "stats.mannwhitneyu(dmeans, rmeans, alternative = \"less\")"
   ]
  },
  {
   "cell_type": "markdown",
   "metadata": {},
   "source": [
    "### Supporting Information 1"
   ]
  },
  {
   "cell_type": "code",
   "execution_count": 28,
   "metadata": {},
   "outputs": [
    {
     "name": "stderr",
     "output_type": "stream",
     "text": [
      "/Users/sabinasloman/.pyenv/versions/2.7.17/envs/politics-test-bed/lib/python2.7/site-packages/ipykernel_launcher.py:10: SettingWithCopyWarning: \n",
      "A value is trying to be set on a copy of a slice from a DataFrame.\n",
      "Try using .loc[row_indexer,col_indexer] = value instead\n",
      "\n",
      "See the caveats in the documentation: http://pandas.pydata.org/pandas-docs/stable/indexing.html#indexing-view-versus-copy\n",
      "  # Remove the CWD from sys.path while we load stuff.\n",
      "/Users/sabinasloman/.pyenv/versions/2.7.17/envs/politics-test-bed/lib/python2.7/site-packages/ipykernel_launcher.py:11: SettingWithCopyWarning: \n",
      "A value is trying to be set on a copy of a slice from a DataFrame.\n",
      "Try using .loc[row_indexer,col_indexer] = value instead\n",
      "\n",
      "See the caveats in the documentation: http://pandas.pydata.org/pandas-docs/stable/indexing.html#indexing-view-versus-copy\n",
      "  # This is added back by InteractiveShellApp.init_path()\n",
      "/Users/sabinasloman/.pyenv/versions/2.7.17/envs/politics-test-bed/lib/python2.7/site-packages/ipykernel_launcher.py:14: SettingWithCopyWarning: \n",
      "A value is trying to be set on a copy of a slice from a DataFrame.\n",
      "Try using .loc[row_indexer,col_indexer] = value instead\n",
      "\n",
      "See the caveats in the documentation: http://pandas.pydata.org/pandas-docs/stable/indexing.html#indexing-view-versus-copy\n",
      "  \n",
      "/Users/sabinasloman/.pyenv/versions/2.7.17/envs/politics-test-bed/lib/python2.7/site-packages/ipykernel_launcher.py:15: SettingWithCopyWarning: \n",
      "A value is trying to be set on a copy of a slice from a DataFrame.\n",
      "Try using .loc[row_indexer,col_indexer] = value instead\n",
      "\n",
      "See the caveats in the documentation: http://pandas.pydata.org/pandas-docs/stable/indexing.html#indexing-view-versus-copy\n",
      "  from ipykernel import kernelapp as app\n"
     ]
    }
   ],
   "source": [
    "def item_level_summary(word):\n",
    "    mask_ = np.ma.masked_where(data[pair_cols] == word, data[ixs])\n",
    "    x = mask_.data[mask_.mask]\n",
    "    x = x[~np.isnan(x)]\n",
    "    return np.array([np.mean(x), stats.sem(x)])\n",
    "v_item_level_summary = np.vectorize(item_level_summary,\n",
    "                                    signature = \"()->(n)\")\n",
    "\n",
    "dstats = v_item_level_summary(words[\"D\"].values)\n",
    "words[\"D. mean\"] = dstats[:,0] + 1\n",
    "words[\"D. SEM\"] = dstats[:,1]\n",
    "\n",
    "rstats = v_item_level_summary(words[\"R\"].values)\n",
    "words[\"R. mean\"] = rstats[:,0] + 1\n",
    "words[\"R. SEM\"] = rstats[:,1]"
   ]
  },
  {
   "cell_type": "code",
   "execution_count": 29,
   "metadata": {},
   "outputs": [],
   "source": [
    "def item_level_ttest(dword, rword):\n",
    "    dmask_ = np.ma.masked_where(data[pair_cols] == dword, data[ixs])\n",
    "    dx = dmask_.data[dmask_.mask]\n",
    "    dx = dx[~np.isnan(dx)]\n",
    "    rmask_ = np.ma.masked_where(data[pair_cols] == rword, data[ixs])\n",
    "    rx = rmask_.data[rmask_.mask]\n",
    "    rx = rx[~np.isnan(rx)]\n",
    "    return sms.ttest_ind(dx, rx, alternative = \"smaller\", usevar = \"unequal\")[1]\n",
    "v_item_level_ttest = np.vectorize(item_level_ttest)"
   ]
  },
  {
   "cell_type": "code",
   "execution_count": 30,
   "metadata": {},
   "outputs": [
    {
     "name": "stderr",
     "output_type": "stream",
     "text": [
      "/Users/sabinasloman/.pyenv/versions/2.7.17/envs/politics-test-bed/lib/python2.7/site-packages/ipykernel_launcher.py:2: SettingWithCopyWarning: \n",
      "A value is trying to be set on a copy of a slice from a DataFrame.\n",
      "Try using .loc[row_indexer,col_indexer] = value instead\n",
      "\n",
      "See the caveats in the documentation: http://pandas.pydata.org/pandas-docs/stable/indexing.html#indexing-view-versus-copy\n",
      "  \n"
     ]
    }
   ],
   "source": [
    "pvals = v_item_level_ttest(words[\"D\"], words[\"R\"])\n",
    "words[\"p\"] = pvals\n",
    "words.to_csv(\"S2_File.csv\")"
   ]
  },
  {
   "cell_type": "code",
   "execution_count": 31,
   "metadata": {},
   "outputs": [
    {
     "data": {
      "image/png": "[encoded data removed]",
      "text/plain": [
       "<Figure size 432x288 with 1 Axes>"
      ]
     },
     "metadata": {
      "needs_background": "light"
     },
     "output_type": "display_data"
    }
   ],
   "source": [
    "sm.qqplot(pvals, stats.uniform, line = \"45\")\n",
    "plt.savefig(\"S2_Fig\")"
   ]
  },
  {
   "cell_type": "code",
   "execution_count": 32,
   "metadata": {},
   "outputs": [
    {
     "data": {
      "text/plain": [
       "KstestResult(statistic=0.3546651761069758, pvalue=0.00127765489584172)"
      ]
     },
     "execution_count": 32,
     "metadata": {},
     "output_type": "execute_result"
    }
   ],
   "source": [
    "stats.kstest(pvals, stats.uniform.cdf, alternative = \"greater\")"
   ]
  },
  {
   "cell_type": "markdown",
   "metadata": {},
   "source": [
    "## Participant-level analyses"
   ]
  },
  {
   "cell_type": "markdown",
   "metadata": {},
   "source": [
    "Accuracies"
   ]
  },
  {
   "cell_type": "code",
   "execution_count": 33,
   "metadata": {},
   "outputs": [],
   "source": [
    "def participant_accuracy(i):\n",
    "    djudgments = dmask.data[i,dmask.mask[i,:]]\n",
    "    djudgments = djudgments[~np.isnan(djudgments)]\n",
    "    rjudgments = rmask.data[i,rmask.mask[i,:]]\n",
    "    rjudgments = rjudgments[~np.isnan(rjudgments)]\n",
    "    dcorrect = djudgments < 2.5\n",
    "    rcorrect = rjudgments > 2.5\n",
    "    return (dcorrect.sum() + rcorrect.sum()) / (len(dcorrect) + len(rcorrect))\n",
    "    \n",
    "participant_accuracy = np.vectorize(participant_accuracy)"
   ]
  },
  {
   "cell_type": "code",
   "execution_count": 34,
   "metadata": {},
   "outputs": [
    {
     "data": {
      "text/plain": [
       "(0.5348575712143928, 0.0073646980404592334)"
      ]
     },
     "execution_count": 34,
     "metadata": {},
     "output_type": "execute_result"
    },
    {
     "data": {
      "image/png": "[encoded data removed]",
      "text/plain": [
       "<Figure size 432x288 with 1 Axes>"
      ]
     },
     "metadata": {
      "needs_background": "light"
     },
     "output_type": "display_data"
    }
   ],
   "source": [
    "paccs = participant_accuracy(np.arange(len(data)))\n",
    "hist, mu, se = histogram(paccs)\n",
    "mu, se"
   ]
  },
  {
   "cell_type": "code",
   "execution_count": 35,
   "metadata": {},
   "outputs": [
    {
     "data": {
      "text/plain": [
       "(4.73306183402181, 2.289872097652954e-06, 173, 108)"
      ]
     },
     "execution_count": 35,
     "metadata": {},
     "output_type": "execute_result"
    }
   ],
   "source": [
    "t, p = stats.ttest_1samp(paccs, .5)\n",
    "t, p / 2, len(paccs) - 1, len([ pacc for pacc in paccs if pacc > .5 ])"
   ]
  },
  {
   "cell_type": "markdown",
   "metadata": {},
   "source": [
    "Discriminabilities"
   ]
  },
  {
   "cell_type": "code",
   "execution_count": 36,
   "metadata": {},
   "outputs": [],
   "source": [
    "def participant_diff(i):\n",
    "    djudgments = dmask.data[i,dmask.mask[i,:]]\n",
    "    djudgments = djudgments[~np.isnan(djudgments)]\n",
    "    rjudgments = rmask.data[i,rmask.mask[i,:]]\n",
    "    rjudgments = rjudgments[~np.isnan(rjudgments)]\n",
    "    return cohensd(rjudgments, djudgments)\n",
    "    \n",
    "participant_diff = np.vectorize(participant_diff)"
   ]
  },
  {
   "cell_type": "code",
   "execution_count": 37,
   "metadata": {},
   "outputs": [
    {
     "data": {
      "text/plain": [
       "(0.1573932224670715, 0.03179973113791762)"
      ]
     },
     "execution_count": 37,
     "metadata": {},
     "output_type": "execute_result"
    },
    {
     "data": {
      "image/png": "[encoded data removed]",
      "text/plain": [
       "<Figure size 432x288 with 1 Axes>"
      ]
     },
     "metadata": {
      "needs_background": "light"
     },
     "output_type": "display_data"
    }
   ],
   "source": [
    "pdiffs = participant_diff(np.arange(len(data)))\n",
    "hist, mu, se = histogram(pdiffs)\n",
    "mu, se"
   ]
  },
  {
   "cell_type": "code",
   "execution_count": 38,
   "metadata": {},
   "outputs": [
    {
     "data": {
      "text/plain": [
       "(4.949514251691194, 8.776095043328314e-07, 173)"
      ]
     },
     "execution_count": 38,
     "metadata": {},
     "output_type": "execute_result"
    }
   ],
   "source": [
    "t, p = stats.ttest_1samp(pdiffs, 0)\n",
    "t, p / 2, len(pdiffs) - 1"
   ]
  },
  {
   "cell_type": "markdown",
   "metadata": {},
   "source": [
    "# Discussion"
   ]
  },
  {
   "cell_type": "markdown",
   "metadata": {},
   "source": [
    "Magnitude of the $logodds_R$ value on the Republican and Democratic items, respectively."
   ]
  },
  {
   "cell_type": "code",
   "execution_count": 39,
   "metadata": {},
   "outputs": [
    {
     "data": {
      "text/plain": [
       "(0.3831152069619121, -0.4243133415757932)"
      ]
     },
     "execution_count": 39,
     "metadata": {},
     "output_type": "execute_result"
    }
   ],
   "source": [
    "np.mean(signal_df.loc[words.R].rmetric), np.mean(signal_df.loc[words.D].rmetric)"
   ]
  },
  {
   "cell_type": "markdown",
   "metadata": {},
   "source": [
    "# Appendix D"
   ]
  },
  {
   "cell_type": "markdown",
   "metadata": {},
   "source": [
    "Binarize judgments into \"more likely that the word was spoken by a Republican\" (\"REPUBLICAN\"; rating >= 3) and \"more likely that the word was spoken by a Democrat\" (rating < 3).\n",
    "\n",
    "Estimate the following logistic regression model (with participant-level effects): REPUBLICAN ~ Dummy indicating whether the word is Republican + Valence of word + Participant's party identity + Valence of word * Participant's party identity"
   ]
  },
  {
   "cell_type": "code",
   "execution_count": 40,
   "metadata": {},
   "outputs": [],
   "source": [
    "lr_data = data.copy()\n",
    "lr_data = lr_data.loc[lr_data.party.isin([ \"Democrat\", \"Republican\" ])]\n",
    "\n",
    "n = len(lr_data)\n",
    "# Add dummy columns for participants\n",
    "for i in range(1, n):\n",
    "    ids = np.zeros(n)\n",
    "    ids[i] = 1\n",
    "    lr_data[\"participant{}\".format(i)] = ids"
   ]
  },
  {
   "cell_type": "code",
   "execution_count": 41,
   "metadata": {},
   "outputs": [
    {
     "name": "stderr",
     "output_type": "stream",
     "text": [
      "/Users/sabinasloman/.pyenv/versions/2.7.17/envs/politics-test-bed/lib/python2.7/site-packages/ipykernel_launcher.py:2: RuntimeWarning: invalid value encountered in greater\n",
      "  \n"
     ]
    }
   ],
   "source": [
    "Y_full = np.ravel(lr_data[ixs])\n",
    "Y = Y_full > 2.5\n",
    "# (n ps * n choices, 5 + (n ps - 1) + (n items - 1))\n",
    "X = np.full((n * len(ixs), 5 + (n - 1) + (2*len(ixs) - 1)), np.nan)\n",
    "# Dummy indicating whether the word is Republican\n",
    "vf = np.vectorize(lambda word: int(word in words[\"R\"].values))\n",
    "X[:,0] = vf(np.ravel(lr_data[pair_cols]))\n",
    "# Valence of word\n",
    "vf = np.vectorize(lambda word: get_valence(word)[0]-5)\n",
    "X[:,1] = vf(np.ravel(lr_data[pair_cols])) - 5\n",
    "# Participant's political identity\n",
    "vf = np.vectorize(lambda pid: int(pid == \"Republican\"))\n",
    "pids = np.repeat(vf(lr_data.party), len(ixs))\n",
    "pids[pids == 0] = -1\n",
    "X[:,2] = pids\n",
    "# Valence of word * Participant's party identity\n",
    "X[:,3] = X[:,1] * np.array([ x if x != 0 else -1 for x in X[:,2] ])\n",
    "\n",
    "# Add participant dummies\n",
    "for i in range(4, 4 + n - 1):\n",
    "    X[:,i] = np.repeat(lr_data[\"participant{}\".format(i-3)], len(ixs))\n",
    "    \n",
    "# Add item dummies\n",
    "list_of_words = np.ravel(words[[\"D\",\"R\"]].values)\n",
    "for i in range(1,2*len(ixs)):\n",
    "    vf = np.vectorize(lambda word: int(list_of_words[i] == word))\n",
    "    X[:,4+n-1+i-1] = vf(np.ravel(lr_data[pair_cols]))\n",
    "\n",
    "# The log odds that the word was said by a Republican\n",
    "vf = np.vectorize(lambda word: signals.loc[word][\"rmetric\"])\n",
    "X[:,-1] = vf(np.ravel(lr_data[pair_cols]))\n",
    "\n",
    "Y = Y[~np.isnan(Y_full)]\n",
    "X = X[~np.isnan(Y_full)]\n",
    "Y_full = Y_full[~np.isnan(Y_full)]\n",
    "X = X[~np.isnan(Y)]\n",
    "Y_full = Y_full[~np.isnan(Y)]\n",
    "Y = Y[~np.isnan(Y)]\n",
    "Y = Y[~np.isnan(X).any(axis = 1)]\n",
    "Y_full = Y_full[~np.isnan(X).any(axis = 1)]\n",
    "X = X[~np.isnan(X).any(axis = 1),:]\n",
    "\n",
    "# Since we don't have valence data for some of the words, their observations will be deleted and their indicator columns will\n",
    "# just be clutter (and cause problems with model estimation)\n",
    "colixs = np.arange(0,X.shape[1])\n",
    "to_del = np.where(np.apply_along_axis(lambda x: np.all(x == 0), 0, X[:,4+n-1:-1]))[0] + 4+n-1\n",
    "colixs = [ colix for colix in colixs if colix not in to_del ]\n",
    "X = X[:,colixs]"
   ]
  },
  {
   "cell_type": "markdown",
   "metadata": {},
   "source": [
    "Table 1 column 1: Binary DV; binarized $logodds_R$ variable."
   ]
  },
  {
   "cell_type": "code",
   "execution_count": 42,
   "metadata": {},
   "outputs": [
    {
     "name": "stderr",
     "output_type": "stream",
     "text": [
      "/Users/sabinasloman/.pyenv/versions/2.7.17/envs/politics-test-bed/lib/python2.7/site-packages/sklearn/model_selection/_split.py:2052: FutureWarning: You should specify a value for 'cv' instead of relying on the default value. The default value will change from 3 to 5 in version 0.22.\n",
      "  warnings.warn(CV_WARNING, FutureWarning)\n"
     ]
    },
    {
     "data": {
      "text/plain": [
       "(array([ 0.11477082, -0.11866294,  0.65120808,  0.08750617]),\n",
       " 2498,\n",
       " 0.6479050194214306)"
      ]
     },
     "execution_count": 42,
     "metadata": {},
     "output_type": "execute_result"
    }
   ],
   "source": [
    "# Ensure the matrix is of full rank\n",
    "assert X[:,:4+n-1].shape[1] == np.linalg.matrix_rank(X[:,:4+n-1])\n",
    "# Estimate the model\n",
    "logit = SparseLR(Y, X[:,:4+n-1]); logit.coef[:4], len(Y), logit.auc"
   ]
  },
  {
   "cell_type": "code",
   "execution_count": 43,
   "metadata": {},
   "outputs": [
    {
     "data": {
      "text/plain": [
       "(array([ 0.43183715, -0.16278784,  1.03169412,  0.16737174]),\n",
       " 2498,\n",
       " 0.770323861577001)"
      ]
     },
     "execution_count": 43,
     "metadata": {},
     "output_type": "execute_result"
    }
   ],
   "source": [
    "# Include item-level effects, just as a robustness check\n",
    "logit = SparseLR(Y, X[:,:-1]); logit.coef[:4], len(Y), logit.auc"
   ]
  },
  {
   "cell_type": "markdown",
   "metadata": {},
   "source": [
    "Table 1 column 2: Binary DV; continuous $logodds_R$ variable."
   ]
  },
  {
   "cell_type": "code",
   "execution_count": 44,
   "metadata": {},
   "outputs": [
    {
     "data": {
      "text/plain": [
       "(array([ 0.2388105 , -0.10951937,  0.65253135,  0.08751662]),\n",
       " 0.6533558500043302)"
      ]
     },
     "execution_count": 44,
     "metadata": {},
     "output_type": "execute_result"
    }
   ],
   "source": [
    "# Ensure the matrix is of full rank\n",
    "assert X[:,np.append(-1, np.arange(1, 4+n-1))].shape[1] == np.linalg.matrix_rank(X[:,np.append(-1, np.arange(1, 4+n-1))])\n",
    "# Estimate the model\n",
    "logit = SparseLR(Y, X[:,np.append(-1, np.arange(1, 4+n-1))]); logit.coef[:4], logit.auc"
   ]
  },
  {
   "cell_type": "code",
   "execution_count": 45,
   "metadata": {},
   "outputs": [
    {
     "name": "stderr",
     "output_type": "stream",
     "text": [
      "/Users/sabinasloman/.pyenv/versions/2.7.17/envs/politics-test-bed/lib/python2.7/site-packages/sklearn/svm/base.py:931: ConvergenceWarning: Liblinear failed to converge, increase the number of iterations.\n",
      "  \"the number of iterations.\", ConvergenceWarning)\n"
     ]
    },
    {
     "data": {
      "text/plain": [
       "(array([ 0.38462828, -0.19172288,  1.03237277,  0.16753869]),\n",
       " 2498,\n",
       " 0.7694052327203795)"
      ]
     },
     "execution_count": 45,
     "metadata": {},
     "output_type": "execute_result"
    }
   ],
   "source": [
    "# Include item-level effects, just as a robustness check\n",
    "logit = SparseLR(Y, X[:,np.append(-1, np.arange(1, X.shape[1]-1))]); logit.coef[:4], len(Y), logit.auc"
   ]
  },
  {
   "cell_type": "markdown",
   "metadata": {},
   "source": [
    "Generalized additive model."
   ]
  },
  {
   "cell_type": "code",
   "execution_count": 46,
   "metadata": {},
   "outputs": [],
   "source": [
    "X_ = deepcopy(X[:,:4+n-1])\n",
    "# Run using the log odds that the word was said by a Republican rather\n",
    "# than the binary indicator\n",
    "X_[:,0] = X[:,-1]"
   ]
  },
  {
   "cell_type": "code",
   "execution_count": 47,
   "metadata": {},
   "outputs": [
    {
     "data": {
      "text/plain": [
       "LogisticGAM(callbacks=[Deviance(), Diffs(), Accuracy()], \n",
       "   fit_intercept=True, max_iter=100, \n",
       "   terms=s(0) + s(1) + f(2) + s(3) + f(4) + f(5) + f(6) + f(7) + f(8) + f(9) + f(10) + f(11) + f(12) + f(13) + f(14) + f(15) + f(16) + f(17) + f(18) + f(19) + f(20) + f(21) + f(22) + f(23) + f(24) + f(25) + f(26) + f(27) + f(28) + f(29) + f(30) + f(31) + f(32) + f(33) + f(34) + f(35) + f(36) + f(37) + f(38) + f(39) + f(40) + f(41) + f(42) + f(43) + f(44) + f(45) + f(46) + f(47) + f(48) + f(49) + f(50) + f(51) + f(52) + f(53) + f(54) + f(55) + f(56) + f(57) + f(58) + f(59) + f(60) + f(61) + f(62) + f(63) + f(64) + f(65) + f(66) + f(67) + f(68) + f(69) + f(70) + f(71) + f(72) + f(73) + f(74) + f(75) + f(76) + f(77) + f(78) + f(79) + f(80) + f(81) + f(82) + f(83) + f(84) + f(85) + f(86) + f(87) + f(88) + f(89) + f(90) + f(91) + f(92) + f(93) + f(94) + f(95) + f(96) + f(97) + f(98) + f(99) + f(100) + f(101) + f(102) + f(103) + f(104) + f(105) + f(106) + f(107) + f(108) + f(109) + f(110) + f(111) + f(112) + f(113) + f(114) + f(115) + f(116) + f(117) + f(118) + f(119) + f(120) + f(121) + f(122) + f(123) + f(124) + intercept,\n",
       "   tol=0.0001, verbose=False)"
      ]
     },
     "execution_count": 47,
     "metadata": {},
     "output_type": "execute_result"
    }
   ],
   "source": [
    "logistic_gam = pygam.LogisticGAM(pygam.terms.TermList(*[pygam.s(0), pygam.s(1), \n",
    "                                 pygam.f(2), pygam.s(3)] + \n",
    "                                 [pygam.f(i) for i in range(4, X_.shape[1])]))\n",
    "logistic_gam.fit(X_, Y)"
   ]
  },
  {
   "cell_type": "code",
   "execution_count": 48,
   "metadata": {},
   "outputs": [
    {
     "data": {
      "image/png": "[encoded data removed]",
      "text/plain": [
       "<Figure size 432x288 with 1 Axes>"
      ]
     },
     "metadata": {
      "needs_background": "light"
     },
     "output_type": "display_data"
    }
   ],
   "source": [
    "plot_prf(logistic_gam, 0, logit.coef[0])"
   ]
  },
  {
   "cell_type": "markdown",
   "metadata": {},
   "source": [
    "Table 1 column 3: Ordinal DV; binary $logodds_R$ variable."
   ]
  },
  {
   "cell_type": "code",
   "execution_count": 49,
   "metadata": {},
   "outputs": [
    {
     "data": {
      "text/plain": [
       "array([ 0.23225837, -0.1240314 ,  0.18140637,  0.11781563])"
      ]
     },
     "execution_count": 49,
     "metadata": {},
     "output_type": "execute_result"
    }
   ],
   "source": [
    "X_ = X[:,:4+n-1]\n",
    "lm = sm.OLS(Y_full, sm.add_constant(X_))\n",
    "res = lm.fit_regularized()\n",
    "res.params[1:5]"
   ]
  },
  {
   "cell_type": "code",
   "execution_count": 50,
   "metadata": {},
   "outputs": [
    {
     "data": {
      "text/plain": [
       "0.07742260171318271"
      ]
     },
     "execution_count": 50,
     "metadata": {},
     "output_type": "execute_result"
    }
   ],
   "source": [
    "# Adjusted R squared\n",
    "# https://en.wikipedia.org/wiki/Coefficient_of_determination#Adjusted_R2\n",
    "ssr = ( (Y_full - res.predict(sm.add_constant(X_)))**2 ).sum()\n",
    "ssr /= X_.shape[0] - X_.shape[1] - 1\n",
    "sst = np.var(Y_full)*len(Y_full)\n",
    "sst /= len(Y_full) - 1\n",
    "1 - ssr / sst"
   ]
  },
  {
   "cell_type": "code",
   "execution_count": 51,
   "metadata": {},
   "outputs": [
    {
     "data": {
      "text/plain": [
       "array([ 0.16178379, -0.00337185,  0.25485247,  0.11677368])"
      ]
     },
     "execution_count": 51,
     "metadata": {},
     "output_type": "execute_result"
    }
   ],
   "source": [
    "# Include item-level effects as a robustness check\n",
    "X_ = X[:,:-1]\n",
    "lm = sm.OLS(Y_full, sm.add_constant(X_))\n",
    "res = lm.fit_regularized()\n",
    "res.params[1:5]"
   ]
  },
  {
   "cell_type": "markdown",
   "metadata": {},
   "source": [
    "Table 1 column 4: Ordinal DV; continuous $logodds_R$ variable."
   ]
  },
  {
   "cell_type": "code",
   "execution_count": 52,
   "metadata": {},
   "outputs": [
    {
     "data": {
      "text/plain": [
       "array([ 0.22662885, -0.11406856,  0.20205513,  0.11756506])"
      ]
     },
     "execution_count": 52,
     "metadata": {},
     "output_type": "execute_result"
    }
   ],
   "source": [
    "X_ = X[:,np.append(-1, np.arange(1, 4+n-1))]\n",
    "lm = sm.OLS(Y_full, sm.add_constant(X_))\n",
    "res = lm.fit_regularized()\n",
    "res.params[1:5]"
   ]
  },
  {
   "cell_type": "code",
   "execution_count": 53,
   "metadata": {},
   "outputs": [
    {
     "data": {
      "text/plain": [
       "0.07908467524778517"
      ]
     },
     "execution_count": 53,
     "metadata": {},
     "output_type": "execute_result"
    }
   ],
   "source": [
    "# Adjusted R squared\n",
    "# https://en.wikipedia.org/wiki/Coefficient_of_determination#Adjusted_R2\n",
    "ssr = ( (Y_full - res.predict(sm.add_constant(X_)))**2 ).sum()\n",
    "ssr /= X_.shape[0] - X_.shape[1] - 1\n",
    "sst = np.var(Y_full)*len(Y_full)\n",
    "sst /= len(Y_full) - 1\n",
    "1 - ssr / sst"
   ]
  },
  {
   "cell_type": "code",
   "execution_count": 54,
   "metadata": {},
   "outputs": [
    {
     "data": {
      "text/plain": [
       "array([ 0.11952902, -0.01572811,  0.25871046,  0.1167581 ])"
      ]
     },
     "execution_count": 54,
     "metadata": {},
     "output_type": "execute_result"
    }
   ],
   "source": [
    "# Include item-level effects as a robustness check\n",
    "X_ = X[:,np.append(-1, np.arange(1, X.shape[1]-1))]\n",
    "lm = sm.OLS(Y_full, sm.add_constant(X_))\n",
    "res = lm.fit_regularized()\n",
    "res.params[1:5]"
   ]
  },
  {
   "cell_type": "markdown",
   "metadata": {},
   "source": [
    "Generalized additive model"
   ]
  },
  {
   "cell_type": "code",
   "execution_count": 55,
   "metadata": {},
   "outputs": [
    {
     "data": {
      "text/plain": [
       "LinearGAM(callbacks=[Deviance(), Diffs()], fit_intercept=True, \n",
       "   max_iter=100, scale=None, \n",
       "   terms=s(0) + s(1) + f(2) + s(3) + f(4) + f(5) + f(6) + f(7) + f(8) + f(9) + f(10) + f(11) + f(12) + f(13) + f(14) + f(15) + f(16) + f(17) + f(18) + f(19) + f(20) + f(21) + f(22) + f(23) + f(24) + f(25) + f(26) + f(27) + f(28) + f(29) + f(30) + f(31) + f(32) + f(33) + f(34) + f(35) + f(36) + f(37) + f(38) + f(39) + f(40) + f(41) + f(42) + f(43) + f(44) + f(45) + f(46) + f(47) + f(48) + f(49) + f(50) + f(51) + f(52) + f(53) + f(54) + f(55) + f(56) + f(57) + f(58) + f(59) + f(60) + f(61) + f(62) + f(63) + f(64) + f(65) + f(66) + f(67) + f(68) + f(69) + f(70) + f(71) + f(72) + f(73) + f(74) + f(75) + f(76) + f(77) + f(78) + f(79) + f(80) + f(81) + f(82) + f(83) + f(84) + f(85) + f(86) + f(87) + f(88) + f(89) + f(90) + f(91) + f(92) + f(93) + f(94) + f(95) + f(96) + f(97) + f(98) + f(99) + f(100) + f(101) + f(102) + f(103) + f(104) + f(105) + f(106) + f(107) + f(108) + f(109) + f(110) + f(111) + f(112) + f(113) + f(114) + f(115) + f(116) + f(117) + f(118) + f(119) + f(120) + f(121) + f(122) + f(123) + f(124) + intercept,\n",
       "   tol=0.0001, verbose=False)"
      ]
     },
     "execution_count": 55,
     "metadata": {},
     "output_type": "execute_result"
    }
   ],
   "source": [
    "X_ = X[:,:4+n-1]\n",
    "linear_gam = pygam.LinearGAM(pygam.terms.TermList(*[pygam.s(0), pygam.s(1), \n",
    "                             pygam.f(2), pygam.s(3)] + \n",
    "                             [pygam.f(i) for i in range(4, X_.shape[1])]))\n",
    "linear_gam.fit(X_, Y_full)"
   ]
  },
  {
   "cell_type": "code",
   "execution_count": 56,
   "metadata": {},
   "outputs": [
    {
     "data": {
      "image/png": "[encoded data removed]",
      "text/plain": [
       "<Figure size 432x288 with 1 Axes>"
      ]
     },
     "metadata": {
      "needs_background": "light"
     },
     "output_type": "display_data"
    }
   ],
   "source": [
    "plot_prf(linear_gam, 0, res.params[1])"
   ]
  },
  {
   "cell_type": "markdown",
   "metadata": {},
   "source": [
    "# Appendix E"
   ]
  },
  {
   "cell_type": "markdown",
   "metadata": {},
   "source": [
    "Is there a difference in the discriminability of Democrats and Republicans?"
   ]
  },
  {
   "cell_type": "code",
   "execution_count": 57,
   "metadata": {},
   "outputs": [
    {
     "name": "stdout",
     "output_type": "stream",
     "text": [
      "-0.009113493024315439\n"
     ]
    },
    {
     "data": {
      "text/plain": [
       "(-0.11037674105419748, 0.9123805369639919, 81.92708472834495)"
      ]
     },
     "execution_count": 57,
     "metadata": {},
     "output_type": "execute_result"
    }
   ],
   "source": [
    "ddiffs = participant_diff(np.arange(len(data))[data.party == \"Democrat\"])\n",
    "rdiffs = participant_diff(np.arange(len(data))[data.party == \"Republican\"])\n",
    "print np.mean(rdiffs) - np.mean(ddiffs)\n",
    "cm = sms.CompareMeans(sms.DescrStatsW(rdiffs), sms.DescrStatsW(ddiffs))\n",
    "cm.ttest_ind(usevar=\"unequal\")"
   ]
  },
  {
   "cell_type": "markdown",
   "metadata": {},
   "source": [
    "$accurate \\sim logodds + log(P) + party\\_id + valence + party\\_id \\times valence \\times sign(word) + party\\_identity + party\\_id \\times party\\_identity + political\\_engagement + party\\_id \\times political\\_engagement + \\ldots{}$"
   ]
  },
  {
   "cell_type": "code",
   "execution_count": 58,
   "metadata": {},
   "outputs": [
    {
     "name": "stderr",
     "output_type": "stream",
     "text": [
      "/Users/sabinasloman/.pyenv/versions/2.7.17/envs/politics-test-bed/lib/python2.7/site-packages/ipykernel_launcher.py:4: RuntimeWarning: invalid value encountered in greater\n",
      "  after removing the cwd from sys.path.\n"
     ]
    }
   ],
   "source": [
    "n_vars = 9\n",
    "\n",
    "Y_full = np.ravel(lr_data[ixs])\n",
    "Y = Y_full > 2.5\n",
    "X = np.full((n * len(ixs), n_vars + n - 1 +(2*len(ixs) - 1)), np.nan)\n",
    "# The log odds that the word was said by a Republican\n",
    "vf = np.vectorize(lambda word: signals.loc[word][\"rmetric\"])\n",
    "s = vf(np.ravel(lr_data[pair_cols]))\n",
    "X[:,0] = np.abs(s)\n",
    "# The log probability of hearing the word\n",
    "vf = np.vectorize(lambda word: math.log(sum(freq_df.loc[(word,[\"dmetric\",\"rmetric\"])].values) / n_utterances, 2))\n",
    "X[:,1] = vf(np.ravel(lr_data[pair_cols]))\n",
    "# Participant's political identity\n",
    "vf = np.vectorize(lambda pid: 1 if pid == \"Republican\" else -1 if pid == \"Democrat\" else 0\n",
    "                 )\n",
    "pids = np.repeat(vf(lr_data.party), len(ixs))\n",
    "X[:,2] = pids\n",
    "# Valence of word\n",
    "vf = np.vectorize(lambda word: get_valence(word)[0]-5)\n",
    "X[:,3] = vf(np.ravel(lr_data[pair_cols]))\n",
    "# Valence of word * Participant's party identity * Word is Republican\n",
    "X[:,4] = pids * X[:,3] * np.sign(s) \n",
    "# Party identity\n",
    "X[:,5] = np.repeat(lr_data.party_identity, len(ixs))\n",
    "# Party affiliation x party identity\n",
    "X[:,6] = pids * X[:,5]\n",
    "# Political engagement\n",
    "X[:,7] = np.repeat(lr_data.political_engagement, len(ixs))\n",
    "# Party affiliation x political engagement\n",
    "X[:,8] = pids * X[:,7]\n",
    "# Participant IDs\n",
    "for i in range(n_vars, n_vars + n - 1):\n",
    "    X[:,i] = np.repeat(lr_data[\"participant{}\".format(i-n_vars+1)], len(ixs))\n",
    "\n",
    "# Add item dummies\n",
    "list_of_words = np.ravel(words[[\"D\",\"R\"]].values)\n",
    "for i in range(1,2*len(ixs)):\n",
    "    vf = np.vectorize(lambda word: int(list_of_words[i] == word))\n",
    "    X[:,n_vars+n-1+i-1] = vf(np.ravel(lr_data[pair_cols]))\n",
    "    \n",
    "vf = np.vectorize(lambda word: signals.loc[word][\"rmetric\"] > 0)\n",
    "polarity = vf(np.ravel(lr_data[pair_cols]))\n",
    "Y = (Y & polarity) | (~Y & ~polarity)\n",
    "\n",
    "Y = Y[~np.isnan(Y_full)]\n",
    "X = X[~np.isnan(Y_full)]\n",
    "Y_full = Y_full[~np.isnan(Y_full)]\n",
    "X = X[~np.isnan(Y)]\n",
    "Y_full = Y_full[~np.isnan(Y)]\n",
    "Y = Y[~np.isnan(Y)]\n",
    "Y = Y[~np.isnan(X).any(axis = 1)]\n",
    "Y_full = Y_full[~np.isnan(X).any(axis = 1)]\n",
    "X = X[~np.isnan(X).any(axis = 1),:]\n",
    "\n",
    "# Since we don't have valence data for some of the words, their observations will be deleted and their indicator columns will\n",
    "# just be clutter (and cause problems with model estimation)\n",
    "colixs = np.arange(0,X.shape[1])\n",
    "to_del = np.where(np.apply_along_axis(lambda x: np.all(x == 0), 0, X[:,n_vars+n-1:-1]))[0] + n_vars+n-1\n",
    "colixs = [ colix for colix in colixs if colix not in to_del ]\n",
    "X = X[:,colixs]\n",
    "\n",
    "X = stats.mstats.zscore(X)"
   ]
  },
  {
   "cell_type": "code",
   "execution_count": 59,
   "metadata": {},
   "outputs": [
    {
     "data": {
      "text/plain": [
       "(array([ 0.08715752, -0.32706123,  0.07089629, -0.18965005,  0.39270759,\n",
       "         0.02341418, -0.01875962,  0.05689167, -0.01411482]),\n",
       " 2498,\n",
       " 0.648881414025749)"
      ]
     },
     "execution_count": 59,
     "metadata": {},
     "output_type": "execute_result"
    }
   ],
   "source": [
    "# Estimate a model without fixed effects, for consistency with the analysis for Study 1\n",
    "logit = SparseLR(Y, X[:,:n_vars]); logit.coef, logit.n, logit.auc"
   ]
  }
 ],
 "metadata": {
  "kernelspec": {
   "display_name": "Python 2",
   "language": "python",
   "name": "python2"
  },
  "language_info": {
   "codemirror_mode": {
    "name": "ipython",
    "version": 2
   },
   "file_extension": ".py",
   "mimetype": "text/x-python",
   "name": "python",
   "nbconvert_exporter": "python",
   "pygments_lexer": "ipython2",
   "version": "2.7.17"
  },
  "toc": {
   "base_numbering": 1,
   "nav_menu": {},
   "number_sections": true,
   "sideBar": true,
   "skip_h1_title": false,
   "title_cell": "Table of Contents",
   "title_sidebar": "Contents",
   "toc_cell": false,
   "toc_position": {},
   "toc_section_display": true,
   "toc_window_display": false
  }
 },
 "nbformat": 4,
 "nbformat_minor": 2
}
