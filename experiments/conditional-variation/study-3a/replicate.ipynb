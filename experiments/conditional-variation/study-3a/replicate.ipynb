{
 "cells": [
  {
   "cell_type": "code",
   "execution_count": 1,
   "metadata": {},
   "outputs": [],
   "source": [
    "%matplotlib inline\n",
    "#! switch_R 3.3\n",
    "%load_ext rpy2.ipython"
   ]
  },
  {
   "cell_type": "code",
   "execution_count": 2,
   "metadata": {},
   "outputs": [
    {
     "name": "stderr",
     "output_type": "stream",
     "text": [
      "/Users/sabinasloman/Box/LoP/pyspan/pyspan/config.py:19: UserWarning: \n",
      "This call to matplotlib.use() has no effect because the backend has already\n",
      "been chosen; matplotlib.use() must be called *before* pylab, matplotlib.pyplot,\n",
      "or matplotlib.backends is imported for the first time.\n",
      "\n",
      "The backend was *originally* set to 'module://ipykernel.pylab.backend_inline' by the following code:\n",
      "  File \"/Users/sabinasloman/.pyenv/versions/2.7.17/lib/python2.7/runpy.py\", line 174, in _run_module_as_main\n",
      "    \"__main__\", fname, loader, pkg_name)\n",
      "  File \"/Users/sabinasloman/.pyenv/versions/2.7.17/lib/python2.7/runpy.py\", line 72, in _run_code\n",
      "    exec code in run_globals\n",
      "  File \"/Users/sabinasloman/.pyenv/versions/2.7.17/envs/lop_env/lib/python2.7/site-packages/ipykernel_launcher.py\", line 16, in <module>\n",
      "    app.launch_new_instance()\n",
      "  File \"/Users/sabinasloman/.pyenv/versions/2.7.17/envs/lop_env/lib/python2.7/site-packages/traitlets/config/application.py\", line 664, in launch_instance\n",
      "    app.start()\n",
      "  File \"/Users/sabinasloman/.pyenv/versions/2.7.17/envs/lop_env/lib/python2.7/site-packages/ipykernel/kernelapp.py\", line 499, in start\n",
      "    self.io_loop.start()\n",
      "  File \"/Users/sabinasloman/.pyenv/versions/2.7.17/envs/lop_env/lib/python2.7/site-packages/tornado/ioloop.py\", line 1073, in start\n",
      "    handler_func(fd_obj, events)\n",
      "  File \"/Users/sabinasloman/.pyenv/versions/2.7.17/envs/lop_env/lib/python2.7/site-packages/tornado/stack_context.py\", line 300, in null_wrapper\n",
      "    return fn(*args, **kwargs)\n",
      "  File \"/Users/sabinasloman/.pyenv/versions/2.7.17/envs/lop_env/lib/python2.7/site-packages/zmq/eventloop/zmqstream.py\", line 456, in _handle_events\n",
      "    self._handle_recv()\n",
      "  File \"/Users/sabinasloman/.pyenv/versions/2.7.17/envs/lop_env/lib/python2.7/site-packages/zmq/eventloop/zmqstream.py\", line 486, in _handle_recv\n",
      "    self._run_callback(callback, msg)\n",
      "  File \"/Users/sabinasloman/.pyenv/versions/2.7.17/envs/lop_env/lib/python2.7/site-packages/zmq/eventloop/zmqstream.py\", line 438, in _run_callback\n",
      "    callback(*args, **kwargs)\n",
      "  File \"/Users/sabinasloman/.pyenv/versions/2.7.17/envs/lop_env/lib/python2.7/site-packages/tornado/stack_context.py\", line 300, in null_wrapper\n",
      "    return fn(*args, **kwargs)\n",
      "  File \"/Users/sabinasloman/.pyenv/versions/2.7.17/envs/lop_env/lib/python2.7/site-packages/ipykernel/kernelbase.py\", line 283, in dispatcher\n",
      "    return self.dispatch_shell(stream, msg)\n",
      "  File \"/Users/sabinasloman/.pyenv/versions/2.7.17/envs/lop_env/lib/python2.7/site-packages/ipykernel/kernelbase.py\", line 233, in dispatch_shell\n",
      "    handler(stream, idents, msg)\n",
      "  File \"/Users/sabinasloman/.pyenv/versions/2.7.17/envs/lop_env/lib/python2.7/site-packages/ipykernel/kernelbase.py\", line 399, in execute_request\n",
      "    user_expressions, allow_stdin)\n",
      "  File \"/Users/sabinasloman/.pyenv/versions/2.7.17/envs/lop_env/lib/python2.7/site-packages/ipykernel/ipkernel.py\", line 208, in do_execute\n",
      "    res = shell.run_cell(code, store_history=store_history, silent=silent)\n",
      "  File \"/Users/sabinasloman/.pyenv/versions/2.7.17/envs/lop_env/lib/python2.7/site-packages/ipykernel/zmqshell.py\", line 537, in run_cell\n",
      "    return super(ZMQInteractiveShell, self).run_cell(*args, **kwargs)\n",
      "  File \"/Users/sabinasloman/.pyenv/versions/2.7.17/envs/lop_env/lib/python2.7/site-packages/IPython/core/interactiveshell.py\", line 2724, in run_cell\n",
      "    self.events.trigger('post_run_cell')\n",
      "  File \"/Users/sabinasloman/.pyenv/versions/2.7.17/envs/lop_env/lib/python2.7/site-packages/IPython/core/events.py\", line 74, in trigger\n",
      "    func(*args, **kwargs)\n",
      "  File \"/Users/sabinasloman/.pyenv/versions/2.7.17/envs/lop_env/lib/python2.7/site-packages/ipykernel/pylab/backend_inline.py\", line 164, in configure_once\n",
      "    activate_matplotlib(backend)\n",
      "  File \"/Users/sabinasloman/.pyenv/versions/2.7.17/envs/lop_env/lib/python2.7/site-packages/IPython/core/pylabtools.py\", line 315, in activate_matplotlib\n",
      "    matplotlib.pyplot.switch_backend(backend)\n",
      "  File \"/Users/sabinasloman/.pyenv/versions/2.7.17/envs/lop_env/lib/python2.7/site-packages/matplotlib/pyplot.py\", line 231, in switch_backend\n",
      "    matplotlib.use(newbackend, warn=False, force=True)\n",
      "  File \"/Users/sabinasloman/.pyenv/versions/2.7.17/envs/lop_env/lib/python2.7/site-packages/matplotlib/__init__.py\", line 1425, in use\n",
      "    reload(sys.modules['matplotlib.backends'])\n",
      "  File \"/Users/sabinasloman/.pyenv/versions/2.7.17/envs/lop_env/lib/python2.7/site-packages/matplotlib/backends/__init__.py\", line 17, in <module>\n",
      "    line for line in traceback.format_stack()\n",
      "\n",
      "\n",
      "  mpl.use(settings[\"mpl_backend\"])\n",
      "/Users/sabinasloman/Box/LoP/pyspan/pyspan/Purger.py:203: UserWarning: No parser was explicitly specified, so I'm using the best available HTML parser for this system (\"lxml\"). This usually isn't a problem, but if you run this code on another system, or in a different virtual environment, it may use a different parser and behave differently.\n",
      "\n",
      "The code that caused this warning is on line 203 of the file /Users/sabinasloman/Box/LoP/pyspan/pyspan/Purger.py. To get rid of this warning, pass the additional argument 'features=\"lxml\"' to the BeautifulSoup constructor.\n",
      "\n",
      "  soup=BeautifulSoup(text)\n",
      "/Users/sabinasloman/Box/LoP/pyspan/pyspan/Purger.py:215: UserWarning: No parser was explicitly specified, so I'm using the best available HTML parser for this system (\"lxml\"). This usually isn't a problem, but if you run this code on another system, or in a different virtual environment, it may use a different parser and behave differently.\n",
      "\n",
      "The code that caused this warning is on line 215 of the file /Users/sabinasloman/Box/LoP/pyspan/pyspan/Purger.py. To get rid of this warning, pass the additional argument 'features=\"lxml\"' to the BeautifulSoup constructor.\n",
      "\n",
      "  soup=BeautifulSoup(text)\n",
      "/Users/sabinasloman/Box/LoP/pyspan/pyspan/ratings_task/data.py:27: FutureWarning: Sorting because non-concatenation axis is not aligned. A future version\n",
      "of pandas will change to not sort by default.\n",
      "\n",
      "To accept the future behavior, pass 'sort=False'.\n",
      "\n",
      "To retain the current behavior and silence the warning, pass 'sort=True'.\n",
      "\n",
      "  all_ = pd.concat((partisan, antonyms))\n"
     ]
    }
   ],
   "source": [
    "from __future__ import division\n",
    "from copy import deepcopy\n",
    "import math\n",
    "import numpy as np\n",
    "import pandas as pd\n",
    "import pygam\n",
    "import statsmodels.stats.api as sms\n",
    "from pyspan import cross_validation as cv\n",
    "from pyspan.ratings_task.analysis import freq_df, n_utterances, signal_df, SparseLR\n",
    "from pyspan.synonyms.data import *\n",
    "words_original = deepcopy(words)\n",
    "words = words.loc[words.index != 7]\n",
    "from pyspan.utils import *\n",
    "from pyspan.valence import get_valence\n",
    "signals = pickle.load(open(paths[\"metrics_dir\"] + \"signals-unigrams\", \n",
    "                           \"rb\"))"
   ]
  },
  {
   "cell_type": "code",
   "execution_count": 3,
   "metadata": {},
   "outputs": [],
   "source": [
    "data = pd.read_csv(\"responses.csv\")\n",
    "# After excluding fear vs. terror, these are the indices we're using\n",
    "ixs = range(7) + range(8,26)\n",
    "\n",
    "data.rename(columns = dict(zip(map(str, ixs), ixs)), inplace = True)\n",
    "pair_cols = map(lambda i: \"pair{}\".format(i), ixs)"
   ]
  },
  {
   "cell_type": "code",
   "execution_count": 4,
   "metadata": {},
   "outputs": [],
   "source": [
    "def calc_accuracy(word):\n",
    "    polarity = signals.loc[word].rmetric > 0\n",
    "    mask = np.ma.masked_where(data[pair_cols] == word, data[ixs])\n",
    "    dat = mask.data[mask.mask]\n",
    "    judgments = dat[~np.isnan(dat)]\n",
    "    return len(judgments[judgments > 2.5 if polarity else judgments < 2.5]), len(judgments)\n",
    "v_calc_accuracy = np.vectorize(calc_accuracy)"
   ]
  },
  {
   "cell_type": "code",
   "execution_count": 5,
   "metadata": {},
   "outputs": [],
   "source": [
    "items = np.ravel(words[[\"D\",\"R\"]].values)\n",
    "p, n = v_calc_accuracy(items)\n",
    "p = p / n\n",
    "band_height = 1.96 * np.sqrt(p * (1 - p) / n)"
   ]
  },
  {
   "cell_type": "code",
   "execution_count": 6,
   "metadata": {},
   "outputs": [
    {
     "name": "stderr",
     "output_type": "stream",
     "text": [
      "/Users/sabinasloman/.pyenv/versions/2.7.17/envs/lop_env/lib/python2.7/site-packages/numpy/core/fromnumeric.py:56: FutureWarning: \n",
      "The current behaviour of 'Series.argmax' is deprecated, use 'idxmax'\n",
      "instead.\n",
      "The behavior of 'argmax' will be corrected to return the positional\n",
      "maximum in the future. For now, use 'series.values.argmax' or\n",
      "'np.argmax(np.array(values))' to get the position of the maximum\n",
      "row.\n",
      "  return getattr(obj, method)(*args, **kwds)\n"
     ]
    },
    {
     "name": "stdout",
     "output_type": "stream",
     "text": [
      "/Users/sabinasloman/Box/LoP/pyspan/output/crec_debates_word_signals_accuracy\n"
     ]
    },
    {
     "data": {
      "text/plain": [
       "(<Figure size 432x288 with 1 Axes>,\n",
       " <matplotlib.axes._subplots.AxesSubplot at 0x141be4f10>)"
      ]
     },
     "execution_count": 6,
     "metadata": {},
     "output_type": "execute_result"
    },
    {
     "data": {
      "image/png": "[encoded data removed]",
      "text/plain": [
       "<Figure size 432x288 with 1 Axes>"
      ]
     },
     "metadata": {
      "needs_background": "light"
     },
     "output_type": "display_data"
    }
   ],
   "source": [
    "cv.plot_(\"crec\", \"debates\", \"word\", words = zip(items, p, band_height))"
   ]
  },
  {
   "cell_type": "markdown",
   "metadata": {},
   "source": [
    "Participant demographics"
   ]
  },
  {
   "cell_type": "code",
   "execution_count": 7,
   "metadata": {},
   "outputs": [
    {
     "data": {
      "text/plain": [
       "(77, 45, 52)"
      ]
     },
     "execution_count": 7,
     "metadata": {},
     "output_type": "execute_result"
    }
   ],
   "source": [
    "len(data.loc[data.party == \"Democrat\"]), len(data.loc[data.party == \"Republican\"]), \\\n",
    "len(data.loc[~(data.party.isin([\"Democrat\",\"Republican\"]))])"
   ]
  },
  {
   "cell_type": "code",
   "execution_count": 8,
   "metadata": {},
   "outputs": [
    {
     "name": "stdout",
     "output_type": "stream",
     "text": [
      "40.35057471264368 0.8672733959927182\n",
      "88 85\n",
      "0.847953216374269\n"
     ]
    }
   ],
   "source": [
    "print np.mean(data.age[~np.isnan(data.age)]), stats.sem(data.age[~np.isnan(data.age)])\n",
    "print len(data.loc[data.gender == \"Male\"]), len(data.loc[data.gender == \"Female\"])\n",
    "print np.mean(data.voted)"
   ]
  },
  {
   "cell_type": "markdown",
   "metadata": {},
   "source": [
    "Testing the difference in means"
   ]
  },
  {
   "cell_type": "code",
   "execution_count": 9,
   "metadata": {},
   "outputs": [],
   "source": [
    "dmask = np.ma.masked_where(data[pair_cols].isin(words[\"D\"].values), data[ixs])\n",
    "ddat = dmask.data[dmask.mask]\n",
    "rmask = np.ma.masked_where(data[pair_cols].isin(words[\"R\"].values), data[ixs])\n",
    "rdat = rmask.data[rmask.mask]"
   ]
  },
  {
   "cell_type": "code",
   "execution_count": 10,
   "metadata": {},
   "outputs": [
    {
     "data": {
      "text/plain": [
       "(2.6966343937298296, 0.029210696167390728)"
      ]
     },
     "execution_count": 10,
     "metadata": {},
     "output_type": "execute_result"
    }
   ],
   "source": [
    "np.mean(rdat[~np.isnan(rdat)]), stats.sem(rdat[~np.isnan(rdat)])"
   ]
  },
  {
   "cell_type": "code",
   "execution_count": 11,
   "metadata": {},
   "outputs": [
    {
     "data": {
      "text/plain": [
       "(2.4944802207911683, 0.028965175835954794)"
      ]
     },
     "execution_count": 11,
     "metadata": {},
     "output_type": "execute_result"
    }
   ],
   "source": [
    "np.mean(ddat[~np.isnan(ddat)]), stats.sem(ddat[~np.isnan(ddat)])"
   ]
  },
  {
   "cell_type": "code",
   "execution_count": 12,
   "metadata": {},
   "outputs": [
    {
     "data": {
      "text/plain": [
       "0.20215417293866134"
      ]
     },
     "execution_count": 12,
     "metadata": {},
     "output_type": "execute_result"
    }
   ],
   "source": [
    "np.mean(rdat[~np.isnan(rdat)]) - np.mean(ddat[~np.isnan(ddat)])"
   ]
  },
  {
   "cell_type": "code",
   "execution_count": 13,
   "metadata": {},
   "outputs": [],
   "source": [
    "ddat_ = dmask.data.copy().astype(\"float\")\n",
    "ddat_[~dmask.mask] = np.nan\n",
    "rdat_ = rmask.data.copy().astype(\"float\")\n",
    "rdat_[~rmask.mask] = np.nan"
   ]
  },
  {
   "cell_type": "markdown",
   "metadata": {},
   "source": [
    "Analysis of variance"
   ]
  },
  {
   "cell_type": "code",
   "execution_count": 14,
   "metadata": {},
   "outputs": [
    {
     "name": "stderr",
     "output_type": "stream",
     "text": [
      "/Users/sabinasloman/.pyenv/versions/2.7.17/envs/lop_env/lib/python2.7/site-packages/rpy2/rinterface/__init__.py:186: RRuntimeWarning: Loading required package: lme4\n",
      "\n",
      "  warnings.warn(x, RRuntimeWarning)\n",
      "/Users/sabinasloman/.pyenv/versions/2.7.17/envs/lop_env/lib/python2.7/site-packages/rpy2/rinterface/__init__.py:186: RRuntimeWarning: Loading required package: Matrix\n",
      "\n",
      "  warnings.warn(x, RRuntimeWarning)\n",
      "/Users/sabinasloman/.pyenv/versions/2.7.17/envs/lop_env/lib/python2.7/site-packages/rpy2/rinterface/__init__.py:186: RRuntimeWarning: \n",
      "Attaching package: ‘lmerTest’\n",
      "\n",
      "\n",
      "  warnings.warn(x, RRuntimeWarning)\n",
      "/Users/sabinasloman/.pyenv/versions/2.7.17/envs/lop_env/lib/python2.7/site-packages/rpy2/rinterface/__init__.py:186: RRuntimeWarning: The following object is masked from ‘package:lme4’:\n",
      "\n",
      "    lmer\n",
      "\n",
      "\n",
      "  warnings.warn(x, RRuntimeWarning)\n",
      "/Users/sabinasloman/.pyenv/versions/2.7.17/envs/lop_env/lib/python2.7/site-packages/rpy2/rinterface/__init__.py:186: RRuntimeWarning: The following object is masked from ‘package:stats’:\n",
      "\n",
      "    step\n",
      "\n",
      "\n",
      "  warnings.warn(x, RRuntimeWarning)\n"
     ]
    },
    {
     "data": {
      "text/plain": [
       "Type III Analysis of Variance Table with Satterthwaite's method\n",
       "       Sum Sq Mean Sq NumDF  DenDF F value    Pr(>F)    \n",
       "groups 42.378  42.378     1 4338.9  23.603 1.226e-06 ***\n",
       "---\n",
       "Signif. codes:  0 ‘***’ 0.001 ‘**’ 0.01 ‘*’ 0.05 ‘.’ 0.1 ‘ ’ 1\n"
      ]
     },
     "metadata": {},
     "output_type": "display_data"
    }
   ],
   "source": [
    "%%R -i ddat_,rdat_\n",
    "# https://www.r-bloggers.com/how-to-do-repeated-measures-anovas-in-r/\n",
    "y <- c(t(ddat_), t(rdat_))\n",
    "n <- dim(ddat_)[1]\n",
    "stopifnot(n == dim(rdat_)[1])\n",
    "kd <- dim(ddat_)[2]\n",
    "kr <- dim(rdat_)[2]\n",
    "clusters <- c(rep(1:n, each = kd), rep(1:n, each = kr))\n",
    "groups <- c(rep(0, n*kd), rep(1, n*kr))\n",
    "fit <- aov(y ~ groups + Error(clusters/groups))\n",
    "summary(fit)\n",
    "\n",
    "library(lmerTest)\n",
    "fit <- lmer(y ~ groups + (1|clusters))\n",
    "anova(fit)"
   ]
  },
  {
   "cell_type": "markdown",
   "metadata": {},
   "source": [
    "Compute an individual-level effect size and test the hypothesis that it's greater than 0."
   ]
  },
  {
   "cell_type": "code",
   "execution_count": 15,
   "metadata": {},
   "outputs": [],
   "source": [
    "def participant_diff(i):\n",
    "    djudgments = dmask.data[i,dmask.mask[i,:]]\n",
    "    djudgments = djudgments[~np.isnan(djudgments)]\n",
    "    rjudgments = rmask.data[i,rmask.mask[i,:]]\n",
    "    rjudgments = rjudgments[~np.isnan(rjudgments)]\n",
    "    return cohensd(rjudgments, djudgments)\n",
    "    \n",
    "participant_diff = np.vectorize(participant_diff)"
   ]
  },
  {
   "cell_type": "code",
   "execution_count": 16,
   "metadata": {},
   "outputs": [
    {
     "data": {
      "image/png": "[encoded data removed]",
      "text/plain": [
       "<Figure size 432x288 with 1 Axes>"
      ]
     },
     "metadata": {
      "needs_background": "light"
     },
     "output_type": "display_data"
    }
   ],
   "source": [
    "pdiffs = participant_diff(np.arange(len(data)))\n",
    "hist, mu, se = histogram(pdiffs)"
   ]
  },
  {
   "cell_type": "code",
   "execution_count": 17,
   "metadata": {},
   "outputs": [
    {
     "data": {
      "text/plain": [
       "(0.1573932224670715, 0.03179973113791762)"
      ]
     },
     "execution_count": 17,
     "metadata": {},
     "output_type": "execute_result"
    }
   ],
   "source": [
    "mu, se"
   ]
  },
  {
   "cell_type": "code",
   "execution_count": 18,
   "metadata": {},
   "outputs": [
    {
     "data": {
      "text/plain": [
       "(4.949514251691194, 8.776095043328314e-07)"
      ]
     },
     "execution_count": 18,
     "metadata": {},
     "output_type": "execute_result"
    }
   ],
   "source": [
    "t, p = stats.ttest_1samp(pdiffs, 0)\n",
    "t, p / 2"
   ]
  },
  {
   "cell_type": "code",
   "execution_count": 19,
   "metadata": {},
   "outputs": [
    {
     "data": {
      "text/plain": [
       "173"
      ]
     },
     "execution_count": 19,
     "metadata": {},
     "output_type": "execute_result"
    }
   ],
   "source": [
    "len(pdiffs) - 1"
   ]
  },
  {
   "cell_type": "markdown",
   "metadata": {},
   "source": [
    "Mann-Whitney U test"
   ]
  },
  {
   "cell_type": "markdown",
   "metadata": {},
   "source": [
    "For each word, compute the mean of the judgments across subjects."
   ]
  },
  {
   "cell_type": "code",
   "execution_count": 20,
   "metadata": {},
   "outputs": [],
   "source": [
    "def compute_mean_judgment(word):\n",
    "    mask = np.ma.masked_where(data[pair_cols] == word, data[ixs])\n",
    "    dat = mask.data[mask.mask]\n",
    "    return np.mean(dat[~np.isnan(dat)])\n",
    "vf = np.vectorize(compute_mean_judgment)\n",
    "dmeans = vf(words[\"D\"])\n",
    "dmeans = dmeans[~np.isnan(dmeans)]\n",
    "rmeans = vf(words[\"R\"])\n",
    "rmeans = rmeans[~np.isnan(rmeans)]"
   ]
  },
  {
   "cell_type": "markdown",
   "metadata": {},
   "source": [
    "Rank the words by their associated mean judgment."
   ]
  },
  {
   "cell_type": "code",
   "execution_count": 21,
   "metadata": {},
   "outputs": [],
   "source": [
    "# Create a sequence of \"D\"s and \"R\"s that's ordered by mean judgment\n",
    "means = list(zip(dmeans, [\"D\"] * len(ixs))) + list(zip(rmeans, [\"R\"] * len(ixs)))\n",
    "means_sorted = sorted(means, key = lambda mu: mu[0])\n",
    "seq = [ mu[1] for mu in means_sorted ]"
   ]
  },
  {
   "cell_type": "markdown",
   "metadata": {},
   "source": [
    "Perform a Mann-Whitney U test to determine whether the Republican words are as likely to have a higher rank than Democratic words as to have a lower rank."
   ]
  },
  {
   "cell_type": "code",
   "execution_count": 22,
   "metadata": {},
   "outputs": [
    {
     "data": {
      "text/plain": [
       "MannwhitneyuResult(statistic=256.0, pvalue=0.1386157438086561)"
      ]
     },
     "execution_count": 22,
     "metadata": {},
     "output_type": "execute_result"
    }
   ],
   "source": [
    "stats.mannwhitneyu(dmeans, rmeans, alternative = \"less\")"
   ]
  },
  {
   "cell_type": "markdown",
   "metadata": {},
   "source": [
    "Fixed-effects logistic model"
   ]
  },
  {
   "cell_type": "markdown",
   "metadata": {},
   "source": [
    "Binarize judgments into \"more likely that the word was spoken by a Republican\" (\"REPUBLICAN\"; rating >= 3) and \"more likely that the word was spoken by a Democrat\" (rating < 3).\n",
    "\n",
    "Estimate the following logistic regression model (with participant-level effects): REPUBLICAN ~ Dummy indicating whether the word is Republican + Valence of word + Participant's party identity + Valence of word * Participant's party identity"
   ]
  },
  {
   "cell_type": "code",
   "execution_count": 23,
   "metadata": {},
   "outputs": [
    {
     "name": "stderr",
     "output_type": "stream",
     "text": [
      "/Users/sabinasloman/.pyenv/versions/2.7.17/envs/lop_env/lib/python2.7/site-packages/ipykernel_launcher.py:12: RuntimeWarning: invalid value encountered in greater\n",
      "  if sys.path[0] == '':\n"
     ]
    }
   ],
   "source": [
    "lr_data = data.copy()\n",
    "lr_data = lr_data.loc[lr_data.party.isin([ \"Democrat\", \"Republican\" ])]\n",
    "\n",
    "n = len(lr_data)\n",
    "# Add dummy columns\n",
    "for i in range(1, n):\n",
    "    ids = np.zeros(n)\n",
    "    ids[i] = 1\n",
    "    lr_data[\"participant{}\".format(i)] = ids\n",
    "    \n",
    "Y_full = np.ravel(lr_data[ixs])\n",
    "Y = Y_full > 2.5\n",
    "X = np.full((n * len(ixs), 5 + n - 1), np.nan)\n",
    "# Dummy indicating whether the word is Republican\n",
    "vf = np.vectorize(lambda word: int(word in words[\"R\"]))\n",
    "X[:,0] = vf(np.ravel(lr_data[pair_cols]))\n",
    "# Valence of word\n",
    "vf = np.vectorize(lambda word: get_valence(word)[0]-5)\n",
    "X[:,1] = vf(np.ravel(lr_data[pair_cols])) - 5\n",
    "# Participant's political identity\n",
    "vf = np.vectorize(lambda pid: int(pid == \"Republican\"))\n",
    "pids = np.repeat(vf(lr_data.party), len(ixs))\n",
    "pids[pids == 0] = -1\n",
    "X[:,2] = pids\n",
    "# Valence of word * Participant's party identity\n",
    "X[:,3] = X[:,1] * np.array([ x if x != 0 else -1 for x in X[:,2] ])\n",
    "for i in range(4, 4 + n - 1):\n",
    "    X[:,i] = np.repeat(lr_data[\"participant{}\".format(i-3)], len(ixs))\n",
    "# The log odds that the word was said by a Republican\n",
    "vf = np.vectorize(lambda word: signals.loc[word][\"rmetric\"])\n",
    "X[:,-1] = vf(np.ravel(lr_data[pair_cols]))\n",
    "\n",
    "Y = Y[~np.isnan(Y_full)]\n",
    "X = X[~np.isnan(Y_full)]\n",
    "Y_full = Y_full[~np.isnan(Y_full)]\n",
    "X = X[~np.isnan(Y)]\n",
    "Y_full = Y_full[~np.isnan(Y)]\n",
    "Y = Y[~np.isnan(Y)]\n",
    "Y = Y[~np.isnan(X).any(axis = 1)]\n",
    "Y_full = Y_full[~np.isnan(X).any(axis = 1)]\n",
    "X = X[~np.isnan(X).any(axis = 1),:]"
   ]
  },
  {
   "cell_type": "code",
   "execution_count": 24,
   "metadata": {},
   "outputs": [
    {
     "name": "stderr",
     "output_type": "stream",
     "text": [
      "/Users/sabinasloman/.pyenv/versions/2.7.17/envs/lop_env/lib/python2.7/site-packages/sklearn/model_selection/_split.py:2052: FutureWarning: You should specify a value for 'cv' instead of relying on the default value. The default value will change from 3 to 5 in version 0.22.\n",
      "  warnings.warn(CV_WARNING, FutureWarning)\n"
     ]
    },
    {
     "data": {
      "text/plain": [
       "array([ 0.        , -0.11771615,  0.65197244,  0.08770673])"
      ]
     },
     "execution_count": 24,
     "metadata": {},
     "output_type": "execute_result"
    }
   ],
   "source": [
    "logit = SparseLR(Y, X[:,:-1]); logit.coef[:4]"
   ]
  },
  {
   "cell_type": "code",
   "execution_count": 25,
   "metadata": {},
   "outputs": [
    {
     "data": {
      "text/plain": [
       "(2498, 0.6394923805766449)"
      ]
     },
     "execution_count": 25,
     "metadata": {},
     "output_type": "execute_result"
    }
   ],
   "source": [
    "len(Y), logit.auc"
   ]
  },
  {
   "cell_type": "markdown",
   "metadata": {},
   "source": [
    "Including continuous $logodds$ values instead of binary indicators as IVs."
   ]
  },
  {
   "cell_type": "markdown",
   "metadata": {},
   "source": [
    "Estimate the following logistic regression model (with participant-level effects): REPUBLICAN ~ Log odds that the word was said by a Republican + Valence of word + Participant's party identity + Valence of word * Participant's party identity"
   ]
  },
  {
   "cell_type": "code",
   "execution_count": 26,
   "metadata": {},
   "outputs": [
    {
     "data": {
      "text/plain": [
       "array([ 0.00068465, -0.10951589,  0.65253622,  0.08751931])"
      ]
     },
     "execution_count": 26,
     "metadata": {},
     "output_type": "execute_result"
    }
   ],
   "source": [
    "logit = SparseLR(Y, X[:,np.append(-1, np.arange(1, X.shape[1]))]); logit.coef[:4]"
   ]
  },
  {
   "cell_type": "code",
   "execution_count": 27,
   "metadata": {},
   "outputs": [
    {
     "data": {
      "text/plain": [
       "0.6533574537558257"
      ]
     },
     "execution_count": 27,
     "metadata": {},
     "output_type": "execute_result"
    }
   ],
   "source": [
    "logit.auc"
   ]
  },
  {
   "cell_type": "markdown",
   "metadata": {},
   "source": [
    "Generalized additive model."
   ]
  },
  {
   "cell_type": "code",
   "execution_count": 28,
   "metadata": {},
   "outputs": [],
   "source": [
    "X_ = deepcopy(X[:,:-1])\n",
    "# Run using the log odds that the word was said by a Republican rather\n",
    "# than the binary indicator\n",
    "X_[:,0] = X[:,-1]"
   ]
  },
  {
   "cell_type": "code",
   "execution_count": 29,
   "metadata": {},
   "outputs": [
    {
     "data": {
      "text/plain": [
       "LogisticGAM(callbacks=[Deviance(), Diffs(), Accuracy()], \n",
       "   fit_intercept=True, max_iter=100, \n",
       "   terms=s(0) + s(1) + f(2) + s(3) + f(4) + f(5) + f(6) + f(7) + f(8) + f(9) + f(10) + f(11) + f(12) + f(13) + f(14) + f(15) + f(16) + f(17) + f(18) + f(19) + f(20) + f(21) + f(22) + f(23) + f(24) + f(25) + f(26) + f(27) + f(28) + f(29) + f(30) + f(31) + f(32) + f(33) + f(34) + f(35) + f(36) + f(37) + f(38) + f(39) + f(40) + f(41) + f(42) + f(43) + f(44) + f(45) + f(46) + f(47) + f(48) + f(49) + f(50) + f(51) + f(52) + f(53) + f(54) + f(55) + f(56) + f(57) + f(58) + f(59) + f(60) + f(61) + f(62) + f(63) + f(64) + f(65) + f(66) + f(67) + f(68) + f(69) + f(70) + f(71) + f(72) + f(73) + f(74) + f(75) + f(76) + f(77) + f(78) + f(79) + f(80) + f(81) + f(82) + f(83) + f(84) + f(85) + f(86) + f(87) + f(88) + f(89) + f(90) + f(91) + f(92) + f(93) + f(94) + f(95) + f(96) + f(97) + f(98) + f(99) + f(100) + f(101) + f(102) + f(103) + f(104) + f(105) + f(106) + f(107) + f(108) + f(109) + f(110) + f(111) + f(112) + f(113) + f(114) + f(115) + f(116) + f(117) + f(118) + f(119) + f(120) + f(121) + f(122) + f(123) + f(124) + intercept,\n",
       "   tol=0.0001, verbose=False)"
      ]
     },
     "execution_count": 29,
     "metadata": {},
     "output_type": "execute_result"
    }
   ],
   "source": [
    "logistic_gam = pygam.LogisticGAM(pygam.terms.TermList(*[pygam.s(0), pygam.s(1), \n",
    "                                 pygam.f(2), pygam.s(3)] + \n",
    "                                 [pygam.f(i) for i in range(4, 125)]))\n",
    "logistic_gam.fit(X_, Y)"
   ]
  },
  {
   "cell_type": "code",
   "execution_count": 30,
   "metadata": {},
   "outputs": [
    {
     "data": {
      "image/png": "[encoded data removed]",
      "text/plain": [
       "<Figure size 432x288 with 1 Axes>"
      ]
     },
     "metadata": {
      "needs_background": "light"
     },
     "output_type": "display_data"
    }
   ],
   "source": [
    "plot_prf(logistic_gam, 0, logit.coef[0])"
   ]
  },
  {
   "cell_type": "code",
   "execution_count": 31,
   "metadata": {},
   "outputs": [
    {
     "data": {
      "image/png": "[encoded data removed]",
      "text/plain": [
       "<Figure size 432x288 with 1 Axes>"
      ]
     },
     "metadata": {
      "needs_background": "light"
     },
     "output_type": "display_data"
    }
   ],
   "source": [
    "plot_prf(logistic_gam, 1, logit.coef[1])"
   ]
  },
  {
   "cell_type": "code",
   "execution_count": 32,
   "metadata": {},
   "outputs": [
    {
     "data": {
      "image/png": "[encoded data removed]",
      "text/plain": [
       "<Figure size 432x288 with 1 Axes>"
      ]
     },
     "metadata": {
      "needs_background": "light"
     },
     "output_type": "display_data"
    }
   ],
   "source": [
    "plot_prf(logistic_gam, 3, logit.coef[3])"
   ]
  },
  {
   "cell_type": "markdown",
   "metadata": {},
   "source": [
    "Linear model"
   ]
  },
  {
   "cell_type": "markdown",
   "metadata": {},
   "source": [
    "Same as the LR, but a linear model of the full ratings scale."
   ]
  },
  {
   "cell_type": "code",
   "execution_count": 33,
   "metadata": {},
   "outputs": [
    {
     "data": {
      "text/html": [
       "<table class=\"simpletable\">\n",
       "<caption>OLS Regression Results</caption>\n",
       "<tr>\n",
       "  <th>Dep. Variable:</th>            <td>y</td>        <th>  R-squared:         </th> <td>   0.117</td>\n",
       "</tr>\n",
       "<tr>\n",
       "  <th>Model:</th>                   <td>OLS</td>       <th>  Adj. R-squared:    </th> <td>   0.072</td>\n",
       "</tr>\n",
       "<tr>\n",
       "  <th>Method:</th>             <td>Least Squares</td>  <th>  F-statistic:       </th> <td>   2.569</td>\n",
       "</tr>\n",
       "<tr>\n",
       "  <th>Date:</th>             <td>Thu, 30 Apr 2020</td> <th>  Prob (F-statistic):</th> <td>2.43e-17</td>\n",
       "</tr>\n",
       "<tr>\n",
       "  <th>Time:</th>                 <td>15:39:34</td>     <th>  Log-Likelihood:    </th> <td> -4223.2</td>\n",
       "</tr>\n",
       "<tr>\n",
       "  <th>No. Observations:</th>      <td>  2498</td>      <th>  AIC:               </th> <td>   8694.</td>\n",
       "</tr>\n",
       "<tr>\n",
       "  <th>Df Residuals:</th>          <td>  2374</td>      <th>  BIC:               </th> <td>   9417.</td>\n",
       "</tr>\n",
       "<tr>\n",
       "  <th>Df Model:</th>              <td>   123</td>      <th>                     </th>     <td> </td>   \n",
       "</tr>\n",
       "<tr>\n",
       "  <th>Covariance Type:</th>      <td>nonrobust</td>    <th>                     </th>     <td> </td>   \n",
       "</tr>\n",
       "</table>\n",
       "<table class=\"simpletable\">\n",
       "<tr>\n",
       "    <td></td>       <th>coef</th>     <th>std err</th>      <th>t</th>      <th>P>|t|</th>  <th>[0.025</th>    <th>0.975]</th>  \n",
       "</tr>\n",
       "<tr>\n",
       "  <th>const</th> <td>    1.9548</td> <td>    0.167</td> <td>   11.728</td> <td> 0.000</td> <td>    1.628</td> <td>    2.282</td>\n",
       "</tr>\n",
       "<tr>\n",
       "  <th>x1</th>    <td> 2.287e-14</td> <td>    2e-14</td> <td>    1.146</td> <td> 0.252</td> <td>-1.63e-14</td> <td>  6.2e-14</td>\n",
       "</tr>\n",
       "<tr>\n",
       "  <th>x2</th>    <td>   -0.1225</td> <td>    0.018</td> <td>   -6.695</td> <td> 0.000</td> <td>   -0.158</td> <td>   -0.087</td>\n",
       "</tr>\n",
       "<tr>\n",
       "  <th>x3</th>    <td>    0.5508</td> <td>    0.167</td> <td>    3.304</td> <td> 0.001</td> <td>    0.224</td> <td>    0.878</td>\n",
       "</tr>\n",
       "<tr>\n",
       "  <th>x4</th>    <td>    0.1181</td> <td>    0.018</td> <td>    6.456</td> <td> 0.000</td> <td>    0.082</td> <td>    0.154</td>\n",
       "</tr>\n",
       "<tr>\n",
       "  <th>x5</th>    <td>    0.1195</td> <td>    0.299</td> <td>    0.400</td> <td> 0.690</td> <td>   -0.467</td> <td>    0.706</td>\n",
       "</tr>\n",
       "<tr>\n",
       "  <th>x6</th>    <td>    0.2264</td> <td>    0.421</td> <td>    0.538</td> <td> 0.590</td> <td>   -0.598</td> <td>    1.051</td>\n",
       "</tr>\n",
       "<tr>\n",
       "  <th>x7</th>    <td>    0.2685</td> <td>    0.292</td> <td>    0.920</td> <td> 0.358</td> <td>   -0.304</td> <td>    0.841</td>\n",
       "</tr>\n",
       "<tr>\n",
       "  <th>x8</th>    <td>   -0.1220</td> <td>    0.292</td> <td>   -0.418</td> <td> 0.676</td> <td>   -0.694</td> <td>    0.450</td>\n",
       "</tr>\n",
       "<tr>\n",
       "  <th>x9</th>    <td>    0.2394</td> <td>    0.299</td> <td>    0.801</td> <td> 0.423</td> <td>   -0.347</td> <td>    0.826</td>\n",
       "</tr>\n",
       "<tr>\n",
       "  <th>x10</th>   <td>    0.1055</td> <td>    0.299</td> <td>    0.353</td> <td> 0.724</td> <td>   -0.481</td> <td>    0.692</td>\n",
       "</tr>\n",
       "<tr>\n",
       "  <th>x11</th>   <td>   -0.2203</td> <td>    0.299</td> <td>   -0.737</td> <td> 0.461</td> <td>   -0.807</td> <td>    0.366</td>\n",
       "</tr>\n",
       "<tr>\n",
       "  <th>x12</th>   <td>    0.2367</td> <td>    0.416</td> <td>    0.570</td> <td> 0.569</td> <td>   -0.578</td> <td>    1.051</td>\n",
       "</tr>\n",
       "<tr>\n",
       "  <th>x13</th>   <td>   -1.0209</td> <td>    0.292</td> <td>   -3.498</td> <td> 0.000</td> <td>   -1.593</td> <td>   -0.449</td>\n",
       "</tr>\n",
       "<tr>\n",
       "  <th>x14</th>   <td>    0.5713</td> <td>    0.292</td> <td>    1.957</td> <td> 0.050</td> <td>   -0.001</td> <td>    1.144</td>\n",
       "</tr>\n",
       "<tr>\n",
       "  <th>x15</th>   <td>    0.2228</td> <td>    0.299</td> <td>    0.745</td> <td> 0.456</td> <td>   -0.364</td> <td>    0.809</td>\n",
       "</tr>\n",
       "<tr>\n",
       "  <th>x16</th>   <td>   -0.1358</td> <td>    0.299</td> <td>   -0.454</td> <td> 0.650</td> <td>   -0.722</td> <td>    0.450</td>\n",
       "</tr>\n",
       "<tr>\n",
       "  <th>x17</th>   <td>    0.4755</td> <td>    0.415</td> <td>    1.145</td> <td> 0.252</td> <td>   -0.339</td> <td>    1.290</td>\n",
       "</tr>\n",
       "<tr>\n",
       "  <th>x18</th>   <td>    0.1182</td> <td>    0.299</td> <td>    0.395</td> <td> 0.693</td> <td>   -0.468</td> <td>    0.704</td>\n",
       "</tr>\n",
       "<tr>\n",
       "  <th>x19</th>   <td>   -0.0165</td> <td>    0.292</td> <td>   -0.057</td> <td> 0.955</td> <td>   -0.589</td> <td>    0.556</td>\n",
       "</tr>\n",
       "<tr>\n",
       "  <th>x20</th>   <td>   -0.0962</td> <td>    0.292</td> <td>   -0.330</td> <td> 0.742</td> <td>   -0.669</td> <td>    0.476</td>\n",
       "</tr>\n",
       "<tr>\n",
       "  <th>x21</th>   <td>    0.0815</td> <td>    0.299</td> <td>    0.273</td> <td> 0.785</td> <td>   -0.505</td> <td>    0.668</td>\n",
       "</tr>\n",
       "<tr>\n",
       "  <th>x22</th>   <td>    0.0663</td> <td>    0.292</td> <td>    0.227</td> <td> 0.820</td> <td>   -0.506</td> <td>    0.639</td>\n",
       "</tr>\n",
       "<tr>\n",
       "  <th>x23</th>   <td>    0.0947</td> <td>    0.299</td> <td>    0.317</td> <td> 0.751</td> <td>   -0.492</td> <td>    0.681</td>\n",
       "</tr>\n",
       "<tr>\n",
       "  <th>x24</th>   <td>    0.2256</td> <td>    0.421</td> <td>    0.536</td> <td> 0.592</td> <td>   -0.599</td> <td>    1.050</td>\n",
       "</tr>\n",
       "<tr>\n",
       "  <th>x25</th>   <td>   -0.2242</td> <td>    0.292</td> <td>   -0.768</td> <td> 0.443</td> <td>   -0.797</td> <td>    0.348</td>\n",
       "</tr>\n",
       "<tr>\n",
       "  <th>x26</th>   <td>    0.3637</td> <td>    0.299</td> <td>    1.217</td> <td> 0.224</td> <td>   -0.223</td> <td>    0.950</td>\n",
       "</tr>\n",
       "<tr>\n",
       "  <th>x27</th>   <td>    0.1737</td> <td>    0.292</td> <td>    0.595</td> <td> 0.552</td> <td>   -0.399</td> <td>    0.746</td>\n",
       "</tr>\n",
       "<tr>\n",
       "  <th>x28</th>   <td>    0.5255</td> <td>    0.421</td> <td>    1.249</td> <td> 0.212</td> <td>   -0.299</td> <td>    1.350</td>\n",
       "</tr>\n",
       "<tr>\n",
       "  <th>x29</th>   <td>    0.6187</td> <td>    0.415</td> <td>    1.489</td> <td> 0.137</td> <td>   -0.196</td> <td>    1.433</td>\n",
       "</tr>\n",
       "<tr>\n",
       "  <th>x30</th>   <td>    0.0781</td> <td>    0.292</td> <td>    0.268</td> <td> 0.789</td> <td>   -0.494</td> <td>    0.650</td>\n",
       "</tr>\n",
       "<tr>\n",
       "  <th>x31</th>   <td>   -0.0824</td> <td>    0.299</td> <td>   -0.276</td> <td> 0.783</td> <td>   -0.669</td> <td>    0.504</td>\n",
       "</tr>\n",
       "<tr>\n",
       "  <th>x32</th>   <td>    0.0328</td> <td>    0.292</td> <td>    0.112</td> <td> 0.911</td> <td>   -0.540</td> <td>    0.605</td>\n",
       "</tr>\n",
       "<tr>\n",
       "  <th>x33</th>   <td>    0.0894</td> <td>    0.299</td> <td>    0.299</td> <td> 0.765</td> <td>   -0.497</td> <td>    0.676</td>\n",
       "</tr>\n",
       "<tr>\n",
       "  <th>x34</th>   <td>    0.6113</td> <td>    0.292</td> <td>    2.095</td> <td> 0.036</td> <td>    0.039</td> <td>    1.184</td>\n",
       "</tr>\n",
       "<tr>\n",
       "  <th>x35</th>   <td>    0.1487</td> <td>    0.292</td> <td>    0.509</td> <td> 0.611</td> <td>   -0.424</td> <td>    0.721</td>\n",
       "</tr>\n",
       "<tr>\n",
       "  <th>x36</th>   <td>    0.4261</td> <td>    0.421</td> <td>    1.013</td> <td> 0.311</td> <td>   -0.399</td> <td>    1.251</td>\n",
       "</tr>\n",
       "<tr>\n",
       "  <th>x37</th>   <td>    0.1156</td> <td>    0.292</td> <td>    0.396</td> <td> 0.692</td> <td>   -0.457</td> <td>    0.688</td>\n",
       "</tr>\n",
       "<tr>\n",
       "  <th>x38</th>   <td>    0.2314</td> <td>    0.292</td> <td>    0.793</td> <td> 0.428</td> <td>   -0.341</td> <td>    0.804</td>\n",
       "</tr>\n",
       "<tr>\n",
       "  <th>x39</th>   <td>    0.0964</td> <td>    0.299</td> <td>    0.322</td> <td> 0.747</td> <td>   -0.490</td> <td>    0.683</td>\n",
       "</tr>\n",
       "<tr>\n",
       "  <th>x40</th>   <td>    0.3803</td> <td>    0.415</td> <td>    0.916</td> <td> 0.360</td> <td>   -0.434</td> <td>    1.195</td>\n",
       "</tr>\n",
       "<tr>\n",
       "  <th>x41</th>   <td>    0.3080</td> <td>    0.299</td> <td>    1.030</td> <td> 0.303</td> <td>   -0.278</td> <td>    0.894</td>\n",
       "</tr>\n",
       "<tr>\n",
       "  <th>x42</th>   <td>    0.1426</td> <td>    0.415</td> <td>    0.343</td> <td> 0.731</td> <td>   -0.672</td> <td>    0.957</td>\n",
       "</tr>\n",
       "<tr>\n",
       "  <th>x43</th>   <td>    0.2874</td> <td>    0.292</td> <td>    0.985</td> <td> 0.325</td> <td>   -0.285</td> <td>    0.860</td>\n",
       "</tr>\n",
       "<tr>\n",
       "  <th>x44</th>   <td>    0.4363</td> <td>    0.299</td> <td>    1.459</td> <td> 0.145</td> <td>   -0.150</td> <td>    1.023</td>\n",
       "</tr>\n",
       "<tr>\n",
       "  <th>x45</th>   <td>   -0.1912</td> <td>    0.415</td> <td>   -0.460</td> <td> 0.645</td> <td>   -1.006</td> <td>    0.623</td>\n",
       "</tr>\n",
       "<tr>\n",
       "  <th>x46</th>   <td>    0.5254</td> <td>    0.421</td> <td>    1.249</td> <td> 0.212</td> <td>   -0.299</td> <td>    1.350</td>\n",
       "</tr>\n",
       "<tr>\n",
       "  <th>x47</th>   <td>    0.0714</td> <td>    0.299</td> <td>    0.239</td> <td> 0.811</td> <td>   -0.515</td> <td>    0.658</td>\n",
       "</tr>\n",
       "<tr>\n",
       "  <th>x48</th>   <td>    0.1571</td> <td>    0.307</td> <td>    0.512</td> <td> 0.608</td> <td>   -0.444</td> <td>    0.758</td>\n",
       "</tr>\n",
       "<tr>\n",
       "  <th>x49</th>   <td>    0.0486</td> <td>    0.292</td> <td>    0.166</td> <td> 0.868</td> <td>   -0.524</td> <td>    0.621</td>\n",
       "</tr>\n",
       "<tr>\n",
       "  <th>x50</th>   <td>    0.1378</td> <td>    0.292</td> <td>    0.472</td> <td> 0.637</td> <td>   -0.435</td> <td>    0.710</td>\n",
       "</tr>\n",
       "<tr>\n",
       "  <th>x51</th>   <td>   -0.3845</td> <td>    0.292</td> <td>   -1.317</td> <td> 0.188</td> <td>   -0.957</td> <td>    0.188</td>\n",
       "</tr>\n",
       "<tr>\n",
       "  <th>x52</th>   <td>    0.0275</td> <td>    0.292</td> <td>    0.094</td> <td> 0.925</td> <td>   -0.545</td> <td>    0.600</td>\n",
       "</tr>\n",
       "<tr>\n",
       "  <th>x53</th>   <td>    0.2498</td> <td>    0.299</td> <td>    0.836</td> <td> 0.403</td> <td>   -0.336</td> <td>    0.836</td>\n",
       "</tr>\n",
       "<tr>\n",
       "  <th>x54</th>   <td>    0.2101</td> <td>    0.292</td> <td>    0.720</td> <td> 0.472</td> <td>   -0.362</td> <td>    0.782</td>\n",
       "</tr>\n",
       "<tr>\n",
       "  <th>x55</th>   <td>    0.2367</td> <td>    0.415</td> <td>    0.570</td> <td> 0.569</td> <td>   -0.578</td> <td>    1.052</td>\n",
       "</tr>\n",
       "<tr>\n",
       "  <th>x56</th>   <td>    0.8560</td> <td>    0.415</td> <td>    2.060</td> <td> 0.039</td> <td>    0.041</td> <td>    1.671</td>\n",
       "</tr>\n",
       "<tr>\n",
       "  <th>x57</th>   <td>   -0.0088</td> <td>    0.299</td> <td>   -0.029</td> <td> 0.977</td> <td>   -0.595</td> <td>    0.578</td>\n",
       "</tr>\n",
       "<tr>\n",
       "  <th>x58</th>   <td>    0.0999</td> <td>    0.292</td> <td>    0.342</td> <td> 0.732</td> <td>   -0.472</td> <td>    0.672</td>\n",
       "</tr>\n",
       "<tr>\n",
       "  <th>x59</th>   <td>   -0.0238</td> <td>    0.421</td> <td>   -0.057</td> <td> 0.955</td> <td>   -0.849</td> <td>    0.801</td>\n",
       "</tr>\n",
       "<tr>\n",
       "  <th>x60</th>   <td>    0.1893</td> <td>    0.415</td> <td>    0.456</td> <td> 0.649</td> <td>   -0.625</td> <td>    1.004</td>\n",
       "</tr>\n",
       "<tr>\n",
       "  <th>x61</th>   <td>   -0.2236</td> <td>    0.292</td> <td>   -0.766</td> <td> 0.444</td> <td>   -0.796</td> <td>    0.349</td>\n",
       "</tr>\n",
       "<tr>\n",
       "  <th>x62</th>   <td>   -0.4191</td> <td>    0.299</td> <td>   -1.402</td> <td> 0.161</td> <td>   -1.005</td> <td>    0.167</td>\n",
       "</tr>\n",
       "<tr>\n",
       "  <th>x63</th>   <td>   -0.8779</td> <td>    0.292</td> <td>   -3.008</td> <td> 0.003</td> <td>   -1.450</td> <td>   -0.306</td>\n",
       "</tr>\n",
       "<tr>\n",
       "  <th>x64</th>   <td>    0.0473</td> <td>    0.415</td> <td>    0.114</td> <td> 0.909</td> <td>   -0.767</td> <td>    0.862</td>\n",
       "</tr>\n",
       "<tr>\n",
       "  <th>x65</th>   <td>   -0.0748</td> <td>    0.421</td> <td>   -0.178</td> <td> 0.859</td> <td>   -0.900</td> <td>    0.750</td>\n",
       "</tr>\n",
       "<tr>\n",
       "  <th>x66</th>   <td>   -0.3903</td> <td>    0.307</td> <td>   -1.273</td> <td> 0.203</td> <td>   -0.992</td> <td>    0.211</td>\n",
       "</tr>\n",
       "<tr>\n",
       "  <th>x67</th>   <td>    0.0752</td> <td>    0.421</td> <td>    0.179</td> <td> 0.858</td> <td>   -0.750</td> <td>    0.900</td>\n",
       "</tr>\n",
       "<tr>\n",
       "  <th>x68</th>   <td>   -0.3098</td> <td>    0.292</td> <td>   -1.061</td> <td> 0.289</td> <td>   -0.882</td> <td>    0.263</td>\n",
       "</tr>\n",
       "<tr>\n",
       "  <th>x69</th>   <td>    0.1255</td> <td>    0.299</td> <td>    0.420</td> <td> 0.675</td> <td>   -0.461</td> <td>    0.712</td>\n",
       "</tr>\n",
       "<tr>\n",
       "  <th>x70</th>   <td>   -0.1857</td> <td>    0.307</td> <td>   -0.605</td> <td> 0.545</td> <td>   -0.787</td> <td>    0.416</td>\n",
       "</tr>\n",
       "<tr>\n",
       "  <th>x71</th>   <td>    0.3015</td> <td>    0.292</td> <td>    1.033</td> <td> 0.302</td> <td>   -0.271</td> <td>    0.874</td>\n",
       "</tr>\n",
       "<tr>\n",
       "  <th>x72</th>   <td>   -0.4060</td> <td>    0.292</td> <td>   -1.391</td> <td> 0.164</td> <td>   -0.978</td> <td>    0.166</td>\n",
       "</tr>\n",
       "<tr>\n",
       "  <th>x73</th>   <td>    0.2250</td> <td>    0.421</td> <td>    0.535</td> <td> 0.593</td> <td>   -0.600</td> <td>    1.050</td>\n",
       "</tr>\n",
       "<tr>\n",
       "  <th>x74</th>   <td>    1.2256</td> <td>    0.421</td> <td>    2.914</td> <td> 0.004</td> <td>    0.401</td> <td>    2.050</td>\n",
       "</tr>\n",
       "<tr>\n",
       "  <th>x75</th>   <td>    0.2468</td> <td>    0.299</td> <td>    0.825</td> <td> 0.409</td> <td>   -0.340</td> <td>    0.833</td>\n",
       "</tr>\n",
       "<tr>\n",
       "  <th>x76</th>   <td>    0.3804</td> <td>    0.292</td> <td>    1.303</td> <td> 0.193</td> <td>   -0.192</td> <td>    0.953</td>\n",
       "</tr>\n",
       "<tr>\n",
       "  <th>x77</th>   <td>    0.0262</td> <td>    0.421</td> <td>    0.062</td> <td> 0.950</td> <td>   -0.799</td> <td>    0.851</td>\n",
       "</tr>\n",
       "<tr>\n",
       "  <th>x78</th>   <td>    0.2756</td> <td>    0.421</td> <td>    0.655</td> <td> 0.512</td> <td>   -0.549</td> <td>    1.100</td>\n",
       "</tr>\n",
       "<tr>\n",
       "  <th>x79</th>   <td>   -0.6724</td> <td>    0.299</td> <td>   -2.249</td> <td> 0.025</td> <td>   -1.259</td> <td>   -0.086</td>\n",
       "</tr>\n",
       "<tr>\n",
       "  <th>x80</th>   <td>    0.4128</td> <td>    0.292</td> <td>    1.414</td> <td> 0.157</td> <td>   -0.159</td> <td>    0.985</td>\n",
       "</tr>\n",
       "<tr>\n",
       "  <th>x81</th>   <td>   -0.3370</td> <td>    0.299</td> <td>   -1.127</td> <td> 0.260</td> <td>   -0.923</td> <td>    0.249</td>\n",
       "</tr>\n",
       "<tr>\n",
       "  <th>x82</th>   <td>    0.2850</td> <td>    0.415</td> <td>    0.686</td> <td> 0.493</td> <td>   -0.530</td> <td>    1.100</td>\n",
       "</tr>\n",
       "<tr>\n",
       "  <th>x83</th>   <td>    0.1143</td> <td>    0.299</td> <td>    0.382</td> <td> 0.702</td> <td>   -0.472</td> <td>    0.701</td>\n",
       "</tr>\n",
       "<tr>\n",
       "  <th>x84</th>   <td>    0.1256</td> <td>    0.421</td> <td>    0.299</td> <td> 0.765</td> <td>   -0.699</td> <td>    0.950</td>\n",
       "</tr>\n",
       "<tr>\n",
       "  <th>x85</th>   <td>   -0.1114</td> <td>    0.292</td> <td>   -0.382</td> <td> 0.703</td> <td>   -0.684</td> <td>    0.461</td>\n",
       "</tr>\n",
       "<tr>\n",
       "  <th>x86</th>   <td>   -0.1369</td> <td>    0.299</td> <td>   -0.458</td> <td> 0.647</td> <td>   -0.723</td> <td>    0.449</td>\n",
       "</tr>\n",
       "<tr>\n",
       "  <th>x87</th>   <td>   -0.3347</td> <td>    0.292</td> <td>   -1.147</td> <td> 0.252</td> <td>   -0.907</td> <td>    0.238</td>\n",
       "</tr>\n",
       "<tr>\n",
       "  <th>x88</th>   <td>    0.2372</td> <td>    0.415</td> <td>    0.571</td> <td> 0.568</td> <td>   -0.577</td> <td>    1.052</td>\n",
       "</tr>\n",
       "<tr>\n",
       "  <th>x89</th>   <td>   -0.1294</td> <td>    0.292</td> <td>   -0.443</td> <td> 0.658</td> <td>   -0.702</td> <td>    0.443</td>\n",
       "</tr>\n",
       "<tr>\n",
       "  <th>x90</th>   <td>   -0.1180</td> <td>    0.299</td> <td>   -0.395</td> <td> 0.693</td> <td>   -0.704</td> <td>    0.468</td>\n",
       "</tr>\n",
       "<tr>\n",
       "  <th>x91</th>   <td>    0.4813</td> <td>    0.292</td> <td>    1.649</td> <td> 0.099</td> <td>   -0.091</td> <td>    1.054</td>\n",
       "</tr>\n",
       "<tr>\n",
       "  <th>x92</th>   <td>    0.0249</td> <td>    0.421</td> <td>    0.059</td> <td> 0.953</td> <td>   -0.800</td> <td>    0.850</td>\n",
       "</tr>\n",
       "<tr>\n",
       "  <th>x93</th>   <td>    0.1346</td> <td>    0.292</td> <td>    0.461</td> <td> 0.645</td> <td>   -0.438</td> <td>    0.707</td>\n",
       "</tr>\n",
       "<tr>\n",
       "  <th>x94</th>   <td>   -0.2452</td> <td>    0.299</td> <td>   -0.820</td> <td> 0.412</td> <td>   -0.831</td> <td>    0.341</td>\n",
       "</tr>\n",
       "<tr>\n",
       "  <th>x95</th>   <td>   -0.0915</td> <td>    0.299</td> <td>   -0.306</td> <td> 0.760</td> <td>   -0.678</td> <td>    0.495</td>\n",
       "</tr>\n",
       "<tr>\n",
       "  <th>x96</th>   <td>    0.6257</td> <td>    0.421</td> <td>    1.488</td> <td> 0.137</td> <td>   -0.199</td> <td>    1.450</td>\n",
       "</tr>\n",
       "<tr>\n",
       "  <th>x97</th>   <td>   -0.1617</td> <td>    0.292</td> <td>   -0.554</td> <td> 0.580</td> <td>   -0.734</td> <td>    0.411</td>\n",
       "</tr>\n",
       "<tr>\n",
       "  <th>x98</th>   <td>   -0.3334</td> <td>    0.415</td> <td>   -0.803</td> <td> 0.422</td> <td>   -1.148</td> <td>    0.481</td>\n",
       "</tr>\n",
       "<tr>\n",
       "  <th>x99</th>   <td>    0.4256</td> <td>    0.421</td> <td>    1.012</td> <td> 0.312</td> <td>   -0.399</td> <td>    1.250</td>\n",
       "</tr>\n",
       "<tr>\n",
       "  <th>x100</th>  <td>    0.3671</td> <td>    0.299</td> <td>    1.228</td> <td> 0.220</td> <td>   -0.219</td> <td>    0.953</td>\n",
       "</tr>\n",
       "<tr>\n",
       "  <th>x101</th>  <td>    0.2181</td> <td>    0.292</td> <td>    0.747</td> <td> 0.455</td> <td>   -0.354</td> <td>    0.790</td>\n",
       "</tr>\n",
       "<tr>\n",
       "  <th>x102</th>  <td>    0.6265</td> <td>    0.421</td> <td>    1.490</td> <td> 0.136</td> <td>   -0.198</td> <td>    1.451</td>\n",
       "</tr>\n",
       "<tr>\n",
       "  <th>x103</th>  <td>    1.3262</td> <td>    0.421</td> <td>    3.153</td> <td> 0.002</td> <td>    0.502</td> <td>    2.151</td>\n",
       "</tr>\n",
       "<tr>\n",
       "  <th>x104</th>  <td>    0.1892</td> <td>    0.415</td> <td>    0.455</td> <td> 0.649</td> <td>   -0.626</td> <td>    1.004</td>\n",
       "</tr>\n",
       "<tr>\n",
       "  <th>x105</th>  <td>    0.1364</td> <td>    0.299</td> <td>    0.456</td> <td> 0.648</td> <td>   -0.450</td> <td>    0.723</td>\n",
       "</tr>\n",
       "<tr>\n",
       "  <th>x106</th>  <td>   -0.3289</td> <td>    0.299</td> <td>   -1.100</td> <td> 0.271</td> <td>   -0.915</td> <td>    0.257</td>\n",
       "</tr>\n",
       "<tr>\n",
       "  <th>x107</th>  <td>    0.2620</td> <td>    0.292</td> <td>    0.898</td> <td> 0.370</td> <td>   -0.310</td> <td>    0.834</td>\n",
       "</tr>\n",
       "<tr>\n",
       "  <th>x108</th>  <td>   -0.0958</td> <td>    0.415</td> <td>   -0.231</td> <td> 0.818</td> <td>   -0.910</td> <td>    0.719</td>\n",
       "</tr>\n",
       "<tr>\n",
       "  <th>x109</th>  <td>   -0.0245</td> <td>    0.421</td> <td>   -0.058</td> <td> 0.954</td> <td>   -0.849</td> <td>    0.800</td>\n",
       "</tr>\n",
       "<tr>\n",
       "  <th>x110</th>  <td>    0.9761</td> <td>    0.421</td> <td>    2.321</td> <td> 0.020</td> <td>    0.151</td> <td>    1.801</td>\n",
       "</tr>\n",
       "<tr>\n",
       "  <th>x111</th>  <td>    0.8084</td> <td>    0.415</td> <td>    1.946</td> <td> 0.052</td> <td>   -0.006</td> <td>    1.623</td>\n",
       "</tr>\n",
       "<tr>\n",
       "  <th>x112</th>  <td>    0.1758</td> <td>    0.292</td> <td>    0.602</td> <td> 0.547</td> <td>   -0.397</td> <td>    0.748</td>\n",
       "</tr>\n",
       "<tr>\n",
       "  <th>x113</th>  <td>    0.6486</td> <td>    0.292</td> <td>    2.222</td> <td> 0.026</td> <td>    0.076</td> <td>    1.221</td>\n",
       "</tr>\n",
       "<tr>\n",
       "  <th>x114</th>  <td>   -1.0849</td> <td>    0.299</td> <td>   -3.628</td> <td> 0.000</td> <td>   -1.671</td> <td>   -0.499</td>\n",
       "</tr>\n",
       "<tr>\n",
       "  <th>x115</th>  <td>   -0.6333</td> <td>    0.299</td> <td>   -2.118</td> <td> 0.034</td> <td>   -1.220</td> <td>   -0.047</td>\n",
       "</tr>\n",
       "<tr>\n",
       "  <th>x116</th>  <td>    0.3146</td> <td>    0.299</td> <td>    1.052</td> <td> 0.293</td> <td>   -0.272</td> <td>    0.901</td>\n",
       "</tr>\n",
       "<tr>\n",
       "  <th>x117</th>  <td>    0.1421</td> <td>    0.415</td> <td>    0.342</td> <td> 0.732</td> <td>   -0.672</td> <td>    0.957</td>\n",
       "</tr>\n",
       "<tr>\n",
       "  <th>x118</th>  <td>   -0.0244</td> <td>    0.421</td> <td>   -0.058</td> <td> 0.954</td> <td>   -0.849</td> <td>    0.800</td>\n",
       "</tr>\n",
       "<tr>\n",
       "  <th>x119</th>  <td>    0.1899</td> <td>    0.415</td> <td>    0.457</td> <td> 0.648</td> <td>   -0.625</td> <td>    1.004</td>\n",
       "</tr>\n",
       "<tr>\n",
       "  <th>x120</th>  <td>    0.1420</td> <td>    0.415</td> <td>    0.342</td> <td> 0.733</td> <td>   -0.673</td> <td>    0.957</td>\n",
       "</tr>\n",
       "<tr>\n",
       "  <th>x121</th>  <td>   -0.0241</td> <td>    0.421</td> <td>   -0.057</td> <td> 0.954</td> <td>   -0.849</td> <td>    0.801</td>\n",
       "</tr>\n",
       "<tr>\n",
       "  <th>x122</th>  <td>   -0.0004</td> <td>    0.415</td> <td>   -0.001</td> <td> 0.999</td> <td>   -0.815</td> <td>    0.814</td>\n",
       "</tr>\n",
       "<tr>\n",
       "  <th>x123</th>  <td>    0.2749</td> <td>    0.421</td> <td>    0.653</td> <td> 0.514</td> <td>   -0.550</td> <td>    1.100</td>\n",
       "</tr>\n",
       "<tr>\n",
       "  <th>x124</th>  <td>    0.0286</td> <td>    0.299</td> <td>    0.096</td> <td> 0.924</td> <td>   -0.558</td> <td>    0.615</td>\n",
       "</tr>\n",
       "<tr>\n",
       "  <th>x125</th>  <td>    0.1422</td> <td>    0.415</td> <td>    0.342</td> <td> 0.732</td> <td>   -0.672</td> <td>    0.957</td>\n",
       "</tr>\n",
       "</table>\n",
       "<table class=\"simpletable\">\n",
       "<tr>\n",
       "  <th>Omnibus:</th>       <td>75.650</td> <th>  Durbin-Watson:     </th> <td>   2.238</td>\n",
       "</tr>\n",
       "<tr>\n",
       "  <th>Prob(Omnibus):</th> <td> 0.000</td> <th>  Jarque-Bera (JB):  </th> <td>  38.841</td>\n",
       "</tr>\n",
       "<tr>\n",
       "  <th>Skew:</th>          <td>-0.096</td> <th>  Prob(JB):          </th> <td>3.68e-09</td>\n",
       "</tr>\n",
       "<tr>\n",
       "  <th>Kurtosis:</th>      <td> 2.420</td> <th>  Cond. No.          </th> <td>6.75e+16</td>\n",
       "</tr>\n",
       "</table><br/><br/>Warnings:<br/>[1] Standard Errors assume that the covariance matrix of the errors is correctly specified.<br/>[2] The smallest eigenvalue is 1.51e-29. This might indicate that there are<br/>strong multicollinearity problems or that the design matrix is singular."
      ],
      "text/plain": [
       "<class 'statsmodels.iolib.summary.Summary'>\n",
       "\"\"\"\n",
       "                            OLS Regression Results                            \n",
       "==============================================================================\n",
       "Dep. Variable:                      y   R-squared:                       0.117\n",
       "Model:                            OLS   Adj. R-squared:                  0.072\n",
       "Method:                 Least Squares   F-statistic:                     2.569\n",
       "Date:                Thu, 30 Apr 2020   Prob (F-statistic):           2.43e-17\n",
       "Time:                        15:39:34   Log-Likelihood:                -4223.2\n",
       "No. Observations:                2498   AIC:                             8694.\n",
       "Df Residuals:                    2374   BIC:                             9417.\n",
       "Df Model:                         123                                         \n",
       "Covariance Type:            nonrobust                                         \n",
       "==============================================================================\n",
       "                 coef    std err          t      P>|t|      [0.025      0.975]\n",
       "------------------------------------------------------------------------------\n",
       "const          1.9548      0.167     11.728      0.000       1.628       2.282\n",
       "x1          2.287e-14      2e-14      1.146      0.252   -1.63e-14     6.2e-14\n",
       "x2            -0.1225      0.018     -6.695      0.000      -0.158      -0.087\n",
       "x3             0.5508      0.167      3.304      0.001       0.224       0.878\n",
       "x4             0.1181      0.018      6.456      0.000       0.082       0.154\n",
       "x5             0.1195      0.299      0.400      0.690      -0.467       0.706\n",
       "x6             0.2264      0.421      0.538      0.590      -0.598       1.051\n",
       "x7             0.2685      0.292      0.920      0.358      -0.304       0.841\n",
       "x8            -0.1220      0.292     -0.418      0.676      -0.694       0.450\n",
       "x9             0.2394      0.299      0.801      0.423      -0.347       0.826\n",
       "x10            0.1055      0.299      0.353      0.724      -0.481       0.692\n",
       "x11           -0.2203      0.299     -0.737      0.461      -0.807       0.366\n",
       "x12            0.2367      0.416      0.570      0.569      -0.578       1.051\n",
       "x13           -1.0209      0.292     -3.498      0.000      -1.593      -0.449\n",
       "x14            0.5713      0.292      1.957      0.050      -0.001       1.144\n",
       "x15            0.2228      0.299      0.745      0.456      -0.364       0.809\n",
       "x16           -0.1358      0.299     -0.454      0.650      -0.722       0.450\n",
       "x17            0.4755      0.415      1.145      0.252      -0.339       1.290\n",
       "x18            0.1182      0.299      0.395      0.693      -0.468       0.704\n",
       "x19           -0.0165      0.292     -0.057      0.955      -0.589       0.556\n",
       "x20           -0.0962      0.292     -0.330      0.742      -0.669       0.476\n",
       "x21            0.0815      0.299      0.273      0.785      -0.505       0.668\n",
       "x22            0.0663      0.292      0.227      0.820      -0.506       0.639\n",
       "x23            0.0947      0.299      0.317      0.751      -0.492       0.681\n",
       "x24            0.2256      0.421      0.536      0.592      -0.599       1.050\n",
       "x25           -0.2242      0.292     -0.768      0.443      -0.797       0.348\n",
       "x26            0.3637      0.299      1.217      0.224      -0.223       0.950\n",
       "x27            0.1737      0.292      0.595      0.552      -0.399       0.746\n",
       "x28            0.5255      0.421      1.249      0.212      -0.299       1.350\n",
       "x29            0.6187      0.415      1.489      0.137      -0.196       1.433\n",
       "x30            0.0781      0.292      0.268      0.789      -0.494       0.650\n",
       "x31           -0.0824      0.299     -0.276      0.783      -0.669       0.504\n",
       "x32            0.0328      0.292      0.112      0.911      -0.540       0.605\n",
       "x33            0.0894      0.299      0.299      0.765      -0.497       0.676\n",
       "x34            0.6113      0.292      2.095      0.036       0.039       1.184\n",
       "x35            0.1487      0.292      0.509      0.611      -0.424       0.721\n",
       "x36            0.4261      0.421      1.013      0.311      -0.399       1.251\n",
       "x37            0.1156      0.292      0.396      0.692      -0.457       0.688\n",
       "x38            0.2314      0.292      0.793      0.428      -0.341       0.804\n",
       "x39            0.0964      0.299      0.322      0.747      -0.490       0.683\n",
       "x40            0.3803      0.415      0.916      0.360      -0.434       1.195\n",
       "x41            0.3080      0.299      1.030      0.303      -0.278       0.894\n",
       "x42            0.1426      0.415      0.343      0.731      -0.672       0.957\n",
       "x43            0.2874      0.292      0.985      0.325      -0.285       0.860\n",
       "x44            0.4363      0.299      1.459      0.145      -0.150       1.023\n",
       "x45           -0.1912      0.415     -0.460      0.645      -1.006       0.623\n",
       "x46            0.5254      0.421      1.249      0.212      -0.299       1.350\n",
       "x47            0.0714      0.299      0.239      0.811      -0.515       0.658\n",
       "x48            0.1571      0.307      0.512      0.608      -0.444       0.758\n",
       "x49            0.0486      0.292      0.166      0.868      -0.524       0.621\n",
       "x50            0.1378      0.292      0.472      0.637      -0.435       0.710\n",
       "x51           -0.3845      0.292     -1.317      0.188      -0.957       0.188\n",
       "x52            0.0275      0.292      0.094      0.925      -0.545       0.600\n",
       "x53            0.2498      0.299      0.836      0.403      -0.336       0.836\n",
       "x54            0.2101      0.292      0.720      0.472      -0.362       0.782\n",
       "x55            0.2367      0.415      0.570      0.569      -0.578       1.052\n",
       "x56            0.8560      0.415      2.060      0.039       0.041       1.671\n",
       "x57           -0.0088      0.299     -0.029      0.977      -0.595       0.578\n",
       "x58            0.0999      0.292      0.342      0.732      -0.472       0.672\n",
       "x59           -0.0238      0.421     -0.057      0.955      -0.849       0.801\n",
       "x60            0.1893      0.415      0.456      0.649      -0.625       1.004\n",
       "x61           -0.2236      0.292     -0.766      0.444      -0.796       0.349\n",
       "x62           -0.4191      0.299     -1.402      0.161      -1.005       0.167\n",
       "x63           -0.8779      0.292     -3.008      0.003      -1.450      -0.306\n",
       "x64            0.0473      0.415      0.114      0.909      -0.767       0.862\n",
       "x65           -0.0748      0.421     -0.178      0.859      -0.900       0.750\n",
       "x66           -0.3903      0.307     -1.273      0.203      -0.992       0.211\n",
       "x67            0.0752      0.421      0.179      0.858      -0.750       0.900\n",
       "x68           -0.3098      0.292     -1.061      0.289      -0.882       0.263\n",
       "x69            0.1255      0.299      0.420      0.675      -0.461       0.712\n",
       "x70           -0.1857      0.307     -0.605      0.545      -0.787       0.416\n",
       "x71            0.3015      0.292      1.033      0.302      -0.271       0.874\n",
       "x72           -0.4060      0.292     -1.391      0.164      -0.978       0.166\n",
       "x73            0.2250      0.421      0.535      0.593      -0.600       1.050\n",
       "x74            1.2256      0.421      2.914      0.004       0.401       2.050\n",
       "x75            0.2468      0.299      0.825      0.409      -0.340       0.833\n",
       "x76            0.3804      0.292      1.303      0.193      -0.192       0.953\n",
       "x77            0.0262      0.421      0.062      0.950      -0.799       0.851\n",
       "x78            0.2756      0.421      0.655      0.512      -0.549       1.100\n",
       "x79           -0.6724      0.299     -2.249      0.025      -1.259      -0.086\n",
       "x80            0.4128      0.292      1.414      0.157      -0.159       0.985\n",
       "x81           -0.3370      0.299     -1.127      0.260      -0.923       0.249\n",
       "x82            0.2850      0.415      0.686      0.493      -0.530       1.100\n",
       "x83            0.1143      0.299      0.382      0.702      -0.472       0.701\n",
       "x84            0.1256      0.421      0.299      0.765      -0.699       0.950\n",
       "x85           -0.1114      0.292     -0.382      0.703      -0.684       0.461\n",
       "x86           -0.1369      0.299     -0.458      0.647      -0.723       0.449\n",
       "x87           -0.3347      0.292     -1.147      0.252      -0.907       0.238\n",
       "x88            0.2372      0.415      0.571      0.568      -0.577       1.052\n",
       "x89           -0.1294      0.292     -0.443      0.658      -0.702       0.443\n",
       "x90           -0.1180      0.299     -0.395      0.693      -0.704       0.468\n",
       "x91            0.4813      0.292      1.649      0.099      -0.091       1.054\n",
       "x92            0.0249      0.421      0.059      0.953      -0.800       0.850\n",
       "x93            0.1346      0.292      0.461      0.645      -0.438       0.707\n",
       "x94           -0.2452      0.299     -0.820      0.412      -0.831       0.341\n",
       "x95           -0.0915      0.299     -0.306      0.760      -0.678       0.495\n",
       "x96            0.6257      0.421      1.488      0.137      -0.199       1.450\n",
       "x97           -0.1617      0.292     -0.554      0.580      -0.734       0.411\n",
       "x98           -0.3334      0.415     -0.803      0.422      -1.148       0.481\n",
       "x99            0.4256      0.421      1.012      0.312      -0.399       1.250\n",
       "x100           0.3671      0.299      1.228      0.220      -0.219       0.953\n",
       "x101           0.2181      0.292      0.747      0.455      -0.354       0.790\n",
       "x102           0.6265      0.421      1.490      0.136      -0.198       1.451\n",
       "x103           1.3262      0.421      3.153      0.002       0.502       2.151\n",
       "x104           0.1892      0.415      0.455      0.649      -0.626       1.004\n",
       "x105           0.1364      0.299      0.456      0.648      -0.450       0.723\n",
       "x106          -0.3289      0.299     -1.100      0.271      -0.915       0.257\n",
       "x107           0.2620      0.292      0.898      0.370      -0.310       0.834\n",
       "x108          -0.0958      0.415     -0.231      0.818      -0.910       0.719\n",
       "x109          -0.0245      0.421     -0.058      0.954      -0.849       0.800\n",
       "x110           0.9761      0.421      2.321      0.020       0.151       1.801\n",
       "x111           0.8084      0.415      1.946      0.052      -0.006       1.623\n",
       "x112           0.1758      0.292      0.602      0.547      -0.397       0.748\n",
       "x113           0.6486      0.292      2.222      0.026       0.076       1.221\n",
       "x114          -1.0849      0.299     -3.628      0.000      -1.671      -0.499\n",
       "x115          -0.6333      0.299     -2.118      0.034      -1.220      -0.047\n",
       "x116           0.3146      0.299      1.052      0.293      -0.272       0.901\n",
       "x117           0.1421      0.415      0.342      0.732      -0.672       0.957\n",
       "x118          -0.0244      0.421     -0.058      0.954      -0.849       0.800\n",
       "x119           0.1899      0.415      0.457      0.648      -0.625       1.004\n",
       "x120           0.1420      0.415      0.342      0.733      -0.673       0.957\n",
       "x121          -0.0241      0.421     -0.057      0.954      -0.849       0.801\n",
       "x122          -0.0004      0.415     -0.001      0.999      -0.815       0.814\n",
       "x123           0.2749      0.421      0.653      0.514      -0.550       1.100\n",
       "x124           0.0286      0.299      0.096      0.924      -0.558       0.615\n",
       "x125           0.1422      0.415      0.342      0.732      -0.672       0.957\n",
       "==============================================================================\n",
       "Omnibus:                       75.650   Durbin-Watson:                   2.238\n",
       "Prob(Omnibus):                  0.000   Jarque-Bera (JB):               38.841\n",
       "Skew:                          -0.096   Prob(JB):                     3.68e-09\n",
       "Kurtosis:                       2.420   Cond. No.                     6.75e+16\n",
       "==============================================================================\n",
       "\n",
       "Warnings:\n",
       "[1] Standard Errors assume that the covariance matrix of the errors is correctly specified.\n",
       "[2] The smallest eigenvalue is 1.51e-29. This might indicate that there are\n",
       "strong multicollinearity problems or that the design matrix is singular.\n",
       "\"\"\""
      ]
     },
     "execution_count": 33,
     "metadata": {},
     "output_type": "execute_result"
    }
   ],
   "source": [
    "lm = sm.OLS(Y_full, sm.add_constant(X[:,:-1]))\n",
    "res = lm.fit()\n",
    "res.summary()"
   ]
  },
  {
   "cell_type": "markdown",
   "metadata": {},
   "source": [
    "And using log odds instead of the dummy."
   ]
  },
  {
   "cell_type": "code",
   "execution_count": 34,
   "metadata": {},
   "outputs": [
    {
     "data": {
      "text/html": [
       "<table class=\"simpletable\">\n",
       "<caption>OLS Regression Results</caption>\n",
       "<tr>\n",
       "  <th>Dep. Variable:</th>            <td>y</td>        <th>  R-squared:         </th> <td>   0.125</td>\n",
       "</tr>\n",
       "<tr>\n",
       "  <th>Model:</th>                   <td>OLS</td>       <th>  Adj. R-squared:    </th> <td>   0.080</td>\n",
       "</tr>\n",
       "<tr>\n",
       "  <th>Method:</th>             <td>Least Squares</td>  <th>  F-statistic:       </th> <td>   2.740</td>\n",
       "</tr>\n",
       "<tr>\n",
       "  <th>Date:</th>             <td>Thu, 30 Apr 2020</td> <th>  Prob (F-statistic):</th> <td>5.14e-20</td>\n",
       "</tr>\n",
       "<tr>\n",
       "  <th>Time:</th>                 <td>15:39:34</td>     <th>  Log-Likelihood:    </th> <td> -4212.2</td>\n",
       "</tr>\n",
       "<tr>\n",
       "  <th>No. Observations:</th>      <td>  2498</td>      <th>  AIC:               </th> <td>   8674.</td>\n",
       "</tr>\n",
       "<tr>\n",
       "  <th>Df Residuals:</th>          <td>  2373</td>      <th>  BIC:               </th> <td>   9402.</td>\n",
       "</tr>\n",
       "<tr>\n",
       "  <th>Df Model:</th>              <td>   124</td>      <th>                     </th>     <td> </td>   \n",
       "</tr>\n",
       "<tr>\n",
       "  <th>Covariance Type:</th>      <td>nonrobust</td>    <th>                     </th>     <td> </td>   \n",
       "</tr>\n",
       "</table>\n",
       "<table class=\"simpletable\">\n",
       "<tr>\n",
       "    <td></td>       <th>coef</th>     <th>std err</th>      <th>t</th>      <th>P>|t|</th>  <th>[0.025</th>    <th>0.975]</th>  \n",
       "</tr>\n",
       "<tr>\n",
       "  <th>const</th> <td>    2.0297</td> <td>    0.167</td> <td>   12.170</td> <td> 0.000</td> <td>    1.703</td> <td>    2.357</td>\n",
       "</tr>\n",
       "<tr>\n",
       "  <th>x1</th>    <td>    0.1129</td> <td>    0.025</td> <td>    4.595</td> <td> 0.000</td> <td>    0.065</td> <td>    0.161</td>\n",
       "</tr>\n",
       "<tr>\n",
       "  <th>x2</th>    <td>   -0.1140</td> <td>    0.018</td> <td>   -6.225</td> <td> 0.000</td> <td>   -0.150</td> <td>   -0.078</td>\n",
       "</tr>\n",
       "<tr>\n",
       "  <th>x3</th>    <td>    0.5773</td> <td>    0.166</td> <td>    3.476</td> <td> 0.001</td> <td>    0.252</td> <td>    0.903</td>\n",
       "</tr>\n",
       "<tr>\n",
       "  <th>x4</th>    <td>    0.1178</td> <td>    0.018</td> <td>    6.465</td> <td> 0.000</td> <td>    0.082</td> <td>    0.154</td>\n",
       "</tr>\n",
       "<tr>\n",
       "  <th>x5</th>    <td>    0.1446</td> <td>    0.298</td> <td>    0.486</td> <td> 0.627</td> <td>   -0.439</td> <td>    0.729</td>\n",
       "</tr>\n",
       "<tr>\n",
       "  <th>x6</th>    <td>    0.1667</td> <td>    0.419</td> <td>    0.398</td> <td> 0.691</td> <td>   -0.655</td> <td>    0.988</td>\n",
       "</tr>\n",
       "<tr>\n",
       "  <th>x7</th>    <td>    0.3130</td> <td>    0.291</td> <td>    1.076</td> <td> 0.282</td> <td>   -0.257</td> <td>    0.883</td>\n",
       "</tr>\n",
       "<tr>\n",
       "  <th>x8</th>    <td>   -0.1063</td> <td>    0.291</td> <td>   -0.366</td> <td> 0.715</td> <td>   -0.676</td> <td>    0.464</td>\n",
       "</tr>\n",
       "<tr>\n",
       "  <th>x9</th>    <td>    0.1883</td> <td>    0.298</td> <td>    0.632</td> <td> 0.527</td> <td>   -0.396</td> <td>    0.773</td>\n",
       "</tr>\n",
       "<tr>\n",
       "  <th>x10</th>   <td>    0.0950</td> <td>    0.298</td> <td>    0.319</td> <td> 0.750</td> <td>   -0.489</td> <td>    0.679</td>\n",
       "</tr>\n",
       "<tr>\n",
       "  <th>x11</th>   <td>   -0.2433</td> <td>    0.298</td> <td>   -0.817</td> <td> 0.414</td> <td>   -0.827</td> <td>    0.341</td>\n",
       "</tr>\n",
       "<tr>\n",
       "  <th>x12</th>   <td>    0.2272</td> <td>    0.414</td> <td>    0.549</td> <td> 0.583</td> <td>   -0.584</td> <td>    1.039</td>\n",
       "</tr>\n",
       "<tr>\n",
       "  <th>x13</th>   <td>   -1.0457</td> <td>    0.291</td> <td>   -3.597</td> <td> 0.000</td> <td>   -1.616</td> <td>   -0.476</td>\n",
       "</tr>\n",
       "<tr>\n",
       "  <th>x14</th>   <td>    0.5856</td> <td>    0.291</td> <td>    2.015</td> <td> 0.044</td> <td>    0.016</td> <td>    1.156</td>\n",
       "</tr>\n",
       "<tr>\n",
       "  <th>x15</th>   <td>    0.2313</td> <td>    0.298</td> <td>    0.777</td> <td> 0.437</td> <td>   -0.353</td> <td>    0.815</td>\n",
       "</tr>\n",
       "<tr>\n",
       "  <th>x16</th>   <td>   -0.1826</td> <td>    0.298</td> <td>   -0.613</td> <td> 0.540</td> <td>   -0.767</td> <td>    0.402</td>\n",
       "</tr>\n",
       "<tr>\n",
       "  <th>x17</th>   <td>    0.4693</td> <td>    0.414</td> <td>    1.134</td> <td> 0.257</td> <td>   -0.342</td> <td>    1.280</td>\n",
       "</tr>\n",
       "<tr>\n",
       "  <th>x18</th>   <td>    0.1404</td> <td>    0.298</td> <td>    0.471</td> <td> 0.637</td> <td>   -0.444</td> <td>    0.724</td>\n",
       "</tr>\n",
       "<tr>\n",
       "  <th>x19</th>   <td>    0.0242</td> <td>    0.291</td> <td>    0.083</td> <td> 0.934</td> <td>   -0.546</td> <td>    0.594</td>\n",
       "</tr>\n",
       "<tr>\n",
       "  <th>x20</th>   <td>   -0.0586</td> <td>    0.291</td> <td>   -0.202</td> <td> 0.840</td> <td>   -0.629</td> <td>    0.512</td>\n",
       "</tr>\n",
       "<tr>\n",
       "  <th>x21</th>   <td>    0.1056</td> <td>    0.298</td> <td>    0.355</td> <td> 0.723</td> <td>   -0.478</td> <td>    0.690</td>\n",
       "</tr>\n",
       "<tr>\n",
       "  <th>x22</th>   <td>    0.0533</td> <td>    0.291</td> <td>    0.184</td> <td> 0.854</td> <td>   -0.517</td> <td>    0.623</td>\n",
       "</tr>\n",
       "<tr>\n",
       "  <th>x23</th>   <td>    0.0712</td> <td>    0.298</td> <td>    0.239</td> <td> 0.811</td> <td>   -0.513</td> <td>    0.655</td>\n",
       "</tr>\n",
       "<tr>\n",
       "  <th>x24</th>   <td>    0.1175</td> <td>    0.419</td> <td>    0.280</td> <td> 0.779</td> <td>   -0.705</td> <td>    0.940</td>\n",
       "</tr>\n",
       "<tr>\n",
       "  <th>x25</th>   <td>   -0.2473</td> <td>    0.291</td> <td>   -0.851</td> <td> 0.395</td> <td>   -0.817</td> <td>    0.323</td>\n",
       "</tr>\n",
       "<tr>\n",
       "  <th>x26</th>   <td>    0.3437</td> <td>    0.298</td> <td>    1.154</td> <td> 0.249</td> <td>   -0.240</td> <td>    0.928</td>\n",
       "</tr>\n",
       "<tr>\n",
       "  <th>x27</th>   <td>    0.1927</td> <td>    0.291</td> <td>    0.663</td> <td> 0.507</td> <td>   -0.377</td> <td>    0.763</td>\n",
       "</tr>\n",
       "<tr>\n",
       "  <th>x28</th>   <td>    0.4592</td> <td>    0.419</td> <td>    1.096</td> <td> 0.273</td> <td>   -0.363</td> <td>    1.281</td>\n",
       "</tr>\n",
       "<tr>\n",
       "  <th>x29</th>   <td>    0.5401</td> <td>    0.414</td> <td>    1.305</td> <td> 0.192</td> <td>   -0.272</td> <td>    1.352</td>\n",
       "</tr>\n",
       "<tr>\n",
       "  <th>x30</th>   <td>    0.1157</td> <td>    0.291</td> <td>    0.398</td> <td> 0.691</td> <td>   -0.454</td> <td>    0.686</td>\n",
       "</tr>\n",
       "<tr>\n",
       "  <th>x31</th>   <td>   -0.1084</td> <td>    0.298</td> <td>   -0.364</td> <td> 0.716</td> <td>   -0.692</td> <td>    0.476</td>\n",
       "</tr>\n",
       "<tr>\n",
       "  <th>x32</th>   <td>    0.0260</td> <td>    0.291</td> <td>    0.090</td> <td> 0.929</td> <td>   -0.544</td> <td>    0.596</td>\n",
       "</tr>\n",
       "<tr>\n",
       "  <th>x33</th>   <td>    0.1195</td> <td>    0.298</td> <td>    0.401</td> <td> 0.688</td> <td>   -0.464</td> <td>    0.704</td>\n",
       "</tr>\n",
       "<tr>\n",
       "  <th>x34</th>   <td>    0.6602</td> <td>    0.291</td> <td>    2.270</td> <td> 0.023</td> <td>    0.090</td> <td>    1.231</td>\n",
       "</tr>\n",
       "<tr>\n",
       "  <th>x35</th>   <td>    0.1740</td> <td>    0.291</td> <td>    0.599</td> <td> 0.549</td> <td>   -0.396</td> <td>    0.744</td>\n",
       "</tr>\n",
       "<tr>\n",
       "  <th>x36</th>   <td>    0.3456</td> <td>    0.419</td> <td>    0.825</td> <td> 0.410</td> <td>   -0.476</td> <td>    1.168</td>\n",
       "</tr>\n",
       "<tr>\n",
       "  <th>x37</th>   <td>    0.0818</td> <td>    0.291</td> <td>    0.281</td> <td> 0.779</td> <td>   -0.488</td> <td>    0.652</td>\n",
       "</tr>\n",
       "<tr>\n",
       "  <th>x38</th>   <td>    0.2219</td> <td>    0.291</td> <td>    0.763</td> <td> 0.445</td> <td>   -0.348</td> <td>    0.792</td>\n",
       "</tr>\n",
       "<tr>\n",
       "  <th>x39</th>   <td>    0.1192</td> <td>    0.298</td> <td>    0.400</td> <td> 0.689</td> <td>   -0.465</td> <td>    0.703</td>\n",
       "</tr>\n",
       "<tr>\n",
       "  <th>x40</th>   <td>    0.3370</td> <td>    0.414</td> <td>    0.814</td> <td> 0.415</td> <td>   -0.474</td> <td>    1.148</td>\n",
       "</tr>\n",
       "<tr>\n",
       "  <th>x41</th>   <td>    0.2947</td> <td>    0.298</td> <td>    0.990</td> <td> 0.322</td> <td>   -0.289</td> <td>    0.879</td>\n",
       "</tr>\n",
       "<tr>\n",
       "  <th>x42</th>   <td>    0.0817</td> <td>    0.414</td> <td>    0.197</td> <td> 0.844</td> <td>   -0.730</td> <td>    0.893</td>\n",
       "</tr>\n",
       "<tr>\n",
       "  <th>x43</th>   <td>    0.2827</td> <td>    0.291</td> <td>    0.973</td> <td> 0.331</td> <td>   -0.287</td> <td>    0.853</td>\n",
       "</tr>\n",
       "<tr>\n",
       "  <th>x44</th>   <td>    0.4416</td> <td>    0.298</td> <td>    1.483</td> <td> 0.138</td> <td>   -0.142</td> <td>    1.025</td>\n",
       "</tr>\n",
       "<tr>\n",
       "  <th>x45</th>   <td>   -0.1868</td> <td>    0.414</td> <td>   -0.452</td> <td> 0.652</td> <td>   -0.998</td> <td>    0.624</td>\n",
       "</tr>\n",
       "<tr>\n",
       "  <th>x46</th>   <td>    0.4565</td> <td>    0.419</td> <td>    1.089</td> <td> 0.276</td> <td>   -0.365</td> <td>    1.278</td>\n",
       "</tr>\n",
       "<tr>\n",
       "  <th>x47</th>   <td>    0.0635</td> <td>    0.298</td> <td>    0.213</td> <td> 0.831</td> <td>   -0.520</td> <td>    0.647</td>\n",
       "</tr>\n",
       "<tr>\n",
       "  <th>x48</th>   <td>    0.0886</td> <td>    0.306</td> <td>    0.290</td> <td> 0.772</td> <td>   -0.511</td> <td>    0.688</td>\n",
       "</tr>\n",
       "<tr>\n",
       "  <th>x49</th>   <td>    0.0703</td> <td>    0.291</td> <td>    0.242</td> <td> 0.809</td> <td>   -0.500</td> <td>    0.640</td>\n",
       "</tr>\n",
       "<tr>\n",
       "  <th>x50</th>   <td>    0.1507</td> <td>    0.291</td> <td>    0.518</td> <td> 0.604</td> <td>   -0.419</td> <td>    0.721</td>\n",
       "</tr>\n",
       "<tr>\n",
       "  <th>x51</th>   <td>   -0.4198</td> <td>    0.291</td> <td>   -1.444</td> <td> 0.149</td> <td>   -0.990</td> <td>    0.150</td>\n",
       "</tr>\n",
       "<tr>\n",
       "  <th>x52</th>   <td>    0.0461</td> <td>    0.291</td> <td>    0.159</td> <td> 0.874</td> <td>   -0.524</td> <td>    0.616</td>\n",
       "</tr>\n",
       "<tr>\n",
       "  <th>x53</th>   <td>    0.2525</td> <td>    0.298</td> <td>    0.848</td> <td> 0.396</td> <td>   -0.331</td> <td>    0.836</td>\n",
       "</tr>\n",
       "<tr>\n",
       "  <th>x54</th>   <td>    0.2343</td> <td>    0.291</td> <td>    0.806</td> <td> 0.420</td> <td>   -0.336</td> <td>    0.804</td>\n",
       "</tr>\n",
       "<tr>\n",
       "  <th>x55</th>   <td>    0.1737</td> <td>    0.414</td> <td>    0.420</td> <td> 0.675</td> <td>   -0.638</td> <td>    0.985</td>\n",
       "</tr>\n",
       "<tr>\n",
       "  <th>x56</th>   <td>    0.7763</td> <td>    0.414</td> <td>    1.875</td> <td> 0.061</td> <td>   -0.036</td> <td>    1.588</td>\n",
       "</tr>\n",
       "<tr>\n",
       "  <th>x57</th>   <td>   -0.0205</td> <td>    0.298</td> <td>   -0.069</td> <td> 0.945</td> <td>   -0.604</td> <td>    0.563</td>\n",
       "</tr>\n",
       "<tr>\n",
       "  <th>x58</th>   <td>    0.1110</td> <td>    0.291</td> <td>    0.382</td> <td> 0.703</td> <td>   -0.459</td> <td>    0.681</td>\n",
       "</tr>\n",
       "<tr>\n",
       "  <th>x59</th>   <td>   -0.1241</td> <td>    0.419</td> <td>   -0.296</td> <td> 0.767</td> <td>   -0.946</td> <td>    0.698</td>\n",
       "</tr>\n",
       "<tr>\n",
       "  <th>x60</th>   <td>    0.1756</td> <td>    0.414</td> <td>    0.424</td> <td> 0.671</td> <td>   -0.636</td> <td>    0.987</td>\n",
       "</tr>\n",
       "<tr>\n",
       "  <th>x61</th>   <td>   -0.2314</td> <td>    0.291</td> <td>   -0.796</td> <td> 0.426</td> <td>   -0.801</td> <td>    0.339</td>\n",
       "</tr>\n",
       "<tr>\n",
       "  <th>x62</th>   <td>   -0.4110</td> <td>    0.298</td> <td>   -1.381</td> <td> 0.168</td> <td>   -0.995</td> <td>    0.173</td>\n",
       "</tr>\n",
       "<tr>\n",
       "  <th>x63</th>   <td>   -0.9061</td> <td>    0.291</td> <td>   -3.117</td> <td> 0.002</td> <td>   -1.476</td> <td>   -0.336</td>\n",
       "</tr>\n",
       "<tr>\n",
       "  <th>x64</th>   <td>   -0.0153</td> <td>    0.414</td> <td>   -0.037</td> <td> 0.971</td> <td>   -0.827</td> <td>    0.796</td>\n",
       "</tr>\n",
       "<tr>\n",
       "  <th>x65</th>   <td>   -0.1236</td> <td>    0.419</td> <td>   -0.295</td> <td> 0.768</td> <td>   -0.945</td> <td>    0.698</td>\n",
       "</tr>\n",
       "<tr>\n",
       "  <th>x66</th>   <td>   -0.3683</td> <td>    0.305</td> <td>   -1.206</td> <td> 0.228</td> <td>   -0.967</td> <td>    0.231</td>\n",
       "</tr>\n",
       "<tr>\n",
       "  <th>x67</th>   <td>   -0.0181</td> <td>    0.419</td> <td>   -0.043</td> <td> 0.966</td> <td>   -0.840</td> <td>    0.804</td>\n",
       "</tr>\n",
       "<tr>\n",
       "  <th>x68</th>   <td>   -0.2860</td> <td>    0.291</td> <td>   -0.984</td> <td> 0.325</td> <td>   -0.856</td> <td>    0.284</td>\n",
       "</tr>\n",
       "<tr>\n",
       "  <th>x69</th>   <td>    0.1121</td> <td>    0.298</td> <td>    0.377</td> <td> 0.706</td> <td>   -0.472</td> <td>    0.696</td>\n",
       "</tr>\n",
       "<tr>\n",
       "  <th>x70</th>   <td>   -0.1979</td> <td>    0.305</td> <td>   -0.648</td> <td> 0.517</td> <td>   -0.797</td> <td>    0.401</td>\n",
       "</tr>\n",
       "<tr>\n",
       "  <th>x71</th>   <td>    0.3292</td> <td>    0.291</td> <td>    1.132</td> <td> 0.258</td> <td>   -0.241</td> <td>    0.899</td>\n",
       "</tr>\n",
       "<tr>\n",
       "  <th>x72</th>   <td>   -0.3586</td> <td>    0.291</td> <td>   -1.233</td> <td> 0.218</td> <td>   -0.929</td> <td>    0.212</td>\n",
       "</tr>\n",
       "<tr>\n",
       "  <th>x73</th>   <td>    0.1399</td> <td>    0.419</td> <td>    0.334</td> <td> 0.739</td> <td>   -0.682</td> <td>    0.962</td>\n",
       "</tr>\n",
       "<tr>\n",
       "  <th>x74</th>   <td>    1.1627</td> <td>    0.419</td> <td>    2.775</td> <td> 0.006</td> <td>    0.341</td> <td>    1.984</td>\n",
       "</tr>\n",
       "<tr>\n",
       "  <th>x75</th>   <td>    0.2465</td> <td>    0.298</td> <td>    0.828</td> <td> 0.408</td> <td>   -0.337</td> <td>    0.830</td>\n",
       "</tr>\n",
       "<tr>\n",
       "  <th>x76</th>   <td>    0.3804</td> <td>    0.291</td> <td>    1.309</td> <td> 0.191</td> <td>   -0.189</td> <td>    0.950</td>\n",
       "</tr>\n",
       "<tr>\n",
       "  <th>x77</th>   <td>   -0.0089</td> <td>    0.419</td> <td>   -0.021</td> <td> 0.983</td> <td>   -0.830</td> <td>    0.812</td>\n",
       "</tr>\n",
       "<tr>\n",
       "  <th>x78</th>   <td>    0.2423</td> <td>    0.419</td> <td>    0.578</td> <td> 0.563</td> <td>   -0.579</td> <td>    1.064</td>\n",
       "</tr>\n",
       "<tr>\n",
       "  <th>x79</th>   <td>   -0.6490</td> <td>    0.298</td> <td>   -2.180</td> <td> 0.029</td> <td>   -1.233</td> <td>   -0.065</td>\n",
       "</tr>\n",
       "<tr>\n",
       "  <th>x80</th>   <td>    0.3913</td> <td>    0.291</td> <td>    1.346</td> <td> 0.178</td> <td>   -0.179</td> <td>    0.961</td>\n",
       "</tr>\n",
       "<tr>\n",
       "  <th>x81</th>   <td>   -0.3422</td> <td>    0.298</td> <td>   -1.150</td> <td> 0.250</td> <td>   -0.926</td> <td>    0.242</td>\n",
       "</tr>\n",
       "<tr>\n",
       "  <th>x82</th>   <td>    0.2340</td> <td>    0.414</td> <td>    0.566</td> <td> 0.572</td> <td>   -0.577</td> <td>    1.046</td>\n",
       "</tr>\n",
       "<tr>\n",
       "  <th>x83</th>   <td>    0.0949</td> <td>    0.298</td> <td>    0.319</td> <td> 0.750</td> <td>   -0.489</td> <td>    0.679</td>\n",
       "</tr>\n",
       "<tr>\n",
       "  <th>x84</th>   <td>    0.0730</td> <td>    0.419</td> <td>    0.174</td> <td> 0.862</td> <td>   -0.749</td> <td>    0.895</td>\n",
       "</tr>\n",
       "<tr>\n",
       "  <th>x85</th>   <td>   -0.0755</td> <td>    0.291</td> <td>   -0.260</td> <td> 0.795</td> <td>   -0.646</td> <td>    0.495</td>\n",
       "</tr>\n",
       "<tr>\n",
       "  <th>x86</th>   <td>   -0.1747</td> <td>    0.298</td> <td>   -0.587</td> <td> 0.558</td> <td>   -0.759</td> <td>    0.409</td>\n",
       "</tr>\n",
       "<tr>\n",
       "  <th>x87</th>   <td>   -0.3228</td> <td>    0.291</td> <td>   -1.110</td> <td> 0.267</td> <td>   -0.893</td> <td>    0.247</td>\n",
       "</tr>\n",
       "<tr>\n",
       "  <th>x88</th>   <td>    0.1788</td> <td>    0.414</td> <td>    0.432</td> <td> 0.666</td> <td>   -0.633</td> <td>    0.990</td>\n",
       "</tr>\n",
       "<tr>\n",
       "  <th>x89</th>   <td>   -0.0681</td> <td>    0.291</td> <td>   -0.234</td> <td> 0.815</td> <td>   -0.639</td> <td>    0.502</td>\n",
       "</tr>\n",
       "<tr>\n",
       "  <th>x90</th>   <td>   -0.1825</td> <td>    0.298</td> <td>   -0.612</td> <td> 0.540</td> <td>   -0.767</td> <td>    0.402</td>\n",
       "</tr>\n",
       "<tr>\n",
       "  <th>x91</th>   <td>    0.4839</td> <td>    0.291</td> <td>    1.665</td> <td> 0.096</td> <td>   -0.086</td> <td>    1.054</td>\n",
       "</tr>\n",
       "<tr>\n",
       "  <th>x92</th>   <td>    0.0221</td> <td>    0.419</td> <td>    0.053</td> <td> 0.958</td> <td>   -0.799</td> <td>    0.844</td>\n",
       "</tr>\n",
       "<tr>\n",
       "  <th>x93</th>   <td>    0.1189</td> <td>    0.291</td> <td>    0.409</td> <td> 0.683</td> <td>   -0.451</td> <td>    0.689</td>\n",
       "</tr>\n",
       "<tr>\n",
       "  <th>x94</th>   <td>   -0.2288</td> <td>    0.298</td> <td>   -0.769</td> <td> 0.442</td> <td>   -0.813</td> <td>    0.355</td>\n",
       "</tr>\n",
       "<tr>\n",
       "  <th>x95</th>   <td>   -0.1477</td> <td>    0.298</td> <td>   -0.496</td> <td> 0.620</td> <td>   -0.732</td> <td>    0.437</td>\n",
       "</tr>\n",
       "<tr>\n",
       "  <th>x96</th>   <td>    0.5639</td> <td>    0.419</td> <td>    1.346</td> <td> 0.178</td> <td>   -0.258</td> <td>    1.386</td>\n",
       "</tr>\n",
       "<tr>\n",
       "  <th>x97</th>   <td>   -0.1562</td> <td>    0.291</td> <td>   -0.537</td> <td> 0.591</td> <td>   -0.726</td> <td>    0.414</td>\n",
       "</tr>\n",
       "<tr>\n",
       "  <th>x98</th>   <td>   -0.3813</td> <td>    0.414</td> <td>   -0.921</td> <td> 0.357</td> <td>   -1.193</td> <td>    0.430</td>\n",
       "</tr>\n",
       "<tr>\n",
       "  <th>x99</th>   <td>    0.3410</td> <td>    0.419</td> <td>    0.813</td> <td> 0.416</td> <td>   -0.481</td> <td>    1.163</td>\n",
       "</tr>\n",
       "<tr>\n",
       "  <th>x100</th>  <td>    0.4107</td> <td>    0.298</td> <td>    1.379</td> <td> 0.168</td> <td>   -0.173</td> <td>    0.995</td>\n",
       "</tr>\n",
       "<tr>\n",
       "  <th>x101</th>  <td>    0.1765</td> <td>    0.291</td> <td>    0.607</td> <td> 0.544</td> <td>   -0.394</td> <td>    0.747</td>\n",
       "</tr>\n",
       "<tr>\n",
       "  <th>x102</th>  <td>    0.5358</td> <td>    0.419</td> <td>    1.278</td> <td> 0.201</td> <td>   -0.286</td> <td>    1.358</td>\n",
       "</tr>\n",
       "<tr>\n",
       "  <th>x103</th>  <td>    1.2534</td> <td>    0.419</td> <td>    2.991</td> <td> 0.003</td> <td>    0.432</td> <td>    2.075</td>\n",
       "</tr>\n",
       "<tr>\n",
       "  <th>x104</th>  <td>    0.1494</td> <td>    0.414</td> <td>    0.361</td> <td> 0.718</td> <td>   -0.662</td> <td>    0.961</td>\n",
       "</tr>\n",
       "<tr>\n",
       "  <th>x105</th>  <td>    0.1090</td> <td>    0.298</td> <td>    0.366</td> <td> 0.714</td> <td>   -0.475</td> <td>    0.693</td>\n",
       "</tr>\n",
       "<tr>\n",
       "  <th>x106</th>  <td>   -0.3689</td> <td>    0.298</td> <td>   -1.239</td> <td> 0.216</td> <td>   -0.953</td> <td>    0.215</td>\n",
       "</tr>\n",
       "<tr>\n",
       "  <th>x107</th>  <td>    0.2999</td> <td>    0.291</td> <td>    1.032</td> <td> 0.302</td> <td>   -0.270</td> <td>    0.870</td>\n",
       "</tr>\n",
       "<tr>\n",
       "  <th>x108</th>  <td>   -0.1360</td> <td>    0.414</td> <td>   -0.329</td> <td> 0.742</td> <td>   -0.947</td> <td>    0.675</td>\n",
       "</tr>\n",
       "<tr>\n",
       "  <th>x109</th>  <td>   -0.0969</td> <td>    0.419</td> <td>   -0.231</td> <td> 0.817</td> <td>   -0.919</td> <td>    0.725</td>\n",
       "</tr>\n",
       "<tr>\n",
       "  <th>x110</th>  <td>    0.8815</td> <td>    0.419</td> <td>    2.102</td> <td> 0.036</td> <td>    0.059</td> <td>    1.704</td>\n",
       "</tr>\n",
       "<tr>\n",
       "  <th>x111</th>  <td>    0.7893</td> <td>    0.414</td> <td>    1.908</td> <td> 0.057</td> <td>   -0.022</td> <td>    1.601</td>\n",
       "</tr>\n",
       "<tr>\n",
       "  <th>x112</th>  <td>    0.1839</td> <td>    0.291</td> <td>    0.633</td> <td> 0.527</td> <td>   -0.386</td> <td>    0.754</td>\n",
       "</tr>\n",
       "<tr>\n",
       "  <th>x113</th>  <td>    0.6332</td> <td>    0.291</td> <td>    2.178</td> <td> 0.030</td> <td>    0.063</td> <td>    1.203</td>\n",
       "</tr>\n",
       "<tr>\n",
       "  <th>x114</th>  <td>   -1.0688</td> <td>    0.298</td> <td>   -3.589</td> <td> 0.000</td> <td>   -1.653</td> <td>   -0.485</td>\n",
       "</tr>\n",
       "<tr>\n",
       "  <th>x115</th>  <td>   -0.6084</td> <td>    0.298</td> <td>   -2.043</td> <td> 0.041</td> <td>   -1.192</td> <td>   -0.025</td>\n",
       "</tr>\n",
       "<tr>\n",
       "  <th>x116</th>  <td>    0.2634</td> <td>    0.298</td> <td>    0.884</td> <td> 0.377</td> <td>   -0.321</td> <td>    0.848</td>\n",
       "</tr>\n",
       "<tr>\n",
       "  <th>x117</th>  <td>    0.1349</td> <td>    0.414</td> <td>    0.326</td> <td> 0.744</td> <td>   -0.676</td> <td>    0.946</td>\n",
       "</tr>\n",
       "<tr>\n",
       "  <th>x118</th>  <td>   -0.1042</td> <td>    0.419</td> <td>   -0.248</td> <td> 0.804</td> <td>   -0.926</td> <td>    0.718</td>\n",
       "</tr>\n",
       "<tr>\n",
       "  <th>x119</th>  <td>    0.1566</td> <td>    0.414</td> <td>    0.379</td> <td> 0.705</td> <td>   -0.655</td> <td>    0.968</td>\n",
       "</tr>\n",
       "<tr>\n",
       "  <th>x120</th>  <td>    0.0847</td> <td>    0.414</td> <td>    0.205</td> <td> 0.838</td> <td>   -0.727</td> <td>    0.896</td>\n",
       "</tr>\n",
       "<tr>\n",
       "  <th>x121</th>  <td>   -0.0786</td> <td>    0.419</td> <td>   -0.188</td> <td> 0.851</td> <td>   -0.900</td> <td>    0.743</td>\n",
       "</tr>\n",
       "<tr>\n",
       "  <th>x122</th>  <td>   -0.0461</td> <td>    0.414</td> <td>   -0.111</td> <td> 0.911</td> <td>   -0.858</td> <td>    0.765</td>\n",
       "</tr>\n",
       "<tr>\n",
       "  <th>x123</th>  <td>    0.2242</td> <td>    0.419</td> <td>    0.535</td> <td> 0.593</td> <td>   -0.597</td> <td>    1.046</td>\n",
       "</tr>\n",
       "<tr>\n",
       "  <th>x124</th>  <td>    0.0351</td> <td>    0.298</td> <td>    0.118</td> <td> 0.906</td> <td>   -0.549</td> <td>    0.619</td>\n",
       "</tr>\n",
       "<tr>\n",
       "  <th>x125</th>  <td>    0.0445</td> <td>    0.414</td> <td>    0.107</td> <td> 0.915</td> <td>   -0.768</td> <td>    0.857</td>\n",
       "</tr>\n",
       "<tr>\n",
       "  <th>x126</th>  <td>    0.1129</td> <td>    0.025</td> <td>    4.595</td> <td> 0.000</td> <td>    0.065</td> <td>    0.161</td>\n",
       "</tr>\n",
       "</table>\n",
       "<table class=\"simpletable\">\n",
       "<tr>\n",
       "  <th>Omnibus:</th>       <td>56.474</td> <th>  Durbin-Watson:     </th> <td>   2.236</td>\n",
       "</tr>\n",
       "<tr>\n",
       "  <th>Prob(Omnibus):</th> <td> 0.000</td> <th>  Jarque-Bera (JB):  </th> <td>  31.324</td>\n",
       "</tr>\n",
       "<tr>\n",
       "  <th>Skew:</th>          <td>-0.080</td> <th>  Prob(JB):          </th> <td>1.58e-07</td>\n",
       "</tr>\n",
       "<tr>\n",
       "  <th>Kurtosis:</th>      <td> 2.475</td> <th>  Cond. No.          </th> <td>6.55e+16</td>\n",
       "</tr>\n",
       "</table><br/><br/>Warnings:<br/>[1] Standard Errors assume that the covariance matrix of the errors is correctly specified.<br/>[2] The smallest eigenvalue is 1.6e-29. This might indicate that there are<br/>strong multicollinearity problems or that the design matrix is singular."
      ],
      "text/plain": [
       "<class 'statsmodels.iolib.summary.Summary'>\n",
       "\"\"\"\n",
       "                            OLS Regression Results                            \n",
       "==============================================================================\n",
       "Dep. Variable:                      y   R-squared:                       0.125\n",
       "Model:                            OLS   Adj. R-squared:                  0.080\n",
       "Method:                 Least Squares   F-statistic:                     2.740\n",
       "Date:                Thu, 30 Apr 2020   Prob (F-statistic):           5.14e-20\n",
       "Time:                        15:39:34   Log-Likelihood:                -4212.2\n",
       "No. Observations:                2498   AIC:                             8674.\n",
       "Df Residuals:                    2373   BIC:                             9402.\n",
       "Df Model:                         124                                         \n",
       "Covariance Type:            nonrobust                                         \n",
       "==============================================================================\n",
       "                 coef    std err          t      P>|t|      [0.025      0.975]\n",
       "------------------------------------------------------------------------------\n",
       "const          2.0297      0.167     12.170      0.000       1.703       2.357\n",
       "x1             0.1129      0.025      4.595      0.000       0.065       0.161\n",
       "x2            -0.1140      0.018     -6.225      0.000      -0.150      -0.078\n",
       "x3             0.5773      0.166      3.476      0.001       0.252       0.903\n",
       "x4             0.1178      0.018      6.465      0.000       0.082       0.154\n",
       "x5             0.1446      0.298      0.486      0.627      -0.439       0.729\n",
       "x6             0.1667      0.419      0.398      0.691      -0.655       0.988\n",
       "x7             0.3130      0.291      1.076      0.282      -0.257       0.883\n",
       "x8            -0.1063      0.291     -0.366      0.715      -0.676       0.464\n",
       "x9             0.1883      0.298      0.632      0.527      -0.396       0.773\n",
       "x10            0.0950      0.298      0.319      0.750      -0.489       0.679\n",
       "x11           -0.2433      0.298     -0.817      0.414      -0.827       0.341\n",
       "x12            0.2272      0.414      0.549      0.583      -0.584       1.039\n",
       "x13           -1.0457      0.291     -3.597      0.000      -1.616      -0.476\n",
       "x14            0.5856      0.291      2.015      0.044       0.016       1.156\n",
       "x15            0.2313      0.298      0.777      0.437      -0.353       0.815\n",
       "x16           -0.1826      0.298     -0.613      0.540      -0.767       0.402\n",
       "x17            0.4693      0.414      1.134      0.257      -0.342       1.280\n",
       "x18            0.1404      0.298      0.471      0.637      -0.444       0.724\n",
       "x19            0.0242      0.291      0.083      0.934      -0.546       0.594\n",
       "x20           -0.0586      0.291     -0.202      0.840      -0.629       0.512\n",
       "x21            0.1056      0.298      0.355      0.723      -0.478       0.690\n",
       "x22            0.0533      0.291      0.184      0.854      -0.517       0.623\n",
       "x23            0.0712      0.298      0.239      0.811      -0.513       0.655\n",
       "x24            0.1175      0.419      0.280      0.779      -0.705       0.940\n",
       "x25           -0.2473      0.291     -0.851      0.395      -0.817       0.323\n",
       "x26            0.3437      0.298      1.154      0.249      -0.240       0.928\n",
       "x27            0.1927      0.291      0.663      0.507      -0.377       0.763\n",
       "x28            0.4592      0.419      1.096      0.273      -0.363       1.281\n",
       "x29            0.5401      0.414      1.305      0.192      -0.272       1.352\n",
       "x30            0.1157      0.291      0.398      0.691      -0.454       0.686\n",
       "x31           -0.1084      0.298     -0.364      0.716      -0.692       0.476\n",
       "x32            0.0260      0.291      0.090      0.929      -0.544       0.596\n",
       "x33            0.1195      0.298      0.401      0.688      -0.464       0.704\n",
       "x34            0.6602      0.291      2.270      0.023       0.090       1.231\n",
       "x35            0.1740      0.291      0.599      0.549      -0.396       0.744\n",
       "x36            0.3456      0.419      0.825      0.410      -0.476       1.168\n",
       "x37            0.0818      0.291      0.281      0.779      -0.488       0.652\n",
       "x38            0.2219      0.291      0.763      0.445      -0.348       0.792\n",
       "x39            0.1192      0.298      0.400      0.689      -0.465       0.703\n",
       "x40            0.3370      0.414      0.814      0.415      -0.474       1.148\n",
       "x41            0.2947      0.298      0.990      0.322      -0.289       0.879\n",
       "x42            0.0817      0.414      0.197      0.844      -0.730       0.893\n",
       "x43            0.2827      0.291      0.973      0.331      -0.287       0.853\n",
       "x44            0.4416      0.298      1.483      0.138      -0.142       1.025\n",
       "x45           -0.1868      0.414     -0.452      0.652      -0.998       0.624\n",
       "x46            0.4565      0.419      1.089      0.276      -0.365       1.278\n",
       "x47            0.0635      0.298      0.213      0.831      -0.520       0.647\n",
       "x48            0.0886      0.306      0.290      0.772      -0.511       0.688\n",
       "x49            0.0703      0.291      0.242      0.809      -0.500       0.640\n",
       "x50            0.1507      0.291      0.518      0.604      -0.419       0.721\n",
       "x51           -0.4198      0.291     -1.444      0.149      -0.990       0.150\n",
       "x52            0.0461      0.291      0.159      0.874      -0.524       0.616\n",
       "x53            0.2525      0.298      0.848      0.396      -0.331       0.836\n",
       "x54            0.2343      0.291      0.806      0.420      -0.336       0.804\n",
       "x55            0.1737      0.414      0.420      0.675      -0.638       0.985\n",
       "x56            0.7763      0.414      1.875      0.061      -0.036       1.588\n",
       "x57           -0.0205      0.298     -0.069      0.945      -0.604       0.563\n",
       "x58            0.1110      0.291      0.382      0.703      -0.459       0.681\n",
       "x59           -0.1241      0.419     -0.296      0.767      -0.946       0.698\n",
       "x60            0.1756      0.414      0.424      0.671      -0.636       0.987\n",
       "x61           -0.2314      0.291     -0.796      0.426      -0.801       0.339\n",
       "x62           -0.4110      0.298     -1.381      0.168      -0.995       0.173\n",
       "x63           -0.9061      0.291     -3.117      0.002      -1.476      -0.336\n",
       "x64           -0.0153      0.414     -0.037      0.971      -0.827       0.796\n",
       "x65           -0.1236      0.419     -0.295      0.768      -0.945       0.698\n",
       "x66           -0.3683      0.305     -1.206      0.228      -0.967       0.231\n",
       "x67           -0.0181      0.419     -0.043      0.966      -0.840       0.804\n",
       "x68           -0.2860      0.291     -0.984      0.325      -0.856       0.284\n",
       "x69            0.1121      0.298      0.377      0.706      -0.472       0.696\n",
       "x70           -0.1979      0.305     -0.648      0.517      -0.797       0.401\n",
       "x71            0.3292      0.291      1.132      0.258      -0.241       0.899\n",
       "x72           -0.3586      0.291     -1.233      0.218      -0.929       0.212\n",
       "x73            0.1399      0.419      0.334      0.739      -0.682       0.962\n",
       "x74            1.1627      0.419      2.775      0.006       0.341       1.984\n",
       "x75            0.2465      0.298      0.828      0.408      -0.337       0.830\n",
       "x76            0.3804      0.291      1.309      0.191      -0.189       0.950\n",
       "x77           -0.0089      0.419     -0.021      0.983      -0.830       0.812\n",
       "x78            0.2423      0.419      0.578      0.563      -0.579       1.064\n",
       "x79           -0.6490      0.298     -2.180      0.029      -1.233      -0.065\n",
       "x80            0.3913      0.291      1.346      0.178      -0.179       0.961\n",
       "x81           -0.3422      0.298     -1.150      0.250      -0.926       0.242\n",
       "x82            0.2340      0.414      0.566      0.572      -0.577       1.046\n",
       "x83            0.0949      0.298      0.319      0.750      -0.489       0.679\n",
       "x84            0.0730      0.419      0.174      0.862      -0.749       0.895\n",
       "x85           -0.0755      0.291     -0.260      0.795      -0.646       0.495\n",
       "x86           -0.1747      0.298     -0.587      0.558      -0.759       0.409\n",
       "x87           -0.3228      0.291     -1.110      0.267      -0.893       0.247\n",
       "x88            0.1788      0.414      0.432      0.666      -0.633       0.990\n",
       "x89           -0.0681      0.291     -0.234      0.815      -0.639       0.502\n",
       "x90           -0.1825      0.298     -0.612      0.540      -0.767       0.402\n",
       "x91            0.4839      0.291      1.665      0.096      -0.086       1.054\n",
       "x92            0.0221      0.419      0.053      0.958      -0.799       0.844\n",
       "x93            0.1189      0.291      0.409      0.683      -0.451       0.689\n",
       "x94           -0.2288      0.298     -0.769      0.442      -0.813       0.355\n",
       "x95           -0.1477      0.298     -0.496      0.620      -0.732       0.437\n",
       "x96            0.5639      0.419      1.346      0.178      -0.258       1.386\n",
       "x97           -0.1562      0.291     -0.537      0.591      -0.726       0.414\n",
       "x98           -0.3813      0.414     -0.921      0.357      -1.193       0.430\n",
       "x99            0.3410      0.419      0.813      0.416      -0.481       1.163\n",
       "x100           0.4107      0.298      1.379      0.168      -0.173       0.995\n",
       "x101           0.1765      0.291      0.607      0.544      -0.394       0.747\n",
       "x102           0.5358      0.419      1.278      0.201      -0.286       1.358\n",
       "x103           1.2534      0.419      2.991      0.003       0.432       2.075\n",
       "x104           0.1494      0.414      0.361      0.718      -0.662       0.961\n",
       "x105           0.1090      0.298      0.366      0.714      -0.475       0.693\n",
       "x106          -0.3689      0.298     -1.239      0.216      -0.953       0.215\n",
       "x107           0.2999      0.291      1.032      0.302      -0.270       0.870\n",
       "x108          -0.1360      0.414     -0.329      0.742      -0.947       0.675\n",
       "x109          -0.0969      0.419     -0.231      0.817      -0.919       0.725\n",
       "x110           0.8815      0.419      2.102      0.036       0.059       1.704\n",
       "x111           0.7893      0.414      1.908      0.057      -0.022       1.601\n",
       "x112           0.1839      0.291      0.633      0.527      -0.386       0.754\n",
       "x113           0.6332      0.291      2.178      0.030       0.063       1.203\n",
       "x114          -1.0688      0.298     -3.589      0.000      -1.653      -0.485\n",
       "x115          -0.6084      0.298     -2.043      0.041      -1.192      -0.025\n",
       "x116           0.2634      0.298      0.884      0.377      -0.321       0.848\n",
       "x117           0.1349      0.414      0.326      0.744      -0.676       0.946\n",
       "x118          -0.1042      0.419     -0.248      0.804      -0.926       0.718\n",
       "x119           0.1566      0.414      0.379      0.705      -0.655       0.968\n",
       "x120           0.0847      0.414      0.205      0.838      -0.727       0.896\n",
       "x121          -0.0786      0.419     -0.188      0.851      -0.900       0.743\n",
       "x122          -0.0461      0.414     -0.111      0.911      -0.858       0.765\n",
       "x123           0.2242      0.419      0.535      0.593      -0.597       1.046\n",
       "x124           0.0351      0.298      0.118      0.906      -0.549       0.619\n",
       "x125           0.0445      0.414      0.107      0.915      -0.768       0.857\n",
       "x126           0.1129      0.025      4.595      0.000       0.065       0.161\n",
       "==============================================================================\n",
       "Omnibus:                       56.474   Durbin-Watson:                   2.236\n",
       "Prob(Omnibus):                  0.000   Jarque-Bera (JB):               31.324\n",
       "Skew:                          -0.080   Prob(JB):                     1.58e-07\n",
       "Kurtosis:                       2.475   Cond. No.                     6.55e+16\n",
       "==============================================================================\n",
       "\n",
       "Warnings:\n",
       "[1] Standard Errors assume that the covariance matrix of the errors is correctly specified.\n",
       "[2] The smallest eigenvalue is 1.6e-29. This might indicate that there are\n",
       "strong multicollinearity problems or that the design matrix is singular.\n",
       "\"\"\""
      ]
     },
     "execution_count": 34,
     "metadata": {},
     "output_type": "execute_result"
    }
   ],
   "source": [
    "lm = sm.OLS(Y_full, sm.add_constant(X[:,np.append(-1, np.arange(1, X.shape[1]))]))\n",
    "res = lm.fit()\n",
    "res.summary()"
   ]
  },
  {
   "cell_type": "markdown",
   "metadata": {},
   "source": [
    "Generalized additive model"
   ]
  },
  {
   "cell_type": "code",
   "execution_count": 35,
   "metadata": {},
   "outputs": [
    {
     "data": {
      "text/plain": [
       "LinearGAM(callbacks=[Deviance(), Diffs()], fit_intercept=True, \n",
       "   max_iter=100, scale=None, \n",
       "   terms=s(0) + s(1) + f(2) + s(3) + f(4) + f(5) + f(6) + f(7) + f(8) + f(9) + f(10) + f(11) + f(12) + f(13) + f(14) + f(15) + f(16) + f(17) + f(18) + f(19) + f(20) + f(21) + f(22) + f(23) + f(24) + f(25) + f(26) + f(27) + f(28) + f(29) + f(30) + f(31) + f(32) + f(33) + f(34) + f(35) + f(36) + f(37) + f(38) + f(39) + f(40) + f(41) + f(42) + f(43) + f(44) + f(45) + f(46) + f(47) + f(48) + f(49) + f(50) + f(51) + f(52) + f(53) + f(54) + f(55) + f(56) + f(57) + f(58) + f(59) + f(60) + f(61) + f(62) + f(63) + f(64) + f(65) + f(66) + f(67) + f(68) + f(69) + f(70) + f(71) + f(72) + f(73) + f(74) + f(75) + f(76) + f(77) + f(78) + f(79) + f(80) + f(81) + f(82) + f(83) + f(84) + f(85) + f(86) + f(87) + f(88) + f(89) + f(90) + f(91) + f(92) + f(93) + f(94) + f(95) + f(96) + f(97) + f(98) + f(99) + f(100) + f(101) + f(102) + f(103) + f(104) + f(105) + f(106) + f(107) + f(108) + f(109) + f(110) + f(111) + f(112) + f(113) + f(114) + f(115) + f(116) + f(117) + f(118) + f(119) + f(120) + f(121) + f(122) + f(123) + f(124) + intercept,\n",
       "   tol=0.0001, verbose=False)"
      ]
     },
     "execution_count": 35,
     "metadata": {},
     "output_type": "execute_result"
    }
   ],
   "source": [
    "linear_gam = pygam.LinearGAM(pygam.terms.TermList(*[pygam.s(0), pygam.s(1), \n",
    "                             pygam.f(2), pygam.s(3)] + \n",
    "                             [pygam.f(i) for i in range(4, 125)]))\n",
    "linear_gam.fit(X_, Y_full)"
   ]
  },
  {
   "cell_type": "code",
   "execution_count": 36,
   "metadata": {},
   "outputs": [
    {
     "data": {
      "image/png": "[encoded data removed]",
      "text/plain": [
       "<Figure size 432x288 with 1 Axes>"
      ]
     },
     "metadata": {
      "needs_background": "light"
     },
     "output_type": "display_data"
    }
   ],
   "source": [
    "plot_prf(linear_gam, 0, res.params[1])"
   ]
  },
  {
   "cell_type": "code",
   "execution_count": 37,
   "metadata": {},
   "outputs": [
    {
     "data": {
      "image/png": "[encoded data removed]",
      "text/plain": [
       "<Figure size 432x288 with 1 Axes>"
      ]
     },
     "metadata": {
      "needs_background": "light"
     },
     "output_type": "display_data"
    }
   ],
   "source": [
    "plot_prf(linear_gam, 1, res.params[2])"
   ]
  },
  {
   "cell_type": "code",
   "execution_count": 38,
   "metadata": {},
   "outputs": [
    {
     "data": {
      "image/png": "[encoded data removed]",
      "text/plain": [
       "<Figure size 432x288 with 1 Axes>"
      ]
     },
     "metadata": {
      "needs_background": "light"
     },
     "output_type": "display_data"
    }
   ],
   "source": [
    "plot_prf(linear_gam, 3, res.params[4])"
   ]
  },
  {
   "cell_type": "markdown",
   "metadata": {},
   "source": [
    "Appendix: Analysis of hypothesized mediators"
   ]
  },
  {
   "cell_type": "markdown",
   "metadata": {},
   "source": [
    "Is there a difference in the discriminability of Democrats and Republicans?"
   ]
  },
  {
   "cell_type": "code",
   "execution_count": 39,
   "metadata": {},
   "outputs": [
    {
     "name": "stdout",
     "output_type": "stream",
     "text": [
      "-0.009113493024315439\n"
     ]
    },
    {
     "data": {
      "text/plain": [
       "(-0.11037674105419748, 0.9123805369639919, 81.92708472834495)"
      ]
     },
     "execution_count": 39,
     "metadata": {},
     "output_type": "execute_result"
    }
   ],
   "source": [
    "ddiffs = participant_diff(np.arange(len(data))[data.party == \"Democrat\"])\n",
    "rdiffs = participant_diff(np.arange(len(data))[data.party == \"Republican\"])\n",
    "print np.mean(rdiffs) - np.mean(ddiffs)\n",
    "cm = sms.CompareMeans(sms.DescrStatsW(rdiffs), sms.DescrStatsW(ddiffs))\n",
    "cm.ttest_ind(usevar=\"unequal\")"
   ]
  },
  {
   "cell_type": "markdown",
   "metadata": {},
   "source": [
    "$accurate \\sim logodds + log(P) + party\\_id + valence + party\\_id \\times valence \\times sign(word) + party\\_identity + party\\_id \\times party\\_identity + political\\_engagement + party\\_id \\times political\\_engagement + \\ldots{}$"
   ]
  },
  {
   "cell_type": "code",
   "execution_count": 40,
   "metadata": {},
   "outputs": [
    {
     "name": "stderr",
     "output_type": "stream",
     "text": [
      "/Users/sabinasloman/.pyenv/versions/2.7.17/envs/lop_env/lib/python2.7/site-packages/ipykernel_launcher.py:4: RuntimeWarning: invalid value encountered in greater\n",
      "  after removing the cwd from sys.path.\n"
     ]
    }
   ],
   "source": [
    "n_vars = 9\n",
    "\n",
    "Y_full = np.ravel(lr_data[ixs])\n",
    "Y = Y_full > 2.5\n",
    "X = np.full((n * len(ixs), n_vars + n - 1), np.nan)\n",
    "# The log odds that the word was said by a Republican\n",
    "vf = np.vectorize(lambda word: signals.loc[word][\"rmetric\"])\n",
    "s = vf(np.ravel(lr_data[pair_cols]))\n",
    "X[:,0] = np.abs(s)\n",
    "# The log probability of hearing the word\n",
    "vf = np.vectorize(lambda word: math.log(sum(freq_df.loc[(word,[\"dmetric\",\"rmetric\"])].values) / n_utterances, 2))\n",
    "X[:,1] = vf(np.ravel(lr_data[pair_cols]))\n",
    "# Participant's political identity\n",
    "vf = np.vectorize(lambda pid: 1 if pid == \"Republican\" else -1 if pid == \"Democrat\" else 0\n",
    "                 )\n",
    "pids = np.repeat(vf(lr_data.party), len(ixs))\n",
    "X[:,2] = pids\n",
    "# Valence of word\n",
    "vf = np.vectorize(lambda word: get_valence(word)[0]-5)\n",
    "X[:,3] = vf(np.ravel(lr_data[pair_cols]))\n",
    "# Valence of word * Participant's party identity * Word is Republican\n",
    "X[:,4] = pids * X[:,3] * np.sign(s) \n",
    "# Party identity\n",
    "X[:,5] = np.repeat(lr_data.party_identity, len(ixs))\n",
    "# Party affiliation x party identity\n",
    "X[:,6] = pids * X[:,5]\n",
    "# Political engagement\n",
    "X[:,7] = np.repeat(lr_data.political_engagement, len(ixs))\n",
    "# Party affiliation x political engagement\n",
    "X[:,8] = pids * X[:,7]\n",
    "# Participant IDs\n",
    "for i in range(n_vars, n_vars + n - 1):\n",
    "    X[:,i] = np.repeat(lr_data[\"participant{}\".format(i-n_vars+1)], len(ixs))\n",
    "\n",
    "vf = np.vectorize(lambda word: signals.loc[word][\"rmetric\"] > 0)\n",
    "polarity = vf(np.ravel(lr_data[pair_cols]))\n",
    "Y = (Y & polarity) | (~Y & ~polarity)\n",
    "\n",
    "Y = Y[~np.isnan(Y_full)]\n",
    "X = X[~np.isnan(Y_full)]\n",
    "Y_full = Y_full[~np.isnan(Y_full)]\n",
    "X = X[~np.isnan(Y)]\n",
    "Y_full = Y_full[~np.isnan(Y)]\n",
    "Y = Y[~np.isnan(Y)]\n",
    "Y = Y[~np.isnan(X).any(axis = 1)]\n",
    "Y_full = Y_full[~np.isnan(X).any(axis = 1)]\n",
    "X = X[~np.isnan(X).any(axis = 1),:]\n",
    "X = stats.mstats.zscore(X)"
   ]
  },
  {
   "cell_type": "code",
   "execution_count": 41,
   "metadata": {},
   "outputs": [
    {
     "data": {
      "text/plain": [
       "(array([ 0.09243216, -0.34976423,  0.0766671 , -0.21365274,  0.41057134,\n",
       "         0.01847488,  0.        ,  0.        ,  0.        ]),\n",
       " 2498,\n",
       " 0.6917592535281011)"
      ]
     },
     "execution_count": 41,
     "metadata": {},
     "output_type": "execute_result"
    }
   ],
   "source": [
    "logit = SparseLR(Y, X); logit.coef[:n_vars], logit.n, logit.auc"
   ]
  },
  {
   "cell_type": "code",
   "execution_count": null,
   "metadata": {},
   "outputs": [],
   "source": []
  }
 ],
 "metadata": {
  "kernelspec": {
   "display_name": "Python 2",
   "language": "python",
   "name": "python2"
  },
  "language_info": {
   "codemirror_mode": {
    "name": "ipython",
    "version": 2
   },
   "file_extension": ".py",
   "mimetype": "text/x-python",
   "name": "python",
   "nbconvert_exporter": "python",
   "pygments_lexer": "ipython2",
   "version": "2.7.17"
  },
  "toc": {
   "base_numbering": 1,
   "nav_menu": {},
   "number_sections": true,
   "sideBar": true,
   "skip_h1_title": false,
   "title_cell": "Table of Contents",
   "title_sidebar": "Contents",
   "toc_cell": false,
   "toc_position": {},
   "toc_section_display": true,
   "toc_window_display": false
  }
 },
 "nbformat": 4,
 "nbformat_minor": 2
}
