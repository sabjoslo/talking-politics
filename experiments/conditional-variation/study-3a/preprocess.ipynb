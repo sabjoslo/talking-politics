{
 "cells": [
  {
   "cell_type": "code",
   "execution_count": 5,
   "metadata": {},
   "outputs": [],
   "source": [
    "import numpy as np\n",
    "import pandas as pd"
   ]
  },
  {
   "cell_type": "code",
   "execution_count": 6,
   "metadata": {},
   "outputs": [],
   "source": [
    "# Load data\n",
    "df_ = pd.read_csv(\"LoP_Synonyms.csv\")\n",
    "df = df_[2:]"
   ]
  },
  {
   "cell_type": "code",
   "execution_count": 7,
   "metadata": {},
   "outputs": [
    {
     "data": {
      "text/html": [
       "<div>\n",
       "<style scoped>\n",
       "    .dataframe tbody tr th:only-of-type {\n",
       "        vertical-align: middle;\n",
       "    }\n",
       "\n",
       "    .dataframe tbody tr th {\n",
       "        vertical-align: top;\n",
       "    }\n",
       "\n",
       "    .dataframe thead th {\n",
       "        text-align: right;\n",
       "    }\n",
       "</style>\n",
       "<table border=\"1\" class=\"dataframe\">\n",
       "  <thead>\n",
       "    <tr style=\"text-align: right;\">\n",
       "      <th></th>\n",
       "      <th>StartDate</th>\n",
       "      <th>EndDate</th>\n",
       "      <th>Status</th>\n",
       "      <th>Progress</th>\n",
       "      <th>Duration (in seconds)</th>\n",
       "      <th>Finished</th>\n",
       "      <th>RecordedDate</th>\n",
       "      <th>DistributionChannel</th>\n",
       "      <th>UserLanguage</th>\n",
       "      <th>Q5_1</th>\n",
       "      <th>...</th>\n",
       "      <th>pair17</th>\n",
       "      <th>pair18</th>\n",
       "      <th>pair19</th>\n",
       "      <th>pair20</th>\n",
       "      <th>pair21</th>\n",
       "      <th>pair22</th>\n",
       "      <th>pair23</th>\n",
       "      <th>pair24</th>\n",
       "      <th>pair25</th>\n",
       "      <th>pair26</th>\n",
       "    </tr>\n",
       "  </thead>\n",
       "  <tbody>\n",
       "  </tbody>\n",
       "</table>\n",
       "<p>0 rows × 112 columns</p>\n",
       "</div>"
      ],
      "text/plain": [
       "Empty DataFrame\n",
       "Columns: [StartDate, EndDate, Status, Progress, Duration (in seconds), Finished, RecordedDate, DistributionChannel, UserLanguage, Q5_1, Q5_2, Q5_3, Q5_4, Q1439, Q610, Q611, Q611_5_TEXT, Q612, Q612_4_TEXT, Q613, Q1430, Q617, Q617_7_TEXT, Q619, Q620_4, 1000, 1, 2, 3, 4, 5, 6, 7, 8, 9, 10, 11, 12, 13, 1020, 14, 15, 16, 17, 18, 19, 20, 21, 22, 23, 24, 25, 26, 1000.1, 1.1, 2.1, 3.1, 4.1, 5.1, 6.1, 7.1, 8.1, 9.1, 10.1, 11.1, 12.1, 13.1, 1020.1, 14.1, 15.1, 16.1, 17.1, 18.1, 19.1, 20.1, 21.1, 22.1, 23.1, 24.1, 25.1, 26.1, Q1440, Q621, IP_block, IP_country, Condition, pair1, pair2, pair3, pair4, pair5, pair6, pair7, pair8, pair9, pair10, pair11, pair12, pair13, pair14, ...]\n",
       "Index: []\n",
       "\n",
       "[0 rows x 112 columns]"
      ]
     },
     "execution_count": 7,
     "metadata": {},
     "output_type": "execute_result"
    }
   ],
   "source": [
    "# Check if anyone replied \"no\" to any of the questions on the consent form\n",
    "pd.concat([ df[df[\"Q5_1\"] != \"Yes\"], df[df[\"Q5_2\"] != \"Yes\"], \n",
    "            df[df[\"Q5_3\"] != \"Yes\"], df[df[\"Q5_4\"] != \"Yes\"] ])"
   ]
  },
  {
   "cell_type": "code",
   "execution_count": 8,
   "metadata": {},
   "outputs": [
    {
     "name": "stdout",
     "output_type": "stream",
     "text": [
      "\n",
      "202\n"
     ]
    }
   ],
   "source": [
    "# See if anyone didn't finish the survey\n",
    "unfinished = df.loc[df[\"Finished\"] == \"FALSE\"]\n",
    "print \"Excluding some participants\"*(not unfinished.empty)\n",
    "df = df.loc[df[\"Finished\"] == \"TRUE\"]\n",
    "print len(df)"
   ]
  },
  {
   "cell_type": "code",
   "execution_count": 9,
   "metadata": {},
   "outputs": [
    {
     "name": "stderr",
     "output_type": "stream",
     "text": [
      "/Users/sabinasloman/.pyenv/versions/2.7.17/envs/lop_env/lib/python2.7/site-packages/pandas/core/frame.py:4025: SettingWithCopyWarning: \n",
      "A value is trying to be set on a copy of a slice from a DataFrame\n",
      "\n",
      "See the caveats in the documentation: http://pandas.pydata.org/pandas-docs/stable/indexing.html#indexing-view-versus-copy\n",
      "  return super(DataFrame, self).rename(**kwargs)\n"
     ]
    }
   ],
   "source": [
    "# Combine \"Democrat first\" and \"Republican first\" conditions\n",
    "df1 = df[map(str, range(1, 27))]\n",
    "df2 = df[map(lambda n: str(n+.1), range(1, 27))]\n",
    "df2.rename(columns = dict([ (str(i+.1), str(i)) for i in range(1, 27) ]), inplace = True)\n",
    "df__ = df1.fillna(df2)"
   ]
  },
  {
   "cell_type": "code",
   "execution_count": 10,
   "metadata": {},
   "outputs": [],
   "source": [
    "code = { \"I am almost certain the speaker is a Democrat.\": 0,\n",
    "         \"I am reasonably sure the speaker is a Democrat.\": 1,\n",
    "         \"I am unsure but think that the speaker is a Democrat.\": 2,\n",
    "         \"I am unsure but think that the speaker is a Republican.\": 3,\n",
    "         \"I am reasonably sure the speaker is a Republican.\": 4,\n",
    "         \"I am almost certain the speaker is a Republican.\": 5,\n",
    "         \"-99\": np.nan\n",
    "       }"
   ]
  },
  {
   "cell_type": "code",
   "execution_count": 11,
   "metadata": {},
   "outputs": [],
   "source": [
    "df__ = df__.replace(code)"
   ]
  },
  {
   "cell_type": "code",
   "execution_count": 12,
   "metadata": {},
   "outputs": [],
   "source": [
    "minidf = df__[map(str, range(1, 27))]\n",
    "minidf.rename(columns = dict(zip(map(str, range(1, 27)), range(26))), inplace = True)"
   ]
  },
  {
   "cell_type": "code",
   "execution_count": 13,
   "metadata": {},
   "outputs": [],
   "source": [
    "# Helper functions for cleaning demographic responses\n",
    "def int_(s):\n",
    "    if s == \"-99\":\n",
    "        return np.nan\n",
    "    return int(s)\n",
    "\n",
    "def get_gender(row):\n",
    "    gender = row[\"Q611\"]\n",
    "    if \"f\" in gender.lower():\n",
    "        return \"F\"\n",
    "    if \"m\" in gender.lower():\n",
    "        return \"M\"\n",
    "    return np.nan\n",
    "\n",
    "def get_party_identity(row):\n",
    "    pi = row[\"Q613\"]\n",
    "    if pi == \"-99\":\n",
    "        return np.nan\n",
    "    return int(pi[0])-4\n",
    "    \n",
    "def get_political_engagement(row):\n",
    "    pe = row[\"Q1430\"]\n",
    "    if pe == \"-99\":\n",
    "        return np.nan\n",
    "    return int(pe[0])-4\n",
    "    \n",
    "def get_education(row):\n",
    "    edu = row[\"Q617\"]\n",
    "    if edu == \"-99\":\n",
    "        return np.nan\n",
    "    return {\n",
    "        \"Some high school (no degree)\": 0,\n",
    "        \"High school\": 1,\n",
    "        \"Some college (no degree)\": 2,\n",
    "        \"Associate's/professional/vocational degree\": 3,\n",
    "        \"Bachelor's degree\": 4,\n",
    "        \"Master's degree\": 5,\n",
    "        \"Higher-level graduate degree\": 6,\n",
    "        \"Other\": np.nan\n",
    "    }[edu]\n",
    "\n",
    "def get_voted(row):\n",
    "    voted = row[\"Q619\"]\n",
    "    if voted == \"Yes\":\n",
    "        return 1\n",
    "    if voted == \"No\":\n",
    "        return 0\n",
    "    return np.nan"
   ]
  },
  {
   "cell_type": "code",
   "execution_count": 14,
   "metadata": {},
   "outputs": [],
   "source": [
    "# Add demographics\n",
    "minidf[\"age\"] = map(int_, df[\"Q610\"])\n",
    "minidf[\"gender\"] = df[\"Q611\"].replace(\"-99\", np.nan)\n",
    "minidf[\"party\"] = df[\"Q612\"].replace(\"-99\", np.nan)\n",
    "minidf[\"party_identity\"] = df.apply(get_party_identity, axis = 1)\n",
    "minidf[\"political_engagement\"] = df.apply(get_political_engagement,\n",
    "                                          axis = 1)\n",
    "minidf[\"education\"] = df.apply(get_education, axis = 1)\n",
    "minidf[\"voted\"] = df.apply(get_voted, axis = 1)\n",
    "minidf[\"political_bubble\"] = map(int_, df[\"Q620_4\"])\n",
    "minidf[\"atn\"] = df[\"Q1440\"]\n",
    "minidf[map(lambda i: \"pair{}\".format(i), range(26))] = df[map(lambda i: \"pair{}\".format(i), range(1,27))]"
   ]
  },
  {
   "cell_type": "markdown",
   "metadata": {},
   "source": [
    "# Participant-level exclusions"
   ]
  },
  {
   "cell_type": "markdown",
   "metadata": {},
   "source": [
    "We use a version of the instructional manipulation check (Oppenheimer et al., 2009) as an attention check. We will exclude from analysis all participants who fail the attention check. We will also exclude data from participants who make a judgment about 19 or fewer of the 26 items."
   ]
  },
  {
   "cell_type": "markdown",
   "metadata": {},
   "source": [
    "Exclusion based on the instructional manipulation check"
   ]
  },
  {
   "cell_type": "code",
   "execution_count": 15,
   "metadata": {},
   "outputs": [
    {
     "name": "stdout",
     "output_type": "stream",
     "text": [
      "174\n"
     ]
    }
   ],
   "source": [
    "imc = np.vectorize(lambda s: \"ATTENTION\" in s)\n",
    "minidf = minidf.loc[imc(minidf[\"atn\"])]\n",
    "print len(minidf)"
   ]
  },
  {
   "cell_type": "markdown",
   "metadata": {},
   "source": [
    "Exclusion based on missing data."
   ]
  },
  {
   "cell_type": "code",
   "execution_count": 16,
   "metadata": {},
   "outputs": [
    {
     "name": "stdout",
     "output_type": "stream",
     "text": [
      "174\n"
     ]
    }
   ],
   "source": [
    "minidf = minidf.loc[np.apply_along_axis(lambda s: len(s[~np.isnan(s)]) > 19, 1, minidf[range(26)])]\n",
    "print len(minidf)"
   ]
  },
  {
   "cell_type": "code",
   "execution_count": 17,
   "metadata": {},
   "outputs": [],
   "source": [
    "minidf.to_csv(\"responses.csv\")"
   ]
  },
  {
   "cell_type": "code",
   "execution_count": null,
   "metadata": {},
   "outputs": [],
   "source": []
  }
 ],
 "metadata": {
  "kernelspec": {
   "display_name": "Python 2",
   "language": "python",
   "name": "python2"
  },
  "language_info": {
   "codemirror_mode": {
    "name": "ipython",
    "version": 2
   },
   "file_extension": ".py",
   "mimetype": "text/x-python",
   "name": "python",
   "nbconvert_exporter": "python",
   "pygments_lexer": "ipython2",
   "version": "2.7.17"
  }
 },
 "nbformat": 4,
 "nbformat_minor": 2
}
