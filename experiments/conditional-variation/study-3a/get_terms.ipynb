{
 "cells": [
  {
   "cell_type": "code",
   "execution_count": 10,
   "metadata": {},
   "outputs": [],
   "source": [
    "%matplotlib inline\n",
    "from __future__ import division\n",
    "from copy import deepcopy\n",
    "from gensim.models import KeyedVectors\n",
    "from itertools import chain\n",
    "import matplotlib.pyplot as plt\n",
    "import numpy as np\n",
    "import pandas as pd\n",
    "import pickle\n",
    "import pyspan.bootstrapping as bts\n",
    "from pyspan.config import *\n",
    "from pyspan import excerpt_sampler as excs\n",
    "from pyspan.synonyms import item_exclusions as item_ex"
   ]
  },
  {
   "cell_type": "markdown",
   "metadata": {},
   "source": [
    "The signal calculations used to choose stimuli are saved to make the survey reproducible."
   ]
  },
  {
   "cell_type": "code",
   "execution_count": 11,
   "metadata": {},
   "outputs": [],
   "source": [
    "# Load data\n",
    "df_crec = pickle.load(open(\"version_used_for_LoP_Synonyms_crec_signals-unigrams\", \n",
    "                           \"rb\"))\n",
    "df_debates = pickle.load(open(\"version_used_for_LoP_Synonyms_debates_signals-unigrams\", \n",
    "                              \"rb\"))"
   ]
  },
  {
   "cell_type": "code",
   "execution_count": 12,
   "metadata": {},
   "outputs": [],
   "source": [
    "# Create a new df containing only the words from the CRec data that\n",
    "# \"cross-validate\" to the debate data\n",
    "df = df_crec.join(df_debates, how = \"inner\", lsuffix = \"_c\", \n",
    "                  rsuffix = \"_d\")\n",
    "cv = np.apply_along_axis(lambda i: df.loc[i][\"dmetric_c\"] * df.loc[i][\"dmetric_d\"] <= 0,\n",
    "                         0, df.index)\n",
    "ma = np.ma.masked_array(df.index, mask = cv)\n",
    "df = df.loc[ma.compressed()]\n",
    "df.sort_values([\"dmetric_c\"], inplace = True)"
   ]
  },
  {
   "cell_type": "code",
   "execution_count": 13,
   "metadata": {},
   "outputs": [
    {
     "data": {
      "text/plain": [
       "1421"
      ]
     },
     "execution_count": 13,
     "metadata": {},
     "output_type": "execute_result"
    }
   ],
   "source": [
    "len(df)"
   ]
  },
  {
   "cell_type": "code",
   "execution_count": 18,
   "metadata": {},
   "outputs": [],
   "source": [
    "# And select the Republican signals from this new df\n",
    "with open(\"words_repub.csv\", \"w\") as wfh:\n",
    "    wfh.write(\",\\n\".join(df.loc[df[\"dmetric_c\"] < 0].index))\n",
    "# And the Democratic signals\n",
    "with open(\"words_dem.csv\", \"w\") as wfh:\n",
    "    wfh.write(\",\\n\".join(df.loc[df[\"dmetric_c\"] > 0].index[::-1]))"
   ]
  },
  {
   "cell_type": "markdown",
   "metadata": {},
   "source": [
    "This csv was manually annotated by an RA and one of the authors to contain synonyms for the words."
   ]
  },
  {
   "cell_type": "code",
   "execution_count": 13,
   "metadata": {},
   "outputs": [],
   "source": [
    "synd_long = pd.read_csv(\"words_dem-annotated.csv\")\n",
    "synd_long.columns = range(len(synd_long.columns))\n",
    "synd_long = synd_long.loc[synd_long[1] != \"-1\"]"
   ]
  },
  {
   "cell_type": "markdown",
   "metadata": {},
   "source": [
    "For each partisan word, select the subset of words that\n",
    "- \"Belong\" to the associated party\n",
    "- Cross-validate to the debates\n",
    "- Don't have another meaning\n",
    "- Are single words"
   ]
  },
  {
   "cell_type": "markdown",
   "metadata": {},
   "source": [
    "Keep a running list of words to exclude so I only have to see ones I haven't seen before."
   ]
  },
  {
   "cell_type": "code",
   "execution_count": 15,
   "metadata": {},
   "outputs": [],
   "source": [
    "exclude = open(\"exclude\", \"r\").read().split(\"\\n\")"
   ]
  },
  {
   "cell_type": "markdown",
   "metadata": {},
   "source": [
    "Manually comb through the candidates and indicate if it should be added to the exclude list."
   ]
  },
  {
   "cell_type": "code",
   "execution_count": 16,
   "metadata": {},
   "outputs": [
    {
     "name": "stdout",
     "output_type": "stream",
     "text": [
      "wealthy prosperous\n",
      "comprehensive complete\n",
      "wealth prosperity\n",
      "workers employees\n",
      "contribute give\n",
      "values principles\n",
      "assault attack\n",
      "acknowledge recognize\n",
      "fear terror\n",
      "respond answer\n",
      "profit gain\n",
      "potentially possibly\n",
      "glad happy\n",
      "financial monetary\n",
      "kinds types\n",
      "end finish\n",
      "criminal illegal\n",
      "spoke talked\n"
     ]
    }
   ],
   "source": [
    "synd = deepcopy(synd_long)\n",
    "for ix, row in zip(synd_long.index, synd_long.values):\n",
    "    for i, word in enumerate(row):\n",
    "        if not isinstance(word, basestring):\n",
    "            assert np.isnan(word)\n",
    "            synd.loc[ix][i] = \"\"\n",
    "            continue\n",
    "        if word not in df.index:\n",
    "            synd.loc[ix][i] = \"\"\n",
    "            continue\n",
    "        if i == 0 and synd.loc[ix][i].strip():\n",
    "            if df_crec.loc[word][\"dmetric\"] < 0:\n",
    "                synd.loc[ix][i] = \"\"\n",
    "        elif synd.loc[ix][0].strip() and synd.loc[ix][i].strip():\n",
    "            try:\n",
    "                if df_crec.loc[word][\"dmetric\"] > 0:\n",
    "                    synd.loc[ix][i] = \"\"\n",
    "                    continue\n",
    "            except KeyError:\n",
    "                synd.loc[ix][i] = \"\"\n",
    "                continue\n",
    "            s = \" \".join((synd.loc[ix][0], word))\n",
    "            if s in exclude or \" \".join((s.split()[1], s.split()[0])) in exclude:\n",
    "                synd.loc[ix][i] = \"\"\n",
    "                continue\n",
    "            val = raw_input(s)\n",
    "            if val.strip():\n",
    "                synd.loc[ix][i] = \"\"\n",
    "                exclude.append(s)\n",
    "    if ( (not synd.loc[ix][0]) or \n",
    "         (all([ not w for w in synd.loc[ix][range(1,i)] ]))\n",
    "       ):\n",
    "        synd = synd[synd.index != ix]\n",
    "        continue\n",
    "    vals = [ val for val in synd.loc[ix].values if val.strip() ]\n",
    "    pad_width = len(row) - len(vals)\n",
    "    synd.loc[ix] = np.pad(vals, (0, pad_width), \"constant\")"
   ]
  },
  {
   "cell_type": "code",
   "execution_count": 17,
   "metadata": {},
   "outputs": [],
   "source": [
    "synr_long = pd.read_csv(\"words_repub-annotated.csv\")\n",
    "synr_long.columns = range(len(synr_long.columns))\n",
    "synr_long = synr_long.loc[synr_long[1] != \"-1\"]"
   ]
  },
  {
   "cell_type": "code",
   "execution_count": 18,
   "metadata": {},
   "outputs": [
    {
     "name": "stdout",
     "output_type": "stream",
     "text": [
      "reforms changes\n",
      "terror fear\n",
      "mom mother\n",
      "prosperity wealth\n",
      "recognize acknowledge\n",
      "monetary financial\n",
      "duty responsibility\n",
      "principles values\n",
      "finish end\n",
      "walls barriers\n",
      "announced indicated\n",
      "excessive outrageous\n",
      "conversation discussion\n",
      "preserve maintain\n",
      "fundamental basic\n"
     ]
    }
   ],
   "source": [
    "synr = deepcopy(synr_long)\n",
    "for ix, row in zip(synr_long.index, synr_long.values):\n",
    "    for i, word in enumerate(row):\n",
    "        if not isinstance(word, basestring):\n",
    "            assert np.isnan(word)\n",
    "            synr.loc[ix][i] = \"\"\n",
    "            continue\n",
    "        if word not in df.index:\n",
    "            synr.loc[ix][i] = \"\"\n",
    "        if i == 0 and synr.loc[ix][i].strip():\n",
    "            if df_crec.loc[word][\"dmetric\"] > 0:\n",
    "                synr.loc[(ix,i)] = \"\"\n",
    "                continue\n",
    "        elif ( synr.loc[(ix,0)].strip() and \n",
    "               synr.loc[(ix,i)].strip() ):\n",
    "            try:\n",
    "                if df_crec.loc[word][\"dmetric\"] < 0:\n",
    "                    synr.loc[(ix,i)] = \"\"\n",
    "                    continue\n",
    "            except KeyError:\n",
    "                synr.loc[(ix,i)] = \"\"\n",
    "                continue\n",
    "            s = \" \".join((synr.loc[ix][0], word))\n",
    "            if s in exclude or \" \".join((s.split()[1], s.split()[0])) in exclude:\n",
    "                synr.loc[ix][i] = \"\"\n",
    "                continue\n",
    "            val = raw_input(s)\n",
    "            if val.strip():\n",
    "                synr.loc[ix][i] = \"\"\n",
    "                exclude.append(s)\n",
    "    if ( (not synr.loc[ix][0]) or \n",
    "         (all([ not w for w in synr.loc[ix][range(1,i)] ]))\n",
    "       ):\n",
    "        synr = synr[synr.index != ix]\n",
    "        continue\n",
    "    vals = [ val for val in synr.loc[ix].values if val.strip() ]\n",
    "    pad_width = len(row) - len(vals)\n",
    "    synr.loc[ix] = np.pad(vals, (0, pad_width), \"constant\")"
   ]
  },
  {
   "cell_type": "code",
   "execution_count": 19,
   "metadata": {},
   "outputs": [],
   "source": [
    "with open(\"exclude\", \"w\") as wfh:\n",
    "    wfh.write(\"\\n\".join(exclude))"
   ]
  },
  {
   "cell_type": "code",
   "execution_count": 20,
   "metadata": {},
   "outputs": [],
   "source": [
    "synd.to_csv(\"synonyms_dem.csv\")\n",
    "synr.to_csv(\"synonyms_repub.csv\")"
   ]
  },
  {
   "cell_type": "code",
   "execution_count": 21,
   "metadata": {},
   "outputs": [],
   "source": [
    "synd = pd.read_csv(\"synonyms_dem.csv\")\n",
    "synr = pd.read_csv(\"synonyms_repub.csv\")"
   ]
  },
  {
   "cell_type": "code",
   "execution_count": 22,
   "metadata": {},
   "outputs": [
    {
     "name": "stderr",
     "output_type": "stream",
     "text": [
      "/Users/sabinasloman/.pyenv/versions/2.7.17/envs/lop_env/lib/python2.7/site-packages/ipykernel_launcher.py:3: FutureWarning: Sorting because non-concatenation axis is not aligned. A future version\n",
      "of pandas will change to not sort by default.\n",
      "\n",
      "To accept the future behavior, pass 'sort=False'.\n",
      "\n",
      "To retain the current behavior and silence the warning, pass 'sort=True'.\n",
      "\n",
      "  This is separate from the ipykernel package so we can avoid doing imports until\n"
     ]
    }
   ],
   "source": [
    "synr_ = synr[[\"1\",\"0\"]]\n",
    "synr_.columns = [\"0\",\"1\"]\n",
    "syns = pd.concat([synd, synr_])[[\"0\",\"1\"]]\n",
    "syns.drop_duplicates(subset = [\"0\",\"1\"], inplace = True)\n",
    "# Remove (\"wealthy\", \"prosperous\") because we already have (\"wealth\", \"prosperity\")\n",
    "syns = syns[syns[\"0\"] != \"wealthy\"]\n",
    "syns.reset_index(inplace = True)\n",
    "syns.columns = [\"index\",\"D\",\"R\"]"
   ]
  },
  {
   "cell_type": "code",
   "execution_count": 23,
   "metadata": {},
   "outputs": [],
   "source": [
    "syns.to_csv(\"synonyms.csv\")"
   ]
  },
  {
   "cell_type": "code",
   "execution_count": 24,
   "metadata": {},
   "outputs": [],
   "source": [
    "syns = pd.read_csv(\"synonyms.csv\")"
   ]
  },
  {
   "cell_type": "markdown",
   "metadata": {},
   "source": [
    "Look at the distribution of log odds in the new shortlists."
   ]
  },
  {
   "cell_type": "code",
   "execution_count": 25,
   "metadata": {},
   "outputs": [],
   "source": [
    "def get_log_odds(w, party):\n",
    "    col = \"dmetric\"\n",
    "    try:\n",
    "        m = df_crec.loc[w][col]\n",
    "        if party == \"republican\":\n",
    "            m = -m\n",
    "        return m\n",
    "    except KeyError:\n",
    "        return np.nan"
   ]
  },
  {
   "cell_type": "code",
   "execution_count": 26,
   "metadata": {},
   "outputs": [
    {
     "data": {
      "text/plain": [
       "(array([1., 2., 0., 1., 0., 2., 1., 9., 7., 3.]),\n",
       " array([-1.34200151, -1.20812921, -1.0742569 , -0.9403846 , -0.8065123 ,\n",
       "        -0.67263999, -0.53876769, -0.40489539, -0.27102309, -0.13715078,\n",
       "        -0.00327848]),\n",
       " <a list of 10 Patch objects>)"
      ]
     },
     "execution_count": 26,
     "metadata": {},
     "output_type": "execute_result"
    },
    {
     "data": {
      "image/png": "[encoded data removed]",
      "text/plain": [
       "<Figure size 432x288 with 1 Axes>"
      ]
     },
     "metadata": {
      "needs_background": "light"
     },
     "output_type": "display_data"
    }
   ],
   "source": [
    "dwords = np.array(map(lambda w: get_log_odds(w, \"democrat\"), syns[\"D\"]))\n",
    "rwords = np.array(map(lambda w: get_log_odds(w, \"democrat\"), syns[\"R\"]))\n",
    "plt.hist(dwords, color = \"b\", alpha = .4)\n",
    "plt.hist(rwords, color = \"r\", alpha = .4)"
   ]
  },
  {
   "cell_type": "code",
   "execution_count": 27,
   "metadata": {},
   "outputs": [],
   "source": [
    "df_cis = pickle.load(open(bts.CONFINTS_FN, \"rb\"))"
   ]
  },
  {
   "cell_type": "code",
   "execution_count": 28,
   "metadata": {},
   "outputs": [
    {
     "data": {
      "image/png": "[encoded data removed]",
      "text/plain": [
       "<Figure size 432x288 with 1 Axes>"
      ]
     },
     "metadata": {
      "needs_background": "light"
     },
     "output_type": "display_data"
    }
   ],
   "source": [
    "words_dt = syns[\"D\"].values\n",
    "words_dt = sorted(words_dt, key = lambda w: df_crec.loc[w][\"dmetric\"])\n",
    "words = words_dt\n",
    "n = len(words)\n",
    "y = [ df_crec.loc[w][\"dmetric\"] for w in words ]\n",
    "yerr = [ df_cis.loc[w][[\"lbound\",\"ubound\"]].values for w in words ]\n",
    "yerr = np.array(yerr).T\n",
    "yerr[0] = y - yerr[0]\n",
    "yerr[1] = yerr[1] - y\n",
    "plt.errorbar(range(n), y, yerr)\n",
    "plt.xlim(*plt.xlim())\n",
    "plt.xticks(range(n), words, rotation = 90)\n",
    "plt.ylabel(r\"$log_2\\frac{p_D}{p_R}$\", fontsize = 20)\n",
    "plt.ylim(*plt.ylim())\n",
    "ixs = [ ix for ix in range(n) if y[ix] - yerr[0,ix] < 0 ]\n",
    "\n",
    "# Save \"significance\"\n",
    "dconf = [\"\"] * len(syns)\n",
    "syns[\"D conf.\"] = dconf\n",
    "for ix in ixs:\n",
    "    plt.plot([ix,ix], plt.ylim(), \"k\", linewidth = .5)\n",
    "    syns.loc[syns[\"D\"] == words[ix],\"D conf.\"] = \"n.s.\"\n",
    "plt.plot(plt.xlim(), [0,0], \"r--\")\n",
    "plt.title(\"Democratic words\")\n",
    "plt.tight_layout()"
   ]
  },
  {
   "cell_type": "code",
   "execution_count": 29,
   "metadata": {},
   "outputs": [
    {
     "data": {
      "image/png": "[encoded data removed]",
      "text/plain": [
       "<Figure size 432x288 with 1 Axes>"
      ]
     },
     "metadata": {
      "needs_background": "light"
     },
     "output_type": "display_data"
    }
   ],
   "source": [
    "words_dd = syns[\"R\"].values\n",
    "words_dd = sorted(words_dd, key = lambda w: df_crec.loc[w][\"dmetric\"])\n",
    "words = words_dd\n",
    "n = len(words)\n",
    "y = [ df_crec.loc[w][\"dmetric\"] for w in words ]\n",
    "y = [ df_crec.loc[w][\"dmetric\"] for w in words ]\n",
    "yerr = [ df_cis.loc[w][[\"lbound\",\"ubound\"]].values for w in words ]\n",
    "yerr = np.array(yerr).T\n",
    "yerr[0] = y - yerr[0]\n",
    "yerr[1] = yerr[1] - y\n",
    "plt.errorbar(range(n), y, yerr)\n",
    "plt.xlim(*plt.xlim())\n",
    "plt.xticks(range(n), words, rotation = 90)\n",
    "plt.ylabel(r\"$log_2\\frac{p_D}{p_R}$\", fontsize = 20)\n",
    "plt.ylim(*plt.ylim())\n",
    "ixs = [ ix for ix in range(n) if y[ix] + yerr[1,ix] > 0 ]\n",
    "\n",
    "# Save \"significance\"\n",
    "rconf = [\"\"] * len(syns)\n",
    "syns[\"R conf.\"] = rconf\n",
    "for ix in ixs:\n",
    "    plt.plot([ix,ix], plt.ylim(), \"k\", linewidth = .5)\n",
    "    syns.loc[syns[\"R\"] == words[ix],\"R conf.\"] = \"n.s.\"\n",
    "plt.plot(plt.xlim(), [0,0], \"r--\")\n",
    "plt.title(\"Republican words\")\n",
    "plt.tight_layout()"
   ]
  },
  {
   "cell_type": "markdown",
   "metadata": {},
   "source": [
    "Add the cosine similarity of the pairs to the DataFrame."
   ]
  },
  {
   "cell_type": "code",
   "execution_count": 30,
   "metadata": {},
   "outputs": [],
   "source": [
    "word_vectors = KeyedVectors.load(paths[\"input_dir\"] + \"crec_w2v\")"
   ]
  },
  {
   "cell_type": "code",
   "execution_count": 31,
   "metadata": {},
   "outputs": [],
   "source": [
    "cossim = np.apply_along_axis(lambda a: word_vectors.similarity(*a), 1, syns[[\"D\",\"R\"]])"
   ]
  },
  {
   "cell_type": "code",
   "execution_count": 32,
   "metadata": {},
   "outputs": [],
   "source": [
    "cossim_dist = pickle.load(open(paths[\"metrics_dir\"] + \"cos_sim-unigrams\", \"rb\"))\n",
    "cossim_dist = cossim_dist[\"cos_sim\"]"
   ]
  },
  {
   "cell_type": "code",
   "execution_count": 33,
   "metadata": {},
   "outputs": [],
   "source": [
    "cossim_qs = [ len(cossim_dist[cossim_dist < cs]) / len(cossim_dist) for cs in cossim ]"
   ]
  },
  {
   "cell_type": "code",
   "execution_count": 34,
   "metadata": {},
   "outputs": [],
   "source": [
    "syns[\"cossim_quantiles\"] = cossim_qs"
   ]
  },
  {
   "cell_type": "code",
   "execution_count": 35,
   "metadata": {},
   "outputs": [],
   "source": [
    "syns = syns[[\"D\",\"R\",\"D conf.\",\"R conf.\",\"cossim_quantiles\"]]\n",
    "syns.to_csv(\"synonyms.csv\")"
   ]
  },
  {
   "cell_type": "code",
   "execution_count": 36,
   "metadata": {},
   "outputs": [],
   "source": [
    "syns = pd.read_csv(\"synonyms.csv\")"
   ]
  },
  {
   "cell_type": "markdown",
   "metadata": {},
   "source": [
    "Extract 10 sentences from the Congressional Record containing these words."
   ]
  },
  {
   "cell_type": "code",
   "execution_count": 37,
   "metadata": {},
   "outputs": [
    {
     "name": "stdout",
     "output_type": "stream",
     "text": [
      "Unigrams detected. Is this the correct mode?y\n"
     ]
    }
   ],
   "source": [
    "sampler = excs.Sampler(np.ravel(syns[[\"D\",\"R\"]].values))"
   ]
  },
  {
   "cell_type": "code",
   "execution_count": 38,
   "metadata": {},
   "outputs": [],
   "source": [
    "sampler.load_corpus()"
   ]
  },
  {
   "cell_type": "code",
   "execution_count": 8,
   "metadata": {},
   "outputs": [],
   "source": [
    "sampler.get_excerpts(n = 10, fn = \"excerpts_short\")"
   ]
  },
  {
   "cell_type": "code",
   "execution_count": 39,
   "metadata": {},
   "outputs": [],
   "source": [
    "excerpts = pickle.load(open(\"excerpts_short\", \"rb\"))"
   ]
  },
  {
   "cell_type": "markdown",
   "metadata": {},
   "source": [
    "Add synonym substitutions."
   ]
  },
  {
   "cell_type": "code",
   "execution_count": 40,
   "metadata": {},
   "outputs": [],
   "source": [
    "excerpts_ = deepcopy(excerpts)\n",
    "for ix in syns.index:\n",
    "    dword, rword = syns.loc[ix][[\"D\",\"R\"]]\n",
    "    for excerpt in excerpts[dword]:\n",
    "        excerpts_[rword] = np.append(excerpts_[rword],\n",
    "                                     [excerpt.replace(dword, rword)])\n",
    "    for excerpt in excerpts[rword]:\n",
    "        excerpts_[dword] = np.append(excerpts_[dword],\n",
    "                                     [excerpt.replace(rword, dword)])"
   ]
  },
  {
   "cell_type": "code",
   "execution_count": 41,
   "metadata": {},
   "outputs": [],
   "source": [
    "with open(\"excerpts\", \"wb\") as wfh:\n",
    "    pickle.dump(excerpts_, wfh)"
   ]
  },
  {
   "cell_type": "code",
   "execution_count": 42,
   "metadata": {},
   "outputs": [],
   "source": [
    "excerpts_ = pickle.load(open(\"excerpts\", \"rb\"))"
   ]
  },
  {
   "cell_type": "code",
   "execution_count": 43,
   "metadata": {},
   "outputs": [],
   "source": [
    "excerpts_untagged = list(chain(*excerpts_.values()))\n",
    "np.random.shuffle(excerpts_untagged)\n",
    "assert len(excerpts_untagged) == len(syns) * 2 * 20"
   ]
  },
  {
   "cell_type": "markdown",
   "metadata": {},
   "source": [
    "Two RAs \"cleaned\" these excerpts (removed extra spaces, etc.). For the item-level exclusion procedure (pre-registered [here](https://osf.io/29yac)), I went through and consolidated these cleaned sentences."
   ]
  },
  {
   "cell_type": "code",
   "execution_count": null,
   "metadata": {},
   "outputs": [],
   "source": [
    "item_ex.process_raw()"
   ]
  },
  {
   "cell_type": "markdown",
   "metadata": {},
   "source": [
    "Two sentences were sampled twice. Replace these in the processed csv."
   ]
  },
  {
   "cell_type": "code",
   "execution_count": 24,
   "metadata": {},
   "outputs": [
    {
     "name": "stdout",
     "output_type": "stream",
     "text": [
      "Unigrams detected. Is this the correct mode?y\n"
     ]
    }
   ],
   "source": [
    "o1, r1, o2, r2 = item_ex.replace_duplicates()"
   ]
  },
  {
   "cell_type": "markdown",
   "metadata": {},
   "source": [
    "And replace the relevant sentences manually in the processed csv. Also update the tag for the sentences with imputed word tag \"CAN'T_ID\" (couldn't be identified)."
   ]
  },
  {
   "cell_type": "markdown",
   "metadata": {},
   "source": [
    "Tag sentences as original vs. substitutions"
   ]
  },
  {
   "cell_type": "code",
   "execution_count": 41,
   "metadata": {},
   "outputs": [],
   "source": [
    "item_ex.tag_sentences()"
   ]
  },
  {
   "cell_type": "markdown",
   "metadata": {},
   "source": [
    "Find the rows of the processed csv where the sentences wasn't identified as an original or a substitution, and manually annotate those."
   ]
  },
  {
   "cell_type": "code",
   "execution_count": 46,
   "metadata": {},
   "outputs": [
    {
     "data": {
      "text/html": [
       "<div>\n",
       "<style scoped>\n",
       "    .dataframe tbody tr th:only-of-type {\n",
       "        vertical-align: middle;\n",
       "    }\n",
       "\n",
       "    .dataframe tbody tr th {\n",
       "        vertical-align: top;\n",
       "    }\n",
       "\n",
       "    .dataframe thead th {\n",
       "        text-align: right;\n",
       "    }\n",
       "</style>\n",
       "<table border=\"1\" class=\"dataframe\">\n",
       "  <thead>\n",
       "    <tr style=\"text-align: right;\">\n",
       "      <th></th>\n",
       "      <th>Unnamed: 0</th>\n",
       "      <th>Unnamed: 0.1</th>\n",
       "      <th>original</th>\n",
       "      <th>updated</th>\n",
       "      <th>words</th>\n",
       "      <th>is_original</th>\n",
       "      <th>is_substitution</th>\n",
       "    </tr>\n",
       "  </thead>\n",
       "  <tbody>\n",
       "    <tr>\n",
       "      <th>37</th>\n",
       "      <td>37</td>\n",
       "      <td>37</td>\n",
       "      <td>MANUALLY CHANGED (see get_terms.ipynb)</td>\n",
       "      <td>It is like trying  to send an army into battle...</td>\n",
       "      <td>barriers</td>\n",
       "      <td>-1000</td>\n",
       "      <td>-1000</td>\n",
       "    </tr>\n",
       "    <tr>\n",
       "      <th>106</th>\n",
       "      <td>106</td>\n",
       "      <td>106</td>\n",
       "      <td>MANUALLY CHANGED (see get_terms.ipynb)</td>\n",
       "      <td>This is an excessive burden.</td>\n",
       "      <td>excessive</td>\n",
       "      <td>-1000</td>\n",
       "      <td>-1000</td>\n",
       "    </tr>\n",
       "    <tr>\n",
       "      <th>254</th>\n",
       "      <td>254</td>\n",
       "      <td>254</td>\n",
       "      <td>I also want to show that it's not only in Orla...</td>\n",
       "      <td>I also want to show that it's not only in Orla...</td>\n",
       "      <td>complete</td>\n",
       "      <td>-1000</td>\n",
       "      <td>-1000</td>\n",
       "    </tr>\n",
       "    <tr>\n",
       "      <th>348</th>\n",
       "      <td>348</td>\n",
       "      <td>348</td>\n",
       "      <td>MANUALLY CHANGED (see get_terms.ipynb)</td>\n",
       "      <td>This is an outrageous burden.</td>\n",
       "      <td>outrageous</td>\n",
       "      <td>-1000</td>\n",
       "      <td>-1000</td>\n",
       "    </tr>\n",
       "    <tr>\n",
       "      <th>932</th>\n",
       "      <td>932</td>\n",
       "      <td>932</td>\n",
       "      <td>MANUALLY CHANGED (see get_terms.ipynb)</td>\n",
       "      <td>It is like trying  to send an army into battle...</td>\n",
       "      <td>walls</td>\n",
       "      <td>-1000</td>\n",
       "      <td>-1000</td>\n",
       "    </tr>\n",
       "  </tbody>\n",
       "</table>\n",
       "</div>"
      ],
      "text/plain": [
       "     Unnamed: 0  Unnamed: 0.1  \\\n",
       "37           37            37   \n",
       "106         106           106   \n",
       "254         254           254   \n",
       "348         348           348   \n",
       "932         932           932   \n",
       "\n",
       "                                              original  \\\n",
       "37              MANUALLY CHANGED (see get_terms.ipynb)   \n",
       "106             MANUALLY CHANGED (see get_terms.ipynb)   \n",
       "254  I also want to show that it's not only in Orla...   \n",
       "348             MANUALLY CHANGED (see get_terms.ipynb)   \n",
       "932             MANUALLY CHANGED (see get_terms.ipynb)   \n",
       "\n",
       "                                               updated       words  \\\n",
       "37   It is like trying  to send an army into battle...    barriers   \n",
       "106                       This is an excessive burden.   excessive   \n",
       "254  I also want to show that it's not only in Orla...    complete   \n",
       "348                      This is an outrageous burden.  outrageous   \n",
       "932  It is like trying  to send an army into battle...       walls   \n",
       "\n",
       "     is_original  is_substitution  \n",
       "37         -1000            -1000  \n",
       "106        -1000            -1000  \n",
       "254        -1000            -1000  \n",
       "348        -1000            -1000  \n",
       "932        -1000            -1000  "
      ]
     },
     "execution_count": 46,
     "metadata": {},
     "output_type": "execute_result"
    }
   ],
   "source": [
    "proc = pd.read_csv(\"excerpts_processed.csv\")\n",
    "proc.loc[(proc[\"is_original\"] == -1000) & (proc[\"is_substitution\"] == -1000)]"
   ]
  },
  {
   "cell_type": "markdown",
   "metadata": {},
   "source": [
    "And some last-minute sanity checks."
   ]
  },
  {
   "cell_type": "code",
   "execution_count": 65,
   "metadata": {},
   "outputs": [],
   "source": [
    "item_ex.check_processed()"
   ]
  },
  {
   "cell_type": "code",
   "execution_count": 29,
   "metadata": {},
   "outputs": [],
   "source": [
    "item_ex.regroup_sentences()"
   ]
  },
  {
   "cell_type": "markdown",
   "metadata": {},
   "source": [
    "Two annotators were each given the group1.csv and group2.csv, and saw these instructions:\n",
    "    \n",
    "*The csv file you've been emailed contains a list of 520 sentences. All of these sentences, or versions that are almost identical, were said on the floor of the U.S. House of Congress between 2012 and 2017.*\n",
    "\n",
    "*For your task, assume that the scribe who has created the transcripts you are reading has made a few mistakes,. For example, they may have accidentally transcribed the wrong word here and there. In the sentences that follow, please indicate your judgment of the likelihood that such an error has been made.*\n",
    "\n",
    "*In the \"ratings\" column, please put a number between 1 and 4, where*\n",
    "- *1 means \"I am almost sure this is the original text\",*\n",
    "- *2 means \"I am not sure, but this is probably the original text\",*\n",
    "- *3 means \"I am not sure, but this sentence probably contains at least one transcription error\", and*\n",
    "- *4 means \"I am almost sure this sentence contains at least one transcription error\".*\n",
    "\n",
    "*Please rate every sentence, using only integers 1--4. Please do not discuss your answers with any of the other RAs. If you have any questions, reach out to me (Sabina).*"
   ]
  },
  {
   "cell_type": "markdown",
   "metadata": {},
   "source": [
    "Use these ratings to implement the pre-registered criteria for item-level exclusion."
   ]
  },
  {
   "cell_type": "code",
   "execution_count": 89,
   "metadata": {},
   "outputs": [
    {
     "data": {
      "text/plain": [
       "[array(['terror', 'fear'], dtype=object)]"
      ]
     },
     "execution_count": 89,
     "metadata": {},
     "output_type": "execute_result"
    }
   ],
   "source": [
    "item_ex.items_to_exclude()"
   ]
  },
  {
   "cell_type": "code",
   "execution_count": null,
   "metadata": {},
   "outputs": [],
   "source": []
  }
 ],
 "metadata": {
  "kernelspec": {
   "display_name": "Python 2",
   "language": "python",
   "name": "python2"
  },
  "language_info": {
   "codemirror_mode": {
    "name": "ipython",
    "version": 2
   },
   "file_extension": ".py",
   "mimetype": "text/x-python",
   "name": "python",
   "nbconvert_exporter": "python",
   "pygments_lexer": "ipython2",
   "version": "2.7.17"
  }
 },
 "nbformat": 4,
 "nbformat_minor": 2
}
