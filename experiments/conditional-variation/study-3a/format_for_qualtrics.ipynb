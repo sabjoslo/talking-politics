{
 "cells": [
  {
   "cell_type": "code",
   "execution_count": 1,
   "metadata": {},
   "outputs": [],
   "source": [
    "import numpy as np\n",
    "import pandas as pd\n",
    "import os"
   ]
  },
  {
   "cell_type": "code",
   "execution_count": 2,
   "metadata": {},
   "outputs": [],
   "source": [
    "df = pd.read_csv(\"synonyms-naive.csv\")\n",
    "words = np.ravel(df[[\"D\",\"R\"]])"
   ]
  },
  {
   "cell_type": "code",
   "execution_count": 3,
   "metadata": {},
   "outputs": [],
   "source": [
    "# Response options\n",
    "options = {\n",
    "    \n",
    "    \"republican\":\"\"\"I am <strong>almost certain</strong> the speaker is a <strong>Republican</strong>.\n",
    "I am <strong>reasonably sure</strong> the speaker is a <strong>Republican</strong>.\n",
    "I am <strong>unsure but think that</strong> the speaker is a <strong>Republican</strong>.\n",
    "I am <strong>unsure but think that</strong> the speaker is a <strong>Democrat</strong>.\n",
    "I am <strong>reasonably sure</strong> the speaker is a <strong>Democrat</strong>.\n",
    "I am <strong>almost certain</strong> the speaker is a <strong>Democrat</strong>.\"\"\",\n",
    "\n",
    "    \"democrat\":\"\"\"I am <strong>almost certain</strong> the speaker is a <strong>Democrat</strong>.\n",
    "I am <strong>reasonably sure</strong> the speaker is a <strong>Democrat</strong>.\n",
    "I am <strong>unsure but think that</strong> the speaker is a <strong>Democrat</strong>.\n",
    "I am <strong>unsure but think that</strong> the speaker is a <strong>Republican</strong>.\n",
    "I am <strong>reasonably sure</strong> the speaker is a <strong>Republican</strong>.\n",
    "I am <strong>almost certain</strong> the speaker is a <strong>Republican</strong>.\"\"\"\n",
    "}"
   ]
  },
  {
   "cell_type": "code",
   "execution_count": 4,
   "metadata": {},
   "outputs": [],
   "source": [
    "def write_block(party):\n",
    "    wfh = open(\"survey_{}_first.txt\".format(party), \"w\")\n",
    "    atc = open(\"atc_{}_first.txt\".format(party), \"w\")\n",
    "    wfh.write(\"[[Block:Words]]\")\n",
    "    for i, word in enumerate(words):\n",
    "        wfh.write(\"\"\"\n",
    "\n",
    "{}. {}\n",
    "\n",
    "{}\n",
    "\n",
    "\"\"\".format(i+1, word, options[party]))\n",
    "        atc.write(\"\"\"\n",
    "\n",
    "{}. {}\n",
    "\n",
    "{}\n",
    "\n",
    "\"\"\".format(i+99, word, options[party]))\n",
    "\n",
    "    wfh.write(\"\"\"\n",
    "\n",
    "98.1 BREAK\n",
    "\n",
    "\"\"\")\n",
    "\n",
    "    wfh.close()\n",
    "    atc.close()\n",
    "\n",
    "    # Merge attention checks with main blocks\n",
    "    os.system(\"cat atc_{}_first.txt >> survey_{}_first.txt\".format(party, party))"
   ]
  },
  {
   "cell_type": "code",
   "execution_count": 5,
   "metadata": {},
   "outputs": [],
   "source": [
    "for party in (\"republican\", \"democrat\"):\n",
    "    write_block(party)"
   ]
  },
  {
   "cell_type": "code",
   "execution_count": null,
   "metadata": {},
   "outputs": [],
   "source": []
  }
 ],
 "metadata": {
  "kernelspec": {
   "display_name": "Python 2",
   "language": "python",
   "name": "python2"
  },
  "language_info": {
   "codemirror_mode": {
    "name": "ipython",
    "version": 2
   },
   "file_extension": ".py",
   "mimetype": "text/x-python",
   "name": "python",
   "nbconvert_exporter": "python",
   "pygments_lexer": "ipython2",
   "version": "2.7.17"
  }
 },
 "nbformat": 4,
 "nbformat_minor": 2
}
