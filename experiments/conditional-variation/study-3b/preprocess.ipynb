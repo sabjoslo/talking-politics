{
 "cells": [
  {
   "cell_type": "code",
   "execution_count": 74,
   "metadata": {},
   "outputs": [],
   "source": [
    "import numpy as np\n",
    "import pandas as pd"
   ]
  },
  {
   "cell_type": "code",
   "execution_count": 75,
   "metadata": {},
   "outputs": [
    {
     "data": {
      "text/plain": [
       "203"
      ]
     },
     "execution_count": 75,
     "metadata": {},
     "output_type": "execute_result"
    }
   ],
   "source": [
    "df = pd.read_csv(\"LoP_WordGroups.csv\")\n",
    "# First exclude all the preview responses and p's who didn't finish\n",
    "df = df.loc[(df.Finished == \"1\") & (df.DistributionChannel != \"preview\")]\n",
    "# Now exclude anyone who didn't answer yes to all the consent questions\n",
    "df = df.loc[(df.Q5_1 == \"1\") & (df.Q5_2 == \"1\") & (df.Q5_3 == \"1\") & (df.Q5_4 == \"1\")]\n",
    "len(df)"
   ]
  },
  {
   "cell_type": "code",
   "execution_count": 76,
   "metadata": {},
   "outputs": [],
   "source": [
    "# Now exclude everybody who failed the attention checks\n",
    "imc = np.vectorize(lambda s: \"ATTENTION\" in s)\n",
    "df = df.loc[imc(df.Q1541.values)]"
   ]
  },
  {
   "cell_type": "code",
   "execution_count": 77,
   "metadata": {},
   "outputs": [
    {
     "data": {
      "text/plain": [
       "170"
      ]
     },
     "execution_count": 77,
     "metadata": {},
     "output_type": "execute_result"
    }
   ],
   "source": [
    "len(df)"
   ]
  },
  {
   "cell_type": "code",
   "execution_count": 78,
   "metadata": {},
   "outputs": [],
   "source": [
    "# Include measures of party identity and engagement to speculate on whether or not signal\n",
    "# recovery is a top down (party identity) or bottom-up (political engagement) process\n",
    "df = df[[\"1\",\"2\",\"Q1557\",\"4\",\"5\",\"1.1\",\"2.1\",\"3\",\"4.1\",\"Q1442\",\n",
    "         \"list1_party\",\"list2_party\",\"list3_party\",\"list4_party\",\n",
    "         \"list5_party\",\"list1\",\"list2\",\"list3\",\"list4\",\"list5\",\n",
    "         \"Q612\",\"Q613\",\"Q1430\",\"Q610\",\"Q611\",\"Q619\"]]\n",
    "df.rename(columns = { \"Q1557\": \"3\", \"3\": \"3.1\", \"Q1442\": \"5.1\" }, \n",
    "          inplace = True)\n",
    "df1 = df[[\"1\",\"2\",\"3\",\"4\",\"5\"]]\n",
    "df2 = df[[\"1.1\",\"2.1\",\"3.1\",\"4.1\",\"5.1\"]]\n",
    "df2.replace({ \"1\": \"6.1\", \"2\": \"5.1\", \"3\": \"4.1\", \"4\": \"3.1\", \n",
    "              \"5\": \"2.1\", \"6\": \"1.1\" }, inplace = True)\n",
    "df2.replace({ \"1.1\": \"1\", \"2.1\": \"2\", \"3.1\": \"3\", \"4.1\": \"4\", \n",
    "              \"5.1\": \"5\", \"6.1\": \"6\" }, inplace = True)\n",
    "df2.rename(columns = { \"1.1\": \"1\", \"2.1\": \"2\", \"3.1\": \"3\", \"4.1\": \"4\", \n",
    "                       \"5.1\": \"5\", \"6.1\": \"6\" }, inplace = True)\n",
    "df_ = df1.fillna(df2)\n",
    "df_[[\"list1_party\",\"list2_party\",\"list3_party\",\"list4_party\",\n",
    "     \"list5_party\",\"list1\",\"list2\",\"list3\",\"list4\",\"list5\",\"Q612\",\"Q613\",\"Q1430\",\n",
    "     \"Q610\",\"Q611\",\"Q619\"]] = \\\n",
    "    df[[\"list1_party\",\"list2_party\",\"list3_party\",\"list4_party\",\n",
    "        \"list5_party\",\"list1\",\"list2\",\"list3\",\"list4\",\"list5\",\"Q612\",\"Q613\",\"Q1430\",\n",
    "        \"Q610\",\"Q611\",\"Q619\"]]\n",
    "df_.rename(columns = { \"Q612\": \"party\", \"Q613\": \"party_identity\", \n",
    "                       \"Q1430\": \"political_engagement\", \"Q610\": \"age\", \"Q611\": \"gender\",\n",
    "                       \"Q619\": \"voted\" }, inplace = True)\n",
    "recode = lambda x: int(x)-4 if x != \"-99\" else np.nan\n",
    "df_.party_identity = map(recode, df_.party_identity)\n",
    "df_.political_engagement = map(recode, df_.political_engagement)"
   ]
  },
  {
   "cell_type": "code",
   "execution_count": 80,
   "metadata": {},
   "outputs": [],
   "source": [
    "df_.to_csv(\"responses.csv\")"
   ]
  },
  {
   "cell_type": "code",
   "execution_count": 81,
   "metadata": {},
   "outputs": [
    {
     "data": {
      "text/plain": [
       "(78, 37)"
      ]
     },
     "execution_count": 81,
     "metadata": {},
     "output_type": "execute_result"
    }
   ],
   "source": [
    "len(df_.loc[df_.party == \"2\"]), len(df_.loc[df_.party == \"1\"])"
   ]
  },
  {
   "cell_type": "markdown",
   "metadata": {},
   "source": [
    "Get valence data."
   ]
  },
  {
   "cell_type": "code",
   "execution_count": 82,
   "metadata": {},
   "outputs": [
    {
     "data": {
      "text/plain": [
       "41"
      ]
     },
     "execution_count": 82,
     "metadata": {},
     "output_type": "execute_result"
    }
   ],
   "source": [
    "valence_df = pd.read_csv(\"LoP_ValenceRatings.csv\")\n",
    "# First exclude all the preview responses and p's who didn't finish\n",
    "valence_df = valence_df.loc[(valence_df.Finished == \"TRUE\") & \n",
    "                            (valence_df.DistributionChannel != \"preview\")]\n",
    "# Now exclude anyone who didn't answer yes to all the consent questions\n",
    "valence_df = valence_df.loc[(valence_df.Q5_1 == \"Yes\") & \n",
    "                            (valence_df.Q5_2 == \"Yes\") & \n",
    "                            (valence_df.Q5_3 == \"Yes\") & \n",
    "                            (valence_df.Q5_4 == \"Yes\")]\n",
    "len(valence_df)"
   ]
  },
  {
   "cell_type": "code",
   "execution_count": 83,
   "metadata": {},
   "outputs": [],
   "source": [
    "# Now exclude everybody who failed the attention checks\n",
    "imc = np.vectorize(lambda s: \"ATTENTION\" in s)\n",
    "valence_df = valence_df.loc[imc(valence_df.Q1440.values)]"
   ]
  },
  {
   "cell_type": "code",
   "execution_count": 84,
   "metadata": {},
   "outputs": [
    {
     "data": {
      "text/plain": [
       "26"
      ]
     },
     "execution_count": 84,
     "metadata": {},
     "output_type": "execute_result"
    }
   ],
   "source": [
    "len(valence_df)"
   ]
  },
  {
   "cell_type": "code",
   "execution_count": 85,
   "metadata": {},
   "outputs": [],
   "source": [
    "valence_df.rename(columns = dict(zip(map(str, range(1,26)), \n",
    "                                     range(1,26))), inplace = True)\n",
    "# Recode everything in reverse for interpretability \n",
    "# (higher numbers == higher valence)\n",
    "valence_df.replace(dict(zip(map(str, range(2,9)), [ 8,7,6,5,4,3,2 ])), \n",
    "                   inplace = True)\n",
    "valence_df.replace({ \"Happy 1\": 9, \"Unhappy 9\": 1 }, inplace = True)"
   ]
  },
  {
   "cell_type": "code",
   "execution_count": 86,
   "metadata": {},
   "outputs": [],
   "source": [
    "words = pd.read_csv(\"../study-3a/synonyms.csv\")\n",
    "valence_data = words.loc[range(7) + range(8,26)][[\"D\",\"R\"]]\n",
    "valence_data[\"D_valence\"] = np.full((25,), np.nan)\n",
    "valence_data[\"R_valence\"] = np.full((25,), np.nan)\n",
    "valence_data.reset_index(inplace = True)\n",
    "valence_data.index = valence_data.index + 1"
   ]
  },
  {
   "cell_type": "code",
   "execution_count": 87,
   "metadata": {},
   "outputs": [],
   "source": [
    "for i in range(1,26):\n",
    "    dratings = valence_df[i][valence_df[\"pair{}\".format(i)] == valence_data.loc[i][\"D\"]]\n",
    "    rratings = valence_df[i][valence_df[\"pair{}\".format(i)] == valence_data.loc[i][\"R\"]]\n",
    "    valence_data.loc[(i,\"D_valence\")] = np.mean(dratings)\n",
    "    valence_data.loc[(i,\"R_valence\")] = np.mean(rratings)"
   ]
  },
  {
   "cell_type": "code",
   "execution_count": 88,
   "metadata": {},
   "outputs": [],
   "source": [
    "valence_data.to_csv(\"valence_data.csv\")"
   ]
  },
  {
   "cell_type": "code",
   "execution_count": null,
   "metadata": {},
   "outputs": [],
   "source": []
  }
 ],
 "metadata": {
  "kernelspec": {
   "display_name": "Python 2",
   "language": "python",
   "name": "python2"
  },
  "language_info": {
   "codemirror_mode": {
    "name": "ipython",
    "version": 2
   },
   "file_extension": ".py",
   "mimetype": "text/x-python",
   "name": "python",
   "nbconvert_exporter": "python",
   "pygments_lexer": "ipython2",
   "version": "2.7.17"
  }
 },
 "nbformat": 4,
 "nbformat_minor": 2
}
