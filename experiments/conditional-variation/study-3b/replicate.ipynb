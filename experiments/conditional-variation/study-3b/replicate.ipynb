{
 "cells": [
  {
   "cell_type": "code",
   "execution_count": 1,
   "metadata": {},
   "outputs": [],
   "source": [
    "%matplotlib inline\n",
    "#! switch_R 3.3\n",
    "%load_ext rpy2.ipython"
   ]
  },
  {
   "cell_type": "code",
   "execution_count": 2,
   "metadata": {},
   "outputs": [
    {
     "name": "stderr",
     "output_type": "stream",
     "text": [
      "/Users/sabinasloman/git/talking-politics/pyspan/config.py:19: UserWarning: \n",
      "This call to matplotlib.use() has no effect because the backend has already\n",
      "been chosen; matplotlib.use() must be called *before* pylab, matplotlib.pyplot,\n",
      "or matplotlib.backends is imported for the first time.\n",
      "\n",
      "The backend was *originally* set to 'module://ipykernel.pylab.backend_inline' by the following code:\n",
      "  File \"/Users/sabinasloman/.pyenv/versions/2.7.17/lib/python2.7/runpy.py\", line 174, in _run_module_as_main\n",
      "    \"__main__\", fname, loader, pkg_name)\n",
      "  File \"/Users/sabinasloman/.pyenv/versions/2.7.17/lib/python2.7/runpy.py\", line 72, in _run_code\n",
      "    exec code in run_globals\n",
      "  File \"/Users/sabinasloman/.pyenv/versions/2.7.17/envs/politics-test-bed/lib/python2.7/site-packages/ipykernel_launcher.py\", line 16, in <module>\n",
      "    app.launch_new_instance()\n",
      "  File \"/Users/sabinasloman/.pyenv/versions/2.7.17/envs/politics-test-bed/lib/python2.7/site-packages/traitlets/config/application.py\", line 664, in launch_instance\n",
      "    app.start()\n",
      "  File \"/Users/sabinasloman/.pyenv/versions/2.7.17/envs/politics-test-bed/lib/python2.7/site-packages/ipykernel/kernelapp.py\", line 499, in start\n",
      "    self.io_loop.start()\n",
      "  File \"/Users/sabinasloman/.pyenv/versions/2.7.17/envs/politics-test-bed/lib/python2.7/site-packages/tornado/ioloop.py\", line 1073, in start\n",
      "    handler_func(fd_obj, events)\n",
      "  File \"/Users/sabinasloman/.pyenv/versions/2.7.17/envs/politics-test-bed/lib/python2.7/site-packages/tornado/stack_context.py\", line 300, in null_wrapper\n",
      "    return fn(*args, **kwargs)\n",
      "  File \"/Users/sabinasloman/.pyenv/versions/2.7.17/envs/politics-test-bed/lib/python2.7/site-packages/zmq/eventloop/zmqstream.py\", line 456, in _handle_events\n",
      "    self._handle_recv()\n",
      "  File \"/Users/sabinasloman/.pyenv/versions/2.7.17/envs/politics-test-bed/lib/python2.7/site-packages/zmq/eventloop/zmqstream.py\", line 486, in _handle_recv\n",
      "    self._run_callback(callback, msg)\n",
      "  File \"/Users/sabinasloman/.pyenv/versions/2.7.17/envs/politics-test-bed/lib/python2.7/site-packages/zmq/eventloop/zmqstream.py\", line 438, in _run_callback\n",
      "    callback(*args, **kwargs)\n",
      "  File \"/Users/sabinasloman/.pyenv/versions/2.7.17/envs/politics-test-bed/lib/python2.7/site-packages/tornado/stack_context.py\", line 300, in null_wrapper\n",
      "    return fn(*args, **kwargs)\n",
      "  File \"/Users/sabinasloman/.pyenv/versions/2.7.17/envs/politics-test-bed/lib/python2.7/site-packages/ipykernel/kernelbase.py\", line 283, in dispatcher\n",
      "    return self.dispatch_shell(stream, msg)\n",
      "  File \"/Users/sabinasloman/.pyenv/versions/2.7.17/envs/politics-test-bed/lib/python2.7/site-packages/ipykernel/kernelbase.py\", line 233, in dispatch_shell\n",
      "    handler(stream, idents, msg)\n",
      "  File \"/Users/sabinasloman/.pyenv/versions/2.7.17/envs/politics-test-bed/lib/python2.7/site-packages/ipykernel/kernelbase.py\", line 399, in execute_request\n",
      "    user_expressions, allow_stdin)\n",
      "  File \"/Users/sabinasloman/.pyenv/versions/2.7.17/envs/politics-test-bed/lib/python2.7/site-packages/ipykernel/ipkernel.py\", line 208, in do_execute\n",
      "    res = shell.run_cell(code, store_history=store_history, silent=silent)\n",
      "  File \"/Users/sabinasloman/.pyenv/versions/2.7.17/envs/politics-test-bed/lib/python2.7/site-packages/ipykernel/zmqshell.py\", line 537, in run_cell\n",
      "    return super(ZMQInteractiveShell, self).run_cell(*args, **kwargs)\n",
      "  File \"/Users/sabinasloman/.pyenv/versions/2.7.17/envs/politics-test-bed/lib/python2.7/site-packages/IPython/core/interactiveshell.py\", line 2724, in run_cell\n",
      "    self.events.trigger('post_run_cell')\n",
      "  File \"/Users/sabinasloman/.pyenv/versions/2.7.17/envs/politics-test-bed/lib/python2.7/site-packages/IPython/core/events.py\", line 74, in trigger\n",
      "    func(*args, **kwargs)\n",
      "  File \"/Users/sabinasloman/.pyenv/versions/2.7.17/envs/politics-test-bed/lib/python2.7/site-packages/ipykernel/pylab/backend_inline.py\", line 164, in configure_once\n",
      "    activate_matplotlib(backend)\n",
      "  File \"/Users/sabinasloman/.pyenv/versions/2.7.17/envs/politics-test-bed/lib/python2.7/site-packages/IPython/core/pylabtools.py\", line 315, in activate_matplotlib\n",
      "    matplotlib.pyplot.switch_backend(backend)\n",
      "  File \"/Users/sabinasloman/.pyenv/versions/2.7.17/envs/politics-test-bed/lib/python2.7/site-packages/matplotlib/pyplot.py\", line 231, in switch_backend\n",
      "    matplotlib.use(newbackend, warn=False, force=True)\n",
      "  File \"/Users/sabinasloman/.pyenv/versions/2.7.17/envs/politics-test-bed/lib/python2.7/site-packages/matplotlib/__init__.py\", line 1425, in use\n",
      "    reload(sys.modules['matplotlib.backends'])\n",
      "  File \"/Users/sabinasloman/.pyenv/versions/2.7.17/envs/politics-test-bed/lib/python2.7/site-packages/matplotlib/backends/__init__.py\", line 17, in <module>\n",
      "    line for line in traceback.format_stack()\n",
      "\n",
      "\n",
      "  mpl.use(settings[\"mpl_backend\"])\n",
      "/Users/sabinasloman/git/talking-politics/pyspan/ratings_task/data.py:27: FutureWarning: Sorting because non-concatenation axis is not aligned. A future version\n",
      "of pandas will change to not sort by default.\n",
      "\n",
      "To accept the future behavior, pass 'sort=False'.\n",
      "\n",
      "To retain the current behavior and silence the warning, pass 'sort=True'.\n",
      "\n",
      "  all_ = pd.concat((partisan, antonyms))\n"
     ]
    }
   ],
   "source": [
    "import math\n",
    "import numpy as np\n",
    "import pandas as pd\n",
    "import pickle\n",
    "import pygam\n",
    "from pyspan.config import *\n",
    "from pyspan.ratings_task.analysis import freq_df, n_utterances, SparseLR\n",
    "from pyspan.utils import *"
   ]
  },
  {
   "cell_type": "code",
   "execution_count": 3,
   "metadata": {},
   "outputs": [],
   "source": [
    "signals = pickle.load(open(paths[\"metrics_dir\"] + \"signals-unigrams\"))\n",
    "words = pd.read_csv(\"{}synonyms.csv\".format(paths[\"synonyms_task_path\"]))\n",
    "words = words.loc[range(7) + range(8,26)][[\"D\",\"R\"]]\n",
    "words = np.ravel(words)\n",
    "signals = dict(zip(words, \n",
    "                   map(lambda w: signals.loc[w][\"rmetric\"], words)))\n",
    "valence_data = pd.read_csv(\"valence_data.csv\")\n",
    "valences = dict(zip(np.ravel(valence_data[[\"D\",\"R\"]]), \n",
    "                    np.ravel(valence_data[[\"D_valence\",\"R_valence\"]]))\n",
    "               )"
   ]
  },
  {
   "cell_type": "code",
   "execution_count": 4,
   "metadata": {},
   "outputs": [],
   "source": [
    "df = pd.read_csv(\"responses.csv\")\n",
    "df.rename(columns = { \"1\": 1, \"2\": 2, \"3\": 3, \"4\": 4, \"5\": 5 },\n",
    "          inplace = True)\n",
    "df.replace({ \"1\": 1, \"2\": 2, \"3\": 3, \"4\": 4, \"5\": 5 }, inplace = True)"
   ]
  },
  {
   "cell_type": "code",
   "execution_count": 5,
   "metadata": {},
   "outputs": [],
   "source": [
    "list_party_cols = map(lambda i: \"list{}_party\".format(i), range(1,6))\n",
    "list_cols = map(lambda i: \"list{}\".format(i), range(1,6))"
   ]
  },
  {
   "cell_type": "markdown",
   "metadata": {},
   "source": [
    "# Participants"
   ]
  },
  {
   "cell_type": "code",
   "execution_count": 6,
   "metadata": {},
   "outputs": [
    {
     "name": "stdout",
     "output_type": "stream",
     "text": [
      "35.811764705882354 0.8264673367019187\n",
      "102 66\n",
      "0.788235294117647\n"
     ]
    }
   ],
   "source": [
    "# Some demographics\n",
    "# Mean age and standard error\n",
    "print np.mean(df.age[~np.isnan(df.age)]), stats.sem(df.age[~np.isnan(df.age)])\n",
    "# n identifying as male/female\n",
    "print len(df.loc[df.gender == 2]), len(df.loc[df.gender == 1])\n",
    "voted = df.voted.values\n",
    "voted[voted == 2] = 0\n",
    "# % voted\n",
    "print np.mean(voted)"
   ]
  },
  {
   "cell_type": "markdown",
   "metadata": {},
   "source": [
    "# Results"
   ]
  },
  {
   "cell_type": "code",
   "execution_count": 7,
   "metadata": {},
   "outputs": [],
   "source": [
    "dmask = np.ma.masked_where(df[list_party_cols] == \"democrat\", \n",
    "                           df[range(1,6)])\n",
    "ddat = dmask.data[dmask.mask]\n",
    "rmask = np.ma.masked_where(df[list_party_cols] == \"republican\", \n",
    "                           df[range(1,6)])\n",
    "rdat = rmask.data[rmask.mask]"
   ]
  },
  {
   "cell_type": "markdown",
   "metadata": {},
   "source": [
    "Mean participant rating on the Republican and Democratic items."
   ]
  },
  {
   "cell_type": "code",
   "execution_count": 8,
   "metadata": {},
   "outputs": [
    {
     "data": {
      "text/plain": [
       "(3.9569377990430623, 3.5416666666666665)"
      ]
     },
     "execution_count": 8,
     "metadata": {},
     "output_type": "execute_result"
    }
   ],
   "source": [
    "rmu = np.mean(rdat[~np.isnan(rdat)])\n",
    "dmu = np.mean(ddat[~np.isnan(ddat)])\n",
    "rmu, dmu"
   ]
  },
  {
   "cell_type": "code",
   "execution_count": 9,
   "metadata": {},
   "outputs": [],
   "source": [
    "ddat_ = dmask.data.copy().astype(\"float\")\n",
    "ddat_[~dmask.mask] = np.nan\n",
    "rdat_ = rmask.data.copy().astype(\"float\")\n",
    "rdat_[~rmask.mask] = np.nan\n",
    "assert ddat_.shape == rdat_.shape"
   ]
  },
  {
   "cell_type": "code",
   "execution_count": 10,
   "metadata": {},
   "outputs": [],
   "source": [
    "n, k = ddat_.shape"
   ]
  },
  {
   "cell_type": "code",
   "execution_count": 11,
   "metadata": {},
   "outputs": [],
   "source": [
    "ixn = np.repeat(np.arange(n), k)"
   ]
  },
  {
   "cell_type": "markdown",
   "metadata": {},
   "source": [
    "Perform one- and two-sample $t$-tests, using the clustered standard errors function provided by Arai (2011)."
   ]
  },
  {
   "cell_type": "code",
   "execution_count": 12,
   "metadata": {},
   "outputs": [],
   "source": [
    "%%R\n",
    "source(\"../clmclx.R\")"
   ]
  },
  {
   "cell_type": "markdown",
   "metadata": {},
   "source": [
    "One-sample test (judgments of the Democratic words). This tests the hypothesis that the mean is *greater* than or equal to the indifference point. Our hypothesis is that the mean is less than or equal to the indifference point, so the $p$-value reported in the paper is 1 - the $p$-value shown here."
   ]
  },
  {
   "cell_type": "code",
   "execution_count": 13,
   "metadata": {},
   "outputs": [
    {
     "name": "stderr",
     "output_type": "stream",
     "text": [
      "/Users/sabinasloman/.pyenv/versions/2.7.17/envs/politics-test-bed/lib/python2.7/site-packages/rpy2/rinterface/__init__.py:186: RRuntimeWarning: Loading required package: zoo\n",
      "\n",
      "  warnings.warn(x, RRuntimeWarning)\n",
      "/Users/sabinasloman/.pyenv/versions/2.7.17/envs/politics-test-bed/lib/python2.7/site-packages/rpy2/rinterface/__init__.py:186: RRuntimeWarning: \n",
      "Attaching package: ‘zoo’\n",
      "\n",
      "\n",
      "  warnings.warn(x, RRuntimeWarning)\n",
      "/Users/sabinasloman/.pyenv/versions/2.7.17/envs/politics-test-bed/lib/python2.7/site-packages/rpy2/rinterface/__init__.py:186: RRuntimeWarning: The following objects are masked from ‘package:base’:\n",
      "\n",
      "    as.Date, as.Date.numeric\n",
      "\n",
      "\n",
      "  warnings.warn(x, RRuntimeWarning)\n"
     ]
    },
    {
     "data": {
      "text/plain": [
       "[1] 431\n",
       "[1] \"0.062644319064084 0.665130809771313 0.253161290177374\"\n"
      ]
     },
     "metadata": {},
     "output_type": "display_data"
    }
   ],
   "source": [
    "%%R -i ddat_,ixn\n",
    "yd <- c(t(ddat_)) - 3.5\n",
    "ixnd <- ixn[which(!is.na(yd))]\n",
    "fit <- lm(yd ~ 1)\n",
    "print(fit$df.residual)\n",
    "res <- clx(fit, 1, ixnd)\n",
    "se <- res[1,2]\n",
    "t <- res[1,3]\n",
    "p <- res[1,4] / 2\n",
    "print(paste(se, t, p))"
   ]
  },
  {
   "cell_type": "markdown",
   "metadata": {},
   "source": [
    "One-sample test (judgments of the Republican words)."
   ]
  },
  {
   "cell_type": "code",
   "execution_count": 14,
   "metadata": {},
   "outputs": [
    {
     "data": {
      "text/plain": [
       "[1] 417\n",
       "[1] \"0.0657689920344988 6.94761748520301 7.17869373919611e-12\"\n"
      ]
     },
     "metadata": {},
     "output_type": "display_data"
    }
   ],
   "source": [
    "%%R -i rdat_\n",
    "yr <- c(t(rdat_)) - 3.5\n",
    "ixnr <- ixn[which(!is.na(yr))]\n",
    "fit <- lm(yr ~ 1)\n",
    "print(fit$df.residual)\n",
    "res <- clx(fit, 1, ixnr)\n",
    "se <- res[1,2]\n",
    "t <- res[1,3]\n",
    "p <- res[1,4] / 2\n",
    "print(paste(se, t, p))"
   ]
  },
  {
   "cell_type": "markdown",
   "metadata": {},
   "source": [
    "Two-sample test (testing the difference in means)."
   ]
  },
  {
   "cell_type": "code",
   "execution_count": 15,
   "metadata": {},
   "outputs": [],
   "source": [
    "groups = np.isnan(ddat_)"
   ]
  },
  {
   "cell_type": "code",
   "execution_count": 16,
   "metadata": {},
   "outputs": [],
   "source": [
    "dat_ = ddat_.copy()\n",
    "dat_[groups] = rdat_[groups]"
   ]
  },
  {
   "cell_type": "code",
   "execution_count": 17,
   "metadata": {},
   "outputs": [
    {
     "data": {
      "text/plain": [
       "[1] 848\n",
       "[1] \"0.0920699146428025 4.51038902324924 3.69102129251564e-06\"\n"
      ]
     },
     "metadata": {},
     "output_type": "display_data"
    }
   ],
   "source": [
    "%%R -i dat_,groups\n",
    "y <- c(t(dat_)) - 3.5\n",
    "x <- as.integer(c(t(groups)))\n",
    "ixn_ <- ixn[which(!is.na(y))]\n",
    "fit <- lm(y ~ x)\n",
    "print(fit$df.residual)\n",
    "res <- clx(fit, 1, ixn_)\n",
    "se <- res[2,2]\n",
    "t <- res[2,3]\n",
    "p <- res[2,4] / 2\n",
    "print(paste(se, t, p))"
   ]
  },
  {
   "cell_type": "markdown",
   "metadata": {},
   "source": [
    "## Effect size\n",
    "\n",
    "Using the formula from [Rouder et al. (2012)](http://pcl.missouri.edu/sites/default/files/Rouder.JMP_.2012.pdf) and explained in [Jake Westfall's blog post](http://jakewestfall.org/blog/index.php/2016/03/25/five-different-cohens-d-statistics-for-within-subject-designs/)."
   ]
  },
  {
   "cell_type": "code",
   "execution_count": 18,
   "metadata": {},
   "outputs": [
    {
     "name": "stderr",
     "output_type": "stream",
     "text": [
      "/Users/sabinasloman/.pyenv/versions/2.7.17/envs/politics-test-bed/lib/python2.7/site-packages/rpy2/rinterface/__init__.py:186: RRuntimeWarning: Loading required package: Matrix\n",
      "\n",
      "  warnings.warn(x, RRuntimeWarning)\n",
      "/Users/sabinasloman/.pyenv/versions/2.7.17/envs/politics-test-bed/lib/python2.7/site-packages/rpy2/rinterface/__init__.py:186: RRuntimeWarning: boundary (singular) fit: see ?isSingular\n",
      "\n",
      "  warnings.warn(x, RRuntimeWarning)\n"
     ]
    },
    {
     "data": {
      "text/plain": [
       "[1] 0.2960532\n"
      ]
     },
     "metadata": {},
     "output_type": "display_data"
    }
   ],
   "source": [
    "%%R\n",
    "library(\"lme4\")\n",
    "mod <- lmer(y ~ x + (x|ixn))\n",
    "delta <- summary(mod)$coefficients[2,1]\n",
    "sig <- sigma(mod)\n",
    "delta / sig"
   ]
  },
  {
   "cell_type": "markdown",
   "metadata": {},
   "source": [
    "## Participant-level analyses"
   ]
  },
  {
   "cell_type": "code",
   "execution_count": 19,
   "metadata": {},
   "outputs": [],
   "source": [
    "acc_dat = dat_.copy()\n",
    "acc_dat[groups] = acc_dat[groups] > 3.5\n",
    "acc_dat[~groups] = acc_dat[~groups] < 3.5\n",
    "paccs = np.mean(acc_dat, axis=1)"
   ]
  },
  {
   "cell_type": "code",
   "execution_count": 20,
   "metadata": {},
   "outputs": [
    {
     "data": {
      "text/plain": [
       "(0.5717647058823528, 0.015769474215354358)"
      ]
     },
     "execution_count": 20,
     "metadata": {},
     "output_type": "execute_result"
    }
   ],
   "source": [
    "np.mean(paccs), stats.sem(paccs)"
   ]
  },
  {
   "cell_type": "code",
   "execution_count": 21,
   "metadata": {},
   "outputs": [
    {
     "data": {
      "text/plain": [
       "(4.550862311723575, 5.085073814931977e-06, 169, 110)"
      ]
     },
     "execution_count": 21,
     "metadata": {},
     "output_type": "execute_result"
    }
   ],
   "source": [
    "t, p = stats.ttest_1samp(paccs, .5)\n",
    "t, p / 2, len(paccs) - 1, len(paccs[paccs > .5])"
   ]
  },
  {
   "cell_type": "markdown",
   "metadata": {},
   "source": [
    "Restricting to Republican items."
   ]
  },
  {
   "cell_type": "code",
   "execution_count": 22,
   "metadata": {},
   "outputs": [],
   "source": [
    "def mean_(a):\n",
    "    return np.mean(a[~np.isnan(a)])"
   ]
  },
  {
   "cell_type": "code",
   "execution_count": 23,
   "metadata": {},
   "outputs": [
    {
     "data": {
      "text/plain": [
       "(0.6470588235294118, 0.021891080768245544)"
      ]
     },
     "execution_count": 23,
     "metadata": {},
     "output_type": "execute_result"
    }
   ],
   "source": [
    "racc_dat = acc_dat.copy()\n",
    "racc_dat[~groups] = np.nan\n",
    "paccs_r = np.apply_along_axis(mean_, 1, racc_dat)\n",
    "np.mean(paccs_r), stats.sem(paccs_r)"
   ]
  },
  {
   "cell_type": "markdown",
   "metadata": {},
   "source": [
    "Restricting to Democratic items."
   ]
  },
  {
   "cell_type": "code",
   "execution_count": 24,
   "metadata": {},
   "outputs": [
    {
     "data": {
      "text/plain": [
       "(0.49803921568627446, 0.021676469945413678)"
      ]
     },
     "execution_count": 24,
     "metadata": {},
     "output_type": "execute_result"
    }
   ],
   "source": [
    "dacc_dat = acc_dat.copy()\n",
    "dacc_dat[groups] = np.nan\n",
    "paccs_d = np.apply_along_axis(mean_, 1, dacc_dat)\n",
    "np.mean(paccs_d), stats.sem(paccs_d)"
   ]
  },
  {
   "cell_type": "markdown",
   "metadata": {},
   "source": [
    "# Appendix D"
   ]
  },
  {
   "cell_type": "markdown",
   "metadata": {},
   "source": [
    "A logistic regression where the unit of observation is the likelihood judgment of a group of five words. In particular, we will estimate the model, including participant-level effects:\n",
    "\n",
    "REPUBLICAN ~ Sum(log odds that each word was spoken by a Republican) + Sum(valence of words) + Participant's party identity + Sum(valence of words) * Participant's party identity\n",
    "\n",
    "where \"REPUBLICAN\" corresponds to a rating >= 3, or a judgment that the list of words was \"more likely to have been spoken by a Republican\"."
   ]
  },
  {
   "cell_type": "code",
   "execution_count": 25,
   "metadata": {},
   "outputs": [],
   "source": [
    "lr_data = df.copy()\n",
    "lr_data = lr_data.loc[lr_data.party.isin([ 1,2 ])]\n",
    "\n",
    "n = len(lr_data)\n",
    "# Add dummy columns\n",
    "for i in range(1, n):\n",
    "    ids = np.zeros(n)\n",
    "    ids[i] = 1\n",
    "    lr_data[\"participant{}\".format(i)] = ids"
   ]
  },
  {
   "cell_type": "code",
   "execution_count": 26,
   "metadata": {},
   "outputs": [],
   "source": [
    "Y_full = np.ravel(lr_data[range(1,6)])\n",
    "Y = Y_full > 2.5\n",
    "# (n ps * n choices, 4 + (n ps - 1) + n words)\n",
    "X = np.full((n * 5, 4 + n - 1 + len(words)), np.nan)\n",
    "# Sum(log odds that each word was spoken by a Republican)\n",
    "vf = np.vectorize(lambda l: sum(map(lambda w: signals[w], \n",
    "                                    l.split(\", \"))))\n",
    "X[:,0] = vf(np.ravel(lr_data[list_cols]))\n",
    "# Sum(valence of words)\n",
    "vf = np.vectorize(lambda l: sum(map(lambda w: valences[w] - 5, \n",
    "                                    l.split(\", \"))))\n",
    "X[:,1] = vf(np.ravel(lr_data[list_cols]))\n",
    "# Participant's political identity\n",
    "vf = np.vectorize(lambda pid: int(pid == 1))\n",
    "pids = np.repeat(vf(lr_data.party), 5)\n",
    "pids[pids == 0] = -1\n",
    "X[:,2] = pids\n",
    "# Valence of word * Participant's party identity\n",
    "X[:,3] = X[:,1] * X[:,2]\n",
    "\n",
    "# Participant dummies\n",
    "for i in range(4, 4 + n - 1):\n",
    "    X[:,i] = np.repeat(lr_data[\"participant{}\".format(i-3)], 5)\n",
    "    \n",
    "# Indicators of whether a particular word was in the set\n",
    "for i in range(len(words)):\n",
    "    vf = np.vectorize(lambda l: int(words[i] in l.split(\", \")))\n",
    "    X[:,4+n-1+i] = vf(np.ravel(lr_data[list_cols]))"
   ]
  },
  {
   "cell_type": "code",
   "execution_count": 27,
   "metadata": {},
   "outputs": [],
   "source": [
    "Y = Y[~np.isnan(Y_full)]\n",
    "X = X[~np.isnan(Y_full)]\n",
    "Y_full = Y_full[~np.isnan(Y_full)]\n",
    "X = X[~np.isnan(Y)]\n",
    "Y_full = Y_full[~np.isnan(Y)]\n",
    "Y = Y[~np.isnan(Y)]\n",
    "Y = Y[~np.isnan(X).any(axis = 1)]\n",
    "Y_full = Y_full[~np.isnan(X).any(axis = 1)]\n",
    "X = X[~np.isnan(X).any(axis = 1),:]"
   ]
  },
  {
   "cell_type": "code",
   "execution_count": 28,
   "metadata": {},
   "outputs": [],
   "source": [
    "# Get a dataframe where the signal indicator is binarized\n",
    "X_binary = X.copy()\n",
    "X_binary[:,0] = [ x > 0 for x in X_binary[:,0] ]"
   ]
  },
  {
   "cell_type": "markdown",
   "metadata": {},
   "source": [
    "Table 2 column 1: Binary DV; binary $logodds_R$ measure."
   ]
  },
  {
   "cell_type": "code",
   "execution_count": 29,
   "metadata": {},
   "outputs": [
    {
     "name": "stderr",
     "output_type": "stream",
     "text": [
      "/Users/sabinasloman/.pyenv/versions/2.7.17/envs/politics-test-bed/lib/python2.7/site-packages/sklearn/model_selection/_split.py:2052: FutureWarning: You should specify a value for 'cv' instead of relying on the default value. The default value will change from 3 to 5 in version 0.22.\n",
      "  warnings.warn(CV_WARNING, FutureWarning)\n"
     ]
    },
    {
     "data": {
      "text/plain": [
       "(array([ 0.77131452, -0.07204687, -0.09881942,  0.05852519]),\n",
       " 0.8157231452923424)"
      ]
     },
     "execution_count": 29,
     "metadata": {},
     "output_type": "execute_result"
    }
   ],
   "source": [
    "# Ensure the matrix is of full rank\n",
    "assert X_binary[:,:4+n-1].shape[1] == np.linalg.matrix_rank(X_binary[:,:4+n-1])\n",
    "logit = SparseLR(Y, X_binary[:,:4+n-1]); logit.coef[:4], logit.auc"
   ]
  },
  {
   "cell_type": "code",
   "execution_count": 30,
   "metadata": {},
   "outputs": [
    {
     "data": {
      "text/plain": [
       "array([0.0564404 , 0.00899905, 0.        , 0.03209182])"
      ]
     },
     "execution_count": 30,
     "metadata": {},
     "output_type": "execute_result"
    }
   ],
   "source": [
    "# Test using word indicators, for robustness\n",
    "logit = SparseLR(Y, X_binary); logit.coef[:4]"
   ]
  },
  {
   "cell_type": "markdown",
   "metadata": {},
   "source": [
    "Table 2 column 2: Binary DV; continuous $logodds_R$ measure."
   ]
  },
  {
   "cell_type": "code",
   "execution_count": 31,
   "metadata": {},
   "outputs": [
    {
     "name": "stderr",
     "output_type": "stream",
     "text": [
      "/Users/sabinasloman/.pyenv/versions/2.7.17/envs/politics-test-bed/lib/python2.7/site-packages/sklearn/svm/base.py:931: ConvergenceWarning: Liblinear failed to converge, increase the number of iterations.\n",
      "  \"the number of iterations.\", ConvergenceWarning)\n"
     ]
    },
    {
     "data": {
      "text/plain": [
       "(array([ 0.17634678, -0.06191901, -0.10158312,  0.05907993]),\n",
       " 0.8142141743773423)"
      ]
     },
     "execution_count": 31,
     "metadata": {},
     "output_type": "execute_result"
    }
   ],
   "source": [
    "# Ensure the matrix is of full rank\n",
    "assert X[:,:4+n-1].shape[1] == np.linalg.matrix_rank(X[:,:4+n-1])\n",
    "logit = SparseLR(Y, X[:,:4+n-1]); logit.coef[:4], logit.auc"
   ]
  },
  {
   "cell_type": "code",
   "execution_count": 32,
   "metadata": {},
   "outputs": [
    {
     "data": {
      "text/plain": [
       "(array([0.07142957, 0.00047752, 0.        , 0.03124853]), 0.6174012536066062)"
      ]
     },
     "execution_count": 32,
     "metadata": {},
     "output_type": "execute_result"
    }
   ],
   "source": [
    "# Test using word indicators, for robustness\n",
    "logit = SparseLR(Y, X); logit.coef[:4], logit.auc"
   ]
  },
  {
   "cell_type": "markdown",
   "metadata": {},
   "source": [
    "Logistic GAM"
   ]
  },
  {
   "cell_type": "code",
   "execution_count": 33,
   "metadata": {},
   "outputs": [
    {
     "data": {
      "text/plain": [
       "LogisticGAM(callbacks=[Deviance(), Diffs(), Accuracy()], \n",
       "   fit_intercept=True, max_iter=100, \n",
       "   terms=s(0) + s(1) + f(2) + s(3) + f(4) + f(5) + f(6) + f(7) + f(8) + f(9) + f(10) + f(11) + f(12) + f(13) + f(14) + f(15) + f(16) + f(17) + f(18) + f(19) + f(20) + f(21) + f(22) + f(23) + f(24) + f(25) + f(26) + f(27) + f(28) + f(29) + f(30) + f(31) + f(32) + f(33) + f(34) + f(35) + f(36) + f(37) + f(38) + f(39) + f(40) + f(41) + f(42) + f(43) + f(44) + f(45) + f(46) + f(47) + f(48) + f(49) + f(50) + f(51) + f(52) + f(53) + f(54) + f(55) + f(56) + f(57) + f(58) + f(59) + f(60) + f(61) + f(62) + f(63) + f(64) + f(65) + f(66) + f(67) + f(68) + f(69) + f(70) + f(71) + f(72) + f(73) + f(74) + f(75) + f(76) + f(77) + f(78) + f(79) + f(80) + f(81) + f(82) + f(83) + f(84) + f(85) + f(86) + f(87) + f(88) + f(89) + f(90) + f(91) + f(92) + f(93) + f(94) + f(95) + f(96) + f(97) + f(98) + f(99) + f(100) + f(101) + f(102) + f(103) + f(104) + f(105) + f(106) + f(107) + f(108) + f(109) + f(110) + f(111) + f(112) + f(113) + f(114) + f(115) + f(116) + f(117) + intercept,\n",
       "   tol=0.0001, verbose=False)"
      ]
     },
     "execution_count": 33,
     "metadata": {},
     "output_type": "execute_result"
    }
   ],
   "source": [
    "X_ = X[:,:4+n-1]\n",
    "logistic_gam = pygam.LogisticGAM(pygam.terms.TermList(*[pygam.s(0), pygam.s(1), \n",
    "                                 pygam.f(2), pygam.s(3)] + \n",
    "                                 [pygam.f(i) for i in range(4, X_.shape[1])]))\n",
    "logistic_gam.fit(X_, Y)"
   ]
  },
  {
   "cell_type": "code",
   "execution_count": 34,
   "metadata": {},
   "outputs": [
    {
     "data": {
      "image/png": "[encoded data removed]",
      "text/plain": [
       "<Figure size 432x288 with 1 Axes>"
      ]
     },
     "metadata": {
      "needs_background": "light"
     },
     "output_type": "display_data"
    }
   ],
   "source": [
    "plot_prf(logistic_gam, 0, logit.coef[0])"
   ]
  },
  {
   "cell_type": "markdown",
   "metadata": {},
   "source": [
    "Table 2 column 3: Ordinal DV; binary $logodds_R$ measure."
   ]
  },
  {
   "cell_type": "code",
   "execution_count": 35,
   "metadata": {},
   "outputs": [
    {
     "data": {
      "text/plain": [
       "array([ 0.61403412, -0.05757925, -0.10674722,  0.03030968])"
      ]
     },
     "execution_count": 35,
     "metadata": {},
     "output_type": "execute_result"
    }
   ],
   "source": [
    "X_ = X_binary[:,:4+n-1]\n",
    "lm = sm.OLS(Y_full, sm.add_constant(X_))\n",
    "res = lm.fit()\n",
    "res.params[1:5]"
   ]
  },
  {
   "cell_type": "code",
   "execution_count": 36,
   "metadata": {},
   "outputs": [
    {
     "data": {
      "text/plain": [
       "0.020082739404998273"
      ]
     },
     "execution_count": 36,
     "metadata": {},
     "output_type": "execute_result"
    }
   ],
   "source": [
    "# Adjusted R squared\n",
    "# https://en.wikipedia.org/wiki/Coefficient_of_determination#Adjusted_R2\n",
    "ssr = ( (Y_full - res.predict(sm.add_constant(X_)))**2 ).sum()\n",
    "ssr /= X_.shape[0] - X_.shape[1] - 1\n",
    "sst = np.var(Y_full)*len(Y_full)\n",
    "sst /= len(Y_full) - 1\n",
    "1 - ssr / sst"
   ]
  },
  {
   "cell_type": "code",
   "execution_count": 37,
   "metadata": {},
   "outputs": [
    {
     "data": {
      "text/plain": [
       "array([0.86885495, 0.01452983, 0.02907353, 0.02732486])"
      ]
     },
     "execution_count": 37,
     "metadata": {},
     "output_type": "execute_result"
    }
   ],
   "source": [
    "# Item-level indicators\n",
    "lm = sm.OLS(Y_full, sm.add_constant(X_binary))\n",
    "res = lm.fit()\n",
    "res.params[1:5]"
   ]
  },
  {
   "cell_type": "markdown",
   "metadata": {},
   "source": [
    "Table 2 column 4: Ordinal DV; continuous $logodds_R$ measure."
   ]
  },
  {
   "cell_type": "code",
   "execution_count": 38,
   "metadata": {},
   "outputs": [
    {
     "data": {
      "text/plain": [
       "array([ 0.14440349, -0.05011474, -0.09196279,  0.03028965])"
      ]
     },
     "execution_count": 38,
     "metadata": {},
     "output_type": "execute_result"
    }
   ],
   "source": [
    "X_ = X[:,:4+n-1]\n",
    "lm = sm.OLS(Y_full, sm.add_constant(X_))\n",
    "res = lm.fit_regularized()\n",
    "res.params[1:5]"
   ]
  },
  {
   "cell_type": "code",
   "execution_count": 39,
   "metadata": {},
   "outputs": [
    {
     "data": {
      "text/plain": [
       "0.023209929281831077"
      ]
     },
     "execution_count": 39,
     "metadata": {},
     "output_type": "execute_result"
    }
   ],
   "source": [
    "# Adjusted R squared\n",
    "# https://en.wikipedia.org/wiki/Coefficient_of_determination#Adjusted_R2\n",
    "ssr = ( (Y_full - res.predict(sm.add_constant(X_)))**2 ).sum()\n",
    "ssr /= X_.shape[0] - X_.shape[1] - 1\n",
    "sst = np.var(Y_full)*len(Y_full)\n",
    "sst /= len(Y_full) - 1\n",
    "1 - ssr / sst"
   ]
  },
  {
   "cell_type": "code",
   "execution_count": 40,
   "metadata": {},
   "outputs": [
    {
     "data": {
      "text/plain": [
       "array([ 0.1006748 , -0.02557789,  0.01113508,  0.02732426])"
      ]
     },
     "execution_count": 40,
     "metadata": {},
     "output_type": "execute_result"
    }
   ],
   "source": [
    "# Item-level indicators\n",
    "lm = sm.OLS(Y_full, sm.add_constant(X))\n",
    "res = lm.fit_regularized()\n",
    "res.params[1:5]"
   ]
  },
  {
   "cell_type": "markdown",
   "metadata": {},
   "source": [
    "Linear GAM"
   ]
  },
  {
   "cell_type": "code",
   "execution_count": 41,
   "metadata": {},
   "outputs": [
    {
     "data": {
      "text/plain": [
       "LinearGAM(callbacks=[Deviance(), Diffs()], fit_intercept=True, \n",
       "   max_iter=100, scale=None, \n",
       "   terms=s(0) + s(1) + f(2) + s(3) + f(4) + f(5) + f(6) + f(7) + f(8) + f(9) + f(10) + f(11) + f(12) + f(13) + f(14) + f(15) + f(16) + f(17) + f(18) + f(19) + f(20) + f(21) + f(22) + f(23) + f(24) + f(25) + f(26) + f(27) + f(28) + f(29) + f(30) + f(31) + f(32) + f(33) + f(34) + f(35) + f(36) + f(37) + f(38) + f(39) + f(40) + f(41) + f(42) + f(43) + f(44) + f(45) + f(46) + f(47) + f(48) + f(49) + f(50) + f(51) + f(52) + f(53) + f(54) + f(55) + f(56) + f(57) + f(58) + f(59) + f(60) + f(61) + f(62) + f(63) + f(64) + f(65) + f(66) + f(67) + f(68) + f(69) + f(70) + f(71) + f(72) + f(73) + f(74) + f(75) + f(76) + f(77) + f(78) + f(79) + f(80) + f(81) + f(82) + f(83) + f(84) + f(85) + f(86) + f(87) + f(88) + f(89) + f(90) + f(91) + f(92) + f(93) + f(94) + f(95) + f(96) + f(97) + f(98) + f(99) + f(100) + f(101) + f(102) + f(103) + f(104) + f(105) + f(106) + f(107) + f(108) + f(109) + f(110) + f(111) + f(112) + f(113) + f(114) + f(115) + f(116) + f(117) + intercept,\n",
       "   tol=0.0001, verbose=False)"
      ]
     },
     "execution_count": 41,
     "metadata": {},
     "output_type": "execute_result"
    }
   ],
   "source": [
    "X_ = X[:,:4+n-1]\n",
    "linear_gam = pygam.LinearGAM(pygam.terms.TermList(*[pygam.s(0), \n",
    "                             pygam.s(1), pygam.f(2), pygam.s(3)] + \n",
    "                             [pygam.f(i) for i in range(4, X_.shape[1])]))\n",
    "linear_gam.fit(X_, Y_full)"
   ]
  },
  {
   "cell_type": "code",
   "execution_count": 42,
   "metadata": {},
   "outputs": [
    {
     "data": {
      "image/png": "[encoded data removed]",
      "text/plain": [
       "<Figure size 432x288 with 1 Axes>"
      ]
     },
     "metadata": {
      "needs_background": "light"
     },
     "output_type": "display_data"
    }
   ],
   "source": [
    "plot_prf(linear_gam, 0, res.params[1])"
   ]
  },
  {
   "cell_type": "markdown",
   "metadata": {},
   "source": [
    "# Appendix E"
   ]
  },
  {
   "cell_type": "markdown",
   "metadata": {},
   "source": [
    "$accurate \\sim logodds + log(P) + party\\_id + valence + party\\_id \\times valence \\times sign(word) + party\\_identity + party\\_id \\times party\\_identity + political\\_engagement + party\\_id \\times political\\_engagement + \\ldots{}$"
   ]
  },
  {
   "cell_type": "code",
   "execution_count": 43,
   "metadata": {},
   "outputs": [],
   "source": [
    "lr_data = df.copy()\n",
    "lr_data = lr_data.loc[lr_data.party.isin([ 1,2 ])]\n",
    "\n",
    "n = len(lr_data)\n",
    "# Add dummy columns\n",
    "for i in range(1, n):\n",
    "    ids = np.zeros(n)\n",
    "    ids[i] = 1\n",
    "    lr_data[\"participant{}\".format(i)] = ids\n",
    "\n",
    "n_vars = 9\n",
    "    \n",
    "Y_full = np.ravel(lr_data[range(1,6)])\n",
    "Y = Y_full > 2.5\n",
    "X = np.full((n * 5, n_vars + n - 1 + len(words)), np.nan)\n",
    "# Sum(log odds that each word was spoken by a Republican)\n",
    "vf = np.vectorize(lambda l: sum(map(lambda w: signals[w], \n",
    "                                    l.split(\", \"))))\n",
    "s = vf(np.ravel(lr_data[list_cols]))\n",
    "X[:,0] = np.abs(s)\n",
    "# Sum(log(P) of each word)\n",
    "calc_mP = lambda word: math.log(sum(freq_df.loc[(word,[\"dmetric\",\"rmetric\"])].values) / \n",
    "                                n_utterances, 2)\n",
    "vf = np.vectorize(lambda l: sum(map(calc_mP, l.split(\", \"))))\n",
    "X[:,1] = vf(np.ravel(lr_data[list_cols]))\n",
    "# Participant's political identity\n",
    "vf = np.vectorize(lambda pid: 1 if pid == 1 else -1)\n",
    "pids = np.repeat(vf(lr_data.party), 5)\n",
    "X[:,2] = pids\n",
    "# Valence of word\n",
    "# Sum(valence of words)\n",
    "vf = np.vectorize(lambda l: sum(map(lambda w: valences[w] - 5, \n",
    "                                    l.split(\", \"))))\n",
    "X[:,3] = vf(np.ravel(lr_data[list_cols]))\n",
    "# Valence of word * Participant's party identity * Word is Republican\n",
    "X[:,4] = pids * X[:,3] * np.sign(s) \n",
    "# Party identity\n",
    "X[:,5] = np.repeat(lr_data.party_identity, 5)\n",
    "# Party affiliation x party identity\n",
    "X[:,6] = pids * X[:,5]\n",
    "# Political engagement\n",
    "X[:,7] = np.repeat(lr_data.political_engagement, 5)\n",
    "# Party affiliation x political engagement\n",
    "X[:,8] = pids * X[:,7]\n",
    "# Participant IDs\n",
    "for i in range(n_vars, n_vars + n - 1):\n",
    "    X[:,i] = np.repeat(lr_data[\"participant{}\".format(i-n_vars+1)], 5)\n",
    "    \n",
    "# Indicators of whether a particular word was in the set\n",
    "for i in range(len(words)):\n",
    "    vf = np.vectorize(lambda l: int(words[i] in l.split(\", \")))\n",
    "    X[:,n_vars+n-1+i] = vf(np.ravel(lr_data[list_cols]))\n",
    "\n",
    "polarity = s > 0\n",
    "Y = (Y & polarity) | (~Y & ~polarity)\n",
    "\n",
    "X = X[~np.isnan(Y)]\n",
    "Y = Y[~np.isnan(Y)]\n",
    "Y = Y[~np.isnan(X).any(axis = 1)]\n",
    "X = X[~np.isnan(X).any(axis = 1),:]\n",
    "X = stats.mstats.zscore(X)"
   ]
  },
  {
   "cell_type": "code",
   "execution_count": 44,
   "metadata": {},
   "outputs": [
    {
     "data": {
      "text/plain": [
       "(array([ 0.        , -0.15760885,  0.        ,  0.03838827,  0.        ,\n",
       "         0.        ,  0.        ,  0.        ,  0.        ]),\n",
       " 575,\n",
       " 0.6011869942478307)"
      ]
     },
     "execution_count": 44,
     "metadata": {},
     "output_type": "execute_result"
    }
   ],
   "source": [
    "# Don't include fixed effects for consistency with the analysis strategy for Study 1\n",
    "logit = SparseLR(Y, X[:,:n_vars]); logit.coef, logit.n, logit.auc"
   ]
  }
 ],
 "metadata": {
  "kernelspec": {
   "display_name": "Python 2",
   "language": "python",
   "name": "python2"
  },
  "language_info": {
   "codemirror_mode": {
    "name": "ipython",
    "version": 2
   },
   "file_extension": ".py",
   "mimetype": "text/x-python",
   "name": "python",
   "nbconvert_exporter": "python",
   "pygments_lexer": "ipython2",
   "version": "2.7.17"
  },
  "toc": {
   "base_numbering": 1,
   "nav_menu": {},
   "number_sections": true,
   "sideBar": true,
   "skip_h1_title": false,
   "title_cell": "Table of Contents",
   "title_sidebar": "Contents",
   "toc_cell": false,
   "toc_position": {},
   "toc_section_display": true,
   "toc_window_display": false
  }
 },
 "nbformat": 4,
 "nbformat_minor": 2
}
