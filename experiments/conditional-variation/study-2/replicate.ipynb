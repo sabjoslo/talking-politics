{
 "cells": [
  {
   "cell_type": "code",
   "execution_count": 1,
   "metadata": {},
   "outputs": [],
   "source": [
    "%matplotlib inline"
   ]
  },
  {
   "cell_type": "code",
   "execution_count": 2,
   "metadata": {},
   "outputs": [
    {
     "name": "stderr",
     "output_type": "stream",
     "text": [
      "/Users/sabinasloman/Box/LoP/pyspan/pyspan/config.py:19: UserWarning: \n",
      "This call to matplotlib.use() has no effect because the backend has already\n",
      "been chosen; matplotlib.use() must be called *before* pylab, matplotlib.pyplot,\n",
      "or matplotlib.backends is imported for the first time.\n",
      "\n",
      "The backend was *originally* set to 'module://ipykernel.pylab.backend_inline' by the following code:\n",
      "  File \"/Users/sabinasloman/.pyenv/versions/2.7.17/lib/python2.7/runpy.py\", line 174, in _run_module_as_main\n",
      "    \"__main__\", fname, loader, pkg_name)\n",
      "  File \"/Users/sabinasloman/.pyenv/versions/2.7.17/lib/python2.7/runpy.py\", line 72, in _run_code\n",
      "    exec code in run_globals\n",
      "  File \"/Users/sabinasloman/.pyenv/versions/2.7.17/envs/lop_env/lib/python2.7/site-packages/ipykernel_launcher.py\", line 16, in <module>\n",
      "    app.launch_new_instance()\n",
      "  File \"/Users/sabinasloman/.pyenv/versions/2.7.17/envs/lop_env/lib/python2.7/site-packages/traitlets/config/application.py\", line 664, in launch_instance\n",
      "    app.start()\n",
      "  File \"/Users/sabinasloman/.pyenv/versions/2.7.17/envs/lop_env/lib/python2.7/site-packages/ipykernel/kernelapp.py\", line 499, in start\n",
      "    self.io_loop.start()\n",
      "  File \"/Users/sabinasloman/.pyenv/versions/2.7.17/envs/lop_env/lib/python2.7/site-packages/tornado/ioloop.py\", line 1073, in start\n",
      "    handler_func(fd_obj, events)\n",
      "  File \"/Users/sabinasloman/.pyenv/versions/2.7.17/envs/lop_env/lib/python2.7/site-packages/tornado/stack_context.py\", line 300, in null_wrapper\n",
      "    return fn(*args, **kwargs)\n",
      "  File \"/Users/sabinasloman/.pyenv/versions/2.7.17/envs/lop_env/lib/python2.7/site-packages/zmq/eventloop/zmqstream.py\", line 456, in _handle_events\n",
      "    self._handle_recv()\n",
      "  File \"/Users/sabinasloman/.pyenv/versions/2.7.17/envs/lop_env/lib/python2.7/site-packages/zmq/eventloop/zmqstream.py\", line 486, in _handle_recv\n",
      "    self._run_callback(callback, msg)\n",
      "  File \"/Users/sabinasloman/.pyenv/versions/2.7.17/envs/lop_env/lib/python2.7/site-packages/zmq/eventloop/zmqstream.py\", line 438, in _run_callback\n",
      "    callback(*args, **kwargs)\n",
      "  File \"/Users/sabinasloman/.pyenv/versions/2.7.17/envs/lop_env/lib/python2.7/site-packages/tornado/stack_context.py\", line 300, in null_wrapper\n",
      "    return fn(*args, **kwargs)\n",
      "  File \"/Users/sabinasloman/.pyenv/versions/2.7.17/envs/lop_env/lib/python2.7/site-packages/ipykernel/kernelbase.py\", line 283, in dispatcher\n",
      "    return self.dispatch_shell(stream, msg)\n",
      "  File \"/Users/sabinasloman/.pyenv/versions/2.7.17/envs/lop_env/lib/python2.7/site-packages/ipykernel/kernelbase.py\", line 233, in dispatch_shell\n",
      "    handler(stream, idents, msg)\n",
      "  File \"/Users/sabinasloman/.pyenv/versions/2.7.17/envs/lop_env/lib/python2.7/site-packages/ipykernel/kernelbase.py\", line 399, in execute_request\n",
      "    user_expressions, allow_stdin)\n",
      "  File \"/Users/sabinasloman/.pyenv/versions/2.7.17/envs/lop_env/lib/python2.7/site-packages/ipykernel/ipkernel.py\", line 208, in do_execute\n",
      "    res = shell.run_cell(code, store_history=store_history, silent=silent)\n",
      "  File \"/Users/sabinasloman/.pyenv/versions/2.7.17/envs/lop_env/lib/python2.7/site-packages/ipykernel/zmqshell.py\", line 537, in run_cell\n",
      "    return super(ZMQInteractiveShell, self).run_cell(*args, **kwargs)\n",
      "  File \"/Users/sabinasloman/.pyenv/versions/2.7.17/envs/lop_env/lib/python2.7/site-packages/IPython/core/interactiveshell.py\", line 2724, in run_cell\n",
      "    self.events.trigger('post_run_cell')\n",
      "  File \"/Users/sabinasloman/.pyenv/versions/2.7.17/envs/lop_env/lib/python2.7/site-packages/IPython/core/events.py\", line 74, in trigger\n",
      "    func(*args, **kwargs)\n",
      "  File \"/Users/sabinasloman/.pyenv/versions/2.7.17/envs/lop_env/lib/python2.7/site-packages/ipykernel/pylab/backend_inline.py\", line 164, in configure_once\n",
      "    activate_matplotlib(backend)\n",
      "  File \"/Users/sabinasloman/.pyenv/versions/2.7.17/envs/lop_env/lib/python2.7/site-packages/IPython/core/pylabtools.py\", line 315, in activate_matplotlib\n",
      "    matplotlib.pyplot.switch_backend(backend)\n",
      "  File \"/Users/sabinasloman/.pyenv/versions/2.7.17/envs/lop_env/lib/python2.7/site-packages/matplotlib/pyplot.py\", line 231, in switch_backend\n",
      "    matplotlib.use(newbackend, warn=False, force=True)\n",
      "  File \"/Users/sabinasloman/.pyenv/versions/2.7.17/envs/lop_env/lib/python2.7/site-packages/matplotlib/__init__.py\", line 1425, in use\n",
      "    reload(sys.modules['matplotlib.backends'])\n",
      "  File \"/Users/sabinasloman/.pyenv/versions/2.7.17/envs/lop_env/lib/python2.7/site-packages/matplotlib/backends/__init__.py\", line 17, in <module>\n",
      "    line for line in traceback.format_stack()\n",
      "\n",
      "\n",
      "  mpl.use(settings[\"mpl_backend\"])\n",
      "/Users/sabinasloman/Box/LoP/pyspan/pyspan/Purger.py:203: UserWarning: No parser was explicitly specified, so I'm using the best available HTML parser for this system (\"lxml\"). This usually isn't a problem, but if you run this code on another system, or in a different virtual environment, it may use a different parser and behave differently.\n",
      "\n",
      "The code that caused this warning is on line 203 of the file /Users/sabinasloman/Box/LoP/pyspan/pyspan/Purger.py. To get rid of this warning, pass the additional argument 'features=\"lxml\"' to the BeautifulSoup constructor.\n",
      "\n",
      "  soup=BeautifulSoup(text)\n",
      "/Users/sabinasloman/Box/LoP/pyspan/pyspan/Purger.py:215: UserWarning: No parser was explicitly specified, so I'm using the best available HTML parser for this system (\"lxml\"). This usually isn't a problem, but if you run this code on another system, or in a different virtual environment, it may use a different parser and behave differently.\n",
      "\n",
      "The code that caused this warning is on line 215 of the file /Users/sabinasloman/Box/LoP/pyspan/pyspan/Purger.py. To get rid of this warning, pass the additional argument 'features=\"lxml\"' to the BeautifulSoup constructor.\n",
      "\n",
      "  soup=BeautifulSoup(text)\n",
      "/Users/sabinasloman/Box/LoP/pyspan/pyspan/ratings_task/data.py:27: FutureWarning: Sorting because non-concatenation axis is not aligned. A future version\n",
      "of pandas will change to not sort by default.\n",
      "\n",
      "To accept the future behavior, pass 'sort=False'.\n",
      "\n",
      "To retain the current behavior and silence the warning, pass 'sort=True'.\n",
      "\n",
      "  all_ = pd.concat((partisan, antonyms))\n"
     ]
    }
   ],
   "source": [
    "import itertools\n",
    "import math\n",
    "from scipy import stats\n",
    "import statsmodels.stats.api as sms\n",
    "from pyspan.AFC.analysis import *\n",
    "from pyspan import cross_validation as cv\n",
    "from pyspan.ratings_task.analysis import freq_df, n_utterances, signal_df, SparseLR\n",
    "from pyspan.utils import *\n",
    "from pyspan.valence import *"
   ]
  },
  {
   "cell_type": "code",
   "execution_count": 3,
   "metadata": {},
   "outputs": [
    {
     "name": "stderr",
     "output_type": "stream",
     "text": [
      "/Users/sabinasloman/.pyenv/versions/2.7.17/envs/lop_env/lib/python2.7/site-packages/numpy/core/fromnumeric.py:56: FutureWarning: \n",
      "The current behaviour of 'Series.argmax' is deprecated, use 'idxmax'\n",
      "instead.\n",
      "The behavior of 'argmax' will be corrected to return the positional\n",
      "maximum in the future. For now, use 'series.values.argmax' or\n",
      "'np.argmax(np.array(values))' to get the position of the maximum\n",
      "row.\n",
      "  return getattr(obj, method)(*args, **kwds)\n"
     ]
    },
    {
     "data": {
      "text/plain": [
       "(<Figure size 432x288 with 1 Axes>,\n",
       " <matplotlib.axes._subplots.AxesSubplot at 0x13e214410>)"
      ]
     },
     "execution_count": 3,
     "metadata": {},
     "output_type": "execute_result"
    },
    {
     "data": {
      "image/png": "[encoded data removed]",
      "text/plain": [
       "<Figure size 432x288 with 1 Axes>"
      ]
     },
     "metadata": {
      "needs_background": "light"
     },
     "output_type": "display_data"
    }
   ],
   "source": [
    "words_ = np.ravel(partisan.loc[p_ixs][[\"word1\",\"word2\"]].values)\n",
    "cv.plot_(\"crec\", \"debates\", \"word\", \n",
    "         save = False, words = zip(words_, [-1000] * len(words_), [0] * len(words_)))"
   ]
  },
  {
   "cell_type": "markdown",
   "metadata": {},
   "source": [
    "Get some descriptive stats."
   ]
  },
  {
   "cell_type": "code",
   "execution_count": 4,
   "metadata": {},
   "outputs": [
    {
     "name": "stdout",
     "output_type": "stream",
     "text": [
      "N: 96\n",
      "N Dem: 50\n",
      "N Repub: 19\n"
     ]
    }
   ],
   "source": [
    "n = len(minidf)\n",
    "n_dem = len(minidf[minidf[\"party\"] == \"Democrat\"])\n",
    "n_repub = len(minidf[minidf[\"party\"] == \"Republican\"])\n",
    "print \"N: {}\".format(n)\n",
    "print \"N Dem: {}\".format(n_dem)\n",
    "print \"N Repub: {}\".format(n_repub)"
   ]
  },
  {
   "cell_type": "code",
   "execution_count": 5,
   "metadata": {},
   "outputs": [
    {
     "name": "stdout",
     "output_type": "stream",
     "text": [
      "40.677083333333336 1.1210207198410143\n",
      "37 59\n",
      "0.8020833333333334\n"
     ]
    }
   ],
   "source": [
    "print np.mean(minidf.age[~np.isnan(minidf.age)]), stats.sem(minidf.age[~np.isnan(minidf.age)])\n",
    "print len(minidf.loc[minidf.gender == 0]), len(minidf.loc[minidf.gender == 1])\n",
    "print np.mean(minidf.voted)"
   ]
  },
  {
   "cell_type": "markdown",
   "metadata": {},
   "source": [
    "## Item-level analysis"
   ]
  },
  {
   "cell_type": "code",
   "execution_count": 6,
   "metadata": {},
   "outputs": [
    {
     "name": "stdout",
     "output_type": "stream",
     "text": [
      "0.5202876083887881 0.01893722679498896\n"
     ]
    },
    {
     "data": {
      "image/png": "[encoded data removed]",
      "text/plain": [
       "<Figure size 432x288 with 1 Axes>"
      ]
     },
     "metadata": {
      "needs_background": "light"
     },
     "output_type": "display_data"
    }
   ],
   "source": [
    "perceps = PerceptualData()\n",
    "perceps.get_discriminability_by_pair(plot = False)\n",
    "_, mu, se = histogram(perceps.discrim_by_pair.values(), bins = 30, \n",
    "                      title = \"Histogram of item-level discriminabilities\")\n",
    "print mu, se"
   ]
  },
  {
   "cell_type": "code",
   "execution_count": 7,
   "metadata": {},
   "outputs": [
    {
     "data": {
      "text/plain": [
       "(1.0713083076217071, 0.14351406488368018)"
      ]
     },
     "execution_count": 7,
     "metadata": {},
     "output_type": "execute_result"
    }
   ],
   "source": [
    "t, p = stats.ttest_1samp(perceps.discrim_by_pair.values(), .5)\n",
    "t, p / 2"
   ]
  },
  {
   "cell_type": "code",
   "execution_count": 8,
   "metadata": {},
   "outputs": [
    {
     "data": {
      "text/plain": [
       "86"
      ]
     },
     "execution_count": 8,
     "metadata": {},
     "output_type": "execute_result"
    }
   ],
   "source": [
    "len(perceps.discrim_by_pair.values()) - 1"
   ]
  },
  {
   "cell_type": "markdown",
   "metadata": {},
   "source": [
    "## Individual-level analysis"
   ]
  },
  {
   "cell_type": "code",
   "execution_count": 9,
   "metadata": {},
   "outputs": [],
   "source": [
    "def get_idv_perceptions(i, ix, _df):\n",
    "    response = _df.loc[i][str(ix)]\n",
    "    if isinstance(response, str):\n",
    "        assert response in partisan.values[ix-1]\n",
    "        return int(response in truth[_df.loc[i][\"Condition\"]])\n",
    "    else:\n",
    "        return np.nan"
   ]
  },
  {
   "cell_type": "code",
   "execution_count": 10,
   "metadata": {},
   "outputs": [],
   "source": [
    "prop_correct = []\n",
    "for i in minidf.index:\n",
    "    z_idv_perceps = map(lambda ix: get_idv_perceptions(i, ix, minidf), p_ixs)\n",
    "    z_idv_perceps = np.array(z_idv_perceps)\n",
    "    z_idv_perceps = z_idv_perceps[~np.isnan(z_idv_perceps)]\n",
    "    prop_correct.append(sum(z_idv_perceps) / float(len(z_idv_perceps)))"
   ]
  },
  {
   "cell_type": "code",
   "execution_count": 11,
   "metadata": {},
   "outputs": [
    {
     "name": "stdout",
     "output_type": "stream",
     "text": [
      "0.5203126392230242 0.006779377332631744\n"
     ]
    },
    {
     "data": {
      "image/png": "[encoded data removed]",
      "text/plain": [
       "<Figure size 432x288 with 1 Axes>"
      ]
     },
     "metadata": {
      "needs_background": "light"
     },
     "output_type": "display_data"
    }
   ],
   "source": [
    "fig, mu, se = histogram(prop_correct, bins = 30, \n",
    "                        title = \"Histogram of participant accuracies\")\n",
    "ylim = plt.ylim()\n",
    "plt.ylim(*ylim)\n",
    "plt.plot([.5,.5], ylim, color = \"k\", linewidth = 2)\n",
    "\n",
    "print mu, se"
   ]
  },
  {
   "cell_type": "code",
   "execution_count": 12,
   "metadata": {},
   "outputs": [
    {
     "data": {
      "text/plain": [
       "(2.996239658360902, 0.0017433022323757033)"
      ]
     },
     "execution_count": 12,
     "metadata": {},
     "output_type": "execute_result"
    }
   ],
   "source": [
    "t, p = stats.ttest_1samp(prop_correct, .5)\n",
    "t, p / 2"
   ]
  },
  {
   "cell_type": "code",
   "execution_count": 13,
   "metadata": {},
   "outputs": [
    {
     "data": {
      "text/plain": [
       "95"
      ]
     },
     "execution_count": 13,
     "metadata": {},
     "output_type": "execute_result"
    }
   ],
   "source": [
    "len(prop_correct) - 1"
   ]
  },
  {
   "cell_type": "markdown",
   "metadata": {},
   "source": [
    "Is there a significant difference in the discriminability of Democrats and Republicans?"
   ]
  },
  {
   "cell_type": "code",
   "execution_count": 14,
   "metadata": {},
   "outputs": [],
   "source": [
    "discriminabilities = dict()\n",
    "for party in (\"Democrat\", \"Republican\"):\n",
    "    pdf = minidf[minidf[\"party\"]==party]\n",
    "\n",
    "    prop_correct = []\n",
    "    for i in pdf.index:\n",
    "        z_idv_perceps = map(lambda ix: get_idv_perceptions(i, ix, pdf), p_ixs)\n",
    "        z_idv_perceps = np.array(z_idv_perceps)\n",
    "        z_idv_perceps = z_idv_perceps[~np.isnan(z_idv_perceps)]\n",
    "        prop_correct.append(sum(z_idv_perceps) / float(len(z_idv_perceps)))\n",
    "    discriminabilities[party] = prop_correct"
   ]
  },
  {
   "cell_type": "code",
   "execution_count": 15,
   "metadata": {},
   "outputs": [
    {
     "name": "stdout",
     "output_type": "stream",
     "text": [
      "Mean discriminability for Democrats: 0.508276 (SE: 0.009302)\n",
      "Mean discriminability for Republicans: 0.534469 (SE: 0.015246)\n",
      "\n",
      "\n",
      "T-stat: -1.466555\n",
      "P value: 0.152180\n",
      "Degrees of freedom: 32.252885\n"
     ]
    }
   ],
   "source": [
    "d, r = discriminabilities[\"Democrat\"], discriminabilities[\"Republican\"]\n",
    "\n",
    "print \"Mean discriminability for Democrats: %f (SE: %f)\"%(np.mean(d), stats.sem(d))\n",
    "print \"Mean discriminability for Republicans: %f (SE: %f)\"%(np.mean(r), stats.sem(r))\n",
    "print \"\\n\"\n",
    "\n",
    "cm = sms.CompareMeans(sms.DescrStatsW(d), sms.DescrStatsW(r))\n",
    "tstat, pvalue, deg_freedom = cm.ttest_ind(usevar=\"unequal\")\n",
    "print \"T-stat: %f\"%tstat\n",
    "print \"P value: %f\"%pvalue\n",
    "print \"Degrees of freedom: %f\"%deg_freedom"
   ]
  },
  {
   "cell_type": "markdown",
   "metadata": {},
   "source": [
    "Appendix: Analysis of hypothesized mediators"
   ]
  },
  {
   "cell_type": "code",
   "execution_count": 16,
   "metadata": {},
   "outputs": [],
   "source": [
    "signal_df = pickle.load(open(paths[\"metrics_dir\"] + \"signals-unigrams\", \"rb\"))\n",
    "\n",
    "def get_signal(w):\n",
    "    dlogp, rlogp = signal_df.loc[w][\"dmetric\"], signal_df.loc[w][\"rmetric\"]\n",
    "    assert dlogp * rlogp < 0\n",
    "    return dlogp, rlogp\n",
    "\n",
    "signals_ = map(get_signal, itertools.chain(*partisan_pairs))\n",
    "signals = dict(zip(itertools.chain(*partisan_pairs), signals_))"
   ]
  },
  {
   "cell_type": "code",
   "execution_count": 17,
   "metadata": {},
   "outputs": [],
   "source": [
    "lr_data = minidf.copy()\n",
    "lr_data = lr_data.loc[lr_data.party.isin([ \"Democrat\", \"Republican\" ])]\n",
    "n = len(lr_data)\n",
    "partisan_pairs = np.array(partisan_pairs)\n",
    "n_vars = 9\n",
    "\n",
    "# Add dummy columns\n",
    "for i in range(1, n):\n",
    "    ids = np.zeros(n)\n",
    "    ids[i] = 1\n",
    "    lr_data[\"participant{}\".format(i)] = ids\n",
    "    \n",
    "w1 = np.ravel(lr_data[map(str, p_ixs)])\n",
    "w2 = w1.copy()\n",
    "for pair in partisan_pairs:\n",
    "    w2[w2 == pair[0]] = \"TMP\"\n",
    "    w2[w2 == pair[1]] = pair[0]\n",
    "    w2[w2 == \"TMP\"] = pair[1]\n",
    "    \n",
    "X = np.full((n * len(p_ixs), n_vars + n - 1), np.nan)\n",
    "# The log odds that the word was said by a Republican\n",
    "vf = np.vectorize(lambda w1_, w2_: signals[w1_][0] + signals[w2_][1])\n",
    "X[:,0] = np.tile(vf(partisan_pairs[:,0], partisan_pairs[:,1]), n)\n",
    "# The log probability of hearing the word\n",
    "vf = np.vectorize(lambda w1_, w2_: math.log(sum(freq_df.loc[(w1_,[\"dmetric\",\"rmetric\"])].values) / n_utterances, 2) +\n",
    "                                   math.log(sum(freq_df.loc[(w2_,[\"dmetric\",\"rmetric\"])].values) / n_utterances, 2))\n",
    "X[:,1] = np.tile(vf(partisan_pairs[:,0], partisan_pairs[:,1]), n)\n",
    "# Participant's political identity\n",
    "vf = np.vectorize(lambda pid: 1 if pid == \"Republican\" else -1 if pid == \"Democrat\" else \n",
    "                  0)\n",
    "pids = np.repeat(vf(lr_data.party), len(p_ixs))\n",
    "X[:,2] = pids\n",
    "# Valence of word\n",
    "vf = np.vectorize(lambda w1_, w2_: get_valence(w1_)[0]-5 - (get_valence(w2_)[0]-5))\n",
    "X[:,3] = vf(*np.array(zip(w1, w2)).T)\n",
    "# Valence of word * Participant's party identity * Polarity\n",
    "sign = np.vectorize(lambda w: np.sign(signal_df.loc[w].rmetric) if not is_nan(w) else np.nan)\n",
    "X[:,4] = pids * X[:,3] * sign(w1)\n",
    "# Party identity\n",
    "X[:,5] = np.repeat(lr_data.party_identity, len(p_ixs))\n",
    "# Party affiliation x party identity\n",
    "X[:,6] = pids * X[:,5]\n",
    "# Political engagement\n",
    "X[:,7] = np.repeat(lr_data.political_engagement, len(p_ixs))\n",
    "# Party affiliation x political engagement\n",
    "X[:,8] = pids * X[:,7]\n",
    "# Participant IDs\n",
    "for i in range(n_vars, n_vars + n - 1):\n",
    "    X[:,i] = np.repeat(lr_data[\"participant{}\".format(i-n_vars+1)], len(p_ixs))\n",
    "\n",
    "condition = np.repeat(lr_data.Condition, len(p_ixs))\n",
    "condition[condition == \"DEMOCRAT\"] = -1\n",
    "condition[condition == \"REPUBLICAN\"] = 1\n",
    "Y = sign(w1) == condition\n",
    "\n",
    "X = X[~np.isnan(Y)]\n",
    "Y = Y[~np.isnan(Y)]\n",
    "Y = Y[~np.isnan(X).any(axis = 1)]\n",
    "X = X[~np.isnan(X).any(axis = 1),:]\n",
    "X = stats.mstats.zscore(X)"
   ]
  },
  {
   "cell_type": "code",
   "execution_count": 18,
   "metadata": {},
   "outputs": [
    {
     "name": "stderr",
     "output_type": "stream",
     "text": [
      "/Users/sabinasloman/.pyenv/versions/2.7.17/envs/lop_env/lib/python2.7/site-packages/sklearn/model_selection/_split.py:2052: FutureWarning: You should specify a value for 'cv' instead of relying on the default value. The default value will change from 3 to 5 in version 0.22.\n",
      "  warnings.warn(CV_WARNING, FutureWarning)\n"
     ]
    },
    {
     "data": {
      "text/plain": [
       "(array([0.00407138, 0.        , 0.        , 0.        , 0.20110851,\n",
       "        0.        , 0.        , 0.        , 0.        ]),\n",
       " 5381,\n",
       " 0.5838467170068711)"
      ]
     },
     "execution_count": 18,
     "metadata": {},
     "output_type": "execute_result"
    }
   ],
   "source": [
    "logit = SparseLR(Y, X)\n",
    "logit.coef[:n_vars], logit.n, logit.auc"
   ]
  },
  {
   "cell_type": "code",
   "execution_count": null,
   "metadata": {},
   "outputs": [],
   "source": []
  }
 ],
 "metadata": {
  "kernelspec": {
   "display_name": "Python 2",
   "language": "python",
   "name": "python2"
  },
  "language_info": {
   "codemirror_mode": {
    "name": "ipython",
    "version": 2
   },
   "file_extension": ".py",
   "mimetype": "text/x-python",
   "name": "python",
   "nbconvert_exporter": "python",
   "pygments_lexer": "ipython2",
   "version": "2.7.17"
  },
  "toc": {
   "base_numbering": 1,
   "nav_menu": {},
   "number_sections": true,
   "sideBar": true,
   "skip_h1_title": false,
   "title_cell": "Table of Contents",
   "title_sidebar": "Contents",
   "toc_cell": false,
   "toc_position": {},
   "toc_section_display": true,
   "toc_window_display": false
  }
 },
 "nbformat": 4,
 "nbformat_minor": 2
}
