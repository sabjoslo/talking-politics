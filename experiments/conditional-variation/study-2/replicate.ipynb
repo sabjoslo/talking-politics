{
 "cells": [
  {
   "cell_type": "code",
   "execution_count": 1,
   "metadata": {},
   "outputs": [],
   "source": [
    "%matplotlib inline\n",
    "#! switch_R 3.3\n",
    "%load_ext rpy2.ipython"
   ]
  },
  {
   "cell_type": "code",
   "execution_count": 2,
   "metadata": {},
   "outputs": [
    {
     "name": "stderr",
     "output_type": "stream",
     "text": [
      "/Users/sabinasloman/git/talking-politics/pyspan/config.py:19: UserWarning: \n",
      "This call to matplotlib.use() has no effect because the backend has already\n",
      "been chosen; matplotlib.use() must be called *before* pylab, matplotlib.pyplot,\n",
      "or matplotlib.backends is imported for the first time.\n",
      "\n",
      "The backend was *originally* set to 'module://ipykernel.pylab.backend_inline' by the following code:\n",
      "  File \"/Users/sabinasloman/.pyenv/versions/2.7.17/lib/python2.7/runpy.py\", line 174, in _run_module_as_main\n",
      "    \"__main__\", fname, loader, pkg_name)\n",
      "  File \"/Users/sabinasloman/.pyenv/versions/2.7.17/lib/python2.7/runpy.py\", line 72, in _run_code\n",
      "    exec code in run_globals\n",
      "  File \"/Users/sabinasloman/.pyenv/versions/2.7.17/envs/politics-test-bed/lib/python2.7/site-packages/ipykernel_launcher.py\", line 16, in <module>\n",
      "    app.launch_new_instance()\n",
      "  File \"/Users/sabinasloman/.pyenv/versions/2.7.17/envs/politics-test-bed/lib/python2.7/site-packages/traitlets/config/application.py\", line 664, in launch_instance\n",
      "    app.start()\n",
      "  File \"/Users/sabinasloman/.pyenv/versions/2.7.17/envs/politics-test-bed/lib/python2.7/site-packages/ipykernel/kernelapp.py\", line 499, in start\n",
      "    self.io_loop.start()\n",
      "  File \"/Users/sabinasloman/.pyenv/versions/2.7.17/envs/politics-test-bed/lib/python2.7/site-packages/tornado/ioloop.py\", line 1073, in start\n",
      "    handler_func(fd_obj, events)\n",
      "  File \"/Users/sabinasloman/.pyenv/versions/2.7.17/envs/politics-test-bed/lib/python2.7/site-packages/tornado/stack_context.py\", line 300, in null_wrapper\n",
      "    return fn(*args, **kwargs)\n",
      "  File \"/Users/sabinasloman/.pyenv/versions/2.7.17/envs/politics-test-bed/lib/python2.7/site-packages/zmq/eventloop/zmqstream.py\", line 456, in _handle_events\n",
      "    self._handle_recv()\n",
      "  File \"/Users/sabinasloman/.pyenv/versions/2.7.17/envs/politics-test-bed/lib/python2.7/site-packages/zmq/eventloop/zmqstream.py\", line 486, in _handle_recv\n",
      "    self._run_callback(callback, msg)\n",
      "  File \"/Users/sabinasloman/.pyenv/versions/2.7.17/envs/politics-test-bed/lib/python2.7/site-packages/zmq/eventloop/zmqstream.py\", line 438, in _run_callback\n",
      "    callback(*args, **kwargs)\n",
      "  File \"/Users/sabinasloman/.pyenv/versions/2.7.17/envs/politics-test-bed/lib/python2.7/site-packages/tornado/stack_context.py\", line 300, in null_wrapper\n",
      "    return fn(*args, **kwargs)\n",
      "  File \"/Users/sabinasloman/.pyenv/versions/2.7.17/envs/politics-test-bed/lib/python2.7/site-packages/ipykernel/kernelbase.py\", line 283, in dispatcher\n",
      "    return self.dispatch_shell(stream, msg)\n",
      "  File \"/Users/sabinasloman/.pyenv/versions/2.7.17/envs/politics-test-bed/lib/python2.7/site-packages/ipykernel/kernelbase.py\", line 233, in dispatch_shell\n",
      "    handler(stream, idents, msg)\n",
      "  File \"/Users/sabinasloman/.pyenv/versions/2.7.17/envs/politics-test-bed/lib/python2.7/site-packages/ipykernel/kernelbase.py\", line 399, in execute_request\n",
      "    user_expressions, allow_stdin)\n",
      "  File \"/Users/sabinasloman/.pyenv/versions/2.7.17/envs/politics-test-bed/lib/python2.7/site-packages/ipykernel/ipkernel.py\", line 208, in do_execute\n",
      "    res = shell.run_cell(code, store_history=store_history, silent=silent)\n",
      "  File \"/Users/sabinasloman/.pyenv/versions/2.7.17/envs/politics-test-bed/lib/python2.7/site-packages/ipykernel/zmqshell.py\", line 537, in run_cell\n",
      "    return super(ZMQInteractiveShell, self).run_cell(*args, **kwargs)\n",
      "  File \"/Users/sabinasloman/.pyenv/versions/2.7.17/envs/politics-test-bed/lib/python2.7/site-packages/IPython/core/interactiveshell.py\", line 2724, in run_cell\n",
      "    self.events.trigger('post_run_cell')\n",
      "  File \"/Users/sabinasloman/.pyenv/versions/2.7.17/envs/politics-test-bed/lib/python2.7/site-packages/IPython/core/events.py\", line 74, in trigger\n",
      "    func(*args, **kwargs)\n",
      "  File \"/Users/sabinasloman/.pyenv/versions/2.7.17/envs/politics-test-bed/lib/python2.7/site-packages/ipykernel/pylab/backend_inline.py\", line 164, in configure_once\n",
      "    activate_matplotlib(backend)\n",
      "  File \"/Users/sabinasloman/.pyenv/versions/2.7.17/envs/politics-test-bed/lib/python2.7/site-packages/IPython/core/pylabtools.py\", line 315, in activate_matplotlib\n",
      "    matplotlib.pyplot.switch_backend(backend)\n",
      "  File \"/Users/sabinasloman/.pyenv/versions/2.7.17/envs/politics-test-bed/lib/python2.7/site-packages/matplotlib/pyplot.py\", line 231, in switch_backend\n",
      "    matplotlib.use(newbackend, warn=False, force=True)\n",
      "  File \"/Users/sabinasloman/.pyenv/versions/2.7.17/envs/politics-test-bed/lib/python2.7/site-packages/matplotlib/__init__.py\", line 1425, in use\n",
      "    reload(sys.modules['matplotlib.backends'])\n",
      "  File \"/Users/sabinasloman/.pyenv/versions/2.7.17/envs/politics-test-bed/lib/python2.7/site-packages/matplotlib/backends/__init__.py\", line 17, in <module>\n",
      "    line for line in traceback.format_stack()\n",
      "\n",
      "\n",
      "  mpl.use(settings[\"mpl_backend\"])\n",
      "/Users/sabinasloman/git/talking-politics/pyspan/Purger.py:203: UserWarning: No parser was explicitly specified, so I'm using the best available HTML parser for this system (\"lxml\"). This usually isn't a problem, but if you run this code on another system, or in a different virtual environment, it may use a different parser and behave differently.\n",
      "\n",
      "The code that caused this warning is on line 203 of the file /Users/sabinasloman/git/talking-politics/pyspan/Purger.py. To get rid of this warning, pass the additional argument 'features=\"lxml\"' to the BeautifulSoup constructor.\n",
      "\n",
      "  soup=BeautifulSoup(text)\n",
      "/Users/sabinasloman/git/talking-politics/pyspan/Purger.py:215: UserWarning: No parser was explicitly specified, so I'm using the best available HTML parser for this system (\"lxml\"). This usually isn't a problem, but if you run this code on another system, or in a different virtual environment, it may use a different parser and behave differently.\n",
      "\n",
      "The code that caused this warning is on line 215 of the file /Users/sabinasloman/git/talking-politics/pyspan/Purger.py. To get rid of this warning, pass the additional argument 'features=\"lxml\"' to the BeautifulSoup constructor.\n",
      "\n",
      "  soup=BeautifulSoup(text)\n",
      "/Users/sabinasloman/git/talking-politics/pyspan/ratings_task/data.py:27: FutureWarning: Sorting because non-concatenation axis is not aligned. A future version\n",
      "of pandas will change to not sort by default.\n",
      "\n",
      "To accept the future behavior, pass 'sort=False'.\n",
      "\n",
      "To retain the current behavior and silence the warning, pass 'sort=True'.\n",
      "\n",
      "  all_ = pd.concat((partisan, antonyms))\n"
     ]
    }
   ],
   "source": [
    "import itertools\n",
    "import math\n",
    "from scipy import stats\n",
    "import statsmodels.stats.api as sms\n",
    "from pyspan.AFC.analysis import *\n",
    "from pyspan import cross_validation as cv\n",
    "from pyspan.ratings_task.analysis import freq_df, n_utterances, signal_df, SparseLR\n",
    "from pyspan.utils import *\n",
    "from pyspan.valence import *"
   ]
  },
  {
   "cell_type": "markdown",
   "metadata": {},
   "source": [
    "# Participants"
   ]
  },
  {
   "cell_type": "code",
   "execution_count": 3,
   "metadata": {},
   "outputs": [
    {
     "name": "stdout",
     "output_type": "stream",
     "text": [
      "N: 96\n",
      "N Dem: 50\n",
      "N Repub: 19\n"
     ]
    }
   ],
   "source": [
    "n = len(minidf)\n",
    "n_dem = len(minidf[minidf[\"party\"] == \"Democrat\"])\n",
    "n_repub = len(minidf[minidf[\"party\"] == \"Republican\"])\n",
    "print \"N: {}\".format(n)\n",
    "print \"N Dem: {}\".format(n_dem)\n",
    "print \"N Repub: {}\".format(n_repub)"
   ]
  },
  {
   "cell_type": "code",
   "execution_count": 4,
   "metadata": {},
   "outputs": [
    {
     "name": "stdout",
     "output_type": "stream",
     "text": [
      "40.677083333333336 1.1210207198410143\n",
      "37 59\n",
      "0.8020833333333334\n"
     ]
    }
   ],
   "source": [
    "# Mean age and standard error of the mean\n",
    "print np.mean(minidf.age[~np.isnan(minidf.age)]), stats.sem(minidf.age[~np.isnan(minidf.age)])\n",
    "# n identifying as male/female\n",
    "print len(minidf.loc[minidf.gender == 0]), len(minidf.loc[minidf.gender == 1])\n",
    "# % voted\n",
    "print np.mean(minidf.voted)"
   ]
  },
  {
   "cell_type": "markdown",
   "metadata": {},
   "source": [
    "# Results"
   ]
  },
  {
   "cell_type": "code",
   "execution_count": 5,
   "metadata": {},
   "outputs": [
    {
     "name": "stderr",
     "output_type": "stream",
     "text": [
      "/Users/sabinasloman/.pyenv/versions/2.7.17/envs/politics-test-bed/lib/python2.7/site-packages/ipykernel_launcher.py:4: SettingWithCopyWarning: \n",
      "A value is trying to be set on a copy of a slice from a DataFrame.\n",
      "Try using .loc[row_indexer,col_indexer] = value instead\n",
      "\n",
      "See the caveats in the documentation: http://pandas.pydata.org/pandas-docs/stable/indexing.html#indexing-view-versus-copy\n",
      "  after removing the cwd from sys.path.\n",
      "/Users/sabinasloman/.pyenv/versions/2.7.17/envs/politics-test-bed/lib/python2.7/site-packages/pandas/core/frame.py:3414: SettingWithCopyWarning: \n",
      "A value is trying to be set on a copy of a slice from a DataFrame\n",
      "\n",
      "See the caveats in the documentation: http://pandas.pydata.org/pandas-docs/stable/indexing.html#indexing-view-versus-copy\n",
      "  self._where(-key, value, inplace=True)\n",
      "/Users/sabinasloman/.pyenv/versions/2.7.17/envs/politics-test-bed/lib/python2.7/site-packages/ipykernel_launcher.py:5: SettingWithCopyWarning: \n",
      "A value is trying to be set on a copy of a slice from a DataFrame.\n",
      "Try using .loc[row_indexer,col_indexer] = value instead\n",
      "\n",
      "See the caveats in the documentation: http://pandas.pydata.org/pandas-docs/stable/indexing.html#indexing-view-versus-copy\n",
      "  \"\"\"\n",
      "/Users/sabinasloman/.pyenv/versions/2.7.17/envs/politics-test-bed/lib/python2.7/site-packages/ipykernel_launcher.py:7: SettingWithCopyWarning: \n",
      "A value is trying to be set on a copy of a slice from a DataFrame.\n",
      "Try using .loc[row_indexer,col_indexer] = value instead\n",
      "\n",
      "See the caveats in the documentation: http://pandas.pydata.org/pandas-docs/stable/indexing.html#indexing-view-versus-copy\n",
      "  import sys\n"
     ]
    }
   ],
   "source": [
    "response_cols = map(str, p_ixs)\n",
    "dat = minidf[response_cols]\n",
    "responses = dat.values\n",
    "dat[np.in1d(responses, truth[\"REPUBLICAN\"]).reshape(responses.shape)] = 1\n",
    "dat[dat != 1] = 0\n",
    "dat[\"Condition\"] = [ 1 if cond == \"REPUBLICAN\" else 0 for cond in \n",
    "                     minidf.Condition ]\n",
    "dat_ = [ list(vals) for vals in dat.values ]"
   ]
  },
  {
   "cell_type": "code",
   "execution_count": 6,
   "metadata": {},
   "outputs": [
    {
     "name": "stderr",
     "output_type": "stream",
     "text": [
      "/Users/sabinasloman/.pyenv/versions/2.7.17/envs/politics-test-bed/lib/python2.7/site-packages/rpy2/rinterface/__init__.py:186: RRuntimeWarning: Loading required package: Matrix\n",
      "\n",
      "  warnings.warn(x, RRuntimeWarning)\n",
      "/Users/sabinasloman/.pyenv/versions/2.7.17/envs/politics-test-bed/lib/python2.7/site-packages/rpy2/rinterface/__init__.py:186: RRuntimeWarning: ── \u001b[1mAttaching packages\u001b[22m ─────────────────────────────────────── tidyverse 1.3.0 ──\n",
      "\n",
      "  warnings.warn(x, RRuntimeWarning)\n",
      "/Users/sabinasloman/.pyenv/versions/2.7.17/envs/politics-test-bed/lib/python2.7/site-packages/rpy2/rinterface/__init__.py:186: RRuntimeWarning: \u001b[32m✔\u001b[39m \u001b[34mggplot2\u001b[39m 3.3.0     \u001b[32m✔\u001b[39m \u001b[34mpurrr  \u001b[39m 0.3.3\n",
      "\u001b[32m✔\u001b[39m \u001b[34mtibble \u001b[39m 2.1.3     \u001b[32m✔\u001b[39m \u001b[34mdplyr  \u001b[39m 0.8.5\n",
      "\u001b[32m✔\u001b[39m \u001b[34mtidyr  \u001b[39m 1.0.2     \u001b[32m✔\u001b[39m \u001b[34mstringr\u001b[39m 1.4.0\n",
      "\u001b[32m✔\u001b[39m \u001b[34mreadr  \u001b[39m 1.3.1     \u001b[32m✔\u001b[39m \u001b[34mforcats\u001b[39m 0.5.0\n",
      "\n",
      "  warnings.warn(x, RRuntimeWarning)\n",
      "/Users/sabinasloman/.pyenv/versions/2.7.17/envs/politics-test-bed/lib/python2.7/site-packages/rpy2/rinterface/__init__.py:186: RRuntimeWarning: ── \u001b[1mConflicts\u001b[22m ────────────────────────────────────────── tidyverse_conflicts() ──\n",
      "\u001b[31m✖\u001b[39m \u001b[34mtidyr\u001b[39m::\u001b[32mexpand()\u001b[39m masks \u001b[34mMatrix\u001b[39m::expand()\n",
      "\u001b[31m✖\u001b[39m \u001b[34mdplyr\u001b[39m::\u001b[32mfilter()\u001b[39m masks \u001b[34mstats\u001b[39m::filter()\n",
      "\u001b[31m✖\u001b[39m \u001b[34mdplyr\u001b[39m::\u001b[32mlag()\u001b[39m    masks \u001b[34mstats\u001b[39m::lag()\n",
      "\u001b[31m✖\u001b[39m \u001b[34mtidyr\u001b[39m::\u001b[32mpack()\u001b[39m   masks \u001b[34mMatrix\u001b[39m::pack()\n",
      "\u001b[31m✖\u001b[39m \u001b[34mtidyr\u001b[39m::\u001b[32munpack()\u001b[39m masks \u001b[34mMatrix\u001b[39m::unpack()\n",
      "\n",
      "  warnings.warn(x, RRuntimeWarning)\n"
     ]
    }
   ],
   "source": [
    "%%R -i dat_\n",
    "library(\"lme4\")\n",
    "library(\"tidyverse\")\n",
    "\n",
    "d <- data.frame(t(dat_))\n",
    "d.tbl <- d %>%\n",
    "    mutate_each(as.integer) %>%\n",
    "    mutate(condition=X88) %>%\n",
    "    select(-X88) %>%\n",
    "    mutate(pid=1:nrow(.)) %>%\n",
    "    pivot_longer(paste0(\"X\", 1:87), names_to=\"item\")"
   ]
  },
  {
   "cell_type": "markdown",
   "metadata": {},
   "source": [
    "## Main inferential tests"
   ]
  },
  {
   "cell_type": "code",
   "execution_count": 7,
   "metadata": {},
   "outputs": [],
   "source": [
    "%%R\n",
    "source(\"../clmclx.R\")"
   ]
  },
  {
   "cell_type": "code",
   "execution_count": 8,
   "metadata": {},
   "outputs": [
    {
     "name": "stderr",
     "output_type": "stream",
     "text": [
      "/Users/sabinasloman/.pyenv/versions/2.7.17/envs/politics-test-bed/lib/python2.7/site-packages/rpy2/rinterface/__init__.py:186: RRuntimeWarning: Loading required package: zoo\n",
      "\n",
      "  warnings.warn(x, RRuntimeWarning)\n",
      "/Users/sabinasloman/.pyenv/versions/2.7.17/envs/politics-test-bed/lib/python2.7/site-packages/rpy2/rinterface/__init__.py:186: RRuntimeWarning: \n",
      "Attaching package: ‘zoo’\n",
      "\n",
      "\n",
      "  warnings.warn(x, RRuntimeWarning)\n",
      "/Users/sabinasloman/.pyenv/versions/2.7.17/envs/politics-test-bed/lib/python2.7/site-packages/rpy2/rinterface/__init__.py:186: RRuntimeWarning: The following objects are masked from ‘package:base’:\n",
      "\n",
      "    as.Date, as.Date.numeric\n",
      "\n",
      "\n",
      "  warnings.warn(x, RRuntimeWarning)\n"
     ]
    },
    {
     "data": {
      "text/plain": [
       "[1] 8351\n",
       "[1] \"0.520354406130268 0.0193591855470085 1.05140818454594 0.146550790601248\"\n"
      ]
     },
     "metadata": {},
     "output_type": "display_data"
    }
   ],
   "source": [
    "%%R\n",
    "# One-sided t-test of overall accuracy\n",
    "d.tmp <- data.frame(d.tbl)\n",
    "d.tmp[which(d.tmp$condition == 0),c(\"value\")] = 1 - d.tmp[which(d.tmp$condition == 0),c(\"value\")]\n",
    "idxn <- with(d.tmp, pid[which(!is.na(value))])\n",
    "idxk <- with(d.tmp, item[which(!is.na(value))])\n",
    "d.tmp$value <- d.tmp$value - .5\n",
    "fit <- lm(value ~ 1, data=d.tmp)\n",
    "print(fit$df.residual)\n",
    "res <- mclx(fit, 1, idxn, idxk)\n",
    "mu <- res[1,1] + .5\n",
    "se <- res[1,2]\n",
    "t <- res[1,3]\n",
    "p <- res[1,4] / 2\n",
    "print(paste(mu, se, t, p))"
   ]
  },
  {
   "cell_type": "code",
   "execution_count": 9,
   "metadata": {},
   "outputs": [
    {
     "data": {
      "text/plain": [
       "[1] 4262\n",
       "[1] \"0.504339666901243 0.0244361100195502 0.177592378564808 0.429525774943945\"\n"
      ]
     },
     "metadata": {},
     "output_type": "display_data"
    }
   ],
   "source": [
    "%%R\n",
    "# One-sided t-test (Republican condition)\n",
    "d.tmp <- d.tbl %>%\n",
    "    filter(condition == 1)\n",
    "idxn <- with(d.tmp, pid[which(!is.na(value))])\n",
    "idxk <- with(d.tmp, item[which(!is.na(value))])\n",
    "d.tmp$value <- d.tmp$value - .5\n",
    "fit <- lm(value ~ 1, data=d.tmp)\n",
    "print(fit$df.residual)\n",
    "res <- mclx(fit, 1, idxn, idxk)\n",
    "mu <- res[1,1] + .5\n",
    "se <- res[1,2]\n",
    "t <- res[1,3]\n",
    "p <- res[1,4] / 2\n",
    "print(paste(mu, se, t, p))"
   ]
  },
  {
   "cell_type": "code",
   "execution_count": 10,
   "metadata": {},
   "outputs": [
    {
     "data": {
      "text/plain": [
       "[1] 4088\n",
       "[1] \"0.462949376375642 0.0203892640346995 -1.81716336407745 0.0346326434172826\"\n"
      ]
     },
     "metadata": {},
     "output_type": "display_data"
    }
   ],
   "source": [
    "%%R\n",
    "# One-sided t-test (Democratic condition)\n",
    "# Responses of Republican are coded as 0, so the accuracy reported in the paper is\n",
    "# 1-mu\n",
    "d.tmp <- d.tbl %>%\n",
    "    filter(condition == 0)\n",
    "idxn <- with(d.tmp, pid[which(!is.na(value))])\n",
    "idxk <- with(d.tmp, item[which(!is.na(value))])\n",
    "d.tmp$value <- d.tmp$value - .5\n",
    "fit <- lm(value ~ 1, data=d.tmp)\n",
    "print(fit$df.residual)\n",
    "res <- mclx(fit, 1, idxn, idxk)\n",
    "mu <- res[1,1] + .5\n",
    "se <- res[1,2]\n",
    "t <- res[1,3]\n",
    "p <- res[1,4] / 2\n",
    "print(paste(mu, se, t, p))"
   ]
  },
  {
   "cell_type": "markdown",
   "metadata": {},
   "source": [
    "## Effect size"
   ]
  },
  {
   "cell_type": "code",
   "execution_count": 11,
   "metadata": {},
   "outputs": [
    {
     "data": {
      "text/plain": [
       "[1] 0.09018948\n"
      ]
     },
     "metadata": {},
     "output_type": "display_data"
    }
   ],
   "source": [
    "%%R\n",
    "mod <- lmer(value ~ condition + (1|pid) + (condition|item), data=d.tbl)\n",
    "delta <- summary(mod)$coefficients[2,1]\n",
    "sig <- sigma(mod)\n",
    "delta / sig"
   ]
  },
  {
   "cell_type": "markdown",
   "metadata": {},
   "source": [
    "## Item-level analysis"
   ]
  },
  {
   "cell_type": "code",
   "execution_count": 12,
   "metadata": {},
   "outputs": [
    {
     "data": {
      "text/plain": [
       "(0.5202876083887881,\n",
       " 0.01893722679498896,\n",
       " 1.0713083076217071,\n",
       " 0.14351406488368018,\n",
       " 86)"
      ]
     },
     "execution_count": 12,
     "metadata": {},
     "output_type": "execute_result"
    }
   ],
   "source": [
    "perceps = PerceptualData()\n",
    "perceps.get_discriminability_by_pair(plot = False)\n",
    "mu, se = np.mean(perceps.discrim_by_pair.values()), \\\n",
    "    stats.sem(perceps.discrim_by_pair.values())\n",
    "t, p = stats.ttest_1samp(perceps.discrim_by_pair.values(), .5)\n",
    "mu, se, t, p / 2, len(perceps.discrim_by_pair.values()) - 1"
   ]
  },
  {
   "cell_type": "markdown",
   "metadata": {},
   "source": [
    "Save data for figure (to reproduce figure, run `figures/figure3.py`)."
   ]
  },
  {
   "cell_type": "code",
   "execution_count": 13,
   "metadata": {},
   "outputs": [],
   "source": [
    "item_dat = [ (k1,k2,v) for (k1,k2),v in perceps.discrim_by_pair.iteritems() ]\n",
    "plot_df = pd.DataFrame(item_dat, columns=[\"dw\",\"rw\",\"acc\"])\n",
    "plot_df[\"logodds_d\"] = [ signal_df.loc[w].rmetric for w in plot_df.dw ]\n",
    "plot_df[\"logodds_r\"] = [ signal_df.loc[w].rmetric for w in plot_df.rw ]\n",
    "plot_df.to_csv(\"figure.csv\")"
   ]
  },
  {
   "cell_type": "markdown",
   "metadata": {},
   "source": [
    "Restrict to participants in the Republican condition."
   ]
  },
  {
   "cell_type": "code",
   "execution_count": 14,
   "metadata": {},
   "outputs": [
    {
     "data": {
      "text/plain": [
       "(0.5044374071467668,\n",
       " 0.023664392741587003,\n",
       " 0.18751409322955584,\n",
       " 0.4258496396573529)"
      ]
     },
     "execution_count": 14,
     "metadata": {},
     "output_type": "execute_result"
    }
   ],
   "source": [
    "perceps = PerceptualData(Condition = \"REPUBLICAN\")\n",
    "perceps.get_discriminability_by_pair(plot = False)\n",
    "mu, se = np.mean(perceps.discrim_by_pair.values()), \\\n",
    "    stats.sem(perceps.discrim_by_pair.values())\n",
    "t, p = stats.ttest_1samp(perceps.discrim_by_pair.values(), .5)\n",
    "mu, se, t, p / 2"
   ]
  },
  {
   "cell_type": "markdown",
   "metadata": {},
   "source": [
    "Restrict to participants in the Democratic condition."
   ]
  },
  {
   "cell_type": "code",
   "execution_count": 15,
   "metadata": {},
   "outputs": [
    {
     "data": {
      "text/plain": [
       "(0.5367369506735993,\n",
       " 0.01998743469636781,\n",
       " 1.8380022865203034,\n",
       " 0.03475737716140077)"
      ]
     },
     "execution_count": 15,
     "metadata": {},
     "output_type": "execute_result"
    }
   ],
   "source": [
    "perceps = PerceptualData(Condition = \"DEMOCRAT\")\n",
    "perceps.get_discriminability_by_pair(plot = False)\n",
    "mu, se = np.mean(perceps.discrim_by_pair.values()), \\\n",
    "    stats.sem(perceps.discrim_by_pair.values())\n",
    "t, p = stats.ttest_1samp(perceps.discrim_by_pair.values(), .5)\n",
    "mu, se, t, p / 2"
   ]
  },
  {
   "cell_type": "markdown",
   "metadata": {},
   "source": [
    "## Participant-level analysis"
   ]
  },
  {
   "cell_type": "code",
   "execution_count": 16,
   "metadata": {},
   "outputs": [],
   "source": [
    "def get_idv_perceptions(i, ix, _df):\n",
    "    response = _df.loc[i][str(ix)]\n",
    "    if isinstance(response, str):\n",
    "        assert response in partisan.values[ix-1]\n",
    "        return int(response in truth[_df.loc[i][\"Condition\"]])\n",
    "    else:\n",
    "        return np.nan\n",
    "    \n",
    "def calc_prop_correct(_df):\n",
    "    prop_correct = []\n",
    "    for i in _df.index:\n",
    "        z_idv_perceps = map(lambda ix: get_idv_perceptions(i, ix, _df), p_ixs)\n",
    "        z_idv_perceps = np.array(z_idv_perceps)\n",
    "        z_idv_perceps = z_idv_perceps[~np.isnan(z_idv_perceps)]\n",
    "        prop_correct.append(sum(z_idv_perceps) / float(len(z_idv_perceps)))\n",
    "    return prop_correct"
   ]
  },
  {
   "cell_type": "code",
   "execution_count": 17,
   "metadata": {},
   "outputs": [
    {
     "data": {
      "text/plain": [
       "(0.5203126392230242,\n",
       " 0.006779377332631744,\n",
       " 2.996239658360902,\n",
       " 0.0017433022323757033,\n",
       " 95)"
      ]
     },
     "execution_count": 17,
     "metadata": {},
     "output_type": "execute_result"
    }
   ],
   "source": [
    "prop_correct = calc_prop_correct(minidf)\n",
    "mu, se = np.mean(prop_correct), stats.sem(prop_correct)\n",
    "t, p = stats.ttest_1samp(prop_correct, .5)\n",
    "mu, se, t, p / 2, len(prop_correct) - 1"
   ]
  },
  {
   "cell_type": "markdown",
   "metadata": {},
   "source": [
    "Restrict to participants in the Republican condition."
   ]
  },
  {
   "cell_type": "code",
   "execution_count": 18,
   "metadata": {},
   "outputs": [
    {
     "data": {
      "text/plain": [
       "(0.5044624104653891,\n",
       " 0.009779850111900922,\n",
       " 0.456286181723671,\n",
       " 0.32512106460907353,\n",
       " 48)"
      ]
     },
     "execution_count": 18,
     "metadata": {},
     "output_type": "execute_result"
    }
   ],
   "source": [
    "prop_correct = calc_prop_correct(minidf.loc[minidf.Condition == \"REPUBLICAN\"])\n",
    "mu, se = np.mean(prop_correct), stats.sem(prop_correct)\n",
    "t, p = stats.ttest_1samp(prop_correct, .5)\n",
    "mu, se, t, p / 2, len(prop_correct) - 1"
   ]
  },
  {
   "cell_type": "markdown",
   "metadata": {},
   "source": [
    "Restrict to participants in the Democrat condition."
   ]
  },
  {
   "cell_type": "code",
   "execution_count": 19,
   "metadata": {},
   "outputs": [
    {
     "data": {
      "text/plain": [
       "(0.5368373458001331,\n",
       " 0.00884265559541169,\n",
       " 4.16586911054722,\n",
       " 6.75282803752797e-05,\n",
       " 46)"
      ]
     },
     "execution_count": 19,
     "metadata": {},
     "output_type": "execute_result"
    }
   ],
   "source": [
    "prop_correct = calc_prop_correct(minidf.loc[minidf.Condition == \"DEMOCRAT\"])\n",
    "mu, se = np.mean(prop_correct), stats.sem(prop_correct)\n",
    "t, p = stats.ttest_1samp(prop_correct, .5)\n",
    "mu, se, t, p / 2, len(prop_correct) - 1"
   ]
  },
  {
   "cell_type": "markdown",
   "metadata": {},
   "source": [
    "# Discussion"
   ]
  },
  {
   "cell_type": "markdown",
   "metadata": {},
   "source": [
    "Performance on the Democratic words, broken down by the participant's party affiliation."
   ]
  },
  {
   "cell_type": "code",
   "execution_count": 20,
   "metadata": {},
   "outputs": [
    {
     "name": "stderr",
     "output_type": "stream",
     "text": [
      "/Users/sabinasloman/.pyenv/versions/2.7.17/envs/politics-test-bed/lib/python2.7/site-packages/ipykernel_launcher.py:1: SettingWithCopyWarning: \n",
      "A value is trying to be set on a copy of a slice from a DataFrame.\n",
      "Try using .loc[row_indexer,col_indexer] = value instead\n",
      "\n",
      "See the caveats in the documentation: http://pandas.pydata.org/pandas-docs/stable/indexing.html#indexing-view-versus-copy\n",
      "  \"\"\"Entry point for launching an IPython kernel.\n"
     ]
    }
   ],
   "source": [
    "dat[\"party\"] = minidf.party"
   ]
  },
  {
   "cell_type": "code",
   "execution_count": 21,
   "metadata": {},
   "outputs": [
    {
     "data": {
      "text/plain": [
       "(0.5225095785440613, 0.011862725568861674)"
      ]
     },
     "execution_count": 21,
     "metadata": {},
     "output_type": "execute_result"
    }
   ],
   "source": [
    "prop_correct = calc_prop_correct(minidf.loc[(minidf.Condition == \"DEMOCRAT\") \\\n",
    "                                           & (minidf.party == \"Democrat\")])\n",
    "mu, se = np.mean(prop_correct), stats.sem(prop_correct)\n",
    "mu, se"
   ]
  },
  {
   "cell_type": "code",
   "execution_count": 22,
   "metadata": {},
   "outputs": [
    {
     "data": {
      "text/plain": [
       "(0.5426022453889335, 0.014358937218461763)"
      ]
     },
     "execution_count": 22,
     "metadata": {},
     "output_type": "execute_result"
    }
   ],
   "source": [
    "prop_correct = calc_prop_correct(minidf.loc[(minidf.Condition == \"DEMOCRAT\") \\\n",
    "                                           & (minidf.party == \"Republican\")])\n",
    "mu, se = np.mean(prop_correct), stats.sem(prop_correct)\n",
    "mu, se"
   ]
  },
  {
   "cell_type": "markdown",
   "metadata": {},
   "source": [
    "Mean $logodds_R$ of Democratic and Republican items."
   ]
  },
  {
   "cell_type": "code",
   "execution_count": 23,
   "metadata": {},
   "outputs": [
    {
     "data": {
      "text/plain": [
       "(-0.5806704207408324, 0.6424168695741973)"
      ]
     },
     "execution_count": 23,
     "metadata": {},
     "output_type": "execute_result"
    }
   ],
   "source": [
    "np.mean(signal_df.loc[partisan.values[:,0]].rmetric), \\\n",
    "np.mean(signal_df.loc[partisan.values[:,1]].rmetric)"
   ]
  },
  {
   "cell_type": "markdown",
   "metadata": {},
   "source": [
    "# Appendix E"
   ]
  },
  {
   "cell_type": "markdown",
   "metadata": {},
   "source": [
    "Is there a significant difference in the accuracy of Democrats and Republicans?"
   ]
  },
  {
   "cell_type": "code",
   "execution_count": 24,
   "metadata": {},
   "outputs": [],
   "source": [
    "accuracies = dict()\n",
    "for party in (\"Democrat\", \"Republican\"):\n",
    "    pdf = minidf[minidf[\"party\"]==party]\n",
    "\n",
    "    prop_correct = []\n",
    "    for i in pdf.index:\n",
    "        z_idv_perceps = map(lambda ix: get_idv_perceptions(i, ix, pdf), p_ixs)\n",
    "        z_idv_perceps = np.array(z_idv_perceps)\n",
    "        z_idv_perceps = z_idv_perceps[~np.isnan(z_idv_perceps)]\n",
    "        prop_correct.append(sum(z_idv_perceps) / float(len(z_idv_perceps)))\n",
    "    accuracies[party] = prop_correct"
   ]
  },
  {
   "cell_type": "code",
   "execution_count": 25,
   "metadata": {},
   "outputs": [
    {
     "name": "stdout",
     "output_type": "stream",
     "text": [
      "Mean discriminability for Democrats: 0.508276 (SE: 0.009302)\n",
      "Mean discriminability for Republicans: 0.534469 (SE: 0.015246)\n",
      "\n",
      "\n",
      "T-stat: -1.466555\n",
      "P value: 0.152180\n",
      "Degrees of freedom: 32.252885\n"
     ]
    }
   ],
   "source": [
    "d, r = accuracies[\"Democrat\"], accuracies[\"Republican\"]\n",
    "\n",
    "print \"Mean discriminability for Democrats: %f (SE: %f)\"%(np.mean(d), stats.sem(d))\n",
    "print \"Mean discriminability for Republicans: %f (SE: %f)\"%(np.mean(r), stats.sem(r))\n",
    "print \"\\n\"\n",
    "\n",
    "cm = sms.CompareMeans(sms.DescrStatsW(d), sms.DescrStatsW(r))\n",
    "tstat, pvalue, deg_freedom = cm.ttest_ind(usevar=\"unequal\")\n",
    "print \"T-stat: %f\"%tstat\n",
    "print \"P value: %f\"%pvalue\n",
    "print \"Degrees of freedom: %f\"%deg_freedom"
   ]
  },
  {
   "cell_type": "code",
   "execution_count": 26,
   "metadata": {},
   "outputs": [],
   "source": [
    "signal_df = pickle.load(open(paths[\"metrics_dir\"] + \"signals-unigrams\", \"rb\"))\n",
    "\n",
    "def get_signal(w):\n",
    "    dlogp, rlogp = signal_df.loc[w][\"dmetric\"], signal_df.loc[w][\"rmetric\"]\n",
    "    assert dlogp * rlogp < 0\n",
    "    return dlogp, rlogp\n",
    "\n",
    "signals_ = map(get_signal, itertools.chain(*partisan_pairs))\n",
    "signals = dict(zip(itertools.chain(*partisan_pairs), signals_))"
   ]
  },
  {
   "cell_type": "code",
   "execution_count": 27,
   "metadata": {},
   "outputs": [],
   "source": [
    "lr_data = minidf.copy()\n",
    "lr_data = lr_data.loc[lr_data.party.isin([ \"Democrat\", \"Republican\" ])]\n",
    "n = len(lr_data)\n",
    "partisan_pairs = np.array(partisan_pairs)\n",
    "n_vars = 9\n",
    "\n",
    "# Add dummy columns\n",
    "for i in range(1, n):\n",
    "    ids = np.zeros(n)\n",
    "    ids[i] = 1\n",
    "    lr_data[\"participant{}\".format(i)] = ids\n",
    "    \n",
    "w1 = np.ravel(lr_data[map(str, p_ixs)])\n",
    "w2 = w1.copy()\n",
    "for pair in partisan_pairs:\n",
    "    w2[w2 == pair[0]] = \"TMP\"\n",
    "    w2[w2 == pair[1]] = pair[0]\n",
    "    w2[w2 == \"TMP\"] = pair[1]\n",
    "    \n",
    "X = np.full((n * len(p_ixs), n_vars + n - 1 + len(p_ixs)-1), np.nan)\n",
    "# The log odds that the word was said by a Republican\n",
    "vf = np.vectorize(lambda w1_, w2_: signals[w1_][0] + signals[w2_][1])\n",
    "X[:,0] = np.tile(vf(partisan_pairs[:,0], partisan_pairs[:,1]), n)\n",
    "# The log probability of hearing the word\n",
    "vf = np.vectorize(lambda w1_, w2_: math.log(sum(freq_df.loc[(w1_,[\"dmetric\",\"rmetric\"])].values) / n_utterances, 2) +\n",
    "                                   math.log(sum(freq_df.loc[(w2_,[\"dmetric\",\"rmetric\"])].values) / n_utterances, 2))\n",
    "X[:,1] = np.tile(vf(partisan_pairs[:,0], partisan_pairs[:,1]), n)\n",
    "# Participant's political identity\n",
    "vf = np.vectorize(lambda pid: 1 if pid == \"Republican\" else -1 if pid == \"Democrat\" else \n",
    "                  0)\n",
    "pids = np.repeat(vf(lr_data.party), len(p_ixs))\n",
    "X[:,2] = pids\n",
    "# Valence of word\n",
    "vf = np.vectorize(lambda w1_, w2_: get_valence(w1_)[0]-5 - (get_valence(w2_)[0]-5))\n",
    "X[:,3] = vf(*np.array(zip(w1, w2)).T)\n",
    "# Valence of word * Participant's party identity * Polarity\n",
    "sign = np.vectorize(lambda w: np.sign(signal_df.loc[w].rmetric) if not is_nan(w) else np.nan)\n",
    "X[:,4] = pids * X[:,3] * sign(w1)\n",
    "# Party identity\n",
    "X[:,5] = np.repeat(lr_data.party_identity, len(p_ixs))\n",
    "# Party affiliation x party identity\n",
    "X[:,6] = pids * X[:,5]\n",
    "# Political engagement\n",
    "X[:,7] = np.repeat(lr_data.political_engagement, len(p_ixs))\n",
    "# Party affiliation x political engagement\n",
    "X[:,8] = pids * X[:,7]\n",
    "# Participant IDs\n",
    "for i in range(n_vars, n_vars + n - 1):\n",
    "    X[:,i] = np.repeat(lr_data[\"participant{}\".format(i-n_vars+1)], len(p_ixs))\n",
    "    \n",
    "# Item dummies\n",
    "for i in range(1,len(p_ixs)):\n",
    "    ix = n_vars+n-1+i-1\n",
    "    ind_vec = np.zeros(len(p_ixs))\n",
    "    ind_vec[i] = 1\n",
    "    X[:,ix] = np.tile(ind_vec, n)\n",
    "\n",
    "condition = np.repeat(lr_data.Condition, len(p_ixs))\n",
    "condition[condition == \"DEMOCRAT\"] = -1\n",
    "condition[condition == \"REPUBLICAN\"] = 1\n",
    "Y = sign(w1) == condition\n",
    "\n",
    "X = X[~np.isnan(Y)]\n",
    "Y = Y[~np.isnan(Y)]\n",
    "Y = Y[~np.isnan(X).any(axis = 1)]\n",
    "X = X[~np.isnan(X).any(axis = 1),:]\n",
    "\n",
    "# Since we don't have valence data for some of the words, their observations will be deleted and their indicator columns will\n",
    "# just be clutter (and cause problems with model estimation)\n",
    "colixs = np.arange(0,X.shape[1])\n",
    "to_del = np.where(np.apply_along_axis(lambda x: np.all(x == 0), 0, X[:,n_vars+n-1:-1]))[0] + n_vars+n-1\n",
    "colixs = [ colix for colix in colixs if colix not in to_del ]\n",
    "X = X[:,colixs]\n",
    "\n",
    "X = stats.mstats.zscore(X)"
   ]
  },
  {
   "cell_type": "code",
   "execution_count": 28,
   "metadata": {},
   "outputs": [
    {
     "name": "stderr",
     "output_type": "stream",
     "text": [
      "/Users/sabinasloman/.pyenv/versions/2.7.17/envs/politics-test-bed/lib/python2.7/site-packages/sklearn/model_selection/_split.py:2052: FutureWarning: You should specify a value for 'cv' instead of relying on the default value. The default value will change from 3 to 5 in version 0.22.\n",
      "  warnings.warn(CV_WARNING, FutureWarning)\n"
     ]
    },
    {
     "data": {
      "text/plain": [
       "(array([ 0.17068798,  0.06898615,  0.03999893, -0.02842231,  0.33605812,\n",
       "        -0.02959563, -0.03028575,  0.07660507,  0.01620017]),\n",
       " 5381,\n",
       " 0.5983633537608953)"
      ]
     },
     "execution_count": 28,
     "metadata": {},
     "output_type": "execute_result"
    }
   ],
   "source": [
    "# Estimate the model without fixed effects for consistency with the analysis of the Study 1 data\n",
    "logit = SparseLR(Y, X[:,:n_vars])\n",
    "logit.coef, logit.n, logit.auc"
   ]
  }
 ],
 "metadata": {
  "kernelspec": {
   "display_name": "Python 2",
   "language": "python",
   "name": "python2"
  },
  "language_info": {
   "codemirror_mode": {
    "name": "ipython",
    "version": 2
   },
   "file_extension": ".py",
   "mimetype": "text/x-python",
   "name": "python",
   "nbconvert_exporter": "python",
   "pygments_lexer": "ipython2",
   "version": "2.7.17"
  },
  "toc": {
   "base_numbering": 1,
   "nav_menu": {},
   "number_sections": true,
   "sideBar": true,
   "skip_h1_title": false,
   "title_cell": "Table of Contents",
   "title_sidebar": "Contents",
   "toc_cell": false,
   "toc_position": {},
   "toc_section_display": true,
   "toc_window_display": false
  }
 },
 "nbformat": 4,
 "nbformat_minor": 2
}
