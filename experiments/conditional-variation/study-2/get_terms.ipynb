{
 "cells": [
  {
   "cell_type": "code",
   "execution_count": 1,
   "metadata": {},
   "outputs": [],
   "source": [
    "import itertools\n",
    "import os\n",
    "import numpy as np\n",
    "import pandas as pd\n",
    "import pickle"
   ]
  },
  {
   "cell_type": "markdown",
   "metadata": {},
   "source": [
    "Since these surveys were designed, we've made a couple changes to the PKL calculations (see changes.md). The old calculations are saved to make the surveys reproducible."
   ]
  },
  {
   "cell_type": "code",
   "execution_count": 3,
   "metadata": {},
   "outputs": [],
   "source": [
    "# Load data\n",
    "# Created using pyspan/scripts/get_interchangeable_terms.py\n",
    "with open(\"version_used_for_LoP_2AFC_2_cos_sim_partial_kls-unigrams\", \"rb\") as rfh:\n",
    "    df = pickle.load(rfh)"
   ]
  },
  {
   "cell_type": "code",
   "execution_count": 4,
   "metadata": {},
   "outputs": [],
   "source": [
    "words = zip(df[\"dterm\"], df[\"rterm\"])\n",
    "words.remove((\"bush\",\"clinton\"))\n",
    "words.remove((\"bush\",\"obama\"))\n",
    "words.remove((\"congressman\",\"steve\"))\n",
    "words.remove((\"trump\",\"obama\"))\n",
    "words.remove((\"congressman\",\"mike\"))\n",
    "words.remove((\"congressman\",\"tom\"))\n",
    "words.remove((\"congressman\",\"chris\"))\n",
    "words.remove((\"congressman\",\"randy\"))\n",
    "words.remove((\"congressman\",\"phil\"))\n",
    "words.remove((\"congressman\",\"joe\"))\n",
    "words.remove((\"bush\",\"reagan\"))\n",
    "words.remove((\"zinser\",\"comey\"))\n",
    "words.remove((\"zinser\",\"mueller\"))\n",
    "words.remove((\"congressman\",\"bob\"))\n",
    "words.remove((\"representative\",\"steve\"))\n",
    "words.remove((\"congressman\",\"jay\"))\n",
    "words.remove((\"trump\",\"clinton\"))\n",
    "words.remove((\"martin\",\"dr\"))\n",
    "words.remove((\"congressman\",\"ralph\"))\n",
    "words.remove((\"representative\",\"mike\"))\n",
    "words.remove((\"cr\",\"ndaa\"))\n",
    "words.remove((\"donald\",\"steve\"))\n",
    "words.remove((\"representative\",\"chris\"))\n",
    "words.remove((\"congressman\",\"kevin\"))\n",
    "words.remove((\"representative\",\"tom\"))\n",
    "words.remove((\"center\",\"inc\"))\n",
    "words.remove((\"stokes\", \"ralph\"))"
   ]
  },
  {
   "cell_type": "code",
   "execution_count": 5,
   "metadata": {},
   "outputs": [],
   "source": [
    "dups = []\n",
    "for i in range(1000):\n",
    "    if any([ w in set(itertools.chain(*words[:i])) for w in words[i] ]):\n",
    "        dups.append(words[i])\n",
    "    if ( \"ret\" in words[i] or \"jr\" in words[i] or \"boko\" in words[i] or \"haram\" in words[i] or\n",
    "         \"rep\" in words[i] ):\n",
    "        dups.append(words[i])\n",
    "dups = set(dups)\n",
    "        \n",
    "for dup in dups:\n",
    "    words.remove(dup)"
   ]
  },
  {
   "cell_type": "code",
   "execution_count": 6,
   "metadata": {},
   "outputs": [],
   "source": [
    "words = words[:88]"
   ]
  },
  {
   "cell_type": "code",
   "execution_count": 8,
   "metadata": {},
   "outputs": [],
   "source": [
    "# Include opposite-valenced words\n",
    "df_antonyms = pd.read_csv(\"version_used_for_LoP_2AFC_2_antonyms_modified_with-pkls.csv\")\n",
    "antonyms = zip(df_antonyms[\"0\"], df_antonyms[\"1\"])[:10]\n",
    "words += antonyms"
   ]
  },
  {
   "cell_type": "code",
   "execution_count": 9,
   "metadata": {},
   "outputs": [],
   "source": [
    "pickle.dump(pd.DataFrame(words), open(\"survey_terms.pkl\", \"wb\"))"
   ]
  },
  {
   "cell_type": "code",
   "execution_count": 10,
   "metadata": {},
   "outputs": [],
   "source": [
    "wfh1 = open(\"survey2_1.txt\", \"w\")\n",
    "wfh2 = open(\"survey2_2.txt\", \"w\")\n",
    "atc1 = open(\"attention_check2_1.txt\", \"w\")\n",
    "atc2 = open(\"attention_check2_2.txt\", \"w\")\n",
    "wfh1.write(\"[[Block:Word_pairs_1]]\")\n",
    "wfh2.write(\"[[Block:Word_pairs_2]]\")\n",
    "# Instructions to be included at the top of every page\n",
    "instructions = \"\"\"\n",
    "    \n",
    "LOOPN. For each word pair, please guess which is indicative that the speaker is a ${e://Field/Condition}. Your responses will be most helpful if you go with your first impression, so we ask that you spend no more than 5 seconds on each word pair---but feel free to take breaks in between pages!\n",
    "\n",
    "\"\"\"\n",
    "\n",
    "# All words will be presented once, and two will be randomly selected as attention checks\n",
    "for i, words_ in enumerate(words):\n",
    "    order = np.random.choice((0, 1))\n",
    "    word1, word2 = words_ if order==0 else(words_[1], words_[0])\n",
    "    if i%20 == 0:\n",
    "        wfh1.write(instructions.replace(\"LOOPN\", str(1000+i)))\n",
    "    wfh1.write(\"\"\"\n",
    "\n",
    "{}.\\t\n",
    "\n",
    "{}\n",
    "{}\n",
    "\n",
    "\"\"\".format(i+1, word1, word2))\n",
    "    atc1.write(\"\"\"\n",
    "\n",
    "{}.\\t \n",
    "\n",
    "{}\n",
    "{}\n",
    "\n",
    "\"\"\".format(i+99, word2, word1))\n",
    "    if i%20 == 0:\n",
    "        wfh2.write(instructions.replace(\"LOOPN\", str(1000+i)))\n",
    "    wfh2.write(\"\"\"\n",
    "\n",
    "{}.\\t \n",
    "\n",
    "{}\n",
    "{}\n",
    "\n",
    "\"\"\".format(i+1, word2, word1))\n",
    "    atc2.write(\"\"\"\n",
    "\n",
    "{}.\\t\n",
    "\n",
    "{}\n",
    "{}\n",
    "\n",
    "\"\"\".format(i+99, word1, word2))\n",
    "    \n",
    "wfh1.write(\"\"\"\n",
    "\n",
    "98.1. BREAK\n",
    "\n",
    "\"\"\")\n",
    "wfh2.write(\"\"\"\n",
    "\n",
    "98.1. BREAK\n",
    "\n",
    "\"\"\")"
   ]
  },
  {
   "cell_type": "code",
   "execution_count": 11,
   "metadata": {},
   "outputs": [],
   "source": [
    "wfh1.close()\n",
    "wfh2.close()\n",
    "atc1.close()\n",
    "atc2.close()"
   ]
  },
  {
   "cell_type": "code",
   "execution_count": 12,
   "metadata": {},
   "outputs": [
    {
     "data": {
      "text/plain": [
       "0"
      ]
     },
     "execution_count": 12,
     "metadata": {},
     "output_type": "execute_result"
    }
   ],
   "source": [
    "# Merge attention checks with main blocks\n",
    "os.system(\"cat attention_check2_1.txt >> survey2_1.txt\")\n",
    "os.system(\"cat attention_check2_2.txt >> survey2_2.txt\")"
   ]
  }
 ],
 "metadata": {
  "kernelspec": {
   "display_name": "Python 2",
   "language": "python",
   "name": "python2"
  },
  "language_info": {
   "codemirror_mode": {
    "name": "ipython",
    "version": 2
   },
   "file_extension": ".py",
   "mimetype": "text/x-python",
   "name": "python",
   "nbconvert_exporter": "python",
   "pygments_lexer": "ipython2",
   "version": "2.7.17"
  }
 },
 "nbformat": 4,
 "nbformat_minor": 2
}
