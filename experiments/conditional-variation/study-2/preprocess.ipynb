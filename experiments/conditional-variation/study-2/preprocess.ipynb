{
 "cells": [
  {
   "cell_type": "code",
   "execution_count": 1,
   "metadata": {},
   "outputs": [],
   "source": [
    "from collections import defaultdict\n",
    "from copy import deepcopy\n",
    "import numpy as np\n",
    "import pandas as pd\n",
    "import pickle\n",
    "from scipy import stats\n",
    "import sys\n",
    "from pyspan.config import *\n",
    "mode = settings[\"mode\"]\n",
    "assert mode == \"crec\"\n",
    "from pyspan import valence"
   ]
  },
  {
   "cell_type": "markdown",
   "metadata": {},
   "source": [
    "# Pre-processing"
   ]
  },
  {
   "cell_type": "code",
   "execution_count": 2,
   "metadata": {},
   "outputs": [],
   "source": [
    "# Load data\n",
    "# LoP_2AFC_2_original contains the original data downloaded from\n",
    "# Qualtrics. LoP_2AFC_2 is identical, except I recoded the\n",
    "# free responses to the education question to be standardized.\n",
    "df = pd.read_csv(\"LoP_2AFC_2.csv\", keep_default_na=False)"
   ]
  },
  {
   "cell_type": "code",
   "execution_count": 3,
   "metadata": {},
   "outputs": [
    {
     "data": {
      "text/html": [
       "<div>\n",
       "<style scoped>\n",
       "    .dataframe tbody tr th:only-of-type {\n",
       "        vertical-align: middle;\n",
       "    }\n",
       "\n",
       "    .dataframe tbody tr th {\n",
       "        vertical-align: top;\n",
       "    }\n",
       "\n",
       "    .dataframe thead th {\n",
       "        text-align: right;\n",
       "    }\n",
       "</style>\n",
       "<table border=\"1\" class=\"dataframe\">\n",
       "  <thead>\n",
       "    <tr style=\"text-align: right;\">\n",
       "      <th></th>\n",
       "      <th>StartDate</th>\n",
       "      <th>EndDate</th>\n",
       "      <th>Status</th>\n",
       "      <th>Progress</th>\n",
       "      <th>Duration (in seconds)</th>\n",
       "      <th>Finished</th>\n",
       "      <th>RecordedDate</th>\n",
       "      <th>DistributionChannel</th>\n",
       "      <th>UserLanguage</th>\n",
       "      <th>Q5_1</th>\n",
       "      <th>...</th>\n",
       "      <th>Q614_6_TEXT</th>\n",
       "      <th>Q615</th>\n",
       "      <th>Q616</th>\n",
       "      <th>Q616_8_TEXT</th>\n",
       "      <th>Q617</th>\n",
       "      <th>Q618</th>\n",
       "      <th>Q619</th>\n",
       "      <th>Q620</th>\n",
       "      <th>Q621</th>\n",
       "      <th>Condition</th>\n",
       "    </tr>\n",
       "  </thead>\n",
       "  <tbody>\n",
       "  </tbody>\n",
       "</table>\n",
       "<p>0 rows × 434 columns</p>\n",
       "</div>"
      ],
      "text/plain": [
       "Empty DataFrame\n",
       "Columns: [StartDate, EndDate, Status, Progress, Duration (in seconds), Finished, RecordedDate, DistributionChannel, UserLanguage, Q5_1, Q5_2, Q5_3, Q5_4, 1000, 1, 2, 3, 4, 5, 6, 7, 8, 9, 10, 11, 12, 13, 14, 15, 16, 17, 18, 19, 20, 1020, 21, 22, 23, 24, 25, 26, 27, 28, 29, 30, 31, 32, 33, 34, 35, 36, 37, 38, 39, 40, 1040, 41, 42, 43, 44, 45, 46, 47, 48, 49, 50, 51, 52, 53, 54, 55, 56, 57, 58, 59, 60, 1060, 61, 62, 63, 64, 65, 66, 67, 68, 69, 70, 71, 72, 73, 74, 75, 76, 77, 78, 79, 80, 1080, 81, 82, ...]\n",
       "Index: []\n",
       "\n",
       "[0 rows x 434 columns]"
      ]
     },
     "execution_count": 3,
     "metadata": {},
     "output_type": "execute_result"
    }
   ],
   "source": [
    "# See if there are any responses I should reject\n",
    "df_ = df[2:]\n",
    "# Check if anyone replied \"no\" to any of the questions on the consent form\n",
    "pd.concat([ df_[df_[\"Q5_1\"]!=\"Yes\"], df_[df_[\"Q5_2\"]!=\"Yes\"], \n",
    "            df_[df_[\"Q5_3\"]!=\"Yes\"], df_[df_[\"Q5_4\"]!=\"Yes\"] ])"
   ]
  },
  {
   "cell_type": "code",
   "execution_count": 4,
   "metadata": {},
   "outputs": [
    {
     "name": "stdout",
     "output_type": "stream",
     "text": [
      "Excluding some participants\n",
      "175\n"
     ]
    }
   ],
   "source": [
    "# See if anyone didn't finish the survey\n",
    "unfinished = df_.loc[df_[\"Finished\"] == \"FALSE\"]\n",
    "print \"Excluding some participants\"*(not unfinished.empty)\n",
    "df_ = df_.loc[df_[\"Finished\"] == \"TRUE\"]\n",
    "print len(df_)"
   ]
  },
  {
   "cell_type": "code",
   "execution_count": 5,
   "metadata": {},
   "outputs": [
    {
     "name": "stderr",
     "output_type": "stream",
     "text": [
      "/Users/sabinasloman/.pyenv/versions/2.7.17/envs/lop_env/lib/python2.7/site-packages/pandas/core/frame.py:4042: SettingWithCopyWarning: \n",
      "A value is trying to be set on a copy of a slice from a DataFrame\n",
      "\n",
      "See the caveats in the documentation: http://pandas.pydata.org/pandas-docs/stable/indexing.html#indexing-view-versus-copy\n",
      "  method=method)\n",
      "/Users/sabinasloman/.pyenv/versions/2.7.17/envs/lop_env/lib/python2.7/site-packages/pandas/core/frame.py:4025: SettingWithCopyWarning: \n",
      "A value is trying to be set on a copy of a slice from a DataFrame\n",
      "\n",
      "See the caveats in the documentation: http://pandas.pydata.org/pandas-docs/stable/indexing.html#indexing-view-versus-copy\n",
      "  return super(DataFrame, self).rename(**kwargs)\n"
     ]
    },
    {
     "data": {
      "text/plain": [
       "False"
      ]
     },
     "execution_count": 5,
     "metadata": {},
     "output_type": "execute_result"
    }
   ],
   "source": [
    "# Combine conditions (differ in question order)\n",
    "df1 = df_[map(str, range(1, 197))]\n",
    "df1.replace([\"-99\", \"\"], np.nan, inplace = True)\n",
    "df2 = df_[map(lambda n: str(n+.1), range(1, 197))]\n",
    "df2.rename(columns = dict([ (str(i+.1), str(i)) for i in range(1, 197) ]),\n",
    "           inplace = True)\n",
    "df2.replace([\"-99\", \"\"], np.nan, inplace = True)\n",
    "df__ = df1.fillna(df2)\n",
    "# Check if anyone left every question blank\n",
    "any(map(lambda i: df__.loc[i].isnull().values.all(), df__.index))"
   ]
  },
  {
   "cell_type": "code",
   "execution_count": 6,
   "metadata": {},
   "outputs": [],
   "source": [
    "minidf = df__[map(str, range(1, 99))]"
   ]
  },
  {
   "cell_type": "code",
   "execution_count": 7,
   "metadata": {},
   "outputs": [
    {
     "name": "stderr",
     "output_type": "stream",
     "text": [
      "/Users/sabinasloman/.pyenv/versions/2.7.17/envs/lop_env/lib/python2.7/site-packages/ipykernel_launcher.py:1: SettingWithCopyWarning: \n",
      "A value is trying to be set on a copy of a slice from a DataFrame.\n",
      "Try using .loc[row_indexer,col_indexer] = value instead\n",
      "\n",
      "See the caveats in the documentation: http://pandas.pydata.org/pandas-docs/stable/indexing.html#indexing-view-versus-copy\n",
      "  \"\"\"Entry point for launching an IPython kernel.\n",
      "/Users/sabinasloman/.pyenv/versions/2.7.17/envs/lop_env/lib/python2.7/site-packages/ipykernel_launcher.py:2: SettingWithCopyWarning: \n",
      "A value is trying to be set on a copy of a slice from a DataFrame.\n",
      "Try using .loc[row_indexer,col_indexer] = value instead\n",
      "\n",
      "See the caveats in the documentation: http://pandas.pydata.org/pandas-docs/stable/indexing.html#indexing-view-versus-copy\n",
      "  \n"
     ]
    }
   ],
   "source": [
    "minidf[\"Condition\"] = df_[\"Condition\"]\n",
    "minidf[\"party\"] = df_[\"Q612\"]"
   ]
  },
  {
   "cell_type": "code",
   "execution_count": 8,
   "metadata": {},
   "outputs": [],
   "source": [
    "# Helper functions for cleaning demographic responses\n",
    "def int_(s):\n",
    "    if s == \"-99\":\n",
    "        return np.nan\n",
    "    return int(s)\n",
    "\n",
    "def get_gender(row):\n",
    "    gender = row[\"Q611\"]\n",
    "    if \"f\" in gender.lower():\n",
    "        return 1\n",
    "    if \"m\" in gender.lower():\n",
    "        return 0\n",
    "    return np.nan\n",
    "\n",
    "def get_party_identity(row):\n",
    "    pi = row[\"Q613\"]\n",
    "    if pi == \"-99\":\n",
    "        return np.nan\n",
    "    return int(pi[0])-4\n",
    "\n",
    "def get_political_leanings(row):\n",
    "    pl = row[\"Q614\"]\n",
    "    if pl in (\"-99\", \"Other (please specify)\"):\n",
    "        return np.nan\n",
    "    return {\n",
    "        \"Very Liberal\": -2,\n",
    "        \"Moderately Liberal\": -1,\n",
    "        \"Moderate\": 0,\n",
    "        \"Moderately Conservative\": 1,\n",
    "        \"Very Conservative\": 2\n",
    "    }[pl]\n",
    "    \n",
    "def get_political_engagement(row):\n",
    "    pe = row[\"Q615\"]\n",
    "    if pe == \"-99\":\n",
    "        return np.nan\n",
    "    return int(pe[0])-4\n",
    "    \n",
    "def get_education(row):\n",
    "    edu = row[\"Q617\"]\n",
    "    if edu in (\"-99\", \"\"):\n",
    "        return np.nan\n",
    "    return {\n",
    "        \"High school\": 0,\n",
    "        \"Some college\": 1,\n",
    "        \"Associate's/professional/vocational degree\": 2,\n",
    "        \"Bachelor's degree\": 3,\n",
    "        \"Master's degree\": 4,\n",
    "        \"Higher-level graduate degree\": 5\n",
    "    }[edu]\n",
    "\n",
    "def get_voted(row):\n",
    "    voted = row[\"Q619\"]\n",
    "    if voted == \"-99\":\n",
    "        return np.nan\n",
    "    if voted.lower()[:2] == \"no\" or voted.lower()[:2] == \"didn't\":\n",
    "        return 0\n",
    "    return 1\n",
    "\n",
    "def get_political_bubble(row):\n",
    "    bubble = row[\"Q620\"]\n",
    "    if bubble == \"-99\":\n",
    "        return np.nan\n",
    "    bubble = filter(lambda s: s.isdigit(), bubble)\n",
    "    # If the participant entered text as a response, just ignore it\n",
    "    # because I can't think of a systematic way to convert text responses\n",
    "    # to numbers\n",
    "    if len(bubble) == 0:\n",
    "        return np.nan\n",
    "    return int_(filter(lambda s: s.isdigit(), bubble))"
   ]
  },
  {
   "cell_type": "code",
   "execution_count": 9,
   "metadata": {},
   "outputs": [
    {
     "name": "stderr",
     "output_type": "stream",
     "text": [
      "/Users/sabinasloman/.pyenv/versions/2.7.17/envs/lop_env/lib/python2.7/site-packages/ipykernel_launcher.py:2: SettingWithCopyWarning: \n",
      "A value is trying to be set on a copy of a slice from a DataFrame.\n",
      "Try using .loc[row_indexer,col_indexer] = value instead\n",
      "\n",
      "See the caveats in the documentation: http://pandas.pydata.org/pandas-docs/stable/indexing.html#indexing-view-versus-copy\n",
      "  \n",
      "/Users/sabinasloman/.pyenv/versions/2.7.17/envs/lop_env/lib/python2.7/site-packages/ipykernel_launcher.py:3: SettingWithCopyWarning: \n",
      "A value is trying to be set on a copy of a slice from a DataFrame.\n",
      "Try using .loc[row_indexer,col_indexer] = value instead\n",
      "\n",
      "See the caveats in the documentation: http://pandas.pydata.org/pandas-docs/stable/indexing.html#indexing-view-versus-copy\n",
      "  This is separate from the ipykernel package so we can avoid doing imports until\n",
      "/Users/sabinasloman/.pyenv/versions/2.7.17/envs/lop_env/lib/python2.7/site-packages/ipykernel_launcher.py:4: SettingWithCopyWarning: \n",
      "A value is trying to be set on a copy of a slice from a DataFrame.\n",
      "Try using .loc[row_indexer,col_indexer] = value instead\n",
      "\n",
      "See the caveats in the documentation: http://pandas.pydata.org/pandas-docs/stable/indexing.html#indexing-view-versus-copy\n",
      "  after removing the cwd from sys.path.\n",
      "/Users/sabinasloman/.pyenv/versions/2.7.17/envs/lop_env/lib/python2.7/site-packages/ipykernel_launcher.py:5: SettingWithCopyWarning: \n",
      "A value is trying to be set on a copy of a slice from a DataFrame.\n",
      "Try using .loc[row_indexer,col_indexer] = value instead\n",
      "\n",
      "See the caveats in the documentation: http://pandas.pydata.org/pandas-docs/stable/indexing.html#indexing-view-versus-copy\n",
      "  \"\"\"\n",
      "/Users/sabinasloman/.pyenv/versions/2.7.17/envs/lop_env/lib/python2.7/site-packages/ipykernel_launcher.py:7: SettingWithCopyWarning: \n",
      "A value is trying to be set on a copy of a slice from a DataFrame.\n",
      "Try using .loc[row_indexer,col_indexer] = value instead\n",
      "\n",
      "See the caveats in the documentation: http://pandas.pydata.org/pandas-docs/stable/indexing.html#indexing-view-versus-copy\n",
      "  import sys\n",
      "/Users/sabinasloman/.pyenv/versions/2.7.17/envs/lop_env/lib/python2.7/site-packages/ipykernel_launcher.py:9: SettingWithCopyWarning: \n",
      "A value is trying to be set on a copy of a slice from a DataFrame.\n",
      "Try using .loc[row_indexer,col_indexer] = value instead\n",
      "\n",
      "See the caveats in the documentation: http://pandas.pydata.org/pandas-docs/stable/indexing.html#indexing-view-versus-copy\n",
      "  if __name__ == '__main__':\n",
      "/Users/sabinasloman/.pyenv/versions/2.7.17/envs/lop_env/lib/python2.7/site-packages/ipykernel_launcher.py:11: SettingWithCopyWarning: \n",
      "A value is trying to be set on a copy of a slice from a DataFrame.\n",
      "Try using .loc[row_indexer,col_indexer] = value instead\n",
      "\n",
      "See the caveats in the documentation: http://pandas.pydata.org/pandas-docs/stable/indexing.html#indexing-view-versus-copy\n",
      "  # This is added back by InteractiveShellApp.init_path()\n",
      "/Users/sabinasloman/.pyenv/versions/2.7.17/envs/lop_env/lib/python2.7/site-packages/ipykernel_launcher.py:12: SettingWithCopyWarning: \n",
      "A value is trying to be set on a copy of a slice from a DataFrame.\n",
      "Try using .loc[row_indexer,col_indexer] = value instead\n",
      "\n",
      "See the caveats in the documentation: http://pandas.pydata.org/pandas-docs/stable/indexing.html#indexing-view-versus-copy\n",
      "  if sys.path[0] == '':\n",
      "/Users/sabinasloman/.pyenv/versions/2.7.17/envs/lop_env/lib/python2.7/site-packages/ipykernel_launcher.py:13: SettingWithCopyWarning: \n",
      "A value is trying to be set on a copy of a slice from a DataFrame.\n",
      "Try using .loc[row_indexer,col_indexer] = value instead\n",
      "\n",
      "See the caveats in the documentation: http://pandas.pydata.org/pandas-docs/stable/indexing.html#indexing-view-versus-copy\n",
      "  del sys.path[0]\n",
      "/Users/sabinasloman/.pyenv/versions/2.7.17/envs/lop_env/lib/python2.7/site-packages/ipykernel_launcher.py:15: SettingWithCopyWarning: \n",
      "A value is trying to be set on a copy of a slice from a DataFrame.\n",
      "Try using .loc[row_indexer,col_indexer] = value instead\n",
      "\n",
      "See the caveats in the documentation: http://pandas.pydata.org/pandas-docs/stable/indexing.html#indexing-view-versus-copy\n",
      "  from ipykernel import kernelapp as app\n"
     ]
    }
   ],
   "source": [
    "# Add demographics\n",
    "minidf[\"age\"] = map(int_, df_[\"Q610\"])\n",
    "minidf[\"gender\"] = df_.apply(get_gender, axis = 1)\n",
    "minidf[\"party\"] = df_[\"Q612\"].replace(\"-99\", np.nan)\n",
    "minidf[\"party_identity\"] = df_.apply(get_party_identity, axis = 1)\n",
    "minidf[\"political_leanings\"] = df_.apply(get_political_leanings,\n",
    "                                        axis = 1)\n",
    "minidf[\"political_engagement\"] = df_.apply(get_political_engagement,\n",
    "                                          axis = 1)\n",
    "minidf[\"C-Span\"] = df_.apply(lambda row: \"C-Span\" in row[\"Q616\"],\n",
    "                            axis = 1)\n",
    "minidf[\"education\"] = df_.apply(get_education, axis = 1)\n",
    "minidf[\"voted\"] = df_.apply(get_voted, axis = 1)\n",
    "minidf[\"political_bubble\"] = df_.apply(get_political_bubble,\n",
    "                                      axis = 1)"
   ]
  },
  {
   "cell_type": "markdown",
   "metadata": {},
   "source": [
    "How many people failed the attention check?"
   ]
  },
  {
   "cell_type": "code",
   "execution_count": 10,
   "metadata": {},
   "outputs": [
    {
     "name": "stdout",
     "output_type": "stream",
     "text": [
      "0.451429 of participants (79) failed the attention check\n"
     ]
    },
    {
     "name": "stderr",
     "output_type": "stream",
     "text": [
      "/Users/sabinasloman/.pyenv/versions/2.7.17/envs/lop_env/lib/python2.7/site-packages/ipykernel_launcher.py:11: SettingWithCopyWarning: \n",
      "A value is trying to be set on a copy of a slice from a DataFrame.\n",
      "Try using .loc[row_indexer,col_indexer] = value instead\n",
      "\n",
      "See the caveats in the documentation: http://pandas.pydata.org/pandas-docs/stable/indexing.html#indexing-view-versus-copy\n",
      "  # This is added back by InteractiveShellApp.init_path()\n"
     ]
    }
   ],
   "source": [
    "ATC_FAILED = []\n",
    "for i in df__.index:\n",
    "    atcs = df__.loc[i][map(str, range(99, 197))].values\n",
    "    atcs = filter(lambda a: isinstance(a, str), atcs)\n",
    "    original = df__.loc[i][map(str, range(1, 99))].values\n",
    "    for i_ in (0, 1):\n",
    "        if i_ == 1 and len(atcs) == 1:\n",
    "            continue\n",
    "    atc_f = ( not all([ a in original for a in atcs ]) ) or ( len(atcs) < 2 )\n",
    "    ATC_FAILED.append(atc_f)\n",
    "minidf[\"ATC_FAILED\"] = ATC_FAILED\n",
    "print \"%f of participants (%d) failed the attention check\"%(ATC_FAILED.count(True)/float(len(ATC_FAILED)), ATC_FAILED.count(True))\n",
    "minidf = minidf[minidf.ATC_FAILED == False]\n",
    "minidf = minidf.drop(\"ATC_FAILED\", 1)"
   ]
  },
  {
   "cell_type": "code",
   "execution_count": 11,
   "metadata": {},
   "outputs": [
    {
     "data": {
      "text/plain": [
       "[1, 1, 1, 1, 1, 1, 1, 1, 2, 1]"
      ]
     },
     "execution_count": 11,
     "metadata": {},
     "output_type": "execute_result"
    }
   ],
   "source": [
    "# How much missing data is there?\n",
    "# Each number in this list is the number of questions skipped by a\n",
    "# participant, excluding 0s. So if 3 participants each skip 1 question,\n",
    "# the list will be [ 1, 1, 1 ].\n",
    "nskipped = minidf.isnull().sum(axis = 1)\n",
    "filter(lambda i: i != 0, nskipped.tolist())"
   ]
  },
  {
   "cell_type": "code",
   "execution_count": 12,
   "metadata": {},
   "outputs": [],
   "source": [
    "minidf = minidf.reset_index()"
   ]
  },
  {
   "cell_type": "code",
   "execution_count": 13,
   "metadata": {},
   "outputs": [
    {
     "name": "stdout",
     "output_type": "stream",
     "text": [
      "N = 96\n"
     ]
    }
   ],
   "source": [
    "print \"N = %d\"%(len(minidf))"
   ]
  },
  {
   "cell_type": "markdown",
   "metadata": {},
   "source": [
    "# Reformat and save needed data"
   ]
  },
  {
   "cell_type": "code",
   "execution_count": 14,
   "metadata": {},
   "outputs": [],
   "source": [
    "pkls = pickle.load(open(paths[\"metrics_dir\"] + \"partial_kls-unigrams\"))\n",
    "probs = pickle.load(open(paths[\"metrics_dir\"] + \"probs-unigrams\"))\n",
    "signals = pickle.load(open(paths[\"metrics_dir\"] + \"signals-unigrams\"))\n",
    "pkls_std = deepcopy(pkls)\n",
    "pkls_std[\"dmetric\"] = stats.mstats.zscore(pkls[\"dmetric\"])\n",
    "pkls_std[\"rmetric\"] = stats.mstats.zscore(pkls[\"rmetric\"])\n",
    "words = pickle.load(open(\"survey_terms.pkl\", \"rb\"))\n",
    "partisan = words[:-10]\n",
    "assert len(partisan) == 88\n",
    "antonyms_ = words[-10:]\n",
    "assert len(antonyms_) == 10"
   ]
  },
  {
   "cell_type": "code",
   "execution_count": 15,
   "metadata": {},
   "outputs": [],
   "source": [
    "def get_(df, col, x):\n",
    "    try:\n",
    "        return df.loc[x][col]\n",
    "    except KeyError:\n",
    "        return np.nan"
   ]
  },
  {
   "cell_type": "code",
   "execution_count": 16,
   "metadata": {},
   "outputs": [],
   "source": [
    "def get_diff_sq(pair):\n",
    "    w1, w2 = pair\n",
    "    return (get_(pkls, \"dmetric\", w1) - get_(pkls, \"rmetric\", w1))**2 + (get_(pkls, \"dmetric\", w2) - get_(pkls, \"rmetric\", w2))**2"
   ]
  },
  {
   "cell_type": "code",
   "execution_count": 17,
   "metadata": {},
   "outputs": [],
   "source": [
    "diff_sqs = dict(zip(map(tuple, words.values), map(get_diff_sq, words.values)))"
   ]
  },
  {
   "cell_type": "code",
   "execution_count": 18,
   "metadata": {},
   "outputs": [],
   "source": [
    "def save(dat, fn, plus = 1):\n",
    "    to_save = [np.nan]*(len(dat)*16)\n",
    "    to_save = np.array(to_save).reshape((len(dat), 16))\n",
    "    for i, (w1, w2) in enumerate(dat.values):\n",
    "        to_save[i][0] = i+plus\n",
    "        to_save[i][3] = get_(pkls_std, \"dmetric\", w1)\n",
    "        to_save[i][4] = get_(pkls_std, \"rmetric\", w1)\n",
    "        to_save[i][5] = get_(pkls_std, \"dmetric\", w2)\n",
    "        to_save[i][6] = get_(pkls_std, \"rmetric\", w2)\n",
    "        to_save[i][7] = diff_sqs[(w1, w2)]\n",
    "        to_save[i][8] = get_(signals, \"dmetric\", w1)\n",
    "        to_save[i][9] = get_(signals, \"rmetric\", w1)\n",
    "        to_save[i][10] = get_(signals, \"dmetric\", w2)\n",
    "        to_save[i][11] = get_(signals, \"rmetric\", w2)\n",
    "        to_save[i][12] = get_(probs, \"dmetric\", w1)\n",
    "        to_save[i][13] = get_(probs, \"rmetric\", w1)\n",
    "        to_save[i][14] = get_(probs, \"dmetric\", w2)\n",
    "        to_save[i][15] = get_(probs, \"rmetric\", w2)\n",
    "    some_words = pd.DataFrame(to_save, columns = [ \"index\", \"word1\",\n",
    "                     \"word2\", \"PKL_D(word1)\", \"PKL_R(word1)\", \"PKL_D(word2)\",\n",
    "                     \"PKL_R(word2)\", \"DIFF_SQ\", \"LOGP_D(word1)\", \"LOGP_R(word1)\", \n",
    "                     \"LOGP_D(word2)\", \"LOGP_R(word2)\", \"P_D(word1)\", \"P_R(word1)\", \"P_D(word2)\",\n",
    "                     \"P_R(word2)\" ])\n",
    "    some_words[\"index\"] = map(int, some_words[\"index\"])\n",
    "    some_words = some_words.set_index(\"index\")\n",
    "    some_words[\"word1\"] = [ pair[0] for pair in dat.values ]\n",
    "    some_words[\"word2\"] = [ pair[1] for pair in dat.values ]\n",
    "    some_words[\"google_valence_word1\"] = [ valence.get_valence(pair[0], use = \"google\")[0] \n",
    "                                           for pair in dat.values ]\n",
    "    some_words[\"google_valence_word2\"] = [ valence.get_valence(pair[1], use = \"google\")[0] \n",
    "                                           for pair in dat.values ]\n",
    "    some_words[\"pattern_valence_word1\"] = [ valence.get_valence(pair[0], use = \"pattern\")[0]\n",
    "                                            for pair in dat.values ]\n",
    "    some_words[\"pattern_valence_word2\"] = [ valence.get_valence(pair[1], use = \"pattern\")[0] \n",
    "                                            for pair in dat.values ]\n",
    "    some_words[\"crr_valence_word1\"] = [ valence.get_valence(pair[0], use = \"crr\")[0]\n",
    "                                        for pair in dat.values ]\n",
    "    some_words[\"crr_valence_word2\"] = [ valence.get_valence(pair[1], use = \"crr\")[0]\n",
    "                                        for pair in dat.values ]\n",
    "    some_words.to_csv(fn)"
   ]
  },
  {
   "cell_type": "code",
   "execution_count": 19,
   "metadata": {},
   "outputs": [],
   "source": [
    "save(partisan, \"partisan_words.csv\")\n",
    "save(antonyms_, \"antonyms.csv\", plus = 89)"
   ]
  },
  {
   "cell_type": "code",
   "execution_count": 20,
   "metadata": {},
   "outputs": [],
   "source": [
    "minidf.to_csv(\"responses.csv\")"
   ]
  },
  {
   "cell_type": "code",
   "execution_count": null,
   "metadata": {},
   "outputs": [],
   "source": []
  }
 ],
 "metadata": {
  "kernelspec": {
   "display_name": "Python 2",
   "language": "python",
   "name": "python2"
  },
  "language_info": {
   "codemirror_mode": {
    "name": "ipython",
    "version": 2
   },
   "file_extension": ".py",
   "mimetype": "text/x-python",
   "name": "python",
   "nbconvert_exporter": "python",
   "pygments_lexer": "ipython2",
   "version": "2.7.17"
  }
 },
 "nbformat": 4,
 "nbformat_minor": 2
}
